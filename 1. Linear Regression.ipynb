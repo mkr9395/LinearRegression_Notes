{
 "cells": [
  {
   "cell_type": "markdown",
   "id": "778838d7",
   "metadata": {},
   "source": [
    "# Linear Regression\n",
    "\n",
    "A linear regression is a linear approximation of a casual relationship between two or more variables. \n",
    "\n",
    "\n",
    "Linear regression tries to fit the best line to the given data with  minimum error."
   ]
  },
  {
   "cell_type": "markdown",
   "id": "a7058b9c",
   "metadata": {},
   "source": [
    "### Equation of Line : \n",
    "$$y = mx + c$$\n",
    "  \n",
    "$m\\Longrightarrow\\;Slope \\longrightarrow \\text{with 1 unit change in x-axis what is the change in y-axis}$\n",
    " \n",
    "$c\\Longrightarrow\\; \\text{Intercept or Error}\\longrightarrow \\text{\"c\" is the y-intercept, indicating where the line crosses the y-axis when x is 0.}$"
   ]
  },
  {
   "cell_type": "raw",
   "id": "3eaa657e",
   "metadata": {},
   "source": [
    "m = lr.coef_ (coefficient)\n",
    "\n",
    "b = lr.intercept_ (intercept)"
   ]
  },
  {
   "cell_type": "markdown",
   "id": "be70b68b",
   "metadata": {},
   "source": [
    "### example for Linear regression:"
   ]
  },
  {
   "cell_type": "code",
   "execution_count": 1,
   "id": "ce611027",
   "metadata": {
    "ExecuteTime": {
     "end_time": "2023-10-03T19:19:22.968701Z",
     "start_time": "2023-10-03T19:19:18.345196Z"
    }
   },
   "outputs": [],
   "source": [
    "import pandas as pd\n",
    "import numpy as np\n",
    "import seaborn as sns\n",
    "import matplotlib.pyplot as plt\n",
    "import os\n",
    "import pickle"
   ]
  },
  {
   "cell_type": "code",
   "execution_count": 2,
   "id": "a6a35fcd",
   "metadata": {
    "ExecuteTime": {
     "end_time": "2023-10-03T19:19:23.051124Z",
     "start_time": "2023-10-03T19:19:22.970683Z"
    }
   },
   "outputs": [
    {
     "data": {
      "text/html": [
       "<div>\n",
       "<style scoped>\n",
       "    .dataframe tbody tr th:only-of-type {\n",
       "        vertical-align: middle;\n",
       "    }\n",
       "\n",
       "    .dataframe tbody tr th {\n",
       "        vertical-align: top;\n",
       "    }\n",
       "\n",
       "    .dataframe thead th {\n",
       "        text-align: right;\n",
       "    }\n",
       "</style>\n",
       "<table border=\"1\" class=\"dataframe\">\n",
       "  <thead>\n",
       "    <tr style=\"text-align: right;\">\n",
       "      <th></th>\n",
       "      <th>Unnamed: 0</th>\n",
       "      <th>TV</th>\n",
       "      <th>radio</th>\n",
       "      <th>newspaper</th>\n",
       "      <th>sales</th>\n",
       "    </tr>\n",
       "  </thead>\n",
       "  <tbody>\n",
       "    <tr>\n",
       "      <th>0</th>\n",
       "      <td>1</td>\n",
       "      <td>230.1</td>\n",
       "      <td>37.8</td>\n",
       "      <td>69.2</td>\n",
       "      <td>22.1</td>\n",
       "    </tr>\n",
       "    <tr>\n",
       "      <th>1</th>\n",
       "      <td>2</td>\n",
       "      <td>44.5</td>\n",
       "      <td>39.3</td>\n",
       "      <td>45.1</td>\n",
       "      <td>10.4</td>\n",
       "    </tr>\n",
       "    <tr>\n",
       "      <th>2</th>\n",
       "      <td>3</td>\n",
       "      <td>17.2</td>\n",
       "      <td>45.9</td>\n",
       "      <td>69.3</td>\n",
       "      <td>9.3</td>\n",
       "    </tr>\n",
       "    <tr>\n",
       "      <th>3</th>\n",
       "      <td>4</td>\n",
       "      <td>151.5</td>\n",
       "      <td>41.3</td>\n",
       "      <td>58.5</td>\n",
       "      <td>18.5</td>\n",
       "    </tr>\n",
       "    <tr>\n",
       "      <th>4</th>\n",
       "      <td>5</td>\n",
       "      <td>180.8</td>\n",
       "      <td>10.8</td>\n",
       "      <td>58.4</td>\n",
       "      <td>12.9</td>\n",
       "    </tr>\n",
       "    <tr>\n",
       "      <th>...</th>\n",
       "      <td>...</td>\n",
       "      <td>...</td>\n",
       "      <td>...</td>\n",
       "      <td>...</td>\n",
       "      <td>...</td>\n",
       "    </tr>\n",
       "    <tr>\n",
       "      <th>195</th>\n",
       "      <td>196</td>\n",
       "      <td>38.2</td>\n",
       "      <td>3.7</td>\n",
       "      <td>13.8</td>\n",
       "      <td>7.6</td>\n",
       "    </tr>\n",
       "    <tr>\n",
       "      <th>196</th>\n",
       "      <td>197</td>\n",
       "      <td>94.2</td>\n",
       "      <td>4.9</td>\n",
       "      <td>8.1</td>\n",
       "      <td>9.7</td>\n",
       "    </tr>\n",
       "    <tr>\n",
       "      <th>197</th>\n",
       "      <td>198</td>\n",
       "      <td>177.0</td>\n",
       "      <td>9.3</td>\n",
       "      <td>6.4</td>\n",
       "      <td>12.8</td>\n",
       "    </tr>\n",
       "    <tr>\n",
       "      <th>198</th>\n",
       "      <td>199</td>\n",
       "      <td>283.6</td>\n",
       "      <td>42.0</td>\n",
       "      <td>66.2</td>\n",
       "      <td>25.5</td>\n",
       "    </tr>\n",
       "    <tr>\n",
       "      <th>199</th>\n",
       "      <td>200</td>\n",
       "      <td>232.1</td>\n",
       "      <td>8.6</td>\n",
       "      <td>8.7</td>\n",
       "      <td>13.4</td>\n",
       "    </tr>\n",
       "  </tbody>\n",
       "</table>\n",
       "<p>200 rows × 5 columns</p>\n",
       "</div>"
      ],
      "text/plain": [
       "     Unnamed: 0     TV  radio  newspaper  sales\n",
       "0             1  230.1   37.8       69.2   22.1\n",
       "1             2   44.5   39.3       45.1   10.4\n",
       "2             3   17.2   45.9       69.3    9.3\n",
       "3             4  151.5   41.3       58.5   18.5\n",
       "4             5  180.8   10.8       58.4   12.9\n",
       "..          ...    ...    ...        ...    ...\n",
       "195         196   38.2    3.7       13.8    7.6\n",
       "196         197   94.2    4.9        8.1    9.7\n",
       "197         198  177.0    9.3        6.4   12.8\n",
       "198         199  283.6   42.0       66.2   25.5\n",
       "199         200  232.1    8.6        8.7   13.4\n",
       "\n",
       "[200 rows x 5 columns]"
      ]
     },
     "execution_count": 2,
     "metadata": {},
     "output_type": "execute_result"
    }
   ],
   "source": [
    "advert = pd.read_csv(r\"D:\\fullstackdatascience\\Linear_Regression\\Advertising.csv\")\n",
    "advert"
   ]
  },
  {
   "cell_type": "code",
   "execution_count": 4,
   "id": "23d23564",
   "metadata": {
    "ExecuteTime": {
     "end_time": "2023-10-01T20:34:25.146685Z",
     "start_time": "2023-10-01T20:34:25.116277Z"
    }
   },
   "outputs": [
    {
     "data": {
      "text/html": [
       "<div>\n",
       "<style scoped>\n",
       "    .dataframe tbody tr th:only-of-type {\n",
       "        vertical-align: middle;\n",
       "    }\n",
       "\n",
       "    .dataframe tbody tr th {\n",
       "        vertical-align: top;\n",
       "    }\n",
       "\n",
       "    .dataframe thead th {\n",
       "        text-align: right;\n",
       "    }\n",
       "</style>\n",
       "<table border=\"1\" class=\"dataframe\">\n",
       "  <thead>\n",
       "    <tr style=\"text-align: right;\">\n",
       "      <th></th>\n",
       "      <th>Unnamed: 0</th>\n",
       "      <th>TV</th>\n",
       "      <th>radio</th>\n",
       "      <th>newspaper</th>\n",
       "      <th>sales</th>\n",
       "    </tr>\n",
       "  </thead>\n",
       "  <tbody>\n",
       "    <tr>\n",
       "      <th>count</th>\n",
       "      <td>200.000000</td>\n",
       "      <td>200.000000</td>\n",
       "      <td>200.000000</td>\n",
       "      <td>200.000000</td>\n",
       "      <td>200.000000</td>\n",
       "    </tr>\n",
       "    <tr>\n",
       "      <th>mean</th>\n",
       "      <td>100.500000</td>\n",
       "      <td>147.042500</td>\n",
       "      <td>23.264000</td>\n",
       "      <td>30.554000</td>\n",
       "      <td>14.022500</td>\n",
       "    </tr>\n",
       "    <tr>\n",
       "      <th>std</th>\n",
       "      <td>57.879185</td>\n",
       "      <td>85.854236</td>\n",
       "      <td>14.846809</td>\n",
       "      <td>21.778621</td>\n",
       "      <td>5.217457</td>\n",
       "    </tr>\n",
       "    <tr>\n",
       "      <th>min</th>\n",
       "      <td>1.000000</td>\n",
       "      <td>0.700000</td>\n",
       "      <td>0.000000</td>\n",
       "      <td>0.300000</td>\n",
       "      <td>1.600000</td>\n",
       "    </tr>\n",
       "    <tr>\n",
       "      <th>25%</th>\n",
       "      <td>50.750000</td>\n",
       "      <td>74.375000</td>\n",
       "      <td>9.975000</td>\n",
       "      <td>12.750000</td>\n",
       "      <td>10.375000</td>\n",
       "    </tr>\n",
       "    <tr>\n",
       "      <th>50%</th>\n",
       "      <td>100.500000</td>\n",
       "      <td>149.750000</td>\n",
       "      <td>22.900000</td>\n",
       "      <td>25.750000</td>\n",
       "      <td>12.900000</td>\n",
       "    </tr>\n",
       "    <tr>\n",
       "      <th>75%</th>\n",
       "      <td>150.250000</td>\n",
       "      <td>218.825000</td>\n",
       "      <td>36.525000</td>\n",
       "      <td>45.100000</td>\n",
       "      <td>17.400000</td>\n",
       "    </tr>\n",
       "    <tr>\n",
       "      <th>max</th>\n",
       "      <td>200.000000</td>\n",
       "      <td>296.400000</td>\n",
       "      <td>49.600000</td>\n",
       "      <td>114.000000</td>\n",
       "      <td>27.000000</td>\n",
       "    </tr>\n",
       "  </tbody>\n",
       "</table>\n",
       "</div>"
      ],
      "text/plain": [
       "       Unnamed: 0          TV       radio   newspaper       sales\n",
       "count  200.000000  200.000000  200.000000  200.000000  200.000000\n",
       "mean   100.500000  147.042500   23.264000   30.554000   14.022500\n",
       "std     57.879185   85.854236   14.846809   21.778621    5.217457\n",
       "min      1.000000    0.700000    0.000000    0.300000    1.600000\n",
       "25%     50.750000   74.375000    9.975000   12.750000   10.375000\n",
       "50%    100.500000  149.750000   22.900000   25.750000   12.900000\n",
       "75%    150.250000  218.825000   36.525000   45.100000   17.400000\n",
       "max    200.000000  296.400000   49.600000  114.000000   27.000000"
      ]
     },
     "execution_count": 4,
     "metadata": {},
     "output_type": "execute_result"
    }
   ],
   "source": [
    "advert.describe()"
   ]
  },
  {
   "cell_type": "markdown",
   "id": "0186cee6",
   "metadata": {},
   "source": [
    "#### building model between TV and Sales"
   ]
  },
  {
   "cell_type": "markdown",
   "id": "ac53f73f",
   "metadata": {},
   "source": [
    "### Way 1"
   ]
  },
  {
   "cell_type": "code",
   "execution_count": 5,
   "id": "cf3c8ddd",
   "metadata": {
    "ExecuteTime": {
     "end_time": "2023-10-01T20:34:32.271617Z",
     "start_time": "2023-10-01T20:34:32.252481Z"
    }
   },
   "outputs": [],
   "source": [
    "# scikit learn takes 2-D \"input\"\n",
    "x = advert[['TV']]\n",
    "y = advert['sales']"
   ]
  },
  {
   "cell_type": "code",
   "execution_count": 6,
   "id": "3d6498dc",
   "metadata": {
    "ExecuteTime": {
     "end_time": "2023-10-01T20:34:34.115587Z",
     "start_time": "2023-10-01T20:34:34.102866Z"
    }
   },
   "outputs": [
    {
     "data": {
      "text/plain": [
       "pandas.core.frame.DataFrame"
      ]
     },
     "execution_count": 6,
     "metadata": {},
     "output_type": "execute_result"
    }
   ],
   "source": [
    "type(x)"
   ]
  },
  {
   "cell_type": "code",
   "execution_count": 7,
   "id": "840921d7",
   "metadata": {
    "ExecuteTime": {
     "end_time": "2023-10-01T20:34:35.699752Z",
     "start_time": "2023-10-01T20:34:35.688750Z"
    }
   },
   "outputs": [
    {
     "data": {
      "text/plain": [
       "pandas.core.series.Series"
      ]
     },
     "execution_count": 7,
     "metadata": {},
     "output_type": "execute_result"
    }
   ],
   "source": [
    "type(y)"
   ]
  },
  {
   "cell_type": "markdown",
   "id": "bfa708e2",
   "metadata": {},
   "source": [
    " we are looking for an equation: $$Sales\\;=\\;m*TV + c$$ "
   ]
  },
  {
   "cell_type": "code",
   "execution_count": 8,
   "id": "02501bae",
   "metadata": {
    "ExecuteTime": {
     "end_time": "2023-10-01T20:35:08.362337Z",
     "start_time": "2023-10-01T20:35:07.966238Z"
    }
   },
   "outputs": [],
   "source": [
    "from sklearn.linear_model import LinearRegression"
   ]
  },
  {
   "cell_type": "code",
   "execution_count": 9,
   "id": "cc5b433e",
   "metadata": {
    "ExecuteTime": {
     "end_time": "2023-10-01T20:35:09.311083Z",
     "start_time": "2023-10-01T20:35:09.303965Z"
    }
   },
   "outputs": [],
   "source": [
    "# saving Linearregression class in linear\n",
    "linear = LinearRegression()"
   ]
  },
  {
   "cell_type": "code",
   "execution_count": 10,
   "id": "76a0afc2",
   "metadata": {
    "ExecuteTime": {
     "end_time": "2023-10-01T20:35:10.711681Z",
     "start_time": "2023-10-01T20:35:10.683530Z"
    }
   },
   "outputs": [
    {
     "data": {
      "text/plain": [
       "LinearRegression()"
      ]
     },
     "execution_count": 10,
     "metadata": {},
     "output_type": "execute_result"
    }
   ],
   "source": [
    "# done to find best value of m and c using fit\n",
    "linear.fit(x,y)"
   ]
  },
  {
   "cell_type": "markdown",
   "id": "be26bfbf",
   "metadata": {},
   "source": [
    "#### value of c using intercept_"
   ]
  },
  {
   "cell_type": "code",
   "execution_count": 11,
   "id": "3e8f501d",
   "metadata": {
    "ExecuteTime": {
     "end_time": "2023-10-01T20:35:11.939292Z",
     "start_time": "2023-10-01T20:35:11.920366Z"
    }
   },
   "outputs": [
    {
     "data": {
      "text/plain": [
       "7.032593549127695"
      ]
     },
     "execution_count": 11,
     "metadata": {},
     "output_type": "execute_result"
    }
   ],
   "source": [
    "# intercept_ gives value of c\n",
    "linear.intercept_"
   ]
  },
  {
   "cell_type": "markdown",
   "id": "de86d715",
   "metadata": {},
   "source": [
    "#### value of m using coef_"
   ]
  },
  {
   "cell_type": "code",
   "execution_count": 12,
   "id": "1f21190b",
   "metadata": {
    "ExecuteTime": {
     "end_time": "2023-10-01T20:35:13.368866Z",
     "start_time": "2023-10-01T20:35:13.362627Z"
    }
   },
   "outputs": [
    {
     "data": {
      "text/plain": [
       "array([0.04753664])"
      ]
     },
     "execution_count": 12,
     "metadata": {},
     "output_type": "execute_result"
    }
   ],
   "source": [
    "# coef_ gives value of m\n",
    "linear.coef_"
   ]
  },
  {
   "cell_type": "markdown",
   "id": "4e7a386d",
   "metadata": {},
   "source": [
    " we are looking for an equation: $$ Sales\\;=\\;m*TV + c$$\n",
    " \n",
    " $$Sales=\\;0.0475 * TV + 7.032$$"
   ]
  },
  {
   "cell_type": "markdown",
   "id": "59c9ecdc",
   "metadata": {},
   "source": [
    "#### Predicting the 'y' by giving 'x'"
   ]
  },
  {
   "cell_type": "code",
   "execution_count": 13,
   "id": "d424cbdb",
   "metadata": {
    "ExecuteTime": {
     "end_time": "2023-10-01T20:35:49.627324Z",
     "start_time": "2023-10-01T20:35:49.607370Z"
    }
   },
   "outputs": [
    {
     "name": "stderr",
     "output_type": "stream",
     "text": [
      "C:\\ProgramData\\Anaconda3\\lib\\site-packages\\sklearn\\base.py:450: UserWarning: X does not have valid feature names, but LinearRegression was fitted with feature names\n",
      "  warnings.warn(\n"
     ]
    },
    {
     "data": {
      "text/plain": [
       "array([9.17174237])"
      ]
     },
     "execution_count": 13,
     "metadata": {},
     "output_type": "execute_result"
    }
   ],
   "source": [
    "linear.predict([[45]])\n",
    "\n",
    "# when we spend 45 dollars on TV we get Sale of 9.171"
   ]
  },
  {
   "cell_type": "code",
   "execution_count": 14,
   "id": "57d19345",
   "metadata": {
    "ExecuteTime": {
     "end_time": "2023-10-01T20:35:52.500535Z",
     "start_time": "2023-10-01T20:35:52.481445Z"
    }
   },
   "outputs": [],
   "source": [
    "l = [4,5,6,7,89,34,45,67,23]"
   ]
  },
  {
   "cell_type": "code",
   "execution_count": 21,
   "id": "4cec5d25",
   "metadata": {
    "ExecuteTime": {
     "end_time": "2023-10-01T20:37:43.293519Z",
     "start_time": "2023-10-01T20:37:43.285658Z"
    }
   },
   "outputs": [
    {
     "name": "stdout",
     "output_type": "stream",
     "text": [
      "[7.22274011]\n",
      "[7.27027675]\n",
      "[7.31781339]\n",
      "[7.36535003]\n",
      "[11.26335455]\n",
      "[8.64883932]\n",
      "[9.17174237]\n",
      "[10.21754846]\n",
      "[8.12593628]\n"
     ]
    },
    {
     "name": "stderr",
     "output_type": "stream",
     "text": [
      "C:\\ProgramData\\Anaconda3\\lib\\site-packages\\sklearn\\base.py:450: UserWarning: X does not have valid feature names, but LinearRegression was fitted with feature names\n",
      "  warnings.warn(\n",
      "C:\\ProgramData\\Anaconda3\\lib\\site-packages\\sklearn\\base.py:450: UserWarning: X does not have valid feature names, but LinearRegression was fitted with feature names\n",
      "  warnings.warn(\n",
      "C:\\ProgramData\\Anaconda3\\lib\\site-packages\\sklearn\\base.py:450: UserWarning: X does not have valid feature names, but LinearRegression was fitted with feature names\n",
      "  warnings.warn(\n",
      "C:\\ProgramData\\Anaconda3\\lib\\site-packages\\sklearn\\base.py:450: UserWarning: X does not have valid feature names, but LinearRegression was fitted with feature names\n",
      "  warnings.warn(\n",
      "C:\\ProgramData\\Anaconda3\\lib\\site-packages\\sklearn\\base.py:450: UserWarning: X does not have valid feature names, but LinearRegression was fitted with feature names\n",
      "  warnings.warn(\n",
      "C:\\ProgramData\\Anaconda3\\lib\\site-packages\\sklearn\\base.py:450: UserWarning: X does not have valid feature names, but LinearRegression was fitted with feature names\n",
      "  warnings.warn(\n",
      "C:\\ProgramData\\Anaconda3\\lib\\site-packages\\sklearn\\base.py:450: UserWarning: X does not have valid feature names, but LinearRegression was fitted with feature names\n",
      "  warnings.warn(\n",
      "C:\\ProgramData\\Anaconda3\\lib\\site-packages\\sklearn\\base.py:450: UserWarning: X does not have valid feature names, but LinearRegression was fitted with feature names\n",
      "  warnings.warn(\n",
      "C:\\ProgramData\\Anaconda3\\lib\\site-packages\\sklearn\\base.py:450: UserWarning: X does not have valid feature names, but LinearRegression was fitted with feature names\n",
      "  warnings.warn(\n"
     ]
    }
   ],
   "source": [
    "for i in l:\n",
    "    prediction = linear.predict([[i]])\n",
    "    print(prediction)"
   ]
  },
  {
   "cell_type": "markdown",
   "id": "79870b12",
   "metadata": {},
   "source": [
    "**doing same with pickle file**"
   ]
  },
  {
   "cell_type": "code",
   "execution_count": 22,
   "id": "e7899d41",
   "metadata": {
    "ExecuteTime": {
     "end_time": "2023-10-01T20:38:17.017798Z",
     "start_time": "2023-10-01T20:38:17.001232Z"
    }
   },
   "outputs": [],
   "source": [
    "# to store linear variable in a file\n",
    "\n",
    "# file = 'linear_reg.sav'\n",
    "# pickle.dump(linear,open(file,'wb'))"
   ]
  },
  {
   "cell_type": "code",
   "execution_count": 23,
   "id": "b0469dbf",
   "metadata": {
    "ExecuteTime": {
     "end_time": "2023-10-01T20:38:17.373394Z",
     "start_time": "2023-10-01T20:38:17.356442Z"
    }
   },
   "outputs": [],
   "source": [
    "# loading the pickle file\n",
    "\n",
    "# saved_model = pickle.load(open(file,'rb'))"
   ]
  },
  {
   "cell_type": "code",
   "execution_count": 24,
   "id": "475986d3",
   "metadata": {
    "ExecuteTime": {
     "end_time": "2023-10-01T20:38:17.705567Z",
     "start_time": "2023-10-01T20:38:17.692962Z"
    }
   },
   "outputs": [],
   "source": [
    "# saved_model.predict([[45]])"
   ]
  },
  {
   "cell_type": "markdown",
   "id": "3bfa4790",
   "metadata": {},
   "source": [
    "#### accuracy of the model"
   ]
  },
  {
   "cell_type": "code",
   "execution_count": 25,
   "id": "7b6d915f",
   "metadata": {
    "ExecuteTime": {
     "end_time": "2023-10-01T20:38:19.170702Z",
     "start_time": "2023-10-01T20:38:19.160172Z"
    }
   },
   "outputs": [
    {
     "data": {
      "text/plain": [
       "0.611875050850071"
      ]
     },
     "execution_count": 25,
     "metadata": {},
     "output_type": "execute_result"
    }
   ],
   "source": [
    "linear.score(x,y)\n",
    "\n",
    "# this is wrong thing, just for showing doing it. Don't repeat."
   ]
  },
  {
   "cell_type": "markdown",
   "id": "21f89786",
   "metadata": {},
   "source": [
    "### Interpretation of m (coefficient) :\n",
    "\n",
    "\n",
    " - The relationship __m * input__ is how the input variable affects the output variable. __It quantifies the change in the output variable for a one-unit change in the input variable.__\n",
    "\n",
    "\n",
    "\n",
    "- The magnitude of \"m\" represents the strength of this relationship, with larger absolute values of \"m\" indicating a stronger effect of the input on the output."
   ]
  },
  {
   "cell_type": "markdown",
   "id": "4be2a5a0",
   "metadata": {},
   "source": [
    "### Interpretation of c (intercept) :\n",
    "\n",
    "- The intercept \"c\" (or \"b\") represents the point where the regression line intersects the y-axis when the __input variable is zero__ (ie. when x is zero).\n",
    "\n",
    "\n",
    "-  It's a constant value __that can be changed during the training process__ of the linear regression model to minimize the difference between the predicted values and the actual data points."
   ]
  },
  {
   "cell_type": "markdown",
   "id": "da231462",
   "metadata": {},
   "source": [
    "### Irreducible error in data :\n",
    "\n",
    "- Irreducible error refers to the inherent noise or variability in the data that cannot be explained by the linear regression model.\n",
    "\n",
    "\n",
    "- No matter how well you fit a linear model to your data, there will always be some level of error or variability that cannot be eliminated because of the nature of the data."
   ]
  },
  {
   "cell_type": "markdown",
   "id": "0fa84931",
   "metadata": {},
   "source": [
    "### Types of Linear regression Implementation: to calculate value of m and c\n",
    "\n",
    "\n",
    "1. __Closed form solution__: \n",
    "   - through OLS present in Scikit learn (Linear Regression class).\n",
    "   - here we cannot use integration or differentiation.\n",
    "   - uses direct formula\n",
    "\n",
    "\n",
    "2. __Non-closed form solution (uses approximation)__: \n",
    "    - through gradient descent in SGD Regressor.\n",
    "    - uses integration and differentiation.\n",
    "    - ___For higher dimension data we use Gradient Descent___"
   ]
  },
  {
   "cell_type": "markdown",
   "id": "b4809055",
   "metadata": {},
   "source": [
    "---"
   ]
  },
  {
   "cell_type": "markdown",
   "id": "08c82628",
   "metadata": {},
   "source": [
    "### Error of the Linear Regression model:"
   ]
  },
  {
   "cell_type": "markdown",
   "id": "1b6b29c0",
   "metadata": {},
   "source": [
    "#### Residual is also known as Error\n",
    "\n",
    "$$Residual\\;(r) = (y - \\hat y)\\;\\longrightarrow\\;(actual\\;-\\;predicted)$$\n",
    "\n",
    "$$Total\\;error\\Longrightarrow  \\sum_{i=1}^{n} (y\\;-\\;\\hat y)^2$$\n",
    "\n",
    "Now, for all residuals, sum of all residuals should be minimum or zero."
   ]
  },
  {
   "cell_type": "markdown",
   "id": "6f3df4a1",
   "metadata": {},
   "source": [
    "> __why we square the errors?__\n",
    "- we want to sum up the error without cancelling each one out and squares is also differentiable at any point but mod graph is not differentiable."
   ]
  },
  {
   "cell_type": "markdown",
   "id": "a832f893",
   "metadata": {},
   "source": [
    "$$\\hat y = mx + c$$\n",
    "\n",
    "$$So,\\Longrightarrow \\sum_{i=1}^{n} r^2\\;=\\;\\sum_{i=1}^{n} (y\\;-\\;mx - c)^2$$\n",
    "\n",
    "\n",
    "\n",
    "$$r^2\\;=\\;y^2\\;+\\;m^2x^2+c^2+2mxc\\;-\\;2ymx-2yc$$\n",
    "\n",
    "Residual depends on both m and c. So to make error minimum or zero we differentitate wrt to m and c.\n",
    "\n",
    "$Hint:(a-b-c)^2 = a^2+b^2+c^2-2ab-2bc-2ac$\n",
    "<br></br>"
   ]
  },
  {
   "cell_type": "markdown",
   "id": "7d83309e",
   "metadata": {},
   "source": [
    "### Our Aim is to find out the points where residuals are zero."
   ]
  },
  {
   "cell_type": "markdown",
   "id": "68622678",
   "metadata": {},
   "source": [
    "## Gradient Descent: \n",
    "\n",
    "**Gradient descent is an iterative optimization algorithm to find the minimum of a function. Here that function is our Loss Function.**\n",
    "\n",
    "**Our goal is to find out rate of change of residual with respect to \"m\" and rate of change of residual with respect to \"c\" and both should be tending to zero so that sum of residuals should be zero**\n",
    "\n",
    "\n",
    "$$r^2\\;=\\;y^2\\;+\\;m^2x^2+c^2+2mxc\\;-\\;2ymx-2yc$$\n",
    "$\\rightarrow \\text{So, differentitating 'r' wrt to 'm'}$\n",
    "\n",
    "$$\\frac{dr}{dm}\\;=\\;0 + 2mx^2 + 0 + 2xc - 2yx - 0\\;\\;\\Longrightarrow\\;2mx^2 + 2xc - 2yx$$\n",
    "\n",
    "$$\\frac{dr}{dm}\\;=\\;\\sum_{i=1}^{n}\\;2x(mx + c - y)$$\n",
    "\n",
    "Our objective is to find out where $\\frac{dR}{dm}$ equals to zero and at that point find the value of **m**\n",
    "\n",
    "$\\rightarrow \\text{Now, differentiating 'r' wrt to 'c'}$\n",
    "\n",
    "\n",
    "$$\\frac{dr}{dc}\\;=\\;\\sum_{i=1}^{n}\\;2c + 2mx - 2y$$\n",
    "\n",
    "Our objective is to find out where $\\frac{dR}{dc}$ equals to zero and at that point find the value of **c**\n",
    "<br></br>\n",
    "\n",
    "**NOTE: Gradient Descent solves the problem of Local Minima**"
   ]
  },
  {
   "cell_type": "markdown",
   "id": "3a96bbeb",
   "metadata": {},
   "source": [
    "### Gradient Descent Algorithm : \n",
    "\n",
    "https://towardsdatascience.com/linear-regression-using-gradient-descent-97a6c8700931\n",
    "\n",
    "\n",
    "##### So to get best and new value of m and c everytime for a new line y = mx + c \n",
    "\n",
    "$$\\Longrightarrow m_{new}\\;=\\;m_{old}\\;-\\;\\eta\\;*\\;\\;\\frac{1}{n}\\; * \\text{loss_slope}$$\n",
    "\n",
    "$$\\text{where, loss_slope}\\;\\Big(\\frac{\\delta L}{\\delta m}\\Big)\\;\\;=\\;-2 * \\sum_{i=1}^{n}\\;(y - mx - c) * x$$\n",
    "\n",
    "<br></br>\n",
    "$$\\Longrightarrow c_{new}\\;=\\;c_{old}\\;-\\;\\eta\\;*\\;\\;\\frac{1}{n}\\;* \\text{loss_intercept}$$\n",
    "\n",
    "$$\\text{loss_intercept} \\;\\Big(\\frac{\\delta L}{\\delta c}\\Big)\\;=\\;-2 * \\;\\sum_{i=1}^{n}(y - mx - c)$$\n",
    "\n",
    "<br></br>\n",
    "\n",
    "\n",
    " **NOTE: Finding new values of m and c is known as Learning**"
   ]
  },
  {
   "cell_type": "markdown",
   "id": "1dbaa6fc",
   "metadata": {},
   "source": [
    "## Batch vs Stochastic, which is faster in completing epochs?\n",
    "\n",
    "### for same number of epochs Batch gd is faster. Batch GD takes less time to complete the epochs"
   ]
  },
  {
   "cell_type": "markdown",
   "id": "e78387d6",
   "metadata": {},
   "source": [
    "### When to use Stochastic Gradient Descent\n",
    "\n",
    "1. Big Data -  For large data it will converge faster.\n",
    "\n",
    "\n",
    "2. Non-Convex Function - A function whose any two points when connected, the connected line cuts the curve of the function.\n"
   ]
  },
  {
   "cell_type": "markdown",
   "id": "95c390be",
   "metadata": {},
   "source": [
    "### Batch vs Stochastic in simple terms : "
   ]
  },
  {
   "cell_type": "markdown",
   "id": "017f8ba0",
   "metadata": {},
   "source": [
    "- batch_size  = total number of rows $\\Longrightarrow$ Batch Gradient Descent\n",
    "\n",
    "\n",
    "- batch_size = 1 $\\Longrightarrow$ Stochastic Gradient Descent"
   ]
  },
  {
   "cell_type": "markdown",
   "id": "a76e31f5",
   "metadata": {},
   "source": [
    "1. __Batch Gradient Descent:__\n",
    "   - Imagine you have a big dataset of points representing different examples (inputs) and their corresponding targets (outputs).\n",
    "   - In batch gradient descent, you use the entire dataset to calculate the gradient (slope) of the __cost function at each step of optimization.__\n",
    "   - Then, you take a step in the direction of the average gradient, updating the model's parameters (weights) to reduce the error across the whole dataset.\n",
    "   - This means that you process all the examples in the dataset before making each update, and the updates are usually smooth but computationally expensive.\n",
    "   - better generalization as it considers the entire dataset for each update.\n",
    "   - Tends to converge to the minimum more slowly but provides a more accurate estimate of the gradient.\n",
    "\n",
    "\n",
    "2. __Stochastic Gradient Descent (SGD):__\n",
    "   - In contrast to batch gradient descent, __SGD uses only one random example from the dataset at each step to calculate the gradient and update the model.__\n",
    "   - This makes each step faster because you're dealing with only one example, but it introduces more randomness into the updates.\n",
    "   - The updates can be quite noisy, but this randomness can help the model escape local minima in the cost function and potentially find a better overall minimum.\n",
    "   - Over time, the randomness is averaged out, and the model tends to converge to a good solution.\n",
    "   - The noise introduced by the randomness can help avoid overfitting and improve generalization.  \n",
    "   - Can converge faster due to more frequent parameter updates, but the gradient estimation can be noisy.\n",
    "\n",
    "To summarize, batch gradient descent processes the entire dataset before making updates, ensuring smoother but computationally intensive progress. \n",
    "\n",
    "On the other hand, stochastic gradient descent uses only one random example for each update, making it faster but introducing some randomness in the optimization process. \n",
    "\n",
    "\n",
    "A compromise between these two is mini-batch gradient descent, which uses a small batch of examples (typically between 32 to 256) for each update, offering a balance between smoothness and computational efficiency."
   ]
  },
  {
   "cell_type": "markdown",
   "id": "fb8dbf21",
   "metadata": {},
   "source": [
    "## Batch vs Stochastic - Which is faster to converge to the solution?\n",
    "\n",
    "> __Ans - Stochastic Gradient Descent is faster to converge as it take more number of updates. It doesnot requires so many epochs to converge to correct solution as compared to Batch GD__\n",
    "\n",
    "\n",
    "\n",
    "__Consequently, BGD can take longer to converge to the optimal solution.__"
   ]
  },
  {
   "cell_type": "markdown",
   "id": "820d5cec",
   "metadata": {},
   "source": [
    "it's important to note that while SGD may converge faster, __it may not converge as precisely as Batch Gradient Descent.__ \n",
    "\n",
    "The randomness in SGD can cause the optimization process to be more erratic, and it might not reach the exact minimum. \n",
    "\n",
    "\n",
    "Still, in practice, __SGD's faster convergence often outweighs this slight trade-off in accuracy,__ especially for large datasets and complex models where Batch Gradient Descent might become computationally expensive."
   ]
  },
  {
   "attachments": {
    "Screenshot%202023-05-23%20032734.png": {
     "image/png": "[encoded data removed]"
    }
   },
   "cell_type": "markdown",
   "id": "d3754e2a",
   "metadata": {},
   "source": [
    "![Screenshot%202023-05-23%20032734.png](attachment:Screenshot%202023-05-23%20032734.png)"
   ]
  },
  {
   "cell_type": "markdown",
   "id": "4e309860",
   "metadata": {},
   "source": [
    "### SGD due to its randomness helps to escape local minima and reach global minima.\n",
    "\n",
    "\n",
    "### but issue is that it may not converge at exact point\n"
   ]
  },
  {
   "cell_type": "markdown",
   "id": "44fa63f6",
   "metadata": {},
   "source": [
    "## Cost function:\n",
    "\n",
    "$$J(m, c) = \\frac{1}{2n} \\sum_{i=1}^{n} (y_i - (mx_i + c))^2$$\n",
    "\n",
    "Where:\n",
    "- $J(m, c)$ is the cost function, which measures how well the linear regression model with parameters \\(m\\) and \\(c\\) fits the data.\n",
    "- n is the number of data points.\n",
    "- $y_i$ is the observed (actual) value of the dependent variable for the $i^{th}$ data point.\n",
    "- $x_i$ is the $i^{th}$ independent variable (input feature).\n",
    "- m is the slope of the linear regression model.\n",
    "- c is the intercept (y-intercept) of the linear regression model.\n",
    "- $\\frac{1}{2n}$ is a scaling factor that makes the gradient computation simpler"
   ]
  },
  {
   "cell_type": "markdown",
   "id": "5ee6d806",
   "metadata": {},
   "source": [
    "The goal of gradient descent is to find the values of __m__ and __c__ that minimize this cost function, which effectively minimizes the error between the predicted values $mx_i + c$ and the actual values $y_i$."
   ]
  },
  {
   "cell_type": "markdown",
   "id": "4cd2a886",
   "metadata": {},
   "source": [
    "### Difference between Loss function and cost function : \n",
    "\n",
    "\n",
    "### 🔹 **Loss Function** (📉 Per Sample)\n",
    "\n",
    "* Measures the **error for a single data point** (i.e., one prediction vs. its true label).\n",
    "* It tells how far off the model's prediction is from the actual value.\n",
    "\n",
    "#### Example:\n",
    "\n",
    "If you're using **Mean Squared Error (MSE)** for a regression task:\n",
    "\n",
    "$$\n",
    "\\text{Loss for one sample } (x_i, y_i): \\quad L(y_i, \\hat{y}_i) = (y_i - \\hat{y}_i)^2\n",
    "$$\n",
    "\n",
    "---\n",
    "\n",
    "### 🔹 **Cost Function** (📊 All Samples / Aggregate)\n",
    "\n",
    "* The **average (or sum)** of the loss function over **all training samples**.\n",
    "* It represents the **overall error** of the model and is what we **actually minimize** during training.\n",
    "\n",
    "#### Example:\n",
    "\n",
    "$$\n",
    "\\text{Cost (MSE):} \\quad J(\\theta) = \\frac{1}{n} \\sum_{i=1}^{n} (y_i - \\hat{y}_i)^2\n",
    "$$\n",
    "\n",
    "---\n",
    "\n",
    "### ✅ Analogy:\n",
    "\n",
    "* **Loss** is the error on **one student’s test**.\n",
    "* **Cost** is the **average error** on the whole class.\n",
    "\n",
    "---\n",
    "\n",
    "### 🧠 Summary Table:\n",
    "\n",
    "| Term              | Applies To                | Used In                               |\n",
    "| ----------------- | ------------------------- | ------------------------------------- |\n",
    "| **Loss Function** | One sample                | Training, backpropagation             |\n",
    "| **Cost Function** | Entire dataset (or batch) | Optimization (e.g., gradient descent) |\n",
    "| **Form**          | $L(y, \\hat{y})$           | $J(\\theta) = \\frac{1}{n} \\sum L$      |\n",
    "| **Goal**          | Minimize individual error | Minimize total error                  |\n"
   ]
  },
  {
   "cell_type": "markdown",
   "id": "0b389790",
   "metadata": {},
   "source": [
    "---\n",
    "---"
   ]
  },
  {
   "cell_type": "markdown",
   "id": "c3505577",
   "metadata": {},
   "source": [
    "### Assumption to follow for Linear Regression"
   ]
  },
  {
   "cell_type": "markdown",
   "id": "10bbbd0d",
   "metadata": {},
   "source": [
    "Excellent question! Linear Regression is a **parametric model**, and it relies on several key assumptions to ensure that its estimates (coefficients) are **reliable, interpretable, and generalizable**.\n",
    "\n",
    "\n",
    "## ✅ 1. **Linearity**\n",
    "\n",
    "**The relationship between the independent variables (X) and the dependent variable (y) is linear.**\n",
    "\n",
    "### 🔸 What it means:\n",
    "\n",
    "$$\n",
    "y = \\beta_0 + \\beta_1 x_1 + \\dots + \\beta_n x_n + \\epsilon\n",
    "$$\n",
    "\n",
    "The effect of each predictor is additive and linear.\n",
    "\n",
    "### 📌 Example:\n",
    "\n",
    "* Predicting **house price** from **square footage**: Generally, as square footage increases, the price increases linearly (up to a limit).\n",
    "* ❌ If the relationship is exponential or quadratic, this assumption is violated.\n",
    "\n",
    "---\n",
    "\n",
    "## ✅ 2. **Independence of Errors**\n",
    "\n",
    "**The residuals (errors) should be independent of each other.**\n",
    "\n",
    "### 🔸 What it means:\n",
    "\n",
    "* No correlation between the errors for different observations.\n",
    "\n",
    "### 📌 Example:\n",
    "\n",
    "* In **time series** data, today’s error should not be related to yesterday’s.\n",
    "* ❌ Violation: Predicting stock prices using linear regression—price today is **not independent** of price yesterday.\n",
    "\n",
    "---\n",
    "\n",
    "## ✅ 3. **Homoscedasticity**\n",
    "\n",
    "**The variance of errors is constant across all levels of the independent variables.**\n",
    "\n",
    "### 🔸 What it means:\n",
    "\n",
    "* Spread of residuals should remain roughly the same for all values of X.\n",
    "* Residuals vs. Fitted plot should look like a horizontal band.\n",
    "\n",
    "### 📌 Example:\n",
    "\n",
    "* Predicting **salary** from **years of experience**.\n",
    "\n",
    "  * If higher experience levels show more variable salaries (i.e., residuals spread wider), it violates this assumption.\n",
    "\n",
    "---\n",
    "\n",
    "## ✅ 4. **No Multicollinearity**\n",
    "\n",
    "**The independent variables are not highly correlated with each other.**\n",
    "\n",
    "### 🔸 What it means:\n",
    "\n",
    "* Each feature should contribute unique information.\n",
    "* Check using **correlation matrix** or **Variance Inflation Factor (VIF)**.\n",
    "\n",
    "### 📌 Example:\n",
    "\n",
    "* Predicting **sales** using both **advertising spend** and **number of ads run**.\n",
    "\n",
    "  * If both are strongly correlated (e.g., more money = more ads), multicollinearity exists.\n",
    "\n",
    "---\n",
    "\n",
    "## ✅ 5. **Normality of Errors**\n",
    "\n",
    "**The residuals (errors) should be normally distributed.**\n",
    "\n",
    "### 🔸 What it means:\n",
    "\n",
    "* Especially important for constructing **confidence intervals**, **hypothesis tests**, and **p-values**.\n",
    "* Not strictly necessary for prediction performance.\n",
    "\n",
    "### 📌 Example:\n",
    "\n",
    "* Predicting exam scores: if error terms are skewed due to outliers (e.g., few students scoring 0 or 100), normality is violated.\n",
    "* Use **Q-Q plots** or **histograms** of residuals to check.\n",
    "\n",
    "---\n",
    "\n",
    "## ✅ 6. **No Autocorrelation (for Time Series)**\n",
    "\n",
    "**Residuals should not be correlated over time.**\n",
    "\n",
    "### 🔸 What it means:\n",
    "\n",
    "* If one residual predicts the next, this violates independence.\n",
    "\n",
    "### 📌 Example:\n",
    "\n",
    "* In forecasting **monthly sales**, if underprediction one month leads to underprediction next month → autocorrelation.\n",
    "* Check with **Durbin-Watson test**.\n",
    "\n",
    "---\n",
    "\n",
    "## ✅ Optional: **No Outliers / Influential Points**\n",
    "\n",
    "**Extreme values can distort regression coefficients.**\n",
    "\n",
    "### 📌 Example:\n",
    "\n",
    "* One **very expensive mansion** in a housing dataset can skew the linear fit.\n",
    "\n",
    "---\n",
    "\n",
    "## ✅ Summary Table\n",
    "\n",
    "| Assumption             | Description                           | Example Violation                       |\n",
    "| ---------------------- | ------------------------------------- | --------------------------------------- |\n",
    "| Linearity              | Linear relationship between X and y   | Exponential growth                      |\n",
    "| Independence of Errors | Errors not correlated                 | Time series data                        |\n",
    "| Homoscedasticity       | Constant error variance               | Larger errors for large X               |\n",
    "| No Multicollinearity   | Predictors not highly correlated      | Redundant features                      |\n",
    "| Normality of Errors    | Errors follow a normal distribution   | Skewed or heavy-tailed residuals        |\n",
    "| No Autocorrelation     | Residuals not dependent on time/order | Underprediction follows underprediction |\n",
    "| No Outliers (Optional) | No extreme influential observations   | Very high or low y-value outliers       |\n"
   ]
  },
  {
   "cell_type": "markdown",
   "id": "30b947e1",
   "metadata": {},
   "source": [
    "1. There should be a Linear relationship between every variable(x) and Target(y).\n",
    "\n",
    "\n",
    "2. When Mean of residual = 0 and Standard deviation = 1 and mean should follow normal distribution.\n",
    "\n",
    "\n",
    "3. Error terms are not supposed to be correlated with each other Known as **Autocorrelation of Residuals**\n",
    "\n",
    "\n",
    "4. Independent variables (x) and residual are supposed to be uncorrelated known as **Exogeneity**.\n",
    "\n",
    "\n",
    "5. Error term must showcase constant Variance i.e constantly changing known as **Homoscedasticity**.\n",
    "\n",
    "\n",
    "6. There should not be any **Multicollinearity** (x_1 and x_2 should not be correlated). VIF should be between 1 and 5"
   ]
  },
  {
   "cell_type": "markdown",
   "id": "f2b375a8",
   "metadata": {},
   "source": [
    "##### 4. NO AUTOCORRELATION or NO SERIAL CORRELATION OF ERROR TERMS\n",
    "<br></br>\n",
    "Errors are assumed to be uncorrelated.\n",
    "\n",
    "$$\\sigma_{\\epsilon_i \\epsilon_j} = 0\\;:\\;\\forall\\;i \\neq j$$\n",
    "<br></br>\n",
    "\n",
    "Its very common in time series data.\n",
    "\n",
    "       Q. how does one detect autocorrelation?\n",
    "> - A common way is to plot all the residuals on a graph and look for patterns. If you can't find any, you're safe.\n",
    "\n",
    "<br></br>\n",
    "  - Another is the **Durban Watson test**, which is in the summary for the table provided by stats models.\n",
    "  - Generally, its values fall between 0 and 4.\n",
    "> 2 $\\longrightarrow$ indicates no-autocorrelation .\n",
    "Below 1 and above 3 is a cause for alarm.\n",
    "\n",
    "- The only thing you can do is avoid using a linear regression in such a setting. There are other types of regressions that deal with Time series data. It is possible to use an auto regressive model, a moving average model, or even an auto regressive moving average model or auto regressive, integrated moving average model.\n",
    "\n",
    ">Autocorrelation is not observed in cross-sectional data. You usually spot it at time series data, which is a subset of panel data."
   ]
  },
  {
   "cell_type": "markdown",
   "id": "5e124053",
   "metadata": {},
   "source": [
    "***"
   ]
  },
  {
   "cell_type": "markdown",
   "id": "843b0755",
   "metadata": {},
   "source": [
    "### Determinants of a Good Regression:\n",
    "\n",
    "Based on Anova framework."
   ]
  },
  {
   "cell_type": "markdown",
   "id": "31e997a2",
   "metadata": {},
   "source": [
    "https://archive.is/rCTFV#selection-593.26-593.114"
   ]
  },
  {
   "cell_type": "markdown",
   "id": "53e6418b",
   "metadata": {},
   "source": [
    "\n",
    "\n",
    "## 🎯 First, quick definitions:\n",
    "\n",
    "Given actual values $y_i$ and predicted values $\\hat{y}_i$, and mean of actuals $\\bar{y}$:\n",
    "\n",
    "| Term                 | Name                      | <center>Formula</center>                     | Interpretation                       |\n",
    "| -------------------- | ------------------------- | ------------------------------ | ------------------------------------ |\n",
    "| **TSS**              | Total Sum of Squares      |$$\\sum (y_i - \\bar{y})^2$$    | Total variation in the actual data   |\n",
    "| **RSS**              | Residual Sum of Squares   |<center>$\\sum (y_i - \\hat{y}_i)^2$</center>     | Variation not explained by the model |\n",
    "| **RegSS** or **ESS** | Regression Sum of Squares |<center>$\\sum (\\hat{y}_i - \\bar{y})^2$</center> | Variation explained by the model     \n",
    "\n",
    "    \n",
    "    \n",
    "And they satisfy this relation:\n",
    "\n",
    "$$\n",
    "\\text{TSS} = \\text{ESS (RegSS)} + \\text{RSS}\n",
    "$$"
   ]
  },
  {
   "cell_type": "markdown",
   "id": "27513bf0",
   "metadata": {},
   "source": [
    "### 1. Total Variability: Total Sum of Squares (TSS)\n",
    "\n",
    "> This represents the total sum of squares of the differences between each observed value and the __overall mean of the independent variable__. It is calculated as:\n",
    "\n",
    "**Total Summation of Squares / Sum of squares total:**\n",
    "\n",
    "$$Denoted\\;by\\; TSS\\;or\\;SST\\; = \\;\\sum_{i=1}^n (y_i - y_{i_{avg}})^2$$\n",
    "\n",
    "The squared differences between the observed actual value  $(y_i)$ and mean of all actual values $(y_{i_{avg}})$.\n",
    "\n",
    "It can be interpreted as the dispersion of the observed variables around it's mean, much like the variance we saw in descriptive statistics. It is a measure of the total variability of the data set here.\n",
    "\n",
    "**NOTE: TSS is a constant term which never depends on the line, it depends on the data. It is the maximum distance between a data point and a plane** "
   ]
  },
  {
   "attachments": {
    "TSS.PNG": {
     "image/png": "[encoded data removed]"
    }
   },
   "cell_type": "markdown",
   "id": "15a502e9",
   "metadata": {},
   "source": [
    "![TSS.PNG](attachment:TSS.PNG)"
   ]
  },
  {
   "cell_type": "markdown",
   "id": "90596b1a",
   "metadata": {},
   "source": [
    "### 2. Explained sum of squares : Regression sum of squares (RegSS)\n",
    "\n",
    "> This is the sum of squares of the differences between the predicted values and the mean of actual values.\n",
    "\n",
    "Sum of squares regression (SSR)\n",
    "\n",
    "$$Denoted\\;by\\; SSR\\;or\\;ESS\\; = \\;\\sum_{i=1}^n (\\hat y_i - y_{avg})^2$$\n",
    "\n",
    "Think of it as a measure that describes how well your line fits the data.\n",
    "\n",
    "__If this value of SSR is equal to the total sum of squares, it means your regression model captures all the observed variability and is perfect.__\n",
    "\n",
    "Also known as ESS explained sum of squares."
   ]
  },
  {
   "cell_type": "markdown",
   "id": "d71b965e",
   "metadata": {},
   "source": [
    "### 3. Unexplained Variability or Error:  Residual sum of squares (RSS)\n",
    "\n",
    "> This is the sum of squares of the differences between the observed values and the predicted values by the regression line. __It is the residual sum of squares (RSS) also__\n",
    "\n",
    "\n",
    "\n",
    "$$Denoted\\;by\\; RSS\\;or\\;SSE\\; = \\;\\sum_{i=1}^n (y - \\hat y)^2 =\\sum_{i=1}^n e_i^2$$\n",
    "\n",
    "The error is the difference between the observed value and the predicted value. \n",
    "\n",
    "__We usually want to minimize the error, the smaller the error, the better the estimation power of the regression.__\n",
    "\n",
    "Also known RSS residual sum of squares, residual as in remaining or unexplained.\n",
    "\n",
    "Same as $(\\Delta E_m)\\;and\\; (\\Delta E_c)$ for value of m and c.\n",
    "\n",
    "___Difference between the regression line and original points___\n",
    "<br></br>"
   ]
  },
  {
   "attachments": {
    "RSS.PNG": {
     "image/png": "[encoded data removed]"
    }
   },
   "cell_type": "markdown",
   "id": "7682aceb",
   "metadata": {},
   "source": [
    "![RSS.PNG](attachment:RSS.PNG)"
   ]
  },
  {
   "cell_type": "markdown",
   "id": "967c475e",
   "metadata": {},
   "source": [
    "### Connection between all\n",
    "\n",
    "$$SST\\;=\\;SSR\\;+\\;SSE$$\n",
    "\n",
    "$$\\sum_{i=1}^n (y_i -  y_{avg})^2\\;\\;=\\;\\;\\sum_{i=1}^n (\\hat y - y_{avg})^2\\;\\;+\\;\\;\\sum_{i=1}^n ({y_i - \\hat y})^2$$\n",
    "\n",
    "$$Total\\;variability\\;of\\;the\\;dataset\\;=\\;variability\\;explained\\;by\\;the\\;regression\\;line\\;+\\;unexplained\\;variability\\;known\\;as\\;error$$\n",
    "\n",
    ">Given a constant total variability, a lower error will cause a better regression. Conversely, a higher error will cause a less powerful regression.\n"
   ]
  },
  {
   "attachments": {
    "Screenshot%202023-10-02%20061730.png": {
     "image/png": "[encoded data removed]"
    }
   },
   "cell_type": "markdown",
   "id": "f535bd8d",
   "metadata": {},
   "source": [
    "![Screenshot%202023-10-02%20061730.png](attachment:Screenshot%202023-10-02%20061730.png)"
   ]
  },
  {
   "cell_type": "markdown",
   "id": "25accde8",
   "metadata": {},
   "source": [
    "\n",
    "## ✅ How These Are Used in Real Life:\n",
    "\n",
    "---\n",
    "\n",
    "### 1. **Evaluating Model Accuracy – via R² (R-squared)**\n",
    "\n",
    "$$\n",
    "R^2 = \\frac{\\text{RegSS}}{\\text{TSS}} = 1 - \\frac{\\text{RSS}}{\\text{TSS}}\n",
    "$$\n",
    "\n",
    "* **Real-life Use:** When reporting a regression model (e.g., predicting housing prices, customer churn, sales), people want to know how much of the outcome the model explains.\n",
    "\n",
    "* **Interpretation:**\n",
    "\n",
    "  * $R^2 = 0.90$: \"90% of the variation in house prices is explained by our model.\"\n",
    "  * $R^2 = 0.2$: \"Only 20% is explained. We need better features.\"\n",
    "\n",
    "---\n",
    "\n",
    "### 2. **Comparing Two Models**\n",
    "\n",
    "Suppose you're trying two different sets of features or models:\n",
    "\n",
    "* Model A: RSS = 500\n",
    "* Model B: RSS = 300 (same TSS)\n",
    "\n",
    "→ Model B explains more and has lower unexplained error.\n",
    "\n",
    "**Used in model selection** and performance tuning.\n",
    "\n",
    "---\n",
    "\n",
    "### 3. **Analysis of Variance (ANOVA)**\n",
    "\n",
    "Used in **statistics** and **A/B testing** to determine whether the variation between group means is significant.\n",
    "\n",
    "In ANOVA:\n",
    "\n",
    "* TSS is partitioned into **Between-group SS (like RegSS)** and **Within-group SS (like RSS)**.\n",
    "* **F-test** is used to test if the model significantly improves over using the mean.\n",
    "\n",
    "---\n",
    "\n",
    "### 4. **Error Diagnostics in Business Forecasting**\n",
    "\n",
    "Example: A marketing team predicts monthly sales.\n",
    "\n",
    "* TSS shows how much actual sales varied month to month.\n",
    "* RegSS shows how much of that variation their model explains (e.g., due to ad spend, seasonality).\n",
    "* RSS is the leftover — maybe due to unknown or external factors (e.g., economic downturn, competitor actions).\n",
    "\n",
    "They use this to:\n",
    "\n",
    "* Justify marketing campaigns.\n",
    "* Improve future forecasts.\n",
    "* Explain variance to stakeholders.\n",
    "\n",
    "---\n",
    "\n",
    "### 5. **Feature Selection (when combined with adjusted R² or F-statistics)**\n",
    "\n",
    "* Helps decide which variables (features) add real value.\n",
    "* If adding a feature barely reduces RSS or increases RegSS, it may not be worth it.\n",
    "\n",
    "---\n",
    "\n",
    "## 🔁 Summary Table\n",
    "\n",
    "| Metric | Used For            | Real-world Example                                            |\n",
    "| ------ | ------------------- | ------------------------------------------------------------- |\n",
    "| TSS    | Baseline variance   | Total variance in house prices                                |\n",
    "| RSS    | Model error         | Leftover error after prediction                               |\n",
    "| RegSS  | Explained variance  | How much price variation is explained by location, size, etc. |\n",
    "| R²     | Model quality       | \"Model explains 85% of the variability\"                       |\n",
    "| ANOVA  | Statistical testing | \"Did the new policy significantly increase sales?\"            |\n",
    "\n",
    "\n"
   ]
  },
  {
   "cell_type": "markdown",
   "id": "cd1bb54c",
   "metadata": {},
   "source": [
    "***"
   ]
  },
  {
   "cell_type": "markdown",
   "id": "93dd88d5",
   "metadata": {},
   "source": [
    "https://medium.com/human-in-a-machine-world/mae-and-rmse-which-metric-is-better-e60ac3bde13d"
   ]
  },
  {
   "cell_type": "markdown",
   "id": "662534bf",
   "metadata": {},
   "source": [
    "## Regression Metrics:"
   ]
  },
  {
   "cell_type": "markdown",
   "id": "8baf52df",
   "metadata": {},
   "source": [
    "- __MSE (Mean Squared Error) :__ It calculates the average of squared differences between predicted and actual values, giving more weight to large errors, making it useful for detecting outliers.\n",
    "\n",
    "\n",
    "- __RMSE (Root Mean Squared Error) :__ It's the square root of MSE, providing a measure of prediction error in the same units as the target variable, making it easier to interpret.\n",
    "\n",
    "\n",
    "\n",
    "- __MAE (Mean Absolute Error) :__ It measures the average absolute difference between predicted and actual values, providing a straightforward assessment of prediction accuracy.\n",
    "\n",
    "\n",
    "\n",
    "- __$R^2$ Score (Coefficient of Determination) :__ It represents the proportion of variance in the dependent variable that is explained by the independent variables in a regression model, ranging from 0 to 1.\n",
    "\n",
    "\n",
    "- __Adjusted $R^2$ Score :__ It adjusts R² by penalizing the inclusion of irrelevant predictors, offering a more accurate representation of model fit in multiple regression by accounting for the number of predictors."
   ]
  },
  {
   "cell_type": "markdown",
   "id": "3b539d61",
   "metadata": {},
   "source": [
    "### Mean Squared Error (MSE)"
   ]
  },
  {
   "cell_type": "markdown",
   "id": "f1add2df",
   "metadata": {},
   "source": [
    "As the name implies, Mean Squared Error (MSE) is the __mean of the residuals (error) squared.__ \n",
    "\n",
    "\n",
    "The Mean Squared Error measures how close a regression line is to a set of data points. It is a risk function corresponding to the expected value of the squared error loss. \n",
    "\n",
    "\n",
    "Mean square error is calculated by taking the average, specifically the mean, of errors squared from data as it relates to a function. \n",
    "\n",
    "\n",
    "$$MSE\\;=\\;\\frac{\\sum_{i=1}^n\\;(y_i\\;-\\;\\hat y_{i})^2}{n}$$\n",
    "\n",
    "\n",
    "$$MSE\\;=\\;\\frac{1}{n}\\;\\sum_{i=1}^n\\;(y_i\\;-\\;\\hat y_{i})^2$$\n",
    "\n",
    "\n",
    "\n",
    "\n",
    "\n",
    "\n",
    "\n",
    "\n",
    "**Advantages:**\n",
    "\n",
    "- Can be used as Loss function as it is differentiable\n",
    "\n",
    "\n",
    "**Disadvantage**\n",
    "\n",
    "- MSE unit comes in squared form and it is difficult to interpret.\n",
    "\n",
    "\n",
    "- Not good with handling outliers. Not robust to Outliers."
   ]
  },
  {
   "cell_type": "markdown",
   "id": "df31a8d8",
   "metadata": {},
   "source": [
    "### Root mean squared error (RMSE)\n",
    "\n",
    "RMSE is a quadratic scoring rule that also measures the average magnitude of the error. It’s the square root of the average of squared differences between prediction and actual observation.\n",
    "\n",
    "$$RMSE\\;=\\;\\sqrt{MSE}$$\n",
    "\n",
    "\n",
    "$$RMSE\\;=\\;\\sqrt{\\frac{1}{n}\\;\\sum_{i=1}^n\\;(y_i\\;-\\;\\hat y_{i})^2}$$\n",
    "\n",
    "\n",
    "**Advantages:**\n",
    "\n",
    "- RMSE is of the same unit as the output\n",
    "\n",
    "\n",
    "**Disadvantages:**\n",
    "\n",
    "- Not robust to outliers"
   ]
  },
  {
   "cell_type": "markdown",
   "id": "b916af95",
   "metadata": {},
   "source": [
    "### Mean Absolute Error (MAE)"
   ]
  },
  {
   "cell_type": "markdown",
   "id": "472b9139",
   "metadata": {},
   "source": [
    "\n",
    "\n",
    "It is the mean of difference between the predicted value and actual value. \n",
    "\n",
    "MAE measures the average magnitude of the errors in a set of predictions, without considering their direction. It’s the average over the test sample of the absolute differences between prediction and actual observation where all individual differences have equal weight.\n",
    "\n",
    "$$MAE\\;=\\;\\sum_{i=1}^{n}\\;\\frac{|y_i\\;-\\;\\hat y_{i}|}{n}$$\n",
    "\n",
    "$$MAE\\;=\\;\\frac{1}{n}\\;\\sum_{i=1}^{n}\\;|y_i\\;-\\;\\hat y_{i}|$$\n",
    "\n",
    "***NOTE: Mean Absolute Error should be least***\n",
    "\n",
    "**Advantages:**\n",
    "\n",
    "- Unit of MAE and unit of output column is same.\n",
    "\n",
    "\n",
    "- It's robust to outliers ie. it can handle it.\n",
    "\n",
    "<br></br>\n",
    "**Disadvantages:**\n",
    "\n",
    "- Modulus function graph is not differentiable at 0.\n",
    "\n",
    "\n",
    "- Lack of Differentiability: MAE is not differentiable at zero, which can make it challenging to use with some optimization algorithms that rely on gradient information.\n"
   ]
  },
  {
   "cell_type": "markdown",
   "id": "a1ca33f2",
   "metadata": {},
   "source": [
    "### R-Squared Statistics"
   ]
  },
  {
   "cell_type": "markdown",
   "id": "8dcd19fa",
   "metadata": {},
   "source": [
    "$$R^2\\;measures\\;goodness\\;of\\;fit$$\n",
    "<br></br>\n",
    "***The R-squared is a proportion that shows how much of the total variability of the dataset is explained by your regression model.*** \n",
    "\n",
    "- This may be expressed as: **how well your model fits your data**. \n",
    "\n",
    "\n",
    "- It is incorrect to say your regression line fits the data, as the line is the geometrical representation of the regression equation. \n",
    "\n",
    "\n",
    "\n",
    "- It also incorrect to say the data fits the model or the regression line, as you are trying to explain the data with a model, not vice versa.\n",
    "<br></br>\n",
    "\n",
    "### NOTE : R2 square is how better our Linear regressin Line is from the mean line(worst output)"
   ]
  },
  {
   "cell_type": "markdown",
   "id": "debb1727",
   "metadata": {},
   "source": [
    "#### The formula for the R² score is as follows:\n",
    "$$R^2 = 1- \\Bigg[\\frac{\\text{sum of squared error from regression line}}{\\text{sum of squares total}}\\Bigg]$$ \n",
    "\n",
    "\n",
    "\n",
    "\n",
    "$$\\Longrightarrow \\frac{RegSS}{TSS}$$\n",
    "\n",
    "$$\\;OR$$\n",
    "\n",
    "\n",
    "$$R^2\\;=\\;1\\;-\\;\\frac{RSS}{TSS}$$\n",
    "\n",
    "Where:\n",
    "\n",
    "- $R^2$ is the R2 score.\n",
    "\n",
    "\n",
    "- $RSS$ is the sum of the squared residuals (also known as the sum of squared errors or __SSE__), which represents the variance that the model does not explain. ___Summation of distance between $(\\hat y\\;and\\;y_{avg})$___\n",
    "\n",
    "\n",
    "- $TSS$ is the total sum of squares, which represents the total variance in the dependent variable. ___Summation of distance between $(y\\;and\\;y_{avg})$ line.___\n",
    "\n",
    "\n",
    "- *SST is a constant line which depends on your data*\n",
    "\n",
    "\n",
    "$$R^2 \\propto \\frac{1}{SSR}$$"
   ]
  },
  {
   "cell_type": "markdown",
   "id": "848c60b8",
   "metadata": {},
   "source": [
    "### __The interpretation of the R² score is as follows:__\n",
    "\n",
    "\n",
    "- $R^2 = 1$: The model explains all of the variance in the dependent variable, indicating a perfect fit.\n",
    "\n",
    "\n",
    "- $R^2 = 0$: The model does not explain any of the variance in the dependent variable, indicating that it doesn't provide a better prediction than simply using the mean of the dependent variable.\n",
    "\n",
    "\n",
    "- $0 < R^2 < 1$: The model explains a proportion of the variance in the dependent variable, with higher values indicating a better fit.\n",
    "\n",
    "The $R^2$ value ranges from 0.2 to 0.9"
   ]
  },
  {
   "cell_type": "markdown",
   "id": "513da856",
   "metadata": {},
   "source": [
    "#### Problem with $R^2$ score:\n",
    "\n",
    "R-squared can be misleading in some cases, especially when the number of\n",
    "predictor variables is large or when the predictor variables are not relevant to the response variable."
   ]
  },
  {
   "cell_type": "markdown",
   "id": "da2bd800",
   "metadata": {},
   "source": [
    "### Adjusted R-squared\n",
    "\n",
    "It is the modified version of R-squared which is adjusted for the number of variables in the regression. It increases only when an additional variable adds to the explanatory power to the regression.\n",
    "\n",
    "\n",
    "$$Denoted\\;by\\; \\bar R^2$$\n",
    "\n",
    "$$Adjusted\\;R-squared\\;=\\;1- \\Biggl[ \\frac{\\big(1-R^2\\big) * (n-1)}{n-k-1}\\Biggl]$$\n",
    "\n",
    "$where$ \n",
    "\n",
    "n – Number of points or rows in your data set.\n",
    "\n",
    "k – Number of independent variables \\features \\ predictors in the model, excluding the constant\n",
    "\n",
    "$$OR$$\n",
    "\n",
    "$$Adjusted \\, R^2 = 1 - \\frac{\\frac{SSE}{(n - k - 1)}}{\\frac{SST}{(n - 1)}}$$\n",
    "\n",
    "$where$\n",
    "\n",
    "$SST\\;–\\;Total\\;Sum\\;of\\;Squares\\;=\\;Σ( Y_i – Y_m)^2$\n",
    "\n",
    "$SSE\\;–\\;Model\\;Sum\\;of\\;Squares\\;=\\; Σ (Y – \\hat Y)^2$\n",
    "\n",
    "\n",
    "\n",
    "where $\\hat Y$ is the predicted value of the model, $Y_i$ is the ith value and $Y_m$ is the mean value\n",
    "\n",
    "\n",
    "<br></br>\n",
    "$$\\star\\;\\;\\bar R^2\\; < \\; R^2 $$\n",
    "$$\\bar R^2\\;measures \\;how \\;well \\;your \\;model\\; fits\\; the\\; data\\; but\\; penalizes\\;excessive\\;use\\;of\\;variables.$$\n",
    "\n",
    "    Q. What can you tell about a new parameter if adding it increases R-squared but decreases adjusted R-squared\n",
    ">The variable can be omitted since it holds no predictive power."
   ]
  },
  {
   "cell_type": "markdown",
   "id": "0f9c1631",
   "metadata": {},
   "source": [
    "### Difference between R-square and Adjusted R-square\n",
    "\n",
    "1. Every time you add a independent variable to a model, the R-squared increases, even if the independent variable is insignificant. It never declines. Whereas Adjusted R-squared increases only when independent variable is significant and affects dependent variable. \n",
    "\n",
    "\n",
    "2. Adjusted r-squared can be negative when r-squared is close to zero.\n",
    "\n",
    "\n",
    "3. Adjusted r-squared value always be less than or equal to r-squared value."
   ]
  },
  {
   "cell_type": "markdown",
   "id": "8f6f5258",
   "metadata": {},
   "source": [
    "#### Which one should be used?"
   ]
  },
  {
   "cell_type": "markdown",
   "id": "5d89408a",
   "metadata": {},
   "source": [
    "1. __Model comparison :__ If you're comparing models with different numbers of predictor\n",
    "variables, it's better to __use adjusted R-squared.__ This is because adjusted R-squared takes\n",
    "into account the complexity of the model, penalizing models that include irrelevant\n",
    "predictor variables.\n",
    "\n",
    "\n",
    "2. __Model interpretation :__ If you're interested in understanding the proportion of variance in the response variable that can be explained by the predictor variables in the model, __R-\n",
    "squared can be a useful metric.__ However, keep in mind that R-squared does not provide information about the significance or relevance of individual predictor variables. It's also\n",
    "important to remember that a high R-squared value does not necessarily imply causation\n",
    "or a good predictive model.\n",
    "\n",
    "\n",
    "\n",
    "3. __Model selection and overfitting :__ When building a model and selecting predictor variables,\n",
    "it's important to guard against overfitting. __Adjusted R-squared__ can be a\n",
    "helpful metric, as it accounts for the number of predictor variables and penalizes the\n",
    "model for unnecessary complexity.By using adjusted R-squared, you can avoid including\n",
    "irrelevant predictor variables that might lead to overfitting."
   ]
  },
  {
   "cell_type": "markdown",
   "id": "a907d3cd",
   "metadata": {},
   "source": [
    "##### Which is better?\n",
    "    \n",
    ">Adjusted R-square should be used to compare models with different numbers of independent variables. Adjusted R-square should be used while selecting important predictors (independent variables) for the regression model."
   ]
  },
  {
   "cell_type": "markdown",
   "id": "fa64034c",
   "metadata": {},
   "source": [
    "### MAE vs MSE"
   ]
  },
  {
   "cell_type": "markdown",
   "id": "46b5e163",
   "metadata": {},
   "source": [
    "The main difference between MAE (Mean Absolute Error) and MSE (Mean Squared Error) lies in how they measure the error or loss in a predictive model:\n",
    "\n",
    "##### **MAE (Mean Absolute Error):**\n",
    "   \n",
    "   \n",
    "   - MAE calculates the average of the __absolute differences__ between predicted and actual values.\n",
    "   \n",
    "   \n",
    "   - MAE treats __all errors (overpredictions and underpredictions) equally__ and provides a linear measure of error.\n",
    "   \n",
    "   \n",
    "   - Use MAE when you want a straightforward measure of the average magnitude of errors and you __don't want to give more weight to large errors.__ It's more robust to outliers in the data.\n",
    "\n",
    "   Example: MAE is suitable for evaluating the performance of a model predicting house prices, where you want to know the average dollar amount by which your predictions differ from the actual sale prices.\n",
    "\n",
    "\n",
    "\n",
    "##### **MSE (Mean Squared Error):**\n",
    "   \n",
    "   \n",
    "   - MSE calculates the average of the __squared differences__ between predicted and actual values.\n",
    "   \n",
    "   \n",
    "   - MSE gives __more weight to large errors__ because of the squaring, making it __sensitive to outliers.__\n",
    "   \n",
    "   \n",
    "   - Use __MSE when you want to penalize larger errors more__ and when you want a measure that emphasizes reducing the spread of errors.\n",
    "\n",
    "   Example: MSE is commonly used in training machine learning models because it helps models focus on minimizing errors, including outliers."
   ]
  },
  {
   "cell_type": "markdown",
   "id": "be8f4f83",
   "metadata": {},
   "source": [
    "#### When should we use MAE or MSE?\n",
    "\n",
    "- Choose MAE when you want a measure of the average magnitude of errors that treats all errors equally.\n",
    "\n",
    "\n",
    "- Choose MSE when you want a measure that gives more weight to larger errors and is commonly used for model training and optimization. "
   ]
  },
  {
   "cell_type": "markdown",
   "id": "e05d1514",
   "metadata": {},
   "source": [
    "### MAE vs RMSE\n",
    "\n",
    "**Similarities:** \n",
    "\n",
    "- Both MAE and RMSE express average model prediction error in units of the variable of interest.\n",
    "\n",
    "\n",
    "- Both metrics can range from 0 to ∞ and are indifferent to the direction of errors. They are negatively-oriented scores, which means lower values are better.\n",
    "\n",
    "> RMSE does not necessarily increase with the variance of the errors. RMSE increases with the variance of the frequency distribution of error magnitudes."
   ]
  },
  {
   "cell_type": "markdown",
   "id": "269e7fde",
   "metadata": {},
   "source": [
    "***"
   ]
  },
  {
   "cell_type": "markdown",
   "id": "a628101f",
   "metadata": {},
   "source": [
    "### Variance Inflation factor (VIF) - To check the MULTICOLLINEARITY\n",
    "\n",
    "Sklearn doesnot have any method to check this assumption. We must turn to our old friend stats models.\n",
    "\n",
    "One of the best ways to check for Multicollinearity in the air is through **VIF or Variance Inflation factor.** \n",
    "\n",
    "VIF produces a measure which estimates how much larger the square root of the standard error of an estimate is compared to a situation where the variable was completely uncorrelated with the other predictors.\n",
    "\n",
    "$$Formula\\;=\\;\\bigg( \\frac{1}{1-R^2}\\bigg)$$"
   ]
  },
  {
   "cell_type": "markdown",
   "id": "15cd869d",
   "metadata": {},
   "source": [
    "$VIF\\;\\epsilon\\;[1, +inf]$\n",
    "\n",
    "- $VIF\\;=\\;1\\longrightarrow\\; no\\;multicollinearity$ \n",
    "\n",
    "\n",
    "- $1\\;<\\;VIF\\;<\\;5\\longrightarrow\\; perfectly\\;okay$ \n",
    "\n",
    "\n",
    "- $VIF\\;>\\;5\\;\\longrightarrow\\;highly\\;collinear$\n",
    "\n",
    "This is also the minimum value of the measure. Generally, values between one and five are considered perfectly okay.\n",
    "\n",
    "You'd rarely find data so perfect that all features have a VIF below five, so that is somewhat conservative.\n",
    "\n",
    "**Note on Multicollinearity:**\n",
    ">What most people are wondering is not 'when do we have multicollinearity' as we usually do have some. The better question to ask is 'When can we safely ignore multicollinearity'.\n",
    "\n",
    "Here's a great article on the topic: http://statisticalhorizons.com/multicollinearity"
   ]
  },
  {
   "cell_type": "markdown",
   "id": "efe63eff",
   "metadata": {},
   "source": [
    "### Feature Scaling (Standardization):\n",
    "\n",
    "If the data dispersion is varying a lot, then the model will not be able to understand the relation wrt features and label in a better way. So to find a strong and bettwer relation between feature and label we use StandardScaler. \n",
    "\n",
    "It is the process of transforming the data we are working with into a standard scale.\n",
    "\n",
    "\n",
    "$$standardized\\;value\\;=\\;\\frac{\\chi - \\mu}{\\sigma}$$\n",
    "\n",
    "$$where\\; \\chi \\rightarrow\\;original\\;variable,\\;\\; \\mu \\rightarrow\\;mean\\;of\\;the\\;original\\;variable,\\;\\;\\sigma\\rightarrow\\;standard\\;deviation\\;of\\;original\\;variable$$\n",
    "\n",
    "**The formula for standardization is same as formula for Z-statistics i.e where $\\mu\\;=\\;0\\;and\\;\\sigma\\;=\\;1$**\n",
    "\n",
    "\n",
    "This translates to subtracting the mean and dividing by the standard deviation. In this way, regardless of the data set, we will always obtain a distribution with a mean of zero and a standard deviation of one which could easily be proven.\n",
    "\n",
    "This will ensure our linear combinations treat the two variables equally."
   ]
  },
  {
   "cell_type": "markdown",
   "id": "60dc894b",
   "metadata": {
    "scrolled": true
   },
   "source": [
    "\n",
    "##### by standarard scaling now we can see that for features mean = 0 and standard deviation = 1"
   ]
  },
  {
   "cell_type": "markdown",
   "id": "130a1691",
   "metadata": {},
   "source": [
    "___"
   ]
  },
  {
   "cell_type": "markdown",
   "id": "197fea4c",
   "metadata": {},
   "source": [
    "## Difference betweeen Normalization vs. Standardization\n",
    "\n",
    "https://www.analyticsvidhya.com/blog/2020/04/feature-scaling-machine-learning-normalization-standardization/\n",
    "\n",
    "\n",
    "- Normalization is good to use when you know that the distribution of your __data does not follow a Gaussian distribution.__ This can be useful in algorithms that do not assume any distribution of the data like K-Nearest Neighbors and Neural Networks.\n",
    "\n",
    "    $$x_{Normalized} = \\frac{x - x_{min}}{x_{max} - x_{min}}$$\n",
    "    \n",
    "<br></br>   \n",
    "\n",
    "- Standardization, on the other hand, can be helpful in cases where the __data follows a Gaussian distribution__. However, this does not have to be necessarily true. Also, unlike normalization, standardization does not have a bounding range. So, even if you have outliers in your data, they will not be affected by standardization.\n",
    "\n",
    "\n",
    "$$x_{Standardized} = \\frac{x - \\mu}{\\sigma}$$\n",
    "\n",
    "There is no hard and fast rule to tell you when to normalize or standardize your data. You can always start by fitting your model to raw, normalized and standardized data and compare the performance for best results.\n",
    "\n",
    "\n",
    "***It is a good practice to fit the scaler on the training data and then use it to transform the testing data. This would avoid any data leakage during the model testing process. Also, the scaling of target values is generally not required.***"
   ]
  },
  {
   "cell_type": "markdown",
   "id": "fb9baac4",
   "metadata": {},
   "source": [
    "___"
   ]
  },
  {
   "cell_type": "markdown",
   "id": "31bcb4c1",
   "metadata": {},
   "source": [
    "___"
   ]
  },
  {
   "cell_type": "markdown",
   "id": "41f60fe6",
   "metadata": {},
   "source": [
    "## Polynomial linear regression : "
   ]
  },
  {
   "cell_type": "markdown",
   "id": "a7edb7cc",
   "metadata": {},
   "source": [
    "- Simple Linear regression $\\longrightarrow\\;y\\;=\\;\\beta_{0}\\;+\\;\\beta_1 x$\n",
    "\n",
    "\n",
    "- Multiple Linear Regression $\\longrightarrow\\;y\\;=\\;\\beta_{0}\\;+\\;\\beta_1 x_1\\;+\\;\\beta_2 x_2\\;+\\;\\beta_3 x_3\\;+....\\;+\\;\\beta_n x_n$\n",
    "\n",
    "\n",
    "- Simple Polynomial Regression for degree = 2  $\\longrightarrow\\;y\\;=\\;\\beta_{0}\\;+\\;\\beta_1 x\\;+\\;\\beta_2 x^2$\n"
   ]
  },
  {
   "cell_type": "markdown",
   "id": "e18f8c0c",
   "metadata": {},
   "source": [
    "### differences :"
   ]
  },
  {
   "cell_type": "markdown",
   "id": "5d0ca05d",
   "metadata": {},
   "source": [
    "- simple linear regression assumes a linear relationship, \n",
    "\n",
    "\n",
    "- multiple linear regression extends this to include multiple predictors. \n",
    "\n",
    "\n",
    "- Polynomial linear regression goes further by allowing for more complex, nonlinear relationships by introducing polynomial terms. "
   ]
  },
  {
   "cell_type": "markdown",
   "id": "b3539478",
   "metadata": {},
   "source": [
    "\n",
    "\n",
    "1. **Simple Linear Regression**:\n",
    "   - Simple linear regression deals with a single independent variable and a single dependent variable.\n",
    "   - It assumes a linear relationship between the independent and dependent variables, meaning the relationship can be represented by a straight line (y = mx + b).\n",
    "\n",
    "\n",
    "\n",
    "2. **Multiple Linear Regression**:\n",
    "   - Multiple linear regression involves multiple independent variables and a single dependent variable.\n",
    "   - It extends simple linear regression to model the relationship between the dependent variable and multiple predictors, assuming a linear combination of these predictors.\n",
    "\n",
    "\n",
    "\n",
    "3. **Polynomial Linear Regression**:\n",
    "   - Polynomial linear regression is used when the relationship between the independent and dependent variables is not linear but can be better approximated by a polynomial function.\n",
    "   - It can involve one or more independent variables.\n",
    "   - Instead of a straight line, it uses a polynomial equation to capture complex, nonlinear relationships. The equation may be of the form: y = a + bx + cx^2 + ... + nx^n, where 'x' is the independent variable and 'n' is the degree of the polynomial.\n",
    "   - By increasing the degree of the polynomial, you can model more complex, curved relationships.\n",
    "\n",
    "In summary, while The choice of which type of regression to use depends on the nature of your data and the underlying relationship you want to capture."
   ]
  },
  {
   "cell_type": "markdown",
   "id": "cb3061e3",
   "metadata": {},
   "source": [
    "# Polynomial linear regression"
   ]
  },
  {
   "cell_type": "markdown",
   "id": "4883f95d",
   "metadata": {},
   "source": [
    "Polynomial linear regression is a type of regression analysis that extends the concepts of simple linear regression and multiple linear regression to model more complex relationships between the independent variable(s) and the dependent variable.\n",
    "\n",
    "### NOTE : For lower degree (degree = 2) Polynomial Regression tries to underfit and \n",
    "### for higher degree(degree = 15) it tries to Overfit."
   ]
  },
  {
   "cell_type": "markdown",
   "id": "2b5aec76",
   "metadata": {},
   "source": [
    "> __Why is polynomial linear regression called as linear even for higher degree?__\n",
    "\n",
    "\n",
    "The term \"linear\" in this context doesn't refer to the linearity of the relationship between the independent and dependent variables but rather to the __linearity with respect to the model parameters i.e coefficents and intercept__ $(\\beta_0, \\beta_1, \\beta_2, ....... \\beta_n)$"
   ]
  },
  {
   "cell_type": "markdown",
   "id": "647abd81",
   "metadata": {},
   "source": [
    "---\n",
    "---\n",
    "---"
   ]
  },
  {
   "cell_type": "markdown",
   "id": "966d888a",
   "metadata": {},
   "source": [
    "### Difference in Correlation and Regression:\n",
    "* First, correlation measures the degree of relationship between two variables. Regression analysis is about how one variable affects another or what changes it causes to the other.\n",
    "<br></br>\n",
    "* Second, correlation doesn't capture causality, but the degree of interrelation between the two variables. Regression is based on causality. It shows no degree of connection but causality i.e cause and effect.\n",
    "<br></br>\n",
    "* Third, a property of correlation is that the correlation between $\\rho(x,y)$ is the same as between $\\rho(y,x)$. This you can easily see from the formula, which is symmetrical. Regressions of (y,x) and (x,y) yield different results. Think about our example with income and education, predicting income based on education makes sense, but the opposite does not.\n",
    "<br></br>\n",
    "* Finally, the two methods have a very different graphical representation, linear regression analysis is known for the best fitting line that goes through the data points and minimizes the distance between them, while correlation is a single point."
   ]
  },
  {
   "cell_type": "markdown",
   "id": "a713f2be",
   "metadata": {},
   "source": [
    "    1)Why regression only on one variable?\n",
    "\n",
    "The variable we want to predict is only one - price, in the regression however we use all the other variables too - they are the predictors (the variables we use to predict the price). That is how our data is divided into two sets - the targets(price) and inputs(everything else).\n",
    "\n",
    "\n",
    "    2)Why are we using train test split with log values of price only\n",
    "\n",
    "In order to relax the linearity assumption, we had to transform the prices variable into log prices. After doing so, we saw that the relationships between log prices and year, engine volume and millage respectively, were way closer to linear. This was shown in lecture 227.\n",
    "\n",
    "    3)What is the real reason of train test split here?\n",
    "\n",
    "The train_test_split function simply splits our data into two sets - training set and testing set. The training set is the data we use to fit our regression and the testing set is the data we use to see if our regression model works accurately. Because we already split our data into two (targets and inputs) we finally have 4 sets.\n",
    "\n",
    "\n",
    "x_train is the set of training inputs and y_train is the set of training outputs - they are used together to fit the regression.\n",
    "\n",
    "x_test is the set of testing inputs and y_test is the set of testing outputs - x_test is used in the predict method of our already trained regression to obtain a certain output y_hat, and y_test is the target to which we have to compare y_hat.\n",
    "\n",
    "Here is our lecture on train - test split.\n",
    "\n",
    "    4)What is the purpose of the dummy variables?\n",
    "\n",
    "Their purpose is the same as all other input variables - to predict the price. Since brand is a categorical variable and we couldn't use it directly in our regression model, we split it into dummy variables, which you can imagine is just like a normal variable, but it takes a value of 0 or 1, and in a set of dummy variables ( such as the brand set - Brand_BMW, Brand_Mercedes...) for a given sample only one of them can be 1 and the rest have to be 0, because a single car can only have a single brand."
   ]
  },
  {
   "cell_type": "markdown",
   "id": "f9bbbcfa",
   "metadata": {},
   "source": [
    "# Problem Statement"
   ]
  },
  {
   "cell_type": "markdown",
   "id": "1e3dd9e3",
   "metadata": {},
   "source": [
    "link to the problem statement : https://archive.ics.uci.edu/ml/datasets/AI4I+2020+Predictive+Maintenance+Dataset"
   ]
  },
  {
   "cell_type": "markdown",
   "id": "84fad5a3",
   "metadata": {},
   "source": [
    "Attribute Information:\n",
    "\n",
    "The dataset consists of 10 000 data points stored as rows with 14 features in columns\n",
    "UID: unique identifier ranging from 1 to 10000\n",
    "product ID: consisting of a letter L, M, or H for low (50% of all products), medium (30%) and high (20%) as product quality variants and a variant-specific serial number\n",
    "air temperature [K]: generated using a random walk process later normalized to a standard deviation of 2 K around 300 K\n",
    "process temperature [K]: generated using a random walk process normalized to a standard deviation of 1 K, added to the air temperature plus 10 K.\n",
    "rotational speed [rpm]: calculated from a power of 2860 W, overlaid with a normally distributed noise\n",
    "torque [Nm]: torque values are normally distributed around 40 Nm with a Ïƒ = 10 Nm and no negative values.\n",
    "tool wear [min]: The quality variants H/M/L add 5/3/2 minutes of tool wear to the used tool in the process. and a\n",
    "'machine failure' label that indicates, whether the machine has failed in this particular datapoint for any of the following failure modes are true.\n",
    "\n",
    "The machine failure consists of five independent failure modes\n",
    "tool wear failure (TWF): the tool will be replaced of fail at a randomly selected tool wear time between 200 â€“ 240 mins (120 times in our dataset). At this point in time, the tool is replaced 69 times, and fails 51 times (randomly assigned).\n",
    "heat dissipation failure (HDF): heat dissipation causes a process failure, if the difference between air- and process temperature is below 8.6 K and the toolâ€™s rotational speed is below 1380 rpm. This is the case for 115 data points.\n",
    "power failure (PWF): the product of torque and rotational speed (in rad/s) equals the power required for the process. If this power is below 3500 W or above 9000 W, the process fails, which is the case 95 times in our dataset.\n",
    "overstrain failure (OSF): if the product of tool wear and torque exceeds 11,000 minNm for the L product variant (12,000 M, 13,000 H), the process fails due to overstrain. This is true for 98 datapoints.\n",
    "random failures (RNF): each process has a chance of 0,1 % to fail regardless of its process parameters. This is the case for only 5 datapoints, less than could be expected for 10,000 datapoints in our dataset.\n",
    "\n",
    "If at least one of the above failure modes is true, the process fails and the 'machine failure' label is set to 1. It is therefore not transparent to the machine learning method, which of the failure modes has caused the process to fail"
   ]
  },
  {
   "cell_type": "markdown",
   "id": "9a140bb3",
   "metadata": {},
   "source": [
    "___"
   ]
  },
  {
   "cell_type": "markdown",
   "id": "b016c818",
   "metadata": {},
   "source": [
    "## HOUSING PRICE DATASET"
   ]
  },
  {
   "cell_type": "code",
   "execution_count": 115,
   "id": "5531a420",
   "metadata": {},
   "outputs": [],
   "source": [
    "import pandas as pd\n",
    "import numpy as np\n",
    "import seaborn as sns\n",
    "import matplotlib.pyplot as plt\n",
    "%matplotlib inline"
   ]
  },
  {
   "cell_type": "code",
   "execution_count": 116,
   "id": "d99c5597",
   "metadata": {},
   "outputs": [],
   "source": [
    "from sklearn.datasets import load_boston"
   ]
  },
  {
   "cell_type": "code",
   "execution_count": 117,
   "id": "0d966a6e",
   "metadata": {},
   "outputs": [
    {
     "name": "stderr",
     "output_type": "stream",
     "text": [
      "C:\\Users\\mohit.kumar\\Anaconda3\\lib\\site-packages\\sklearn\\utils\\deprecation.py:87: FutureWarning: Function load_boston is deprecated; `load_boston` is deprecated in 1.0 and will be removed in 1.2.\n",
      "\n",
      "    The Boston housing prices dataset has an ethical problem. You can refer to\n",
      "    the documentation of this function for further details.\n",
      "\n",
      "    The scikit-learn maintainers therefore strongly discourage the use of this\n",
      "    dataset unless the purpose of the code is to study and educate about\n",
      "    ethical issues in data science and machine learning.\n",
      "\n",
      "    In this special case, you can fetch the dataset from the original\n",
      "    source::\n",
      "\n",
      "        import pandas as pd\n",
      "        import numpy as np\n",
      "\n",
      "        data_url = \"http://lib.stat.cmu.edu/datasets/boston\"\n",
      "        raw_df = pd.read_csv(data_url, sep=\"\\s+\", skiprows=22, header=None)\n",
      "        data = np.hstack([raw_df.values[::2, :], raw_df.values[1::2, :2]])\n",
      "        target = raw_df.values[1::2, 2]\n",
      "\n",
      "    Alternative datasets include the California housing dataset (i.e.\n",
      "    :func:`~sklearn.datasets.fetch_california_housing`) and the Ames housing\n",
      "    dataset. You can load the datasets as follows::\n",
      "\n",
      "        from sklearn.datasets import fetch_california_housing\n",
      "        housing = fetch_california_housing()\n",
      "\n",
      "    for the California housing dataset and::\n",
      "\n",
      "        from sklearn.datasets import fetch_openml\n",
      "        housing = fetch_openml(name=\"house_prices\", as_frame=True)\n",
      "\n",
      "    for the Ames housing dataset.\n",
      "  warnings.warn(msg, category=FutureWarning)\n"
     ]
    },
    {
     "data": {
      "text/plain": [
       "{'data': array([[6.3200e-03, 1.8000e+01, 2.3100e+00, ..., 1.5300e+01, 3.9690e+02,\n",
       "         4.9800e+00],\n",
       "        [2.7310e-02, 0.0000e+00, 7.0700e+00, ..., 1.7800e+01, 3.9690e+02,\n",
       "         9.1400e+00],\n",
       "        [2.7290e-02, 0.0000e+00, 7.0700e+00, ..., 1.7800e+01, 3.9283e+02,\n",
       "         4.0300e+00],\n",
       "        ...,\n",
       "        [6.0760e-02, 0.0000e+00, 1.1930e+01, ..., 2.1000e+01, 3.9690e+02,\n",
       "         5.6400e+00],\n",
       "        [1.0959e-01, 0.0000e+00, 1.1930e+01, ..., 2.1000e+01, 3.9345e+02,\n",
       "         6.4800e+00],\n",
       "        [4.7410e-02, 0.0000e+00, 1.1930e+01, ..., 2.1000e+01, 3.9690e+02,\n",
       "         7.8800e+00]]),\n",
       " 'target': array([24. , 21.6, 34.7, 33.4, 36.2, 28.7, 22.9, 27.1, 16.5, 18.9, 15. ,\n",
       "        18.9, 21.7, 20.4, 18.2, 19.9, 23.1, 17.5, 20.2, 18.2, 13.6, 19.6,\n",
       "        15.2, 14.5, 15.6, 13.9, 16.6, 14.8, 18.4, 21. , 12.7, 14.5, 13.2,\n",
       "        13.1, 13.5, 18.9, 20. , 21. , 24.7, 30.8, 34.9, 26.6, 25.3, 24.7,\n",
       "        21.2, 19.3, 20. , 16.6, 14.4, 19.4, 19.7, 20.5, 25. , 23.4, 18.9,\n",
       "        35.4, 24.7, 31.6, 23.3, 19.6, 18.7, 16. , 22.2, 25. , 33. , 23.5,\n",
       "        19.4, 22. , 17.4, 20.9, 24.2, 21.7, 22.8, 23.4, 24.1, 21.4, 20. ,\n",
       "        20.8, 21.2, 20.3, 28. , 23.9, 24.8, 22.9, 23.9, 26.6, 22.5, 22.2,\n",
       "        23.6, 28.7, 22.6, 22. , 22.9, 25. , 20.6, 28.4, 21.4, 38.7, 43.8,\n",
       "        33.2, 27.5, 26.5, 18.6, 19.3, 20.1, 19.5, 19.5, 20.4, 19.8, 19.4,\n",
       "        21.7, 22.8, 18.8, 18.7, 18.5, 18.3, 21.2, 19.2, 20.4, 19.3, 22. ,\n",
       "        20.3, 20.5, 17.3, 18.8, 21.4, 15.7, 16.2, 18. , 14.3, 19.2, 19.6,\n",
       "        23. , 18.4, 15.6, 18.1, 17.4, 17.1, 13.3, 17.8, 14. , 14.4, 13.4,\n",
       "        15.6, 11.8, 13.8, 15.6, 14.6, 17.8, 15.4, 21.5, 19.6, 15.3, 19.4,\n",
       "        17. , 15.6, 13.1, 41.3, 24.3, 23.3, 27. , 50. , 50. , 50. , 22.7,\n",
       "        25. , 50. , 23.8, 23.8, 22.3, 17.4, 19.1, 23.1, 23.6, 22.6, 29.4,\n",
       "        23.2, 24.6, 29.9, 37.2, 39.8, 36.2, 37.9, 32.5, 26.4, 29.6, 50. ,\n",
       "        32. , 29.8, 34.9, 37. , 30.5, 36.4, 31.1, 29.1, 50. , 33.3, 30.3,\n",
       "        34.6, 34.9, 32.9, 24.1, 42.3, 48.5, 50. , 22.6, 24.4, 22.5, 24.4,\n",
       "        20. , 21.7, 19.3, 22.4, 28.1, 23.7, 25. , 23.3, 28.7, 21.5, 23. ,\n",
       "        26.7, 21.7, 27.5, 30.1, 44.8, 50. , 37.6, 31.6, 46.7, 31.5, 24.3,\n",
       "        31.7, 41.7, 48.3, 29. , 24. , 25.1, 31.5, 23.7, 23.3, 22. , 20.1,\n",
       "        22.2, 23.7, 17.6, 18.5, 24.3, 20.5, 24.5, 26.2, 24.4, 24.8, 29.6,\n",
       "        42.8, 21.9, 20.9, 44. , 50. , 36. , 30.1, 33.8, 43.1, 48.8, 31. ,\n",
       "        36.5, 22.8, 30.7, 50. , 43.5, 20.7, 21.1, 25.2, 24.4, 35.2, 32.4,\n",
       "        32. , 33.2, 33.1, 29.1, 35.1, 45.4, 35.4, 46. , 50. , 32.2, 22. ,\n",
       "        20.1, 23.2, 22.3, 24.8, 28.5, 37.3, 27.9, 23.9, 21.7, 28.6, 27.1,\n",
       "        20.3, 22.5, 29. , 24.8, 22. , 26.4, 33.1, 36.1, 28.4, 33.4, 28.2,\n",
       "        22.8, 20.3, 16.1, 22.1, 19.4, 21.6, 23.8, 16.2, 17.8, 19.8, 23.1,\n",
       "        21. , 23.8, 23.1, 20.4, 18.5, 25. , 24.6, 23. , 22.2, 19.3, 22.6,\n",
       "        19.8, 17.1, 19.4, 22.2, 20.7, 21.1, 19.5, 18.5, 20.6, 19. , 18.7,\n",
       "        32.7, 16.5, 23.9, 31.2, 17.5, 17.2, 23.1, 24.5, 26.6, 22.9, 24.1,\n",
       "        18.6, 30.1, 18.2, 20.6, 17.8, 21.7, 22.7, 22.6, 25. , 19.9, 20.8,\n",
       "        16.8, 21.9, 27.5, 21.9, 23.1, 50. , 50. , 50. , 50. , 50. , 13.8,\n",
       "        13.8, 15. , 13.9, 13.3, 13.1, 10.2, 10.4, 10.9, 11.3, 12.3,  8.8,\n",
       "         7.2, 10.5,  7.4, 10.2, 11.5, 15.1, 23.2,  9.7, 13.8, 12.7, 13.1,\n",
       "        12.5,  8.5,  5. ,  6.3,  5.6,  7.2, 12.1,  8.3,  8.5,  5. , 11.9,\n",
       "        27.9, 17.2, 27.5, 15. , 17.2, 17.9, 16.3,  7. ,  7.2,  7.5, 10.4,\n",
       "         8.8,  8.4, 16.7, 14.2, 20.8, 13.4, 11.7,  8.3, 10.2, 10.9, 11. ,\n",
       "         9.5, 14.5, 14.1, 16.1, 14.3, 11.7, 13.4,  9.6,  8.7,  8.4, 12.8,\n",
       "        10.5, 17.1, 18.4, 15.4, 10.8, 11.8, 14.9, 12.6, 14.1, 13. , 13.4,\n",
       "        15.2, 16.1, 17.8, 14.9, 14.1, 12.7, 13.5, 14.9, 20. , 16.4, 17.7,\n",
       "        19.5, 20.2, 21.4, 19.9, 19. , 19.1, 19.1, 20.1, 19.9, 19.6, 23.2,\n",
       "        29.8, 13.8, 13.3, 16.7, 12. , 14.6, 21.4, 23. , 23.7, 25. , 21.8,\n",
       "        20.6, 21.2, 19.1, 20.6, 15.2,  7. ,  8.1, 13.6, 20.1, 21.8, 24.5,\n",
       "        23.1, 19.7, 18.3, 21.2, 17.5, 16.8, 22.4, 20.6, 23.9, 22. , 11.9]),\n",
       " 'feature_names': array(['CRIM', 'ZN', 'INDUS', 'CHAS', 'NOX', 'RM', 'AGE', 'DIS', 'RAD',\n",
       "        'TAX', 'PTRATIO', 'B', 'LSTAT'], dtype='<U7'),\n",
       " 'DESCR': \".. _boston_dataset:\\n\\nBoston house prices dataset\\n---------------------------\\n\\n**Data Set Characteristics:**  \\n\\n    :Number of Instances: 506 \\n\\n    :Number of Attributes: 13 numeric/categorical predictive. Median Value (attribute 14) is usually the target.\\n\\n    :Attribute Information (in order):\\n        - CRIM     per capita crime rate by town\\n        - ZN       proportion of residential land zoned for lots over 25,000 sq.ft.\\n        - INDUS    proportion of non-retail business acres per town\\n        - CHAS     Charles River dummy variable (= 1 if tract bounds river; 0 otherwise)\\n        - NOX      nitric oxides concentration (parts per 10 million)\\n        - RM       average number of rooms per dwelling\\n        - AGE      proportion of owner-occupied units built prior to 1940\\n        - DIS      weighted distances to five Boston employment centres\\n        - RAD      index of accessibility to radial highways\\n        - TAX      full-value property-tax rate per $10,000\\n        - PTRATIO  pupil-teacher ratio by town\\n        - B        1000(Bk - 0.63)^2 where Bk is the proportion of black people by town\\n        - LSTAT    % lower status of the population\\n        - MEDV     Median value of owner-occupied homes in $1000's\\n\\n    :Missing Attribute Values: None\\n\\n    :Creator: Harrison, D. and Rubinfeld, D.L.\\n\\nThis is a copy of UCI ML housing dataset.\\nhttps://archive.ics.uci.edu/ml/machine-learning-databases/housing/\\n\\n\\nThis dataset was taken from the StatLib library which is maintained at Carnegie Mellon University.\\n\\nThe Boston house-price data of Harrison, D. and Rubinfeld, D.L. 'Hedonic\\nprices and the demand for clean air', J. Environ. Economics & Management,\\nvol.5, 81-102, 1978.   Used in Belsley, Kuh & Welsch, 'Regression diagnostics\\n...', Wiley, 1980.   N.B. Various transformations are used in the table on\\npages 244-261 of the latter.\\n\\nThe Boston house-price data has been used in many machine learning papers that address regression\\nproblems.   \\n     \\n.. topic:: References\\n\\n   - Belsley, Kuh & Welsch, 'Regression diagnostics: Identifying Influential Data and Sources of Collinearity', Wiley, 1980. 244-261.\\n   - Quinlan,R. (1993). Combining Instance-Based and Model-Based Learning. In Proceedings on the Tenth International Conference of Machine Learning, 236-243, University of Massachusetts, Amherst. Morgan Kaufmann.\\n\",\n",
       " 'filename': 'boston_house_prices.csv',\n",
       " 'data_module': 'sklearn.datasets.data'}"
      ]
     },
     "execution_count": 117,
     "metadata": {},
     "output_type": "execute_result"
    }
   ],
   "source": [
    "df = load_boston()\n",
    "df"
   ]
  },
  {
   "cell_type": "code",
   "execution_count": 118,
   "id": "4e228c03",
   "metadata": {},
   "outputs": [],
   "source": [
    "dataset = pd.DataFrame(df.data)\n",
    "dataset.columns = df.feature_names"
   ]
  },
  {
   "cell_type": "code",
   "execution_count": 119,
   "id": "46887cda",
   "metadata": {},
   "outputs": [],
   "source": [
    "dataset['Price'] = df.target"
   ]
  },
  {
   "cell_type": "code",
   "execution_count": 120,
   "id": "995d9319",
   "metadata": {},
   "outputs": [
    {
     "data": {
      "text/html": [
       "<div>\n",
       "<style scoped>\n",
       "    .dataframe tbody tr th:only-of-type {\n",
       "        vertical-align: middle;\n",
       "    }\n",
       "\n",
       "    .dataframe tbody tr th {\n",
       "        vertical-align: top;\n",
       "    }\n",
       "\n",
       "    .dataframe thead th {\n",
       "        text-align: right;\n",
       "    }\n",
       "</style>\n",
       "<table border=\"1\" class=\"dataframe\">\n",
       "  <thead>\n",
       "    <tr style=\"text-align: right;\">\n",
       "      <th></th>\n",
       "      <th>CRIM</th>\n",
       "      <th>ZN</th>\n",
       "      <th>INDUS</th>\n",
       "      <th>CHAS</th>\n",
       "      <th>NOX</th>\n",
       "      <th>RM</th>\n",
       "      <th>AGE</th>\n",
       "      <th>DIS</th>\n",
       "      <th>RAD</th>\n",
       "      <th>TAX</th>\n",
       "      <th>PTRATIO</th>\n",
       "      <th>B</th>\n",
       "      <th>LSTAT</th>\n",
       "      <th>Price</th>\n",
       "    </tr>\n",
       "  </thead>\n",
       "  <tbody>\n",
       "    <tr>\n",
       "      <th>0</th>\n",
       "      <td>0.00632</td>\n",
       "      <td>18.0</td>\n",
       "      <td>2.31</td>\n",
       "      <td>0.0</td>\n",
       "      <td>0.538</td>\n",
       "      <td>6.575</td>\n",
       "      <td>65.2</td>\n",
       "      <td>4.0900</td>\n",
       "      <td>1.0</td>\n",
       "      <td>296.0</td>\n",
       "      <td>15.3</td>\n",
       "      <td>396.90</td>\n",
       "      <td>4.98</td>\n",
       "      <td>24.0</td>\n",
       "    </tr>\n",
       "    <tr>\n",
       "      <th>1</th>\n",
       "      <td>0.02731</td>\n",
       "      <td>0.0</td>\n",
       "      <td>7.07</td>\n",
       "      <td>0.0</td>\n",
       "      <td>0.469</td>\n",
       "      <td>6.421</td>\n",
       "      <td>78.9</td>\n",
       "      <td>4.9671</td>\n",
       "      <td>2.0</td>\n",
       "      <td>242.0</td>\n",
       "      <td>17.8</td>\n",
       "      <td>396.90</td>\n",
       "      <td>9.14</td>\n",
       "      <td>21.6</td>\n",
       "    </tr>\n",
       "    <tr>\n",
       "      <th>2</th>\n",
       "      <td>0.02729</td>\n",
       "      <td>0.0</td>\n",
       "      <td>7.07</td>\n",
       "      <td>0.0</td>\n",
       "      <td>0.469</td>\n",
       "      <td>7.185</td>\n",
       "      <td>61.1</td>\n",
       "      <td>4.9671</td>\n",
       "      <td>2.0</td>\n",
       "      <td>242.0</td>\n",
       "      <td>17.8</td>\n",
       "      <td>392.83</td>\n",
       "      <td>4.03</td>\n",
       "      <td>34.7</td>\n",
       "    </tr>\n",
       "    <tr>\n",
       "      <th>3</th>\n",
       "      <td>0.03237</td>\n",
       "      <td>0.0</td>\n",
       "      <td>2.18</td>\n",
       "      <td>0.0</td>\n",
       "      <td>0.458</td>\n",
       "      <td>6.998</td>\n",
       "      <td>45.8</td>\n",
       "      <td>6.0622</td>\n",
       "      <td>3.0</td>\n",
       "      <td>222.0</td>\n",
       "      <td>18.7</td>\n",
       "      <td>394.63</td>\n",
       "      <td>2.94</td>\n",
       "      <td>33.4</td>\n",
       "    </tr>\n",
       "    <tr>\n",
       "      <th>4</th>\n",
       "      <td>0.06905</td>\n",
       "      <td>0.0</td>\n",
       "      <td>2.18</td>\n",
       "      <td>0.0</td>\n",
       "      <td>0.458</td>\n",
       "      <td>7.147</td>\n",
       "      <td>54.2</td>\n",
       "      <td>6.0622</td>\n",
       "      <td>3.0</td>\n",
       "      <td>222.0</td>\n",
       "      <td>18.7</td>\n",
       "      <td>396.90</td>\n",
       "      <td>5.33</td>\n",
       "      <td>36.2</td>\n",
       "    </tr>\n",
       "  </tbody>\n",
       "</table>\n",
       "</div>"
      ],
      "text/plain": [
       "      CRIM    ZN  INDUS  CHAS    NOX     RM   AGE     DIS  RAD    TAX  \\\n",
       "0  0.00632  18.0   2.31   0.0  0.538  6.575  65.2  4.0900  1.0  296.0   \n",
       "1  0.02731   0.0   7.07   0.0  0.469  6.421  78.9  4.9671  2.0  242.0   \n",
       "2  0.02729   0.0   7.07   0.0  0.469  7.185  61.1  4.9671  2.0  242.0   \n",
       "3  0.03237   0.0   2.18   0.0  0.458  6.998  45.8  6.0622  3.0  222.0   \n",
       "4  0.06905   0.0   2.18   0.0  0.458  7.147  54.2  6.0622  3.0  222.0   \n",
       "\n",
       "   PTRATIO       B  LSTAT  Price  \n",
       "0     15.3  396.90   4.98   24.0  \n",
       "1     17.8  396.90   9.14   21.6  \n",
       "2     17.8  392.83   4.03   34.7  \n",
       "3     18.7  394.63   2.94   33.4  \n",
       "4     18.7  396.90   5.33   36.2  "
      ]
     },
     "execution_count": 120,
     "metadata": {},
     "output_type": "execute_result"
    }
   ],
   "source": [
    "dataset.head()"
   ]
  },
  {
   "cell_type": "code",
   "execution_count": 121,
   "id": "b7f19d2c",
   "metadata": {},
   "outputs": [],
   "source": [
    "# dividing the dataset into independent and dependent features\n",
    "\n",
    "x = dataset.iloc[:,:-1] # independent features\n",
    "y = dataset.iloc[:,-1] # depdepndent feature"
   ]
  },
  {
   "cell_type": "code",
   "execution_count": 122,
   "id": "bea969c4",
   "metadata": {},
   "outputs": [
    {
     "data": {
      "text/html": [
       "<div>\n",
       "<style scoped>\n",
       "    .dataframe tbody tr th:only-of-type {\n",
       "        vertical-align: middle;\n",
       "    }\n",
       "\n",
       "    .dataframe tbody tr th {\n",
       "        vertical-align: top;\n",
       "    }\n",
       "\n",
       "    .dataframe thead th {\n",
       "        text-align: right;\n",
       "    }\n",
       "</style>\n",
       "<table border=\"1\" class=\"dataframe\">\n",
       "  <thead>\n",
       "    <tr style=\"text-align: right;\">\n",
       "      <th></th>\n",
       "      <th>CRIM</th>\n",
       "      <th>ZN</th>\n",
       "      <th>INDUS</th>\n",
       "      <th>CHAS</th>\n",
       "      <th>NOX</th>\n",
       "      <th>RM</th>\n",
       "      <th>AGE</th>\n",
       "      <th>DIS</th>\n",
       "      <th>RAD</th>\n",
       "      <th>TAX</th>\n",
       "      <th>PTRATIO</th>\n",
       "      <th>B</th>\n",
       "      <th>LSTAT</th>\n",
       "    </tr>\n",
       "  </thead>\n",
       "  <tbody>\n",
       "    <tr>\n",
       "      <th>0</th>\n",
       "      <td>0.00632</td>\n",
       "      <td>18.0</td>\n",
       "      <td>2.31</td>\n",
       "      <td>0.0</td>\n",
       "      <td>0.538</td>\n",
       "      <td>6.575</td>\n",
       "      <td>65.2</td>\n",
       "      <td>4.0900</td>\n",
       "      <td>1.0</td>\n",
       "      <td>296.0</td>\n",
       "      <td>15.3</td>\n",
       "      <td>396.90</td>\n",
       "      <td>4.98</td>\n",
       "    </tr>\n",
       "    <tr>\n",
       "      <th>1</th>\n",
       "      <td>0.02731</td>\n",
       "      <td>0.0</td>\n",
       "      <td>7.07</td>\n",
       "      <td>0.0</td>\n",
       "      <td>0.469</td>\n",
       "      <td>6.421</td>\n",
       "      <td>78.9</td>\n",
       "      <td>4.9671</td>\n",
       "      <td>2.0</td>\n",
       "      <td>242.0</td>\n",
       "      <td>17.8</td>\n",
       "      <td>396.90</td>\n",
       "      <td>9.14</td>\n",
       "    </tr>\n",
       "    <tr>\n",
       "      <th>2</th>\n",
       "      <td>0.02729</td>\n",
       "      <td>0.0</td>\n",
       "      <td>7.07</td>\n",
       "      <td>0.0</td>\n",
       "      <td>0.469</td>\n",
       "      <td>7.185</td>\n",
       "      <td>61.1</td>\n",
       "      <td>4.9671</td>\n",
       "      <td>2.0</td>\n",
       "      <td>242.0</td>\n",
       "      <td>17.8</td>\n",
       "      <td>392.83</td>\n",
       "      <td>4.03</td>\n",
       "    </tr>\n",
       "    <tr>\n",
       "      <th>3</th>\n",
       "      <td>0.03237</td>\n",
       "      <td>0.0</td>\n",
       "      <td>2.18</td>\n",
       "      <td>0.0</td>\n",
       "      <td>0.458</td>\n",
       "      <td>6.998</td>\n",
       "      <td>45.8</td>\n",
       "      <td>6.0622</td>\n",
       "      <td>3.0</td>\n",
       "      <td>222.0</td>\n",
       "      <td>18.7</td>\n",
       "      <td>394.63</td>\n",
       "      <td>2.94</td>\n",
       "    </tr>\n",
       "    <tr>\n",
       "      <th>4</th>\n",
       "      <td>0.06905</td>\n",
       "      <td>0.0</td>\n",
       "      <td>2.18</td>\n",
       "      <td>0.0</td>\n",
       "      <td>0.458</td>\n",
       "      <td>7.147</td>\n",
       "      <td>54.2</td>\n",
       "      <td>6.0622</td>\n",
       "      <td>3.0</td>\n",
       "      <td>222.0</td>\n",
       "      <td>18.7</td>\n",
       "      <td>396.90</td>\n",
       "      <td>5.33</td>\n",
       "    </tr>\n",
       "  </tbody>\n",
       "</table>\n",
       "</div>"
      ],
      "text/plain": [
       "      CRIM    ZN  INDUS  CHAS    NOX     RM   AGE     DIS  RAD    TAX  \\\n",
       "0  0.00632  18.0   2.31   0.0  0.538  6.575  65.2  4.0900  1.0  296.0   \n",
       "1  0.02731   0.0   7.07   0.0  0.469  6.421  78.9  4.9671  2.0  242.0   \n",
       "2  0.02729   0.0   7.07   0.0  0.469  7.185  61.1  4.9671  2.0  242.0   \n",
       "3  0.03237   0.0   2.18   0.0  0.458  6.998  45.8  6.0622  3.0  222.0   \n",
       "4  0.06905   0.0   2.18   0.0  0.458  7.147  54.2  6.0622  3.0  222.0   \n",
       "\n",
       "   PTRATIO       B  LSTAT  \n",
       "0     15.3  396.90   4.98  \n",
       "1     17.8  396.90   9.14  \n",
       "2     17.8  392.83   4.03  \n",
       "3     18.7  394.63   2.94  \n",
       "4     18.7  396.90   5.33  "
      ]
     },
     "execution_count": 122,
     "metadata": {},
     "output_type": "execute_result"
    }
   ],
   "source": [
    "x.head()"
   ]
  },
  {
   "cell_type": "code",
   "execution_count": 123,
   "id": "8ad23114",
   "metadata": {},
   "outputs": [
    {
     "data": {
      "text/plain": [
       "0    24.0\n",
       "1    21.6\n",
       "2    34.7\n",
       "3    33.4\n",
       "4    36.2\n",
       "Name: Price, dtype: float64"
      ]
     },
     "execution_count": 123,
     "metadata": {},
     "output_type": "execute_result"
    }
   ],
   "source": [
    "y.head()"
   ]
  },
  {
   "cell_type": "markdown",
   "id": "245f0ad0",
   "metadata": {},
   "source": [
    "#### Linear Regression"
   ]
  },
  {
   "cell_type": "code",
   "execution_count": 124,
   "id": "4080dd5d",
   "metadata": {},
   "outputs": [],
   "source": [
    "from sklearn.linear_model import LinearRegression\n",
    "from sklearn.model_selection import cross_val_score"
   ]
  },
  {
   "cell_type": "code",
   "execution_count": 125,
   "id": "27e0ac9e",
   "metadata": {},
   "outputs": [
    {
     "name": "stdout",
     "output_type": "stream",
     "text": [
      "-37.13180746769922\n"
     ]
    }
   ],
   "source": [
    "lin_reg = LinearRegression()\n",
    "mse = cross_val_score(lin_reg,x,y,scoring='neg_mean_squared_error', cv = 5)\n",
    "mean_mse = np.mean(mse)\n",
    "print(mean_mse)"
   ]
  },
  {
   "cell_type": "markdown",
   "id": "e7423610",
   "metadata": {},
   "source": [
    "lin_reg.predict()"
   ]
  },
  {
   "cell_type": "markdown",
   "id": "7610232a",
   "metadata": {},
   "source": [
    "#### Ridge"
   ]
  },
  {
   "cell_type": "code",
   "execution_count": 126,
   "id": "10488aa4",
   "metadata": {},
   "outputs": [],
   "source": [
    "from sklearn.linear_model import Ridge\n",
    "from sklearn.model_selection import GridSearchCV\n",
    "\n",
    "# GridSearchCV will help with hyper parmeter tuning"
   ]
  },
  {
   "cell_type": "code",
   "execution_count": 127,
   "id": "c060b72c",
   "metadata": {},
   "outputs": [],
   "source": [
    "ridge = Ridge()"
   ]
  },
  {
   "cell_type": "code",
   "execution_count": 128,
   "id": "1f46ad82",
   "metadata": {},
   "outputs": [],
   "source": [
    "params = {'alpha': [1e-15, 1e-10, 1e-8, 1e-3, 1e-2, 1e-1, 1,5,10,20]}"
   ]
  },
  {
   "cell_type": "code",
   "execution_count": 129,
   "id": "5ad56538",
   "metadata": {},
   "outputs": [
    {
     "data": {
      "text/html": [
       "<style>#sk-container-id-12 {color: black;background-color: white;}#sk-container-id-12 pre{padding: 0;}#sk-container-id-12 div.sk-toggleable {background-color: white;}#sk-container-id-12 label.sk-toggleable__label {cursor: pointer;display: block;width: 100%;margin-bottom: 0;padding: 0.3em;box-sizing: border-box;text-align: center;}#sk-container-id-12 label.sk-toggleable__label-arrow:before {content: \"▸\";float: left;margin-right: 0.25em;color: #696969;}#sk-container-id-12 label.sk-toggleable__label-arrow:hover:before {color: black;}#sk-container-id-12 div.sk-estimator:hover label.sk-toggleable__label-arrow:before {color: black;}#sk-container-id-12 div.sk-toggleable__content {max-height: 0;max-width: 0;overflow: hidden;text-align: left;background-color: #f0f8ff;}#sk-container-id-12 div.sk-toggleable__content pre {margin: 0.2em;color: black;border-radius: 0.25em;background-color: #f0f8ff;}#sk-container-id-12 input.sk-toggleable__control:checked~div.sk-toggleable__content {max-height: 200px;max-width: 100%;overflow: auto;}#sk-container-id-12 input.sk-toggleable__control:checked~label.sk-toggleable__label-arrow:before {content: \"▾\";}#sk-container-id-12 div.sk-estimator input.sk-toggleable__control:checked~label.sk-toggleable__label {background-color: #d4ebff;}#sk-container-id-12 div.sk-label input.sk-toggleable__control:checked~label.sk-toggleable__label {background-color: #d4ebff;}#sk-container-id-12 input.sk-hidden--visually {border: 0;clip: rect(1px 1px 1px 1px);clip: rect(1px, 1px, 1px, 1px);height: 1px;margin: -1px;overflow: hidden;padding: 0;position: absolute;width: 1px;}#sk-container-id-12 div.sk-estimator {font-family: monospace;background-color: #f0f8ff;border: 1px dotted black;border-radius: 0.25em;box-sizing: border-box;margin-bottom: 0.5em;}#sk-container-id-12 div.sk-estimator:hover {background-color: #d4ebff;}#sk-container-id-12 div.sk-parallel-item::after {content: \"\";width: 100%;border-bottom: 1px solid gray;flex-grow: 1;}#sk-container-id-12 div.sk-label:hover label.sk-toggleable__label {background-color: #d4ebff;}#sk-container-id-12 div.sk-serial::before {content: \"\";position: absolute;border-left: 1px solid gray;box-sizing: border-box;top: 0;bottom: 0;left: 50%;z-index: 0;}#sk-container-id-12 div.sk-serial {display: flex;flex-direction: column;align-items: center;background-color: white;padding-right: 0.2em;padding-left: 0.2em;position: relative;}#sk-container-id-12 div.sk-item {position: relative;z-index: 1;}#sk-container-id-12 div.sk-parallel {display: flex;align-items: stretch;justify-content: center;background-color: white;position: relative;}#sk-container-id-12 div.sk-item::before, #sk-container-id-12 div.sk-parallel-item::before {content: \"\";position: absolute;border-left: 1px solid gray;box-sizing: border-box;top: 0;bottom: 0;left: 50%;z-index: -1;}#sk-container-id-12 div.sk-parallel-item {display: flex;flex-direction: column;z-index: 1;position: relative;background-color: white;}#sk-container-id-12 div.sk-parallel-item:first-child::after {align-self: flex-end;width: 50%;}#sk-container-id-12 div.sk-parallel-item:last-child::after {align-self: flex-start;width: 50%;}#sk-container-id-12 div.sk-parallel-item:only-child::after {width: 0;}#sk-container-id-12 div.sk-dashed-wrapped {border: 1px dashed gray;margin: 0 0.4em 0.5em 0.4em;box-sizing: border-box;padding-bottom: 0.4em;background-color: white;}#sk-container-id-12 div.sk-label label {font-family: monospace;font-weight: bold;display: inline-block;line-height: 1.2em;}#sk-container-id-12 div.sk-label-container {text-align: center;}#sk-container-id-12 div.sk-container {/* jupyter's `normalize.less` sets `[hidden] { display: none; }` but bootstrap.min.css set `[hidden] { display: none !important; }` so we also need the `!important` here to be able to override the default hidden behavior on the sphinx rendered scikit-learn.org. See: https://github.com/scikit-learn/scikit-learn/issues/21755 */display: inline-block !important;position: relative;}#sk-container-id-12 div.sk-text-repr-fallback {display: none;}</style><div id=\"sk-container-id-12\" class=\"sk-top-container\"><div class=\"sk-text-repr-fallback\"><pre>GridSearchCV(cv=5, estimator=Ridge(),\n",
       "             param_grid={&#x27;alpha&#x27;: [1e-15, 1e-10, 1e-08, 0.001, 0.01, 0.1, 1, 5,\n",
       "                                   10, 20]},\n",
       "             scoring=&#x27;neg_mean_squared_error&#x27;)</pre><b>In a Jupyter environment, please rerun this cell to show the HTML representation or trust the notebook. <br />On GitHub, the HTML representation is unable to render, please try loading this page with nbviewer.org.</b></div><div class=\"sk-container\" hidden><div class=\"sk-item sk-dashed-wrapped\"><div class=\"sk-label-container\"><div class=\"sk-label sk-toggleable\"><input class=\"sk-toggleable__control sk-hidden--visually\" id=\"sk-estimator-id-12\" type=\"checkbox\" ><label for=\"sk-estimator-id-12\" class=\"sk-toggleable__label sk-toggleable__label-arrow\">GridSearchCV</label><div class=\"sk-toggleable__content\"><pre>GridSearchCV(cv=5, estimator=Ridge(),\n",
       "             param_grid={&#x27;alpha&#x27;: [1e-15, 1e-10, 1e-08, 0.001, 0.01, 0.1, 1, 5,\n",
       "                                   10, 20]},\n",
       "             scoring=&#x27;neg_mean_squared_error&#x27;)</pre></div></div></div><div class=\"sk-parallel\"><div class=\"sk-parallel-item\"><div class=\"sk-item\"><div class=\"sk-label-container\"><div class=\"sk-label sk-toggleable\"><input class=\"sk-toggleable__control sk-hidden--visually\" id=\"sk-estimator-id-13\" type=\"checkbox\" ><label for=\"sk-estimator-id-13\" class=\"sk-toggleable__label sk-toggleable__label-arrow\">estimator: Ridge</label><div class=\"sk-toggleable__content\"><pre>Ridge()</pre></div></div></div><div class=\"sk-serial\"><div class=\"sk-item\"><div class=\"sk-estimator sk-toggleable\"><input class=\"sk-toggleable__control sk-hidden--visually\" id=\"sk-estimator-id-14\" type=\"checkbox\" ><label for=\"sk-estimator-id-14\" class=\"sk-toggleable__label sk-toggleable__label-arrow\">Ridge</label><div class=\"sk-toggleable__content\"><pre>Ridge()</pre></div></div></div></div></div></div></div></div></div></div>"
      ],
      "text/plain": [
       "GridSearchCV(cv=5, estimator=Ridge(),\n",
       "             param_grid={'alpha': [1e-15, 1e-10, 1e-08, 0.001, 0.01, 0.1, 1, 5,\n",
       "                                   10, 20]},\n",
       "             scoring='neg_mean_squared_error')"
      ]
     },
     "execution_count": 129,
     "metadata": {},
     "output_type": "execute_result"
    }
   ],
   "source": [
    "ridge_regressor = GridSearchCV(ridge, params, scoring = 'neg_mean_squared_error', cv = 5)\n",
    "ridge_regressor.fit(x,y)"
   ]
  },
  {
   "cell_type": "code",
   "execution_count": 130,
   "id": "4f6ab06c",
   "metadata": {},
   "outputs": [
    {
     "name": "stdout",
     "output_type": "stream",
     "text": [
      "{'alpha': 20}\n",
      "-32.38025025182518\n"
     ]
    }
   ],
   "source": [
    "print(ridge_regressor.best_params_)\n",
    "print(ridge_regressor.best_score_)"
   ]
  },
  {
   "cell_type": "code",
   "execution_count": 131,
   "id": "55629c32",
   "metadata": {},
   "outputs": [
    {
     "data": {
      "text/html": [
       "<style>#sk-container-id-13 {color: black;background-color: white;}#sk-container-id-13 pre{padding: 0;}#sk-container-id-13 div.sk-toggleable {background-color: white;}#sk-container-id-13 label.sk-toggleable__label {cursor: pointer;display: block;width: 100%;margin-bottom: 0;padding: 0.3em;box-sizing: border-box;text-align: center;}#sk-container-id-13 label.sk-toggleable__label-arrow:before {content: \"▸\";float: left;margin-right: 0.25em;color: #696969;}#sk-container-id-13 label.sk-toggleable__label-arrow:hover:before {color: black;}#sk-container-id-13 div.sk-estimator:hover label.sk-toggleable__label-arrow:before {color: black;}#sk-container-id-13 div.sk-toggleable__content {max-height: 0;max-width: 0;overflow: hidden;text-align: left;background-color: #f0f8ff;}#sk-container-id-13 div.sk-toggleable__content pre {margin: 0.2em;color: black;border-radius: 0.25em;background-color: #f0f8ff;}#sk-container-id-13 input.sk-toggleable__control:checked~div.sk-toggleable__content {max-height: 200px;max-width: 100%;overflow: auto;}#sk-container-id-13 input.sk-toggleable__control:checked~label.sk-toggleable__label-arrow:before {content: \"▾\";}#sk-container-id-13 div.sk-estimator input.sk-toggleable__control:checked~label.sk-toggleable__label {background-color: #d4ebff;}#sk-container-id-13 div.sk-label input.sk-toggleable__control:checked~label.sk-toggleable__label {background-color: #d4ebff;}#sk-container-id-13 input.sk-hidden--visually {border: 0;clip: rect(1px 1px 1px 1px);clip: rect(1px, 1px, 1px, 1px);height: 1px;margin: -1px;overflow: hidden;padding: 0;position: absolute;width: 1px;}#sk-container-id-13 div.sk-estimator {font-family: monospace;background-color: #f0f8ff;border: 1px dotted black;border-radius: 0.25em;box-sizing: border-box;margin-bottom: 0.5em;}#sk-container-id-13 div.sk-estimator:hover {background-color: #d4ebff;}#sk-container-id-13 div.sk-parallel-item::after {content: \"\";width: 100%;border-bottom: 1px solid gray;flex-grow: 1;}#sk-container-id-13 div.sk-label:hover label.sk-toggleable__label {background-color: #d4ebff;}#sk-container-id-13 div.sk-serial::before {content: \"\";position: absolute;border-left: 1px solid gray;box-sizing: border-box;top: 0;bottom: 0;left: 50%;z-index: 0;}#sk-container-id-13 div.sk-serial {display: flex;flex-direction: column;align-items: center;background-color: white;padding-right: 0.2em;padding-left: 0.2em;position: relative;}#sk-container-id-13 div.sk-item {position: relative;z-index: 1;}#sk-container-id-13 div.sk-parallel {display: flex;align-items: stretch;justify-content: center;background-color: white;position: relative;}#sk-container-id-13 div.sk-item::before, #sk-container-id-13 div.sk-parallel-item::before {content: \"\";position: absolute;border-left: 1px solid gray;box-sizing: border-box;top: 0;bottom: 0;left: 50%;z-index: -1;}#sk-container-id-13 div.sk-parallel-item {display: flex;flex-direction: column;z-index: 1;position: relative;background-color: white;}#sk-container-id-13 div.sk-parallel-item:first-child::after {align-self: flex-end;width: 50%;}#sk-container-id-13 div.sk-parallel-item:last-child::after {align-self: flex-start;width: 50%;}#sk-container-id-13 div.sk-parallel-item:only-child::after {width: 0;}#sk-container-id-13 div.sk-dashed-wrapped {border: 1px dashed gray;margin: 0 0.4em 0.5em 0.4em;box-sizing: border-box;padding-bottom: 0.4em;background-color: white;}#sk-container-id-13 div.sk-label label {font-family: monospace;font-weight: bold;display: inline-block;line-height: 1.2em;}#sk-container-id-13 div.sk-label-container {text-align: center;}#sk-container-id-13 div.sk-container {/* jupyter's `normalize.less` sets `[hidden] { display: none; }` but bootstrap.min.css set `[hidden] { display: none !important; }` so we also need the `!important` here to be able to override the default hidden behavior on the sphinx rendered scikit-learn.org. See: https://github.com/scikit-learn/scikit-learn/issues/21755 */display: inline-block !important;position: relative;}#sk-container-id-13 div.sk-text-repr-fallback {display: none;}</style><div id=\"sk-container-id-13\" class=\"sk-top-container\"><div class=\"sk-text-repr-fallback\"><pre>GridSearchCV(cv=5, estimator=Ridge(),\n",
       "             param_grid={&#x27;alpha&#x27;: [1e-15, 1e-10, 1e-08, 0.001, 0.01, 0.1, 1, 5,\n",
       "                                   10, 20, 30, 35, 40, 45, 50, 55, 100]},\n",
       "             scoring=&#x27;neg_mean_squared_error&#x27;)</pre><b>In a Jupyter environment, please rerun this cell to show the HTML representation or trust the notebook. <br />On GitHub, the HTML representation is unable to render, please try loading this page with nbviewer.org.</b></div><div class=\"sk-container\" hidden><div class=\"sk-item sk-dashed-wrapped\"><div class=\"sk-label-container\"><div class=\"sk-label sk-toggleable\"><input class=\"sk-toggleable__control sk-hidden--visually\" id=\"sk-estimator-id-15\" type=\"checkbox\" ><label for=\"sk-estimator-id-15\" class=\"sk-toggleable__label sk-toggleable__label-arrow\">GridSearchCV</label><div class=\"sk-toggleable__content\"><pre>GridSearchCV(cv=5, estimator=Ridge(),\n",
       "             param_grid={&#x27;alpha&#x27;: [1e-15, 1e-10, 1e-08, 0.001, 0.01, 0.1, 1, 5,\n",
       "                                   10, 20, 30, 35, 40, 45, 50, 55, 100]},\n",
       "             scoring=&#x27;neg_mean_squared_error&#x27;)</pre></div></div></div><div class=\"sk-parallel\"><div class=\"sk-parallel-item\"><div class=\"sk-item\"><div class=\"sk-label-container\"><div class=\"sk-label sk-toggleable\"><input class=\"sk-toggleable__control sk-hidden--visually\" id=\"sk-estimator-id-16\" type=\"checkbox\" ><label for=\"sk-estimator-id-16\" class=\"sk-toggleable__label sk-toggleable__label-arrow\">estimator: Ridge</label><div class=\"sk-toggleable__content\"><pre>Ridge()</pre></div></div></div><div class=\"sk-serial\"><div class=\"sk-item\"><div class=\"sk-estimator sk-toggleable\"><input class=\"sk-toggleable__control sk-hidden--visually\" id=\"sk-estimator-id-17\" type=\"checkbox\" ><label for=\"sk-estimator-id-17\" class=\"sk-toggleable__label sk-toggleable__label-arrow\">Ridge</label><div class=\"sk-toggleable__content\"><pre>Ridge()</pre></div></div></div></div></div></div></div></div></div></div>"
      ],
      "text/plain": [
       "GridSearchCV(cv=5, estimator=Ridge(),\n",
       "             param_grid={'alpha': [1e-15, 1e-10, 1e-08, 0.001, 0.01, 0.1, 1, 5,\n",
       "                                   10, 20, 30, 35, 40, 45, 50, 55, 100]},\n",
       "             scoring='neg_mean_squared_error')"
      ]
     },
     "execution_count": 131,
     "metadata": {},
     "output_type": "execute_result"
    }
   ],
   "source": [
    "# changing value of alpha\n",
    "\n",
    "params = {'alpha': [1e-15, 1e-10, 1e-8, 1e-3, 1e-2, 1e-1, 1,5,10,20,30,35,40,45,50,55,100]}\n",
    "ridge_regressor = GridSearchCV(ridge, params, scoring = 'neg_mean_squared_error', cv = 5)\n",
    "ridge_regressor.fit(x,y)"
   ]
  },
  {
   "cell_type": "code",
   "execution_count": 132,
   "id": "a132bc60",
   "metadata": {},
   "outputs": [
    {
     "name": "stdout",
     "output_type": "stream",
     "text": [
      "{'alpha': 100}\n",
      "-29.905701947540372\n"
     ]
    }
   ],
   "source": [
    "print(ridge_regressor.best_params_)\n",
    "print(ridge_regressor.best_score_)"
   ]
  },
  {
   "cell_type": "markdown",
   "id": "67d02fc4",
   "metadata": {},
   "source": [
    "#### Lasso"
   ]
  },
  {
   "cell_type": "code",
   "execution_count": 133,
   "id": "a4fc25aa",
   "metadata": {},
   "outputs": [],
   "source": [
    "from sklearn.linear_model import Lasso\n",
    "from sklearn.model_selection import GridSearchCV"
   ]
  },
  {
   "cell_type": "code",
   "execution_count": 134,
   "id": "884b112c",
   "metadata": {},
   "outputs": [],
   "source": [
    "lasso = Lasso()"
   ]
  },
  {
   "cell_type": "code",
   "execution_count": 135,
   "id": "6c7dfa38",
   "metadata": {
    "scrolled": true
   },
   "outputs": [
    {
     "name": "stderr",
     "output_type": "stream",
     "text": [
      "C:\\Users\\mohit.kumar\\Anaconda3\\lib\\site-packages\\sklearn\\linear_model\\_coordinate_descent.py:648: ConvergenceWarning: Objective did not converge. You might want to increase the number of iterations, check the scale of the features or consider increasing regularisation. Duality gap: 4.431e+03, tolerance: 3.919e+00\n",
      "  model = cd_fast.enet_coordinate_descent(\n",
      "C:\\Users\\mohit.kumar\\Anaconda3\\lib\\site-packages\\sklearn\\linear_model\\_coordinate_descent.py:648: ConvergenceWarning: Objective did not converge. You might want to increase the number of iterations, check the scale of the features or consider increasing regularisation. Duality gap: 4.397e+03, tolerance: 3.307e+00\n",
      "  model = cd_fast.enet_coordinate_descent(\n",
      "C:\\Users\\mohit.kumar\\Anaconda3\\lib\\site-packages\\sklearn\\linear_model\\_coordinate_descent.py:648: ConvergenceWarning: Objective did not converge. You might want to increase the number of iterations, check the scale of the features or consider increasing regularisation. Duality gap: 3.797e+03, tolerance: 2.814e+00\n",
      "  model = cd_fast.enet_coordinate_descent(\n",
      "C:\\Users\\mohit.kumar\\Anaconda3\\lib\\site-packages\\sklearn\\linear_model\\_coordinate_descent.py:648: ConvergenceWarning: Objective did not converge. You might want to increase the number of iterations, check the scale of the features or consider increasing regularisation. Duality gap: 2.564e+03, tolerance: 3.307e+00\n",
      "  model = cd_fast.enet_coordinate_descent(\n",
      "C:\\Users\\mohit.kumar\\Anaconda3\\lib\\site-packages\\sklearn\\linear_model\\_coordinate_descent.py:648: ConvergenceWarning: Objective did not converge. You might want to increase the number of iterations, check the scale of the features or consider increasing regularisation. Duality gap: 4.294e+03, tolerance: 3.481e+00\n",
      "  model = cd_fast.enet_coordinate_descent(\n"
     ]
    },
    {
     "data": {
      "text/html": [
       "<style>#sk-container-id-14 {color: black;background-color: white;}#sk-container-id-14 pre{padding: 0;}#sk-container-id-14 div.sk-toggleable {background-color: white;}#sk-container-id-14 label.sk-toggleable__label {cursor: pointer;display: block;width: 100%;margin-bottom: 0;padding: 0.3em;box-sizing: border-box;text-align: center;}#sk-container-id-14 label.sk-toggleable__label-arrow:before {content: \"▸\";float: left;margin-right: 0.25em;color: #696969;}#sk-container-id-14 label.sk-toggleable__label-arrow:hover:before {color: black;}#sk-container-id-14 div.sk-estimator:hover label.sk-toggleable__label-arrow:before {color: black;}#sk-container-id-14 div.sk-toggleable__content {max-height: 0;max-width: 0;overflow: hidden;text-align: left;background-color: #f0f8ff;}#sk-container-id-14 div.sk-toggleable__content pre {margin: 0.2em;color: black;border-radius: 0.25em;background-color: #f0f8ff;}#sk-container-id-14 input.sk-toggleable__control:checked~div.sk-toggleable__content {max-height: 200px;max-width: 100%;overflow: auto;}#sk-container-id-14 input.sk-toggleable__control:checked~label.sk-toggleable__label-arrow:before {content: \"▾\";}#sk-container-id-14 div.sk-estimator input.sk-toggleable__control:checked~label.sk-toggleable__label {background-color: #d4ebff;}#sk-container-id-14 div.sk-label input.sk-toggleable__control:checked~label.sk-toggleable__label {background-color: #d4ebff;}#sk-container-id-14 input.sk-hidden--visually {border: 0;clip: rect(1px 1px 1px 1px);clip: rect(1px, 1px, 1px, 1px);height: 1px;margin: -1px;overflow: hidden;padding: 0;position: absolute;width: 1px;}#sk-container-id-14 div.sk-estimator {font-family: monospace;background-color: #f0f8ff;border: 1px dotted black;border-radius: 0.25em;box-sizing: border-box;margin-bottom: 0.5em;}#sk-container-id-14 div.sk-estimator:hover {background-color: #d4ebff;}#sk-container-id-14 div.sk-parallel-item::after {content: \"\";width: 100%;border-bottom: 1px solid gray;flex-grow: 1;}#sk-container-id-14 div.sk-label:hover label.sk-toggleable__label {background-color: #d4ebff;}#sk-container-id-14 div.sk-serial::before {content: \"\";position: absolute;border-left: 1px solid gray;box-sizing: border-box;top: 0;bottom: 0;left: 50%;z-index: 0;}#sk-container-id-14 div.sk-serial {display: flex;flex-direction: column;align-items: center;background-color: white;padding-right: 0.2em;padding-left: 0.2em;position: relative;}#sk-container-id-14 div.sk-item {position: relative;z-index: 1;}#sk-container-id-14 div.sk-parallel {display: flex;align-items: stretch;justify-content: center;background-color: white;position: relative;}#sk-container-id-14 div.sk-item::before, #sk-container-id-14 div.sk-parallel-item::before {content: \"\";position: absolute;border-left: 1px solid gray;box-sizing: border-box;top: 0;bottom: 0;left: 50%;z-index: -1;}#sk-container-id-14 div.sk-parallel-item {display: flex;flex-direction: column;z-index: 1;position: relative;background-color: white;}#sk-container-id-14 div.sk-parallel-item:first-child::after {align-self: flex-end;width: 50%;}#sk-container-id-14 div.sk-parallel-item:last-child::after {align-self: flex-start;width: 50%;}#sk-container-id-14 div.sk-parallel-item:only-child::after {width: 0;}#sk-container-id-14 div.sk-dashed-wrapped {border: 1px dashed gray;margin: 0 0.4em 0.5em 0.4em;box-sizing: border-box;padding-bottom: 0.4em;background-color: white;}#sk-container-id-14 div.sk-label label {font-family: monospace;font-weight: bold;display: inline-block;line-height: 1.2em;}#sk-container-id-14 div.sk-label-container {text-align: center;}#sk-container-id-14 div.sk-container {/* jupyter's `normalize.less` sets `[hidden] { display: none; }` but bootstrap.min.css set `[hidden] { display: none !important; }` so we also need the `!important` here to be able to override the default hidden behavior on the sphinx rendered scikit-learn.org. See: https://github.com/scikit-learn/scikit-learn/issues/21755 */display: inline-block !important;position: relative;}#sk-container-id-14 div.sk-text-repr-fallback {display: none;}</style><div id=\"sk-container-id-14\" class=\"sk-top-container\"><div class=\"sk-text-repr-fallback\"><pre>GridSearchCV(cv=5, estimator=Lasso(),\n",
       "             param_grid={&#x27;alpha&#x27;: [1e-15, 1e-10, 1e-08, 0.001, 0.01, 0.1, 1, 5,\n",
       "                                   10, 20]},\n",
       "             scoring=&#x27;neg_mean_squared_error&#x27;)</pre><b>In a Jupyter environment, please rerun this cell to show the HTML representation or trust the notebook. <br />On GitHub, the HTML representation is unable to render, please try loading this page with nbviewer.org.</b></div><div class=\"sk-container\" hidden><div class=\"sk-item sk-dashed-wrapped\"><div class=\"sk-label-container\"><div class=\"sk-label sk-toggleable\"><input class=\"sk-toggleable__control sk-hidden--visually\" id=\"sk-estimator-id-18\" type=\"checkbox\" ><label for=\"sk-estimator-id-18\" class=\"sk-toggleable__label sk-toggleable__label-arrow\">GridSearchCV</label><div class=\"sk-toggleable__content\"><pre>GridSearchCV(cv=5, estimator=Lasso(),\n",
       "             param_grid={&#x27;alpha&#x27;: [1e-15, 1e-10, 1e-08, 0.001, 0.01, 0.1, 1, 5,\n",
       "                                   10, 20]},\n",
       "             scoring=&#x27;neg_mean_squared_error&#x27;)</pre></div></div></div><div class=\"sk-parallel\"><div class=\"sk-parallel-item\"><div class=\"sk-item\"><div class=\"sk-label-container\"><div class=\"sk-label sk-toggleable\"><input class=\"sk-toggleable__control sk-hidden--visually\" id=\"sk-estimator-id-19\" type=\"checkbox\" ><label for=\"sk-estimator-id-19\" class=\"sk-toggleable__label sk-toggleable__label-arrow\">estimator: Lasso</label><div class=\"sk-toggleable__content\"><pre>Lasso()</pre></div></div></div><div class=\"sk-serial\"><div class=\"sk-item\"><div class=\"sk-estimator sk-toggleable\"><input class=\"sk-toggleable__control sk-hidden--visually\" id=\"sk-estimator-id-20\" type=\"checkbox\" ><label for=\"sk-estimator-id-20\" class=\"sk-toggleable__label sk-toggleable__label-arrow\">Lasso</label><div class=\"sk-toggleable__content\"><pre>Lasso()</pre></div></div></div></div></div></div></div></div></div></div>"
      ],
      "text/plain": [
       "GridSearchCV(cv=5, estimator=Lasso(),\n",
       "             param_grid={'alpha': [1e-15, 1e-10, 1e-08, 0.001, 0.01, 0.1, 1, 5,\n",
       "                                   10, 20]},\n",
       "             scoring='neg_mean_squared_error')"
      ]
     },
     "execution_count": 135,
     "metadata": {},
     "output_type": "execute_result"
    }
   ],
   "source": [
    "params = {'alpha': [1e-15, 1e-10, 1e-8, 1e-3, 1e-2, 1e-1, 1,5,10,20]}\n",
    "\n",
    "lasso_regressor = GridSearchCV(lasso, params, scoring = 'neg_mean_squared_error', cv = 5)\n",
    "lasso_regressor.fit(x,y)"
   ]
  },
  {
   "cell_type": "code",
   "execution_count": 136,
   "id": "c052cfa2",
   "metadata": {},
   "outputs": [
    {
     "name": "stdout",
     "output_type": "stream",
     "text": [
      "{'alpha': 0.1}\n",
      "-34.83043231820268\n"
     ]
    }
   ],
   "source": [
    "print(lasso_regressor.best_params_)\n",
    "print(lasso_regressor.best_score_)"
   ]
  },
  {
   "cell_type": "code",
   "execution_count": 137,
   "id": "d1998400",
   "metadata": {},
   "outputs": [
    {
     "name": "stderr",
     "output_type": "stream",
     "text": [
      "C:\\Users\\mohit.kumar\\Anaconda3\\lib\\site-packages\\sklearn\\linear_model\\_coordinate_descent.py:648: ConvergenceWarning: Objective did not converge. You might want to increase the number of iterations, check the scale of the features or consider increasing regularisation. Duality gap: 4.431e+03, tolerance: 3.919e+00\n",
      "  model = cd_fast.enet_coordinate_descent(\n",
      "C:\\Users\\mohit.kumar\\Anaconda3\\lib\\site-packages\\sklearn\\linear_model\\_coordinate_descent.py:648: ConvergenceWarning: Objective did not converge. You might want to increase the number of iterations, check the scale of the features or consider increasing regularisation. Duality gap: 4.397e+03, tolerance: 3.307e+00\n",
      "  model = cd_fast.enet_coordinate_descent(\n",
      "C:\\Users\\mohit.kumar\\Anaconda3\\lib\\site-packages\\sklearn\\linear_model\\_coordinate_descent.py:648: ConvergenceWarning: Objective did not converge. You might want to increase the number of iterations, check the scale of the features or consider increasing regularisation. Duality gap: 3.797e+03, tolerance: 2.814e+00\n",
      "  model = cd_fast.enet_coordinate_descent(\n",
      "C:\\Users\\mohit.kumar\\Anaconda3\\lib\\site-packages\\sklearn\\linear_model\\_coordinate_descent.py:648: ConvergenceWarning: Objective did not converge. You might want to increase the number of iterations, check the scale of the features or consider increasing regularisation. Duality gap: 2.564e+03, tolerance: 3.307e+00\n",
      "  model = cd_fast.enet_coordinate_descent(\n",
      "C:\\Users\\mohit.kumar\\Anaconda3\\lib\\site-packages\\sklearn\\linear_model\\_coordinate_descent.py:648: ConvergenceWarning: Objective did not converge. You might want to increase the number of iterations, check the scale of the features or consider increasing regularisation. Duality gap: 4.294e+03, tolerance: 3.481e+00\n",
      "  model = cd_fast.enet_coordinate_descent(\n"
     ]
    },
    {
     "data": {
      "text/html": [
       "<style>#sk-container-id-15 {color: black;background-color: white;}#sk-container-id-15 pre{padding: 0;}#sk-container-id-15 div.sk-toggleable {background-color: white;}#sk-container-id-15 label.sk-toggleable__label {cursor: pointer;display: block;width: 100%;margin-bottom: 0;padding: 0.3em;box-sizing: border-box;text-align: center;}#sk-container-id-15 label.sk-toggleable__label-arrow:before {content: \"▸\";float: left;margin-right: 0.25em;color: #696969;}#sk-container-id-15 label.sk-toggleable__label-arrow:hover:before {color: black;}#sk-container-id-15 div.sk-estimator:hover label.sk-toggleable__label-arrow:before {color: black;}#sk-container-id-15 div.sk-toggleable__content {max-height: 0;max-width: 0;overflow: hidden;text-align: left;background-color: #f0f8ff;}#sk-container-id-15 div.sk-toggleable__content pre {margin: 0.2em;color: black;border-radius: 0.25em;background-color: #f0f8ff;}#sk-container-id-15 input.sk-toggleable__control:checked~div.sk-toggleable__content {max-height: 200px;max-width: 100%;overflow: auto;}#sk-container-id-15 input.sk-toggleable__control:checked~label.sk-toggleable__label-arrow:before {content: \"▾\";}#sk-container-id-15 div.sk-estimator input.sk-toggleable__control:checked~label.sk-toggleable__label {background-color: #d4ebff;}#sk-container-id-15 div.sk-label input.sk-toggleable__control:checked~label.sk-toggleable__label {background-color: #d4ebff;}#sk-container-id-15 input.sk-hidden--visually {border: 0;clip: rect(1px 1px 1px 1px);clip: rect(1px, 1px, 1px, 1px);height: 1px;margin: -1px;overflow: hidden;padding: 0;position: absolute;width: 1px;}#sk-container-id-15 div.sk-estimator {font-family: monospace;background-color: #f0f8ff;border: 1px dotted black;border-radius: 0.25em;box-sizing: border-box;margin-bottom: 0.5em;}#sk-container-id-15 div.sk-estimator:hover {background-color: #d4ebff;}#sk-container-id-15 div.sk-parallel-item::after {content: \"\";width: 100%;border-bottom: 1px solid gray;flex-grow: 1;}#sk-container-id-15 div.sk-label:hover label.sk-toggleable__label {background-color: #d4ebff;}#sk-container-id-15 div.sk-serial::before {content: \"\";position: absolute;border-left: 1px solid gray;box-sizing: border-box;top: 0;bottom: 0;left: 50%;z-index: 0;}#sk-container-id-15 div.sk-serial {display: flex;flex-direction: column;align-items: center;background-color: white;padding-right: 0.2em;padding-left: 0.2em;position: relative;}#sk-container-id-15 div.sk-item {position: relative;z-index: 1;}#sk-container-id-15 div.sk-parallel {display: flex;align-items: stretch;justify-content: center;background-color: white;position: relative;}#sk-container-id-15 div.sk-item::before, #sk-container-id-15 div.sk-parallel-item::before {content: \"\";position: absolute;border-left: 1px solid gray;box-sizing: border-box;top: 0;bottom: 0;left: 50%;z-index: -1;}#sk-container-id-15 div.sk-parallel-item {display: flex;flex-direction: column;z-index: 1;position: relative;background-color: white;}#sk-container-id-15 div.sk-parallel-item:first-child::after {align-self: flex-end;width: 50%;}#sk-container-id-15 div.sk-parallel-item:last-child::after {align-self: flex-start;width: 50%;}#sk-container-id-15 div.sk-parallel-item:only-child::after {width: 0;}#sk-container-id-15 div.sk-dashed-wrapped {border: 1px dashed gray;margin: 0 0.4em 0.5em 0.4em;box-sizing: border-box;padding-bottom: 0.4em;background-color: white;}#sk-container-id-15 div.sk-label label {font-family: monospace;font-weight: bold;display: inline-block;line-height: 1.2em;}#sk-container-id-15 div.sk-label-container {text-align: center;}#sk-container-id-15 div.sk-container {/* jupyter's `normalize.less` sets `[hidden] { display: none; }` but bootstrap.min.css set `[hidden] { display: none !important; }` so we also need the `!important` here to be able to override the default hidden behavior on the sphinx rendered scikit-learn.org. See: https://github.com/scikit-learn/scikit-learn/issues/21755 */display: inline-block !important;position: relative;}#sk-container-id-15 div.sk-text-repr-fallback {display: none;}</style><div id=\"sk-container-id-15\" class=\"sk-top-container\"><div class=\"sk-text-repr-fallback\"><pre>GridSearchCV(cv=5, estimator=Lasso(),\n",
       "             param_grid={&#x27;alpha&#x27;: [1e-15, 1e-10, 1e-08, 0.001, 0.01, 0.1, 1, 5,\n",
       "                                   10, 20, 30, 35, 40, 45, 50, 55, 100]},\n",
       "             scoring=&#x27;neg_mean_squared_error&#x27;)</pre><b>In a Jupyter environment, please rerun this cell to show the HTML representation or trust the notebook. <br />On GitHub, the HTML representation is unable to render, please try loading this page with nbviewer.org.</b></div><div class=\"sk-container\" hidden><div class=\"sk-item sk-dashed-wrapped\"><div class=\"sk-label-container\"><div class=\"sk-label sk-toggleable\"><input class=\"sk-toggleable__control sk-hidden--visually\" id=\"sk-estimator-id-21\" type=\"checkbox\" ><label for=\"sk-estimator-id-21\" class=\"sk-toggleable__label sk-toggleable__label-arrow\">GridSearchCV</label><div class=\"sk-toggleable__content\"><pre>GridSearchCV(cv=5, estimator=Lasso(),\n",
       "             param_grid={&#x27;alpha&#x27;: [1e-15, 1e-10, 1e-08, 0.001, 0.01, 0.1, 1, 5,\n",
       "                                   10, 20, 30, 35, 40, 45, 50, 55, 100]},\n",
       "             scoring=&#x27;neg_mean_squared_error&#x27;)</pre></div></div></div><div class=\"sk-parallel\"><div class=\"sk-parallel-item\"><div class=\"sk-item\"><div class=\"sk-label-container\"><div class=\"sk-label sk-toggleable\"><input class=\"sk-toggleable__control sk-hidden--visually\" id=\"sk-estimator-id-22\" type=\"checkbox\" ><label for=\"sk-estimator-id-22\" class=\"sk-toggleable__label sk-toggleable__label-arrow\">estimator: Lasso</label><div class=\"sk-toggleable__content\"><pre>Lasso()</pre></div></div></div><div class=\"sk-serial\"><div class=\"sk-item\"><div class=\"sk-estimator sk-toggleable\"><input class=\"sk-toggleable__control sk-hidden--visually\" id=\"sk-estimator-id-23\" type=\"checkbox\" ><label for=\"sk-estimator-id-23\" class=\"sk-toggleable__label sk-toggleable__label-arrow\">Lasso</label><div class=\"sk-toggleable__content\"><pre>Lasso()</pre></div></div></div></div></div></div></div></div></div></div>"
      ],
      "text/plain": [
       "GridSearchCV(cv=5, estimator=Lasso(),\n",
       "             param_grid={'alpha': [1e-15, 1e-10, 1e-08, 0.001, 0.01, 0.1, 1, 5,\n",
       "                                   10, 20, 30, 35, 40, 45, 50, 55, 100]},\n",
       "             scoring='neg_mean_squared_error')"
      ]
     },
     "execution_count": 137,
     "metadata": {},
     "output_type": "execute_result"
    }
   ],
   "source": [
    "# changing value of alpha\n",
    "\n",
    "params = {'alpha': [1e-15, 1e-10, 1e-8, 1e-3, 1e-2, 1e-1, 1,5,10,20,30,35,40,45,50,55,100]}\n",
    "lasso_regressor = GridSearchCV(lasso, params, scoring = 'neg_mean_squared_error', cv = 5)\n",
    "lasso_regressor.fit(x,y)"
   ]
  },
  {
   "cell_type": "code",
   "execution_count": 138,
   "id": "677cce06",
   "metadata": {},
   "outputs": [
    {
     "name": "stdout",
     "output_type": "stream",
     "text": [
      "{'alpha': 0.1}\n",
      "-34.83043231820268\n"
     ]
    }
   ],
   "source": [
    "print(lasso_regressor.best_params_)\n",
    "print(lasso_regressor.best_score_)"
   ]
  },
  {
   "cell_type": "markdown",
   "id": "d607defa",
   "metadata": {},
   "source": [
    "## splitting"
   ]
  },
  {
   "cell_type": "code",
   "execution_count": 139,
   "id": "40bd4bc3",
   "metadata": {},
   "outputs": [],
   "source": [
    "from sklearn.model_selection import train_test_split"
   ]
  },
  {
   "cell_type": "code",
   "execution_count": 140,
   "id": "fd8d4460",
   "metadata": {},
   "outputs": [],
   "source": [
    "x_train, x_test, y_train, y_test = train_test_split(x,y,test_size=0.33, random_state=42)"
   ]
  },
  {
   "cell_type": "code",
   "execution_count": 141,
   "id": "bd312ec3",
   "metadata": {},
   "outputs": [
    {
     "data": {
      "text/html": [
       "<div>\n",
       "<style scoped>\n",
       "    .dataframe tbody tr th:only-of-type {\n",
       "        vertical-align: middle;\n",
       "    }\n",
       "\n",
       "    .dataframe tbody tr th {\n",
       "        vertical-align: top;\n",
       "    }\n",
       "\n",
       "    .dataframe thead th {\n",
       "        text-align: right;\n",
       "    }\n",
       "</style>\n",
       "<table border=\"1\" class=\"dataframe\">\n",
       "  <thead>\n",
       "    <tr style=\"text-align: right;\">\n",
       "      <th></th>\n",
       "      <th>CRIM</th>\n",
       "      <th>ZN</th>\n",
       "      <th>INDUS</th>\n",
       "      <th>CHAS</th>\n",
       "      <th>NOX</th>\n",
       "      <th>RM</th>\n",
       "      <th>AGE</th>\n",
       "      <th>DIS</th>\n",
       "      <th>RAD</th>\n",
       "      <th>TAX</th>\n",
       "      <th>PTRATIO</th>\n",
       "      <th>B</th>\n",
       "      <th>LSTAT</th>\n",
       "    </tr>\n",
       "  </thead>\n",
       "  <tbody>\n",
       "    <tr>\n",
       "      <th>478</th>\n",
       "      <td>10.23300</td>\n",
       "      <td>0.0</td>\n",
       "      <td>18.10</td>\n",
       "      <td>0.0</td>\n",
       "      <td>0.614</td>\n",
       "      <td>6.185</td>\n",
       "      <td>96.7</td>\n",
       "      <td>2.1705</td>\n",
       "      <td>24.0</td>\n",
       "      <td>666.0</td>\n",
       "      <td>20.2</td>\n",
       "      <td>379.70</td>\n",
       "      <td>18.03</td>\n",
       "    </tr>\n",
       "    <tr>\n",
       "      <th>26</th>\n",
       "      <td>0.67191</td>\n",
       "      <td>0.0</td>\n",
       "      <td>8.14</td>\n",
       "      <td>0.0</td>\n",
       "      <td>0.538</td>\n",
       "      <td>5.813</td>\n",
       "      <td>90.3</td>\n",
       "      <td>4.6820</td>\n",
       "      <td>4.0</td>\n",
       "      <td>307.0</td>\n",
       "      <td>21.0</td>\n",
       "      <td>376.88</td>\n",
       "      <td>14.81</td>\n",
       "    </tr>\n",
       "    <tr>\n",
       "      <th>7</th>\n",
       "      <td>0.14455</td>\n",
       "      <td>12.5</td>\n",
       "      <td>7.87</td>\n",
       "      <td>0.0</td>\n",
       "      <td>0.524</td>\n",
       "      <td>6.172</td>\n",
       "      <td>96.1</td>\n",
       "      <td>5.9505</td>\n",
       "      <td>5.0</td>\n",
       "      <td>311.0</td>\n",
       "      <td>15.2</td>\n",
       "      <td>396.90</td>\n",
       "      <td>19.15</td>\n",
       "    </tr>\n",
       "    <tr>\n",
       "      <th>492</th>\n",
       "      <td>0.11132</td>\n",
       "      <td>0.0</td>\n",
       "      <td>27.74</td>\n",
       "      <td>0.0</td>\n",
       "      <td>0.609</td>\n",
       "      <td>5.983</td>\n",
       "      <td>83.5</td>\n",
       "      <td>2.1099</td>\n",
       "      <td>4.0</td>\n",
       "      <td>711.0</td>\n",
       "      <td>20.1</td>\n",
       "      <td>396.90</td>\n",
       "      <td>13.35</td>\n",
       "    </tr>\n",
       "    <tr>\n",
       "      <th>108</th>\n",
       "      <td>0.12802</td>\n",
       "      <td>0.0</td>\n",
       "      <td>8.56</td>\n",
       "      <td>0.0</td>\n",
       "      <td>0.520</td>\n",
       "      <td>6.474</td>\n",
       "      <td>97.1</td>\n",
       "      <td>2.4329</td>\n",
       "      <td>5.0</td>\n",
       "      <td>384.0</td>\n",
       "      <td>20.9</td>\n",
       "      <td>395.24</td>\n",
       "      <td>12.27</td>\n",
       "    </tr>\n",
       "  </tbody>\n",
       "</table>\n",
       "</div>"
      ],
      "text/plain": [
       "         CRIM    ZN  INDUS  CHAS    NOX     RM   AGE     DIS   RAD    TAX  \\\n",
       "478  10.23300   0.0  18.10   0.0  0.614  6.185  96.7  2.1705  24.0  666.0   \n",
       "26    0.67191   0.0   8.14   0.0  0.538  5.813  90.3  4.6820   4.0  307.0   \n",
       "7     0.14455  12.5   7.87   0.0  0.524  6.172  96.1  5.9505   5.0  311.0   \n",
       "492   0.11132   0.0  27.74   0.0  0.609  5.983  83.5  2.1099   4.0  711.0   \n",
       "108   0.12802   0.0   8.56   0.0  0.520  6.474  97.1  2.4329   5.0  384.0   \n",
       "\n",
       "     PTRATIO       B  LSTAT  \n",
       "478     20.2  379.70  18.03  \n",
       "26      21.0  376.88  14.81  \n",
       "7       15.2  396.90  19.15  \n",
       "492     20.1  396.90  13.35  \n",
       "108     20.9  395.24  12.27  "
      ]
     },
     "execution_count": 141,
     "metadata": {},
     "output_type": "execute_result"
    }
   ],
   "source": [
    "x_train.head()"
   ]
  },
  {
   "cell_type": "code",
   "execution_count": 142,
   "id": "d6347026",
   "metadata": {},
   "outputs": [
    {
     "name": "stdout",
     "output_type": "stream",
     "text": [
      "-25.18787473928509\n"
     ]
    }
   ],
   "source": [
    "# linear Regression\n",
    "lin_reg = LinearRegression()\n",
    "lin_reg.fit(x_train,y_train)\n",
    "mse = cross_val_score(lin_reg,x_train,y_train,scoring='neg_mean_squared_error', cv = 5)\n",
    "mean_mse = np.mean(mse)\n",
    "print(mean_mse)"
   ]
  },
  {
   "cell_type": "code",
   "execution_count": 143,
   "id": "727d3160",
   "metadata": {},
   "outputs": [],
   "source": [
    "# prediction\n",
    "\n",
    "y_pred = lin_reg.predict(x_test)"
   ]
  },
  {
   "cell_type": "code",
   "execution_count": 144,
   "id": "0d2f864c",
   "metadata": {},
   "outputs": [],
   "source": [
    "from sklearn.metrics import r2_score"
   ]
  },
  {
   "cell_type": "code",
   "execution_count": 145,
   "id": "64c7e18e",
   "metadata": {},
   "outputs": [
    {
     "data": {
      "text/plain": [
       "0.7261570836552478"
      ]
     },
     "execution_count": 145,
     "metadata": {},
     "output_type": "execute_result"
    }
   ],
   "source": [
    "r2_score1 = r2_score(y_test,y_pred)\n",
    "r2_score1"
   ]
  },
  {
   "cell_type": "code",
   "execution_count": 146,
   "id": "c65003d3",
   "metadata": {},
   "outputs": [
    {
     "data": {
      "text/plain": [
       "0.6708743257533071"
      ]
     },
     "execution_count": 146,
     "metadata": {},
     "output_type": "execute_result"
    }
   ],
   "source": [
    "# Ridge\n",
    "\n",
    "params = {'alpha': [1e-15, 1e-10, 1e-8, 1e-3, 1e-2, 1e-1, 1,5,10,20,30,35,40,45,50,55,100]}\n",
    "ridge_regressor = GridSearchCV(ridge, params, scoring = 'neg_mean_squared_error', cv = 5)\n",
    "ridge_regressor.fit(x_train,y_train)# prediction\n",
    "\n",
    "y_pred = ridge_regressor.predict(x_test)\n",
    "\n",
    "from sklearn.metrics import r2_score\n",
    "\n",
    "r2_score1 = r2_score(y_pred,y_test)\n",
    "r2_score1"
   ]
  },
  {
   "cell_type": "code",
   "execution_count": 147,
   "id": "6e5a7813",
   "metadata": {},
   "outputs": [
    {
     "name": "stdout",
     "output_type": "stream",
     "text": [
      "{'alpha': 0.01}\n",
      "-25.186899367386985\n"
     ]
    }
   ],
   "source": [
    "print(ridge_regressor.best_params_)\n",
    "print(ridge_regressor.best_score_)"
   ]
  },
  {
   "cell_type": "code",
   "execution_count": 148,
   "id": "08da05f9",
   "metadata": {},
   "outputs": [],
   "source": [
    "# prediction\n",
    "\n",
    "y_pred = ridge_regressor.predict(x_test)"
   ]
  },
  {
   "cell_type": "code",
   "execution_count": 149,
   "id": "82cdce78",
   "metadata": {},
   "outputs": [],
   "source": [
    "from sklearn.metrics import r2_score"
   ]
  },
  {
   "cell_type": "code",
   "execution_count": 150,
   "id": "69ee959d",
   "metadata": {},
   "outputs": [
    {
     "data": {
      "text/plain": [
       "0.6708743257533071"
      ]
     },
     "execution_count": 150,
     "metadata": {},
     "output_type": "execute_result"
    }
   ],
   "source": [
    "r2_score1 = r2_score(y_pred,y_test)\n",
    "r2_score1"
   ]
  },
  {
   "cell_type": "code",
   "execution_count": 151,
   "id": "adc531c6",
   "metadata": {},
   "outputs": [
    {
     "name": "stderr",
     "output_type": "stream",
     "text": [
      "C:\\Users\\mohit.kumar\\Anaconda3\\lib\\site-packages\\sklearn\\linear_model\\_coordinate_descent.py:648: ConvergenceWarning: Objective did not converge. You might want to increase the number of iterations, check the scale of the features or consider increasing regularisation. Duality gap: 2.720e+03, tolerance: 2.284e+00\n",
      "  model = cd_fast.enet_coordinate_descent(\n",
      "C:\\Users\\mohit.kumar\\Anaconda3\\lib\\site-packages\\sklearn\\linear_model\\_coordinate_descent.py:648: ConvergenceWarning: Objective did not converge. You might want to increase the number of iterations, check the scale of the features or consider increasing regularisation. Duality gap: 3.028e+03, tolerance: 2.493e+00\n",
      "  model = cd_fast.enet_coordinate_descent(\n",
      "C:\\Users\\mohit.kumar\\Anaconda3\\lib\\site-packages\\sklearn\\linear_model\\_coordinate_descent.py:648: ConvergenceWarning: Objective did not converge. You might want to increase the number of iterations, check the scale of the features or consider increasing regularisation. Duality gap: 2.538e+03, tolerance: 2.160e+00\n",
      "  model = cd_fast.enet_coordinate_descent(\n",
      "C:\\Users\\mohit.kumar\\Anaconda3\\lib\\site-packages\\sklearn\\linear_model\\_coordinate_descent.py:648: ConvergenceWarning: Objective did not converge. You might want to increase the number of iterations, check the scale of the features or consider increasing regularisation. Duality gap: 3.159e+03, tolerance: 2.515e+00\n",
      "  model = cd_fast.enet_coordinate_descent(\n",
      "C:\\Users\\mohit.kumar\\Anaconda3\\lib\\site-packages\\sklearn\\linear_model\\_coordinate_descent.py:648: ConvergenceWarning: Objective did not converge. You might want to increase the number of iterations, check the scale of the features or consider increasing regularisation. Duality gap: 2.694e+03, tolerance: 2.495e+00\n",
      "  model = cd_fast.enet_coordinate_descent(\n",
      "C:\\Users\\mohit.kumar\\Anaconda3\\lib\\site-packages\\sklearn\\linear_model\\_coordinate_descent.py:648: ConvergenceWarning: Objective did not converge. You might want to increase the number of iterations, check the scale of the features or consider increasing regularisation. Duality gap: 3.611e+03, tolerance: 2.988e+00\n",
      "  model = cd_fast.enet_coordinate_descent(\n"
     ]
    },
    {
     "data": {
      "text/html": [
       "<style>#sk-container-id-16 {color: black;background-color: white;}#sk-container-id-16 pre{padding: 0;}#sk-container-id-16 div.sk-toggleable {background-color: white;}#sk-container-id-16 label.sk-toggleable__label {cursor: pointer;display: block;width: 100%;margin-bottom: 0;padding: 0.3em;box-sizing: border-box;text-align: center;}#sk-container-id-16 label.sk-toggleable__label-arrow:before {content: \"▸\";float: left;margin-right: 0.25em;color: #696969;}#sk-container-id-16 label.sk-toggleable__label-arrow:hover:before {color: black;}#sk-container-id-16 div.sk-estimator:hover label.sk-toggleable__label-arrow:before {color: black;}#sk-container-id-16 div.sk-toggleable__content {max-height: 0;max-width: 0;overflow: hidden;text-align: left;background-color: #f0f8ff;}#sk-container-id-16 div.sk-toggleable__content pre {margin: 0.2em;color: black;border-radius: 0.25em;background-color: #f0f8ff;}#sk-container-id-16 input.sk-toggleable__control:checked~div.sk-toggleable__content {max-height: 200px;max-width: 100%;overflow: auto;}#sk-container-id-16 input.sk-toggleable__control:checked~label.sk-toggleable__label-arrow:before {content: \"▾\";}#sk-container-id-16 div.sk-estimator input.sk-toggleable__control:checked~label.sk-toggleable__label {background-color: #d4ebff;}#sk-container-id-16 div.sk-label input.sk-toggleable__control:checked~label.sk-toggleable__label {background-color: #d4ebff;}#sk-container-id-16 input.sk-hidden--visually {border: 0;clip: rect(1px 1px 1px 1px);clip: rect(1px, 1px, 1px, 1px);height: 1px;margin: -1px;overflow: hidden;padding: 0;position: absolute;width: 1px;}#sk-container-id-16 div.sk-estimator {font-family: monospace;background-color: #f0f8ff;border: 1px dotted black;border-radius: 0.25em;box-sizing: border-box;margin-bottom: 0.5em;}#sk-container-id-16 div.sk-estimator:hover {background-color: #d4ebff;}#sk-container-id-16 div.sk-parallel-item::after {content: \"\";width: 100%;border-bottom: 1px solid gray;flex-grow: 1;}#sk-container-id-16 div.sk-label:hover label.sk-toggleable__label {background-color: #d4ebff;}#sk-container-id-16 div.sk-serial::before {content: \"\";position: absolute;border-left: 1px solid gray;box-sizing: border-box;top: 0;bottom: 0;left: 50%;z-index: 0;}#sk-container-id-16 div.sk-serial {display: flex;flex-direction: column;align-items: center;background-color: white;padding-right: 0.2em;padding-left: 0.2em;position: relative;}#sk-container-id-16 div.sk-item {position: relative;z-index: 1;}#sk-container-id-16 div.sk-parallel {display: flex;align-items: stretch;justify-content: center;background-color: white;position: relative;}#sk-container-id-16 div.sk-item::before, #sk-container-id-16 div.sk-parallel-item::before {content: \"\";position: absolute;border-left: 1px solid gray;box-sizing: border-box;top: 0;bottom: 0;left: 50%;z-index: -1;}#sk-container-id-16 div.sk-parallel-item {display: flex;flex-direction: column;z-index: 1;position: relative;background-color: white;}#sk-container-id-16 div.sk-parallel-item:first-child::after {align-self: flex-end;width: 50%;}#sk-container-id-16 div.sk-parallel-item:last-child::after {align-self: flex-start;width: 50%;}#sk-container-id-16 div.sk-parallel-item:only-child::after {width: 0;}#sk-container-id-16 div.sk-dashed-wrapped {border: 1px dashed gray;margin: 0 0.4em 0.5em 0.4em;box-sizing: border-box;padding-bottom: 0.4em;background-color: white;}#sk-container-id-16 div.sk-label label {font-family: monospace;font-weight: bold;display: inline-block;line-height: 1.2em;}#sk-container-id-16 div.sk-label-container {text-align: center;}#sk-container-id-16 div.sk-container {/* jupyter's `normalize.less` sets `[hidden] { display: none; }` but bootstrap.min.css set `[hidden] { display: none !important; }` so we also need the `!important` here to be able to override the default hidden behavior on the sphinx rendered scikit-learn.org. See: https://github.com/scikit-learn/scikit-learn/issues/21755 */display: inline-block !important;position: relative;}#sk-container-id-16 div.sk-text-repr-fallback {display: none;}</style><div id=\"sk-container-id-16\" class=\"sk-top-container\"><div class=\"sk-text-repr-fallback\"><pre>GridSearchCV(cv=5, estimator=Lasso(),\n",
       "             param_grid={&#x27;alpha&#x27;: [1e-15, 1e-10, 1e-08, 0.001, 0.01, 0.1, 1, 5,\n",
       "                                   10, 20, 30, 35, 40, 45, 50, 55, 100]},\n",
       "             scoring=&#x27;neg_mean_squared_error&#x27;)</pre><b>In a Jupyter environment, please rerun this cell to show the HTML representation or trust the notebook. <br />On GitHub, the HTML representation is unable to render, please try loading this page with nbviewer.org.</b></div><div class=\"sk-container\" hidden><div class=\"sk-item sk-dashed-wrapped\"><div class=\"sk-label-container\"><div class=\"sk-label sk-toggleable\"><input class=\"sk-toggleable__control sk-hidden--visually\" id=\"sk-estimator-id-24\" type=\"checkbox\" ><label for=\"sk-estimator-id-24\" class=\"sk-toggleable__label sk-toggleable__label-arrow\">GridSearchCV</label><div class=\"sk-toggleable__content\"><pre>GridSearchCV(cv=5, estimator=Lasso(),\n",
       "             param_grid={&#x27;alpha&#x27;: [1e-15, 1e-10, 1e-08, 0.001, 0.01, 0.1, 1, 5,\n",
       "                                   10, 20, 30, 35, 40, 45, 50, 55, 100]},\n",
       "             scoring=&#x27;neg_mean_squared_error&#x27;)</pre></div></div></div><div class=\"sk-parallel\"><div class=\"sk-parallel-item\"><div class=\"sk-item\"><div class=\"sk-label-container\"><div class=\"sk-label sk-toggleable\"><input class=\"sk-toggleable__control sk-hidden--visually\" id=\"sk-estimator-id-25\" type=\"checkbox\" ><label for=\"sk-estimator-id-25\" class=\"sk-toggleable__label sk-toggleable__label-arrow\">estimator: Lasso</label><div class=\"sk-toggleable__content\"><pre>Lasso()</pre></div></div></div><div class=\"sk-serial\"><div class=\"sk-item\"><div class=\"sk-estimator sk-toggleable\"><input class=\"sk-toggleable__control sk-hidden--visually\" id=\"sk-estimator-id-26\" type=\"checkbox\" ><label for=\"sk-estimator-id-26\" class=\"sk-toggleable__label sk-toggleable__label-arrow\">Lasso</label><div class=\"sk-toggleable__content\"><pre>Lasso()</pre></div></div></div></div></div></div></div></div></div></div>"
      ],
      "text/plain": [
       "GridSearchCV(cv=5, estimator=Lasso(),\n",
       "             param_grid={'alpha': [1e-15, 1e-10, 1e-08, 0.001, 0.01, 0.1, 1, 5,\n",
       "                                   10, 20, 30, 35, 40, 45, 50, 55, 100]},\n",
       "             scoring='neg_mean_squared_error')"
      ]
     },
     "execution_count": 151,
     "metadata": {},
     "output_type": "execute_result"
    }
   ],
   "source": [
    "# lasso\n",
    "\n",
    "params = {'alpha': [1e-15, 1e-10, 1e-8, 1e-3, 1e-2, 1e-1, 1,5,10,20,30,35,40,45,50,55,100]}\n",
    "lasso_regressor = GridSearchCV(lasso, params, scoring = 'neg_mean_squared_error', cv = 5)\n",
    "lasso_regressor.fit(x_train,y_train)"
   ]
  },
  {
   "cell_type": "code",
   "execution_count": 152,
   "id": "e1309317",
   "metadata": {
    "scrolled": true
   },
   "outputs": [
    {
     "name": "stdout",
     "output_type": "stream",
     "text": [
      "{'alpha': 1e-15}\n",
      "-25.187874739285043\n"
     ]
    }
   ],
   "source": [
    "print(lasso_regressor.best_params_)\n",
    "print(lasso_regressor.best_score_)"
   ]
  },
  {
   "cell_type": "code",
   "execution_count": 153,
   "id": "2aff1242",
   "metadata": {},
   "outputs": [],
   "source": [
    "y_pred = lasso_regressor.predict(x_test)"
   ]
  },
  {
   "cell_type": "code",
   "execution_count": 154,
   "id": "06bea5d7",
   "metadata": {},
   "outputs": [],
   "source": [
    "from sklearn.metrics import r2_score"
   ]
  },
  {
   "cell_type": "code",
   "execution_count": 155,
   "id": "479eff1a",
   "metadata": {},
   "outputs": [
    {
     "data": {
      "text/plain": [
       "0.6709558976744427"
      ]
     },
     "execution_count": 155,
     "metadata": {},
     "output_type": "execute_result"
    }
   ],
   "source": [
    "r2_score1 = r2_score(y_pred,y_test)\n",
    "r2_score1"
   ]
  },
  {
   "cell_type": "code",
   "execution_count": null,
   "id": "4d3742f9",
   "metadata": {},
   "outputs": [],
   "source": []
  },
  {
   "cell_type": "code",
   "execution_count": null,
   "id": "d1c54919",
   "metadata": {},
   "outputs": [],
   "source": []
  }
 ],
 "metadata": {
  "kernelspec": {
   "display_name": "tf",
   "language": "python",
   "name": "tf"
  },
  "language_info": {
   "codemirror_mode": {
    "name": "ipython",
    "version": 3
   },
   "file_extension": ".py",
   "mimetype": "text/x-python",
   "name": "python",
   "nbconvert_exporter": "python",
   "pygments_lexer": "ipython3",
   "version": "3.10.11"
  }
 },
 "nbformat": 4,
 "nbformat_minor": 5
}

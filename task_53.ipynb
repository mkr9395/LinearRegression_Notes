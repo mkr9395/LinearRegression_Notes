{
  "nbformat": 4,
  "nbformat_minor": 0,
  "metadata": {
    "colab": {
      "provenance": []
    },
    "kernelspec": {
      "name": "python3",
      "display_name": "Python 3"
    },
    "language_info": {
      "name": "python"
    }
  },
  "cells": [
    {
      "cell_type": "code",
      "execution_count": null,
      "metadata": {
        "id": "GPot6aCAV_Sy"
      },
      "outputs": [],
      "source": []
    },
    {
      "cell_type": "markdown",
      "source": [
        "Use the famous boston dataset and find out if there is multicollinearity or not. If there is multicollinearity try to remove it with help of steps taught in the session."
      ],
      "metadata": {
        "id": "gYU4lq6PWVRm"
      }
    },
    {
      "cell_type": "code",
      "source": [
        "# Link - https://raw.githubusercontent.com/selva86/datasets/master/BostonHousing.csv"
      ],
      "metadata": {
        "id": "khQywUYIWkPM"
      },
      "execution_count": null,
      "outputs": []
    }
  ]
}
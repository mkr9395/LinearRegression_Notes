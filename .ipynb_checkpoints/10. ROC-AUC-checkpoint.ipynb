{
 "cells": [
  {
   "cell_type": "markdown",
   "id": "456a69f1",
   "metadata": {},
   "source": [
    "# WEEK 30 : ROC-AUC curve\n"
   ]
  },
  {
   "cell_type": "markdown",
   "id": "4ae2a53b",
   "metadata": {},
   "source": [
    "https://www.youtube.com/watch?v=gdW6hj9IXaA"
   ]
  },
  {
   "cell_type": "markdown",
   "id": "dafde817",
   "metadata": {},
   "source": [
    "### Why we need ROC:"
   ]
  },
  {
   "cell_type": "markdown",
   "id": "9f65fe4f",
   "metadata": {},
   "source": [
    "1. __Threshold Selection__\n",
    "- Classification (supervised ML):\n",
    "    - 1. regression (numerical)\n",
    "    - 2. classification (binary classification)\n",
    "\n",
    "\n",
    "\n",
    "2. ____"
   ]
  },
  {
   "cell_type": "code",
   "execution_count": null,
   "id": "6a6fea9e",
   "metadata": {},
   "outputs": [],
   "source": []
  }
 ],
 "metadata": {
  "kernelspec": {
   "display_name": "Python 3 (ipykernel)",
   "language": "python",
   "name": "python3"
  },
  "language_info": {
   "codemirror_mode": {
    "name": "ipython",
    "version": 3
   },
   "file_extension": ".py",
   "mimetype": "text/x-python",
   "name": "python",
   "nbconvert_exporter": "python",
   "pygments_lexer": "ipython3",
   "version": "3.9.13"
  }
 },
 "nbformat": 4,
 "nbformat_minor": 5
}

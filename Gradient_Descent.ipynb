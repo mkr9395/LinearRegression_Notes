{
 "cells": [
  {
   "cell_type": "markdown",
   "id": "6075f2aa",
   "metadata": {},
   "source": [
    "It is an Optimization algorithm"
   ]
  },
  {
   "cell_type": "markdown",
   "id": "100680b0",
   "metadata": {},
   "source": [
    "sklearn uses OLS as Gradient Descent"
   ]
  },
  {
   "cell_type": "markdown",
   "id": "d9dc49d4",
   "metadata": {},
   "source": [
    "if slope = -ve  increment in c\n",
    "\n",
    "if slope = +ve  decrement in c"
   ]
  },
  {
   "cell_type": "markdown",
   "id": "e23b7345",
   "metadata": {},
   "source": [
    "$$c_{new}\\;=\\;c_{old}\\;-\\;\\eta*slope$$\n",
    "\n",
    "$$m_{new}\\;=\\;m_{old}\\;-\\;\\eta*slope$$\n",
    "\n",
    "$where\\;\\;\\eta*slope\\;\\longrightarrow\\;step-size$\n",
    "\n",
    "$$slope\\;=\\;-2 * \\sum_{i=1}^{n} (y\\;-\\hat y)$$\n",
    "\n",
    "$$slope\\;=\\;-2 * \\sum_{i=1}^{n} (y_i\\;-\\;mx_i\\;-\\;c)$$\n",
    "\n",
    "The values will keep on updating as much the epochs is provided."
   ]
  },
  {
   "cell_type": "code",
   "execution_count": 1,
   "id": "1ace5eb4",
   "metadata": {},
   "outputs": [],
   "source": [
    "import pandas as pd\n",
    "import numpy as np"
   ]
  },
  {
   "cell_type": "code",
   "execution_count": 2,
   "id": "45f6aeab",
   "metadata": {},
   "outputs": [],
   "source": [
    "from sklearn.datasets import make_regression"
   ]
  },
  {
   "cell_type": "code",
   "execution_count": 3,
   "id": "f2acd642",
   "metadata": {},
   "outputs": [],
   "source": [
    "X,y = make_regression(n_samples = 4, n_features = 1, n_informative = 1, n_targets = 1, noise = 80, random_state=13)"
   ]
  },
  {
   "cell_type": "code",
   "execution_count": 4,
   "id": "a4c33899",
   "metadata": {},
   "outputs": [],
   "source": [
    "import matplotlib.pyplot as plt"
   ]
  },
  {
   "cell_type": "code",
   "execution_count": 5,
   "id": "b5ccae26",
   "metadata": {},
   "outputs": [
    {
     "data": {
      "text/plain": [
       "<matplotlib.collections.PathCollection at 0x17a0cf45af0>"
      ]
     },
     "execution_count": 5,
     "metadata": {},
     "output_type": "execute_result"
    },
    {
     "data": {
      "image/png": "[encoded data removed]",
      "text/plain": [
       "<Figure size 432x288 with 1 Axes>"
      ]
     },
     "metadata": {
      "needs_background": "light"
     },
     "output_type": "display_data"
    }
   ],
   "source": [
    "plt.scatter(X,y)"
   ]
  },
  {
   "cell_type": "markdown",
   "id": "47721ba9",
   "metadata": {},
   "source": [
    "#### Applying OLS"
   ]
  },
  {
   "cell_type": "code",
   "execution_count": 6,
   "id": "900aa75b",
   "metadata": {},
   "outputs": [],
   "source": [
    "from sklearn.linear_model import LinearRegression"
   ]
  },
  {
   "cell_type": "code",
   "execution_count": 7,
   "id": "698e1300",
   "metadata": {},
   "outputs": [],
   "source": [
    "reg = LinearRegression()"
   ]
  },
  {
   "cell_type": "code",
   "execution_count": 8,
   "id": "dc545176",
   "metadata": {},
   "outputs": [
    {
     "data": {
      "text/html": [
       "<style>#sk-container-id-1 {color: black;background-color: white;}#sk-container-id-1 pre{padding: 0;}#sk-container-id-1 div.sk-toggleable {background-color: white;}#sk-container-id-1 label.sk-toggleable__label {cursor: pointer;display: block;width: 100%;margin-bottom: 0;padding: 0.3em;box-sizing: border-box;text-align: center;}#sk-container-id-1 label.sk-toggleable__label-arrow:before {content: \"▸\";float: left;margin-right: 0.25em;color: #696969;}#sk-container-id-1 label.sk-toggleable__label-arrow:hover:before {color: black;}#sk-container-id-1 div.sk-estimator:hover label.sk-toggleable__label-arrow:before {color: black;}#sk-container-id-1 div.sk-toggleable__content {max-height: 0;max-width: 0;overflow: hidden;text-align: left;background-color: #f0f8ff;}#sk-container-id-1 div.sk-toggleable__content pre {margin: 0.2em;color: black;border-radius: 0.25em;background-color: #f0f8ff;}#sk-container-id-1 input.sk-toggleable__control:checked~div.sk-toggleable__content {max-height: 200px;max-width: 100%;overflow: auto;}#sk-container-id-1 input.sk-toggleable__control:checked~label.sk-toggleable__label-arrow:before {content: \"▾\";}#sk-container-id-1 div.sk-estimator input.sk-toggleable__control:checked~label.sk-toggleable__label {background-color: #d4ebff;}#sk-container-id-1 div.sk-label input.sk-toggleable__control:checked~label.sk-toggleable__label {background-color: #d4ebff;}#sk-container-id-1 input.sk-hidden--visually {border: 0;clip: rect(1px 1px 1px 1px);clip: rect(1px, 1px, 1px, 1px);height: 1px;margin: -1px;overflow: hidden;padding: 0;position: absolute;width: 1px;}#sk-container-id-1 div.sk-estimator {font-family: monospace;background-color: #f0f8ff;border: 1px dotted black;border-radius: 0.25em;box-sizing: border-box;margin-bottom: 0.5em;}#sk-container-id-1 div.sk-estimator:hover {background-color: #d4ebff;}#sk-container-id-1 div.sk-parallel-item::after {content: \"\";width: 100%;border-bottom: 1px solid gray;flex-grow: 1;}#sk-container-id-1 div.sk-label:hover label.sk-toggleable__label {background-color: #d4ebff;}#sk-container-id-1 div.sk-serial::before {content: \"\";position: absolute;border-left: 1px solid gray;box-sizing: border-box;top: 0;bottom: 0;left: 50%;z-index: 0;}#sk-container-id-1 div.sk-serial {display: flex;flex-direction: column;align-items: center;background-color: white;padding-right: 0.2em;padding-left: 0.2em;position: relative;}#sk-container-id-1 div.sk-item {position: relative;z-index: 1;}#sk-container-id-1 div.sk-parallel {display: flex;align-items: stretch;justify-content: center;background-color: white;position: relative;}#sk-container-id-1 div.sk-item::before, #sk-container-id-1 div.sk-parallel-item::before {content: \"\";position: absolute;border-left: 1px solid gray;box-sizing: border-box;top: 0;bottom: 0;left: 50%;z-index: -1;}#sk-container-id-1 div.sk-parallel-item {display: flex;flex-direction: column;z-index: 1;position: relative;background-color: white;}#sk-container-id-1 div.sk-parallel-item:first-child::after {align-self: flex-end;width: 50%;}#sk-container-id-1 div.sk-parallel-item:last-child::after {align-self: flex-start;width: 50%;}#sk-container-id-1 div.sk-parallel-item:only-child::after {width: 0;}#sk-container-id-1 div.sk-dashed-wrapped {border: 1px dashed gray;margin: 0 0.4em 0.5em 0.4em;box-sizing: border-box;padding-bottom: 0.4em;background-color: white;}#sk-container-id-1 div.sk-label label {font-family: monospace;font-weight: bold;display: inline-block;line-height: 1.2em;}#sk-container-id-1 div.sk-label-container {text-align: center;}#sk-container-id-1 div.sk-container {/* jupyter's `normalize.less` sets `[hidden] { display: none; }` but bootstrap.min.css set `[hidden] { display: none !important; }` so we also need the `!important` here to be able to override the default hidden behavior on the sphinx rendered scikit-learn.org. See: https://github.com/scikit-learn/scikit-learn/issues/21755 */display: inline-block !important;position: relative;}#sk-container-id-1 div.sk-text-repr-fallback {display: none;}</style><div id=\"sk-container-id-1\" class=\"sk-top-container\"><div class=\"sk-text-repr-fallback\"><pre>LinearRegression()</pre><b>In a Jupyter environment, please rerun this cell to show the HTML representation or trust the notebook. <br />On GitHub, the HTML representation is unable to render, please try loading this page with nbviewer.org.</b></div><div class=\"sk-container\" hidden><div class=\"sk-item\"><div class=\"sk-estimator sk-toggleable\"><input class=\"sk-toggleable__control sk-hidden--visually\" id=\"sk-estimator-id-1\" type=\"checkbox\" checked><label for=\"sk-estimator-id-1\" class=\"sk-toggleable__label sk-toggleable__label-arrow\">LinearRegression</label><div class=\"sk-toggleable__content\"><pre>LinearRegression()</pre></div></div></div></div></div>"
      ],
      "text/plain": [
       "LinearRegression()"
      ]
     },
     "execution_count": 8,
     "metadata": {},
     "output_type": "execute_result"
    }
   ],
   "source": [
    "reg.fit(X,y)"
   ]
  },
  {
   "cell_type": "code",
   "execution_count": 9,
   "id": "a038e253",
   "metadata": {},
   "outputs": [
    {
     "data": {
      "text/plain": [
       "array([78.35063668])"
      ]
     },
     "execution_count": 9,
     "metadata": {},
     "output_type": "execute_result"
    }
   ],
   "source": [
    "reg.coef_"
   ]
  },
  {
   "cell_type": "code",
   "execution_count": 10,
   "id": "17df6400",
   "metadata": {},
   "outputs": [
    {
     "data": {
      "text/plain": [
       "26.15963284313262"
      ]
     },
     "execution_count": 10,
     "metadata": {},
     "output_type": "execute_result"
    }
   ],
   "source": [
    "reg.intercept_"
   ]
  },
  {
   "cell_type": "code",
   "execution_count": 11,
   "id": "10b0a75f",
   "metadata": {},
   "outputs": [
    {
     "data": {
      "text/plain": [
       "[<matplotlib.lines.Line2D at 0x17a0d9e6f10>]"
      ]
     },
     "execution_count": 11,
     "metadata": {},
     "output_type": "execute_result"
    },
    {
     "data": {
      "image/png": "[encoded data removed]",
      "text/plain": [
       "<Figure size 432x288 with 1 Axes>"
      ]
     },
     "metadata": {
      "needs_background": "light"
     },
     "output_type": "display_data"
    }
   ],
   "source": [
    "plt.scatter(X,y)\n",
    "plt.plot(X,reg.predict(X),color = 'red')"
   ]
  },
  {
   "cell_type": "markdown",
   "id": "89573ff2",
   "metadata": {},
   "source": [
    "#### making own regression line\n",
    "\n",
    "need to bring intercept closer to OLS intercept which is 26.15963284313262"
   ]
  },
  {
   "cell_type": "code",
   "execution_count": 12,
   "id": "347fde1d",
   "metadata": {
    "id": "FJzAC7TcV_t8"
   },
   "outputs": [],
   "source": [
    "# checking random value of c and making it closer to OLS line while changing it everytime.\n",
    "# Lets apply Gradient Descent assuming slope is constant m = 78.35\n",
    "# and let's assume the starting value for intercept c = 0\n",
    "\n",
    "y_pred = ((78.35 * X) + 0).reshape(4)"
   ]
  },
  {
   "cell_type": "code",
   "execution_count": 13,
   "id": "d7dd09ca",
   "metadata": {},
   "outputs": [
    {
     "data": {
      "text/plain": [
       "<function matplotlib.pyplot.show(close=None, block=None)>"
      ]
     },
     "execution_count": 13,
     "metadata": {},
     "output_type": "execute_result"
    },
    {
     "data": {
      "image/png": "[encoded data removed]",
      "text/plain": [
       "<Figure size 432x288 with 1 Axes>"
      ]
     },
     "metadata": {
      "needs_background": "light"
     },
     "output_type": "display_data"
    }
   ],
   "source": [
    "plt.scatter(X,y)\n",
    "plt.plot(X, reg.predict(X),color ='red', label = 'OLS')\n",
    "plt.plot(X,y_pred, color = '#00a65a',label = 'c = 0')\n",
    "plt.legend()\n",
    "plt.show"
   ]
  },
  {
   "cell_type": "markdown",
   "id": "9659d78c",
   "metadata": {},
   "source": [
    "intercept(c) for red line (OLS) is 26.15"
   ]
  },
  {
   "cell_type": "code",
   "execution_count": 14,
   "id": "83a50144",
   "metadata": {},
   "outputs": [
    {
     "data": {
      "text/plain": [
       "-209.27763408209216"
      ]
     },
     "execution_count": 14,
     "metadata": {},
     "output_type": "execute_result"
    }
   ],
   "source": [
    "m = 78.35\n",
    "c = 0\n",
    "\n",
    "# slope at c = 0\n",
    "loss_slope = -2 * np.sum(y - m*X.ravel() - c)\n",
    "loss_slope"
   ]
  },
  {
   "cell_type": "code",
   "execution_count": 15,
   "id": "597d4e06",
   "metadata": {},
   "outputs": [
    {
     "data": {
      "text/plain": [
       "-20.927763408209216"
      ]
     },
     "execution_count": 15,
     "metadata": {},
     "output_type": "execute_result"
    }
   ],
   "source": [
    "# lets take learning rate = 0.1\n",
    "\n",
    "lr = 0.1\n",
    "\n",
    "step_size = loss_slope * lr\n",
    "step_size"
   ]
  },
  {
   "cell_type": "code",
   "execution_count": 16,
   "id": "584c0aaf",
   "metadata": {},
   "outputs": [
    {
     "data": {
      "text/plain": [
       "20.927763408209216"
      ]
     },
     "execution_count": 16,
     "metadata": {},
     "output_type": "execute_result"
    }
   ],
   "source": [
    "# calculating the new intercept\n",
    "# c_new = c_old - step_size\n",
    "\n",
    "c = c - step_size\n",
    "c\n",
    "\n",
    "# we jumped from 0 to 20.927"
   ]
  },
  {
   "cell_type": "code",
   "execution_count": 17,
   "id": "550094b3",
   "metadata": {},
   "outputs": [],
   "source": [
    "y_pred1 = ((78.35 * X) + c).reshape(4)"
   ]
  },
  {
   "cell_type": "code",
   "execution_count": 18,
   "id": "d26bead7",
   "metadata": {},
   "outputs": [
    {
     "data": {
      "text/plain": [
       "array([-34.88804496,  56.32726015,  17.44094722,  79.98535918])"
      ]
     },
     "execution_count": 18,
     "metadata": {},
     "output_type": "execute_result"
    }
   ],
   "source": [
    "y_pred1"
   ]
  },
  {
   "cell_type": "code",
   "execution_count": 19,
   "id": "da604018",
   "metadata": {},
   "outputs": [
    {
     "data": {
      "image/png": "[encoded data removed]",
      "text/plain": [
       "<Figure size 432x288 with 1 Axes>"
      ]
     },
     "metadata": {
      "needs_background": "light"
     },
     "output_type": "display_data"
    }
   ],
   "source": [
    "plt.scatter(X,y)\n",
    "plt.plot(X,reg.predict(X),color = 'red', label = 'OLS')\n",
    "plt.plot(X,y_pred1, color = '#00a65a', label = 'c = {}'.format(c))\n",
    "plt.plot(X,y_pred, color = 'black', label = 'c = 0')\n",
    "plt.legend()\n",
    "plt.show()"
   ]
  },
  {
   "cell_type": "markdown",
   "id": "5048de70",
   "metadata": {},
   "source": [
    "#### Iteration 2\n",
    "#### doing it again to bring the intercept closer to the intercept of OLS line (26.15963284313262)\n",
    "##### our \"c\" is right now 20.927763408209"
   ]
  },
  {
   "cell_type": "code",
   "execution_count": 20,
   "id": "e2cf1602",
   "metadata": {
    "colab": {
     "base_uri": "https://localhost:8080/"
    },
    "id": "d78wFPQvdG63",
    "outputId": "fb42f2b0-daea-4d57-be68-598821f97b7b"
   },
   "outputs": [
    {
     "data": {
      "text/plain": [
       "-41.85552681641843"
      ]
     },
     "execution_count": 20,
     "metadata": {},
     "output_type": "execute_result"
    }
   ],
   "source": [
    "loss_slope = -2 * np.sum(y - m*X.ravel() - c)\n",
    "loss_slope"
   ]
  },
  {
   "cell_type": "code",
   "execution_count": 21,
   "id": "c36d7a16",
   "metadata": {
    "colab": {
     "base_uri": "https://localhost:8080/"
    },
    "id": "-OwiV3RyenQA",
    "outputId": "c708b309-605f-4bc7-d1e4-bfc04118475a"
   },
   "outputs": [
    {
     "data": {
      "text/plain": [
       "-4.185552681641844"
      ]
     },
     "execution_count": 21,
     "metadata": {},
     "output_type": "execute_result"
    }
   ],
   "source": [
    "step_size = loss_slope*lr\n",
    "step_size"
   ]
  },
  {
   "cell_type": "code",
   "execution_count": 22,
   "id": "2d30bb08",
   "metadata": {
    "colab": {
     "base_uri": "https://localhost:8080/"
    },
    "id": "_JFrXUMHerlQ",
    "outputId": "c9424d4e-2e96-4083-a056-5b0cae245185"
   },
   "outputs": [
    {
     "data": {
      "text/plain": [
       "25.11331608985106"
      ]
     },
     "execution_count": 22,
     "metadata": {},
     "output_type": "execute_result"
    }
   ],
   "source": [
    "c = c - step_size\n",
    "c"
   ]
  },
  {
   "cell_type": "code",
   "execution_count": 23,
   "id": "7c73bd19",
   "metadata": {
    "colab": {
     "base_uri": "https://localhost:8080/",
     "height": 265
    },
    "id": "L3ZMyorueudD",
    "outputId": "49fc9b7f-43d9-4753-a530-5cdf2e0d6ed2"
   },
   "outputs": [
    {
     "data": {
      "image/png": "[encoded data removed]",
      "text/plain": [
       "<Figure size 432x288 with 1 Axes>"
      ]
     },
     "metadata": {
      "needs_background": "light"
     },
     "output_type": "display_data"
    }
   ],
   "source": [
    "y_pred2 = ((78.35 * X) + c).reshape(4)\n",
    "\n",
    "plt.scatter(X,y)\n",
    "plt.plot(X,reg.predict(X),color='red',label='OLS')\n",
    "plt.plot(X,y_pred2,color='#00a65a',label='c = {}'.format(c))\n",
    "plt.plot(X,y_pred1,color='#A3E4D7',label='c = {}'.format(c))\n",
    "plt.plot(X,y_pred,color='black',label='c = 0')\n",
    "plt.legend()\n",
    "plt.show()"
   ]
  },
  {
   "cell_type": "markdown",
   "id": "d401592d",
   "metadata": {},
   "source": [
    "#### Iteration 3\n",
    "#### doing it again to bring the intercept closer to the intercept of OLS line (26.15963284313262)\n",
    "##### our \"c\" is right now 25.11331608985106"
   ]
  },
  {
   "cell_type": "code",
   "execution_count": 24,
   "id": "0ab5208a",
   "metadata": {
    "colab": {
     "base_uri": "https://localhost:8080/"
    },
    "id": "raWkIHARe8S_",
    "outputId": "eb1ca5ff-5afc-48ac-f33c-14a5d22997aa"
   },
   "outputs": [
    {
     "data": {
      "text/plain": [
       "-8.371105363283675"
      ]
     },
     "execution_count": 24,
     "metadata": {},
     "output_type": "execute_result"
    }
   ],
   "source": [
    "loss_slope = -2 * np.sum(y - m*X.ravel() - c)\n",
    "loss_slope"
   ]
  },
  {
   "cell_type": "code",
   "execution_count": 25,
   "id": "b676c3a8",
   "metadata": {
    "colab": {
     "base_uri": "https://localhost:8080/"
    },
    "id": "_Gotq5T-foPX",
    "outputId": "f55d06a5-761f-4415-c660-6ab433ca144a"
   },
   "outputs": [
    {
     "data": {
      "text/plain": [
       "-0.8371105363283675"
      ]
     },
     "execution_count": 25,
     "metadata": {},
     "output_type": "execute_result"
    }
   ],
   "source": [
    "step_size = loss_slope*lr\n",
    "step_size"
   ]
  },
  {
   "cell_type": "code",
   "execution_count": 26,
   "id": "07cb3a1c",
   "metadata": {
    "colab": {
     "base_uri": "https://localhost:8080/"
    },
    "id": "bWZvoOsLfqde",
    "outputId": "b5c518e5-de88-4b0a-fe91-5e2b24b6f639"
   },
   "outputs": [
    {
     "data": {
      "text/plain": [
       "25.95042662617943"
      ]
     },
     "execution_count": 26,
     "metadata": {},
     "output_type": "execute_result"
    }
   ],
   "source": [
    "c = c - step_size\n",
    "c"
   ]
  },
  {
   "cell_type": "code",
   "execution_count": 27,
   "id": "b3d45213",
   "metadata": {
    "colab": {
     "base_uri": "https://localhost:8080/",
     "height": 863
    },
    "id": "kr5QRQqFfspe",
    "outputId": "78bb0b69-9492-44dc-d593-6a09772a2d30",
    "scrolled": true
   },
   "outputs": [
    {
     "data": {
      "image/png": "[encoded data removed]",
      "text/plain": [
       "<Figure size 1080x1080 with 1 Axes>"
      ]
     },
     "metadata": {
      "needs_background": "light"
     },
     "output_type": "display_data"
    }
   ],
   "source": [
    "y_pred3 = ((78.35 * X) + c).reshape(4)\n",
    "\n",
    "plt.figure(figsize=(15,15))\n",
    "plt.scatter(X,y)\n",
    "plt.plot(X,reg.predict(X),color='red',label='OLS')\n",
    "plt.plot(X,y_pred3,color='#00a65a',label='c = {}'.format(c))\n",
    "plt.plot(X,y_pred2,color='#A3E4D7',label='c = {}'.format(c))\n",
    "plt.plot(X,y_pred1,color='#A3E4D7',label='c = {}'.format(c))\n",
    "plt.plot(X,y_pred,color='black',label='c = 0')\n",
    "plt.legend()\n",
    "plt.show()"
   ]
  },
  {
   "cell_type": "markdown",
   "id": "faa4dbf2",
   "metadata": {},
   "source": [
    "### doing the same iteration process in loop"
   ]
  },
  {
   "cell_type": "code",
   "execution_count": 28,
   "id": "5870ab42",
   "metadata": {},
   "outputs": [
    {
     "data": {
      "text/plain": [
       "<matplotlib.collections.PathCollection at 0x17a0db39c10>"
      ]
     },
     "execution_count": 28,
     "metadata": {},
     "output_type": "execute_result"
    },
    {
     "data": {
      "image/png": "[encoded data removed]",
      "text/plain": [
       "<Figure size 432x288 with 1 Axes>"
      ]
     },
     "metadata": {
      "needs_background": "light"
     },
     "output_type": "display_data"
    }
   ],
   "source": [
    "# let initial c = 100\n",
    "# keeping m fixed at 78.35 and changing c at each iteration\n",
    "c = 100\n",
    "m = 78.35\n",
    "lr = 0.1\n",
    "\n",
    "epochs = 10\n",
    "\n",
    "for i in range(epochs):\n",
    "    loss_slope = -2 * np.sum(y - m*X.ravel() - c)\n",
    "    c = c - (lr * loss_slope)\n",
    "    \n",
    "    y_pred = m * X + c\n",
    "    \n",
    "    plt.plot(X,y_pred)\n",
    "    \n",
    "plt.scatter(X,y)\n"
   ]
  },
  {
   "cell_type": "markdown",
   "id": "aa3ed25f",
   "metadata": {},
   "source": [
    "##### keeping learning rate as 0.01 instead of 0.1 and chaning epochs to 100"
   ]
  },
  {
   "cell_type": "code",
   "execution_count": 29,
   "id": "2c778171",
   "metadata": {},
   "outputs": [
    {
     "data": {
      "text/plain": [
       "<matplotlib.collections.PathCollection at 0x17a0dd3e910>"
      ]
     },
     "execution_count": 29,
     "metadata": {},
     "output_type": "execute_result"
    },
    {
     "data": {
      "image/png": "[encoded data removed]",
      "text/plain": [
       "<Figure size 432x288 with 1 Axes>"
      ]
     },
     "metadata": {
      "needs_background": "light"
     },
     "output_type": "display_data"
    }
   ],
   "source": [
    "# let initial c = 100\n",
    "# keeping m fixed at 78.35 and changing c at each iteration\n",
    "c = 100\n",
    "m = 78.35\n",
    "lr = 0.01\n",
    "\n",
    "epochs = 100\n",
    "\n",
    "for i in range(epochs):\n",
    "    loss_slope = -2 * np.sum(y - m*X.ravel() - c)\n",
    "    c = c - (lr * loss_slope)\n",
    "    \n",
    "    y_pred = m * X + c\n",
    "    \n",
    "    plt.plot(X,y_pred)\n",
    "    \n",
    "plt.scatter(X,y)"
   ]
  },
  {
   "cell_type": "markdown",
   "id": "1af0be2c",
   "metadata": {},
   "source": [
    "### creating our own class of Gradient Descent"
   ]
  },
  {
   "cell_type": "code",
   "execution_count": 30,
   "id": "bfbbe546",
   "metadata": {},
   "outputs": [],
   "source": [
    "from sklearn.datasets import make_regression"
   ]
  },
  {
   "cell_type": "code",
   "execution_count": 31,
   "id": "895d5be5",
   "metadata": {},
   "outputs": [],
   "source": [
    "import matplotlib.pyplot as plt\n",
    "import numpy as np\n",
    "from sklearn.model_selection import cross_val_score"
   ]
  },
  {
   "cell_type": "code",
   "execution_count": 32,
   "id": "a6096101",
   "metadata": {},
   "outputs": [],
   "source": [
    "X,y = make_regression(n_samples=100, n_features=1, n_informative=1, n_targets=1, noise=20,random_state=13)"
   ]
  },
  {
   "cell_type": "code",
   "execution_count": 33,
   "id": "5b3a4719",
   "metadata": {},
   "outputs": [
    {
     "data": {
      "text/plain": [
       "<matplotlib.collections.PathCollection at 0x17a0df13940>"
      ]
     },
     "execution_count": 33,
     "metadata": {},
     "output_type": "execute_result"
    },
    {
     "data": {
      "image/png": "[encoded data removed]",
      "text/plain": [
       "<Figure size 432x288 with 1 Axes>"
      ]
     },
     "metadata": {
      "needs_background": "light"
     },
     "output_type": "display_data"
    }
   ],
   "source": [
    "plt.scatter(X,y)"
   ]
  },
  {
   "cell_type": "markdown",
   "id": "1c7f7e22",
   "metadata": {},
   "source": [
    "#### first applying scikit learn Gradient Decent to get the values"
   ]
  },
  {
   "cell_type": "code",
   "execution_count": 34,
   "id": "111b5a67",
   "metadata": {},
   "outputs": [],
   "source": [
    "from sklearn.linear_model import LinearRegression"
   ]
  },
  {
   "cell_type": "code",
   "execution_count": 35,
   "id": "caea81ad",
   "metadata": {},
   "outputs": [],
   "source": [
    "lr = LinearRegression()"
   ]
  },
  {
   "cell_type": "code",
   "execution_count": 36,
   "id": "14204fca",
   "metadata": {},
   "outputs": [
    {
     "data": {
      "text/html": [
       "<style>#sk-container-id-2 {color: black;background-color: white;}#sk-container-id-2 pre{padding: 0;}#sk-container-id-2 div.sk-toggleable {background-color: white;}#sk-container-id-2 label.sk-toggleable__label {cursor: pointer;display: block;width: 100%;margin-bottom: 0;padding: 0.3em;box-sizing: border-box;text-align: center;}#sk-container-id-2 label.sk-toggleable__label-arrow:before {content: \"▸\";float: left;margin-right: 0.25em;color: #696969;}#sk-container-id-2 label.sk-toggleable__label-arrow:hover:before {color: black;}#sk-container-id-2 div.sk-estimator:hover label.sk-toggleable__label-arrow:before {color: black;}#sk-container-id-2 div.sk-toggleable__content {max-height: 0;max-width: 0;overflow: hidden;text-align: left;background-color: #f0f8ff;}#sk-container-id-2 div.sk-toggleable__content pre {margin: 0.2em;color: black;border-radius: 0.25em;background-color: #f0f8ff;}#sk-container-id-2 input.sk-toggleable__control:checked~div.sk-toggleable__content {max-height: 200px;max-width: 100%;overflow: auto;}#sk-container-id-2 input.sk-toggleable__control:checked~label.sk-toggleable__label-arrow:before {content: \"▾\";}#sk-container-id-2 div.sk-estimator input.sk-toggleable__control:checked~label.sk-toggleable__label {background-color: #d4ebff;}#sk-container-id-2 div.sk-label input.sk-toggleable__control:checked~label.sk-toggleable__label {background-color: #d4ebff;}#sk-container-id-2 input.sk-hidden--visually {border: 0;clip: rect(1px 1px 1px 1px);clip: rect(1px, 1px, 1px, 1px);height: 1px;margin: -1px;overflow: hidden;padding: 0;position: absolute;width: 1px;}#sk-container-id-2 div.sk-estimator {font-family: monospace;background-color: #f0f8ff;border: 1px dotted black;border-radius: 0.25em;box-sizing: border-box;margin-bottom: 0.5em;}#sk-container-id-2 div.sk-estimator:hover {background-color: #d4ebff;}#sk-container-id-2 div.sk-parallel-item::after {content: \"\";width: 100%;border-bottom: 1px solid gray;flex-grow: 1;}#sk-container-id-2 div.sk-label:hover label.sk-toggleable__label {background-color: #d4ebff;}#sk-container-id-2 div.sk-serial::before {content: \"\";position: absolute;border-left: 1px solid gray;box-sizing: border-box;top: 0;bottom: 0;left: 50%;z-index: 0;}#sk-container-id-2 div.sk-serial {display: flex;flex-direction: column;align-items: center;background-color: white;padding-right: 0.2em;padding-left: 0.2em;position: relative;}#sk-container-id-2 div.sk-item {position: relative;z-index: 1;}#sk-container-id-2 div.sk-parallel {display: flex;align-items: stretch;justify-content: center;background-color: white;position: relative;}#sk-container-id-2 div.sk-item::before, #sk-container-id-2 div.sk-parallel-item::before {content: \"\";position: absolute;border-left: 1px solid gray;box-sizing: border-box;top: 0;bottom: 0;left: 50%;z-index: -1;}#sk-container-id-2 div.sk-parallel-item {display: flex;flex-direction: column;z-index: 1;position: relative;background-color: white;}#sk-container-id-2 div.sk-parallel-item:first-child::after {align-self: flex-end;width: 50%;}#sk-container-id-2 div.sk-parallel-item:last-child::after {align-self: flex-start;width: 50%;}#sk-container-id-2 div.sk-parallel-item:only-child::after {width: 0;}#sk-container-id-2 div.sk-dashed-wrapped {border: 1px dashed gray;margin: 0 0.4em 0.5em 0.4em;box-sizing: border-box;padding-bottom: 0.4em;background-color: white;}#sk-container-id-2 div.sk-label label {font-family: monospace;font-weight: bold;display: inline-block;line-height: 1.2em;}#sk-container-id-2 div.sk-label-container {text-align: center;}#sk-container-id-2 div.sk-container {/* jupyter's `normalize.less` sets `[hidden] { display: none; }` but bootstrap.min.css set `[hidden] { display: none !important; }` so we also need the `!important` here to be able to override the default hidden behavior on the sphinx rendered scikit-learn.org. See: https://github.com/scikit-learn/scikit-learn/issues/21755 */display: inline-block !important;position: relative;}#sk-container-id-2 div.sk-text-repr-fallback {display: none;}</style><div id=\"sk-container-id-2\" class=\"sk-top-container\"><div class=\"sk-text-repr-fallback\"><pre>LinearRegression()</pre><b>In a Jupyter environment, please rerun this cell to show the HTML representation or trust the notebook. <br />On GitHub, the HTML representation is unable to render, please try loading this page with nbviewer.org.</b></div><div class=\"sk-container\" hidden><div class=\"sk-item\"><div class=\"sk-estimator sk-toggleable\"><input class=\"sk-toggleable__control sk-hidden--visually\" id=\"sk-estimator-id-2\" type=\"checkbox\" checked><label for=\"sk-estimator-id-2\" class=\"sk-toggleable__label sk-toggleable__label-arrow\">LinearRegression</label><div class=\"sk-toggleable__content\"><pre>LinearRegression()</pre></div></div></div></div></div>"
      ],
      "text/plain": [
       "LinearRegression()"
      ]
     },
     "execution_count": 36,
     "metadata": {},
     "output_type": "execute_result"
    }
   ],
   "source": [
    "lr.fit(X,y)"
   ]
  },
  {
   "cell_type": "code",
   "execution_count": 37,
   "id": "96a2293b",
   "metadata": {},
   "outputs": [
    {
     "name": "stdout",
     "output_type": "stream",
     "text": [
      "-2.29474455867698\n",
      "[27.82809103]\n"
     ]
    }
   ],
   "source": [
    "print(lr.intercept_) # c\n",
    "print(lr.coef_) # m"
   ]
  },
  {
   "cell_type": "markdown",
   "id": "dc37577c",
   "metadata": {},
   "source": [
    "#### fixing value of m and changing c each time"
   ]
  },
  {
   "cell_type": "code",
   "execution_count": 38,
   "id": "a9248b54",
   "metadata": {},
   "outputs": [],
   "source": [
    "m = 27.82"
   ]
  },
  {
   "cell_type": "code",
   "execution_count": 39,
   "id": "53c9f2ae",
   "metadata": {},
   "outputs": [],
   "source": [
    "class GDRegressor:\n",
    "    \n",
    "    def __init__(self,learning_rate,epochs):\n",
    "        \n",
    "        self.m = 27.82\n",
    "        self.c = -120\n",
    "        self.lr = learning_rate\n",
    "        self.epochs = epochs\n",
    "        \n",
    "    def fit(self,X,y):\n",
    "        # calculate c using Gradient descent\n",
    "        \n",
    "        for i in range(self.epochs):  # loop epoch times chalega\n",
    "            loss_slope = -2 * np.sum(y - self.m*X.ravel() - self.c) # slope of loss function\n",
    "            \n",
    "            # updating value of c each time inside loop\n",
    "            self.c = self.c - (self.lr * loss_slope) \n",
    "            \n",
    "        print(self.c)\n",
    "            \n",
    "            \n",
    "            "
   ]
  },
  {
   "cell_type": "code",
   "execution_count": 40,
   "id": "abdbde96",
   "metadata": {},
   "outputs": [],
   "source": [
    "gd = GDRegressor(0.1, 10)\n",
    "\n",
    "# learning rate = 0.1\n",
    "# epochs = 10"
   ]
  },
  {
   "cell_type": "code",
   "execution_count": 41,
   "id": "86a81248",
   "metadata": {},
   "outputs": [
    {
     "name": "stdout",
     "output_type": "stream",
     "text": [
      "-721661617397534.1\n"
     ]
    }
   ],
   "source": [
    "gd.fit(X,y)\n",
    "\n",
    "# according to my model intercept is -721661617397534.1 because learning rate is too high\n"
   ]
  },
  {
   "cell_type": "code",
   "execution_count": 42,
   "id": "cac52705",
   "metadata": {},
   "outputs": [
    {
     "name": "stdout",
     "output_type": "stream",
     "text": [
      "-119.99999999999997\n"
     ]
    }
   ],
   "source": [
    "# chaning learning rate\n",
    "gd = GDRegressor(0.01, 10)\n",
    "\n",
    "gd.fit(X,y)"
   ]
  },
  {
   "cell_type": "code",
   "execution_count": 43,
   "id": "d2b2b174",
   "metadata": {},
   "outputs": [
    {
     "name": "stdout",
     "output_type": "stream",
     "text": [
      "-2.2942720065528746\n"
     ]
    }
   ],
   "source": [
    "# chaning learning rate and epochs\n",
    "gd = GDRegressor(0.001, 100)\n",
    "\n",
    "gd.fit(X,y)"
   ]
  },
  {
   "cell_type": "markdown",
   "id": "26b00efd",
   "metadata": {},
   "source": [
    "**so from the sklearn model we got intercept as -2.2947 and our model is getting intercept as -2.294272 at learning rate =0.001 and epochs = 100**"
   ]
  },
  {
   "cell_type": "markdown",
   "id": "e545d25f",
   "metadata": {},
   "source": [
    "### now calculating m and c (Actual gradient Descent)\n",
    "#### not keeping m constant"
   ]
  },
  {
   "cell_type": "code",
   "execution_count": 44,
   "id": "53b02190",
   "metadata": {},
   "outputs": [],
   "source": [
    "from sklearn.datasets import make_regression\n",
    "import matplotlib.pyplot as plt\n",
    "import numpy as np\n",
    "from sklearn.model_selection import cross_val_score"
   ]
  },
  {
   "cell_type": "code",
   "execution_count": 45,
   "id": "507a3501",
   "metadata": {},
   "outputs": [],
   "source": [
    "X,y = make_regression(n_samples=100, n_features=1, n_informative=1, n_targets=1, noise=20, random_state=13)"
   ]
  },
  {
   "cell_type": "code",
   "execution_count": 46,
   "id": "fb3c612a",
   "metadata": {},
   "outputs": [
    {
     "data": {
      "text/plain": [
       "<matplotlib.collections.PathCollection at 0x17a0dc410d0>"
      ]
     },
     "execution_count": 46,
     "metadata": {},
     "output_type": "execute_result"
    },
    {
     "data": {
      "image/png": "[encoded data removed]",
      "text/plain": [
       "<Figure size 432x288 with 1 Axes>"
      ]
     },
     "metadata": {
      "needs_background": "light"
     },
     "output_type": "display_data"
    }
   ],
   "source": [
    "plt.scatter(X,y)"
   ]
  },
  {
   "cell_type": "code",
   "execution_count": 47,
   "id": "d09961c6",
   "metadata": {},
   "outputs": [],
   "source": [
    "from sklearn.model_selection import train_test_split\n",
    "X_train, X_test, y_train, y_test = train_test_split(X,y,test_size=0.20,random_state=2)"
   ]
  },
  {
   "cell_type": "code",
   "execution_count": 48,
   "id": "c8085f9d",
   "metadata": {},
   "outputs": [],
   "source": [
    "from sklearn.linear_model import LinearRegression"
   ]
  },
  {
   "cell_type": "code",
   "execution_count": 49,
   "id": "36648ff2",
   "metadata": {},
   "outputs": [],
   "source": [
    "lr = LinearRegression()"
   ]
  },
  {
   "cell_type": "code",
   "execution_count": 50,
   "id": "2892fd44",
   "metadata": {},
   "outputs": [
    {
     "data": {
      "text/html": [
       "<style>#sk-container-id-3 {color: black;background-color: white;}#sk-container-id-3 pre{padding: 0;}#sk-container-id-3 div.sk-toggleable {background-color: white;}#sk-container-id-3 label.sk-toggleable__label {cursor: pointer;display: block;width: 100%;margin-bottom: 0;padding: 0.3em;box-sizing: border-box;text-align: center;}#sk-container-id-3 label.sk-toggleable__label-arrow:before {content: \"▸\";float: left;margin-right: 0.25em;color: #696969;}#sk-container-id-3 label.sk-toggleable__label-arrow:hover:before {color: black;}#sk-container-id-3 div.sk-estimator:hover label.sk-toggleable__label-arrow:before {color: black;}#sk-container-id-3 div.sk-toggleable__content {max-height: 0;max-width: 0;overflow: hidden;text-align: left;background-color: #f0f8ff;}#sk-container-id-3 div.sk-toggleable__content pre {margin: 0.2em;color: black;border-radius: 0.25em;background-color: #f0f8ff;}#sk-container-id-3 input.sk-toggleable__control:checked~div.sk-toggleable__content {max-height: 200px;max-width: 100%;overflow: auto;}#sk-container-id-3 input.sk-toggleable__control:checked~label.sk-toggleable__label-arrow:before {content: \"▾\";}#sk-container-id-3 div.sk-estimator input.sk-toggleable__control:checked~label.sk-toggleable__label {background-color: #d4ebff;}#sk-container-id-3 div.sk-label input.sk-toggleable__control:checked~label.sk-toggleable__label {background-color: #d4ebff;}#sk-container-id-3 input.sk-hidden--visually {border: 0;clip: rect(1px 1px 1px 1px);clip: rect(1px, 1px, 1px, 1px);height: 1px;margin: -1px;overflow: hidden;padding: 0;position: absolute;width: 1px;}#sk-container-id-3 div.sk-estimator {font-family: monospace;background-color: #f0f8ff;border: 1px dotted black;border-radius: 0.25em;box-sizing: border-box;margin-bottom: 0.5em;}#sk-container-id-3 div.sk-estimator:hover {background-color: #d4ebff;}#sk-container-id-3 div.sk-parallel-item::after {content: \"\";width: 100%;border-bottom: 1px solid gray;flex-grow: 1;}#sk-container-id-3 div.sk-label:hover label.sk-toggleable__label {background-color: #d4ebff;}#sk-container-id-3 div.sk-serial::before {content: \"\";position: absolute;border-left: 1px solid gray;box-sizing: border-box;top: 0;bottom: 0;left: 50%;z-index: 0;}#sk-container-id-3 div.sk-serial {display: flex;flex-direction: column;align-items: center;background-color: white;padding-right: 0.2em;padding-left: 0.2em;position: relative;}#sk-container-id-3 div.sk-item {position: relative;z-index: 1;}#sk-container-id-3 div.sk-parallel {display: flex;align-items: stretch;justify-content: center;background-color: white;position: relative;}#sk-container-id-3 div.sk-item::before, #sk-container-id-3 div.sk-parallel-item::before {content: \"\";position: absolute;border-left: 1px solid gray;box-sizing: border-box;top: 0;bottom: 0;left: 50%;z-index: -1;}#sk-container-id-3 div.sk-parallel-item {display: flex;flex-direction: column;z-index: 1;position: relative;background-color: white;}#sk-container-id-3 div.sk-parallel-item:first-child::after {align-self: flex-end;width: 50%;}#sk-container-id-3 div.sk-parallel-item:last-child::after {align-self: flex-start;width: 50%;}#sk-container-id-3 div.sk-parallel-item:only-child::after {width: 0;}#sk-container-id-3 div.sk-dashed-wrapped {border: 1px dashed gray;margin: 0 0.4em 0.5em 0.4em;box-sizing: border-box;padding-bottom: 0.4em;background-color: white;}#sk-container-id-3 div.sk-label label {font-family: monospace;font-weight: bold;display: inline-block;line-height: 1.2em;}#sk-container-id-3 div.sk-label-container {text-align: center;}#sk-container-id-3 div.sk-container {/* jupyter's `normalize.less` sets `[hidden] { display: none; }` but bootstrap.min.css set `[hidden] { display: none !important; }` so we also need the `!important` here to be able to override the default hidden behavior on the sphinx rendered scikit-learn.org. See: https://github.com/scikit-learn/scikit-learn/issues/21755 */display: inline-block !important;position: relative;}#sk-container-id-3 div.sk-text-repr-fallback {display: none;}</style><div id=\"sk-container-id-3\" class=\"sk-top-container\"><div class=\"sk-text-repr-fallback\"><pre>LinearRegression()</pre><b>In a Jupyter environment, please rerun this cell to show the HTML representation or trust the notebook. <br />On GitHub, the HTML representation is unable to render, please try loading this page with nbviewer.org.</b></div><div class=\"sk-container\" hidden><div class=\"sk-item\"><div class=\"sk-estimator sk-toggleable\"><input class=\"sk-toggleable__control sk-hidden--visually\" id=\"sk-estimator-id-3\" type=\"checkbox\" checked><label for=\"sk-estimator-id-3\" class=\"sk-toggleable__label sk-toggleable__label-arrow\">LinearRegression</label><div class=\"sk-toggleable__content\"><pre>LinearRegression()</pre></div></div></div></div></div>"
      ],
      "text/plain": [
       "LinearRegression()"
      ]
     },
     "execution_count": 50,
     "metadata": {},
     "output_type": "execute_result"
    }
   ],
   "source": [
    "lr.fit(X_train,y_train)"
   ]
  },
  {
   "cell_type": "code",
   "execution_count": 51,
   "id": "319fc4a7",
   "metadata": {},
   "outputs": [
    {
     "name": "stdout",
     "output_type": "stream",
     "text": [
      "[28.12597332]\n",
      "-2.271014426178382\n"
     ]
    }
   ],
   "source": [
    "print(lr.coef_)\n",
    "print(lr.intercept_)"
   ]
  },
  {
   "cell_type": "code",
   "execution_count": 52,
   "id": "969a8c31",
   "metadata": {},
   "outputs": [],
   "source": [
    "y_pred = lr.predict(X_test)"
   ]
  },
  {
   "cell_type": "code",
   "execution_count": 53,
   "id": "c3a1712e",
   "metadata": {},
   "outputs": [
    {
     "data": {
      "text/plain": [
       "0.6345158782661013"
      ]
     },
     "execution_count": 53,
     "metadata": {},
     "output_type": "execute_result"
    }
   ],
   "source": [
    "from sklearn.metrics import r2_score\n",
    "r2_score(y_test,y_pred)"
   ]
  },
  {
   "cell_type": "markdown",
   "id": "b3fc3008",
   "metadata": {},
   "source": [
    "$$\\frac{dr}{dm}\\;=\\;\\sum_{i=1}^{n}\\;-2x\\;(y - mx - c)$$\n",
    "\n",
    "$$\\frac{dr}{dc}\\;=\\;\\sum_{i=1}^{n}\\;-2\\;(y - mx - c)$$"
   ]
  },
  {
   "cell_type": "code",
   "execution_count": 54,
   "id": "f045e5e7",
   "metadata": {},
   "outputs": [],
   "source": [
    "# initializing random value of m and c"
   ]
  },
  {
   "cell_type": "code",
   "execution_count": 55,
   "id": "256dcd29",
   "metadata": {},
   "outputs": [],
   "source": [
    "class GDNewRegressor:\n",
    "    \n",
    "    def __init__(self,learning_rate,epochs):\n",
    "        \n",
    "        self.m = 100\n",
    "        self.c = -120\n",
    "        self.lr = learning_rate\n",
    "        self.epochs = epochs\n",
    "        \n",
    "    def fit(self,X,y):\n",
    "        \n",
    "        #calculate the c using GD\n",
    "        for i in range(self.epochs):\n",
    "            \n",
    "            loss_slope_m = -2 * np.sum((y - self.m*X.ravel() - self.m)*X.ravel()) # loss slope wrt m\n",
    "            loss_slope_c = -2 * np.sum(y - self.m*X.ravel() - self.c)   # loss slope wrt c\n",
    "            \n",
    "            self.m = self.m - (self.lr * loss_slope_m)\n",
    "            self.c = self.c - (self.lr * loss_slope_c)\n",
    "            \n",
    "    def predict(self,X):\n",
    "        return self.m * X + self.c"
   ]
  },
  {
   "cell_type": "code",
   "execution_count": 56,
   "id": "2ad0cb56",
   "metadata": {},
   "outputs": [],
   "source": [
    "gd = GDNewRegressor(0.001,1500)"
   ]
  },
  {
   "cell_type": "code",
   "execution_count": 57,
   "id": "b9eca1f0",
   "metadata": {},
   "outputs": [],
   "source": [
    "gd.fit(X_test,y_test)"
   ]
  },
  {
   "cell_type": "code",
   "execution_count": 58,
   "id": "efc3c160",
   "metadata": {},
   "outputs": [],
   "source": [
    "y_pred = gd.predict(X_test)"
   ]
  },
  {
   "cell_type": "code",
   "execution_count": 59,
   "id": "5e254843",
   "metadata": {},
   "outputs": [
    {
     "data": {
      "text/plain": [
       "0.6255759821003308"
      ]
     },
     "execution_count": 59,
     "metadata": {},
     "output_type": "execute_result"
    }
   ],
   "source": [
    "from sklearn.metrics import r2_score\n",
    "r2_score(y_test,y_pred)"
   ]
  },
  {
   "cell_type": "code",
   "execution_count": 60,
   "id": "f9752282",
   "metadata": {},
   "outputs": [
    {
     "data": {
      "text/plain": [
       "21.97909086609577"
      ]
     },
     "execution_count": 60,
     "metadata": {},
     "output_type": "execute_result"
    }
   ],
   "source": [
    "gd.m"
   ]
  },
  {
   "cell_type": "code",
   "execution_count": 61,
   "id": "252b8a73",
   "metadata": {},
   "outputs": [
    {
     "data": {
      "text/plain": [
       "-1.9268197446004984"
      ]
     },
     "execution_count": 61,
     "metadata": {},
     "output_type": "execute_result"
    }
   ],
   "source": [
    "gd.c"
   ]
  },
  {
   "cell_type": "markdown",
   "id": "0c5215ac",
   "metadata": {},
   "source": [
    "***"
   ]
  },
  {
   "cell_type": "markdown",
   "id": "cdd61ba6",
   "metadata": {},
   "source": [
    "***"
   ]
  },
  {
   "cell_type": "code",
   "execution_count": 62,
   "id": "f9dc59a5",
   "metadata": {},
   "outputs": [],
   "source": [
    "from sklearn.datasets import make_regression\n",
    "\n",
    "import numpy as np\n",
    "import matplotlib.pyplot as plt"
   ]
  },
  {
   "cell_type": "code",
   "execution_count": 63,
   "id": "065bc800",
   "metadata": {},
   "outputs": [],
   "source": [
    "%matplotlib notebook\n",
    "from matplotlib.animation import FuncAnimation\n",
    "import matplotlib.animation as animation"
   ]
  },
  {
   "cell_type": "code",
   "execution_count": 64,
   "id": "efa0cc5e",
   "metadata": {},
   "outputs": [],
   "source": [
    "X,y = make_regression(n_samples=100, n_features=1, n_informative=1, n_targets=1,noise=20,random_state=13)"
   ]
  },
  {
   "cell_type": "code",
   "execution_count": 65,
   "id": "aa8cce90",
   "metadata": {},
   "outputs": [
    {
     "data": {
      "application/javascript": [
       "/* Put everything inside the global mpl namespace */\n",
       "/* global mpl */\n",
       "window.mpl = {};\n",
       "\n",
       "mpl.get_websocket_type = function () {\n",
       "    if (typeof WebSocket !== 'undefined') {\n",
       "        return WebSocket;\n",
       "    } else if (typeof MozWebSocket !== 'undefined') {\n",
       "        return MozWebSocket;\n",
       "    } else {\n",
       "        alert(\n",
       "            'Your browser does not have WebSocket support. ' +\n",
       "                'Please try Chrome, Safari or Firefox ≥ 6. ' +\n",
       "                'Firefox 4 and 5 are also supported but you ' +\n",
       "                'have to enable WebSockets in about:config.'\n",
       "        );\n",
       "    }\n",
       "};\n",
       "\n",
       "mpl.figure = function (figure_id, websocket, ondownload, parent_element) {\n",
       "    this.id = figure_id;\n",
       "\n",
       "    this.ws = websocket;\n",
       "\n",
       "    this.supports_binary = this.ws.binaryType !== undefined;\n",
       "\n",
       "    if (!this.supports_binary) {\n",
       "        var warnings = document.getElementById('mpl-warnings');\n",
       "        if (warnings) {\n",
       "            warnings.style.display = 'block';\n",
       "            warnings.textContent =\n",
       "                'This browser does not support binary websocket messages. ' +\n",
       "                'Performance may be slow.';\n",
       "        }\n",
       "    }\n",
       "\n",
       "    this.imageObj = new Image();\n",
       "\n",
       "    this.context = undefined;\n",
       "    this.message = undefined;\n",
       "    this.canvas = undefined;\n",
       "    this.rubberband_canvas = undefined;\n",
       "    this.rubberband_context = undefined;\n",
       "    this.format_dropdown = undefined;\n",
       "\n",
       "    this.image_mode = 'full';\n",
       "\n",
       "    this.root = document.createElement('div');\n",
       "    this.root.setAttribute('style', 'display: inline-block');\n",
       "    this._root_extra_style(this.root);\n",
       "\n",
       "    parent_element.appendChild(this.root);\n",
       "\n",
       "    this._init_header(this);\n",
       "    this._init_canvas(this);\n",
       "    this._init_toolbar(this);\n",
       "\n",
       "    var fig = this;\n",
       "\n",
       "    this.waiting = false;\n",
       "\n",
       "    this.ws.onopen = function () {\n",
       "        fig.send_message('supports_binary', { value: fig.supports_binary });\n",
       "        fig.send_message('send_image_mode', {});\n",
       "        if (fig.ratio !== 1) {\n",
       "            fig.send_message('set_dpi_ratio', { dpi_ratio: fig.ratio });\n",
       "        }\n",
       "        fig.send_message('refresh', {});\n",
       "    };\n",
       "\n",
       "    this.imageObj.onload = function () {\n",
       "        if (fig.image_mode === 'full') {\n",
       "            // Full images could contain transparency (where diff images\n",
       "            // almost always do), so we need to clear the canvas so that\n",
       "            // there is no ghosting.\n",
       "            fig.context.clearRect(0, 0, fig.canvas.width, fig.canvas.height);\n",
       "        }\n",
       "        fig.context.drawImage(fig.imageObj, 0, 0);\n",
       "    };\n",
       "\n",
       "    this.imageObj.onunload = function () {\n",
       "        fig.ws.close();\n",
       "    };\n",
       "\n",
       "    this.ws.onmessage = this._make_on_message_function(this);\n",
       "\n",
       "    this.ondownload = ondownload;\n",
       "};\n",
       "\n",
       "mpl.figure.prototype._init_header = function () {\n",
       "    var titlebar = document.createElement('div');\n",
       "    titlebar.classList =\n",
       "        'ui-dialog-titlebar ui-widget-header ui-corner-all ui-helper-clearfix';\n",
       "    var titletext = document.createElement('div');\n",
       "    titletext.classList = 'ui-dialog-title';\n",
       "    titletext.setAttribute(\n",
       "        'style',\n",
       "        'width: 100%; text-align: center; padding: 3px;'\n",
       "    );\n",
       "    titlebar.appendChild(titletext);\n",
       "    this.root.appendChild(titlebar);\n",
       "    this.header = titletext;\n",
       "};\n",
       "\n",
       "mpl.figure.prototype._canvas_extra_style = function (_canvas_div) {};\n",
       "\n",
       "mpl.figure.prototype._root_extra_style = function (_canvas_div) {};\n",
       "\n",
       "mpl.figure.prototype._init_canvas = function () {\n",
       "    var fig = this;\n",
       "\n",
       "    var canvas_div = (this.canvas_div = document.createElement('div'));\n",
       "    canvas_div.setAttribute(\n",
       "        'style',\n",
       "        'border: 1px solid #ddd;' +\n",
       "            'box-sizing: content-box;' +\n",
       "            'clear: both;' +\n",
       "            'min-height: 1px;' +\n",
       "            'min-width: 1px;' +\n",
       "            'outline: 0;' +\n",
       "            'overflow: hidden;' +\n",
       "            'position: relative;' +\n",
       "            'resize: both;'\n",
       "    );\n",
       "\n",
       "    function on_keyboard_event_closure(name) {\n",
       "        return function (event) {\n",
       "            return fig.key_event(event, name);\n",
       "        };\n",
       "    }\n",
       "\n",
       "    canvas_div.addEventListener(\n",
       "        'keydown',\n",
       "        on_keyboard_event_closure('key_press')\n",
       "    );\n",
       "    canvas_div.addEventListener(\n",
       "        'keyup',\n",
       "        on_keyboard_event_closure('key_release')\n",
       "    );\n",
       "\n",
       "    this._canvas_extra_style(canvas_div);\n",
       "    this.root.appendChild(canvas_div);\n",
       "\n",
       "    var canvas = (this.canvas = document.createElement('canvas'));\n",
       "    canvas.classList.add('mpl-canvas');\n",
       "    canvas.setAttribute('style', 'box-sizing: content-box;');\n",
       "\n",
       "    this.context = canvas.getContext('2d');\n",
       "\n",
       "    var backingStore =\n",
       "        this.context.backingStorePixelRatio ||\n",
       "        this.context.webkitBackingStorePixelRatio ||\n",
       "        this.context.mozBackingStorePixelRatio ||\n",
       "        this.context.msBackingStorePixelRatio ||\n",
       "        this.context.oBackingStorePixelRatio ||\n",
       "        this.context.backingStorePixelRatio ||\n",
       "        1;\n",
       "\n",
       "    this.ratio = (window.devicePixelRatio || 1) / backingStore;\n",
       "\n",
       "    var rubberband_canvas = (this.rubberband_canvas = document.createElement(\n",
       "        'canvas'\n",
       "    ));\n",
       "    rubberband_canvas.setAttribute(\n",
       "        'style',\n",
       "        'box-sizing: content-box; position: absolute; left: 0; top: 0; z-index: 1;'\n",
       "    );\n",
       "\n",
       "    // Apply a ponyfill if ResizeObserver is not implemented by browser.\n",
       "    if (this.ResizeObserver === undefined) {\n",
       "        if (window.ResizeObserver !== undefined) {\n",
       "            this.ResizeObserver = window.ResizeObserver;\n",
       "        } else {\n",
       "            var obs = _JSXTOOLS_RESIZE_OBSERVER({});\n",
       "            this.ResizeObserver = obs.ResizeObserver;\n",
       "        }\n",
       "    }\n",
       "\n",
       "    this.resizeObserverInstance = new this.ResizeObserver(function (entries) {\n",
       "        var nentries = entries.length;\n",
       "        for (var i = 0; i < nentries; i++) {\n",
       "            var entry = entries[i];\n",
       "            var width, height;\n",
       "            if (entry.contentBoxSize) {\n",
       "                if (entry.contentBoxSize instanceof Array) {\n",
       "                    // Chrome 84 implements new version of spec.\n",
       "                    width = entry.contentBoxSize[0].inlineSize;\n",
       "                    height = entry.contentBoxSize[0].blockSize;\n",
       "                } else {\n",
       "                    // Firefox implements old version of spec.\n",
       "                    width = entry.contentBoxSize.inlineSize;\n",
       "                    height = entry.contentBoxSize.blockSize;\n",
       "                }\n",
       "            } else {\n",
       "                // Chrome <84 implements even older version of spec.\n",
       "                width = entry.contentRect.width;\n",
       "                height = entry.contentRect.height;\n",
       "            }\n",
       "\n",
       "            // Keep the size of the canvas and rubber band canvas in sync with\n",
       "            // the canvas container.\n",
       "            if (entry.devicePixelContentBoxSize) {\n",
       "                // Chrome 84 implements new version of spec.\n",
       "                canvas.setAttribute(\n",
       "                    'width',\n",
       "                    entry.devicePixelContentBoxSize[0].inlineSize\n",
       "                );\n",
       "                canvas.setAttribute(\n",
       "                    'height',\n",
       "                    entry.devicePixelContentBoxSize[0].blockSize\n",
       "                );\n",
       "            } else {\n",
       "                canvas.setAttribute('width', width * fig.ratio);\n",
       "                canvas.setAttribute('height', height * fig.ratio);\n",
       "            }\n",
       "            canvas.setAttribute(\n",
       "                'style',\n",
       "                'width: ' + width + 'px; height: ' + height + 'px;'\n",
       "            );\n",
       "\n",
       "            rubberband_canvas.setAttribute('width', width);\n",
       "            rubberband_canvas.setAttribute('height', height);\n",
       "\n",
       "            // And update the size in Python. We ignore the initial 0/0 size\n",
       "            // that occurs as the element is placed into the DOM, which should\n",
       "            // otherwise not happen due to the minimum size styling.\n",
       "            if (fig.ws.readyState == 1 && width != 0 && height != 0) {\n",
       "                fig.request_resize(width, height);\n",
       "            }\n",
       "        }\n",
       "    });\n",
       "    this.resizeObserverInstance.observe(canvas_div);\n",
       "\n",
       "    function on_mouse_event_closure(name) {\n",
       "        return function (event) {\n",
       "            return fig.mouse_event(event, name);\n",
       "        };\n",
       "    }\n",
       "\n",
       "    rubberband_canvas.addEventListener(\n",
       "        'mousedown',\n",
       "        on_mouse_event_closure('button_press')\n",
       "    );\n",
       "    rubberband_canvas.addEventListener(\n",
       "        'mouseup',\n",
       "        on_mouse_event_closure('button_release')\n",
       "    );\n",
       "    rubberband_canvas.addEventListener(\n",
       "        'dblclick',\n",
       "        on_mouse_event_closure('dblclick')\n",
       "    );\n",
       "    // Throttle sequential mouse events to 1 every 20ms.\n",
       "    rubberband_canvas.addEventListener(\n",
       "        'mousemove',\n",
       "        on_mouse_event_closure('motion_notify')\n",
       "    );\n",
       "\n",
       "    rubberband_canvas.addEventListener(\n",
       "        'mouseenter',\n",
       "        on_mouse_event_closure('figure_enter')\n",
       "    );\n",
       "    rubberband_canvas.addEventListener(\n",
       "        'mouseleave',\n",
       "        on_mouse_event_closure('figure_leave')\n",
       "    );\n",
       "\n",
       "    canvas_div.addEventListener('wheel', function (event) {\n",
       "        if (event.deltaY < 0) {\n",
       "            event.step = 1;\n",
       "        } else {\n",
       "            event.step = -1;\n",
       "        }\n",
       "        on_mouse_event_closure('scroll')(event);\n",
       "    });\n",
       "\n",
       "    canvas_div.appendChild(canvas);\n",
       "    canvas_div.appendChild(rubberband_canvas);\n",
       "\n",
       "    this.rubberband_context = rubberband_canvas.getContext('2d');\n",
       "    this.rubberband_context.strokeStyle = '#000000';\n",
       "\n",
       "    this._resize_canvas = function (width, height, forward) {\n",
       "        if (forward) {\n",
       "            canvas_div.style.width = width + 'px';\n",
       "            canvas_div.style.height = height + 'px';\n",
       "        }\n",
       "    };\n",
       "\n",
       "    // Disable right mouse context menu.\n",
       "    this.rubberband_canvas.addEventListener('contextmenu', function (_e) {\n",
       "        event.preventDefault();\n",
       "        return false;\n",
       "    });\n",
       "\n",
       "    function set_focus() {\n",
       "        canvas.focus();\n",
       "        canvas_div.focus();\n",
       "    }\n",
       "\n",
       "    window.setTimeout(set_focus, 100);\n",
       "};\n",
       "\n",
       "mpl.figure.prototype._init_toolbar = function () {\n",
       "    var fig = this;\n",
       "\n",
       "    var toolbar = document.createElement('div');\n",
       "    toolbar.classList = 'mpl-toolbar';\n",
       "    this.root.appendChild(toolbar);\n",
       "\n",
       "    function on_click_closure(name) {\n",
       "        return function (_event) {\n",
       "            return fig.toolbar_button_onclick(name);\n",
       "        };\n",
       "    }\n",
       "\n",
       "    function on_mouseover_closure(tooltip) {\n",
       "        return function (event) {\n",
       "            if (!event.currentTarget.disabled) {\n",
       "                return fig.toolbar_button_onmouseover(tooltip);\n",
       "            }\n",
       "        };\n",
       "    }\n",
       "\n",
       "    fig.buttons = {};\n",
       "    var buttonGroup = document.createElement('div');\n",
       "    buttonGroup.classList = 'mpl-button-group';\n",
       "    for (var toolbar_ind in mpl.toolbar_items) {\n",
       "        var name = mpl.toolbar_items[toolbar_ind][0];\n",
       "        var tooltip = mpl.toolbar_items[toolbar_ind][1];\n",
       "        var image = mpl.toolbar_items[toolbar_ind][2];\n",
       "        var method_name = mpl.toolbar_items[toolbar_ind][3];\n",
       "\n",
       "        if (!name) {\n",
       "            /* Instead of a spacer, we start a new button group. */\n",
       "            if (buttonGroup.hasChildNodes()) {\n",
       "                toolbar.appendChild(buttonGroup);\n",
       "            }\n",
       "            buttonGroup = document.createElement('div');\n",
       "            buttonGroup.classList = 'mpl-button-group';\n",
       "            continue;\n",
       "        }\n",
       "\n",
       "        var button = (fig.buttons[name] = document.createElement('button'));\n",
       "        button.classList = 'mpl-widget';\n",
       "        button.setAttribute('role', 'button');\n",
       "        button.setAttribute('aria-disabled', 'false');\n",
       "        button.addEventListener('click', on_click_closure(method_name));\n",
       "        button.addEventListener('mouseover', on_mouseover_closure(tooltip));\n",
       "\n",
       "        var icon_img = document.createElement('img');\n",
       "        icon_img.src = '_images/' + image + '.png';\n",
       "        icon_img.srcset = '_images/' + image + '_large.png 2x';\n",
       "        icon_img.alt = tooltip;\n",
       "        button.appendChild(icon_img);\n",
       "\n",
       "        buttonGroup.appendChild(button);\n",
       "    }\n",
       "\n",
       "    if (buttonGroup.hasChildNodes()) {\n",
       "        toolbar.appendChild(buttonGroup);\n",
       "    }\n",
       "\n",
       "    var fmt_picker = document.createElement('select');\n",
       "    fmt_picker.classList = 'mpl-widget';\n",
       "    toolbar.appendChild(fmt_picker);\n",
       "    this.format_dropdown = fmt_picker;\n",
       "\n",
       "    for (var ind in mpl.extensions) {\n",
       "        var fmt = mpl.extensions[ind];\n",
       "        var option = document.createElement('option');\n",
       "        option.selected = fmt === mpl.default_extension;\n",
       "        option.innerHTML = fmt;\n",
       "        fmt_picker.appendChild(option);\n",
       "    }\n",
       "\n",
       "    var status_bar = document.createElement('span');\n",
       "    status_bar.classList = 'mpl-message';\n",
       "    toolbar.appendChild(status_bar);\n",
       "    this.message = status_bar;\n",
       "};\n",
       "\n",
       "mpl.figure.prototype.request_resize = function (x_pixels, y_pixels) {\n",
       "    // Request matplotlib to resize the figure. Matplotlib will then trigger a resize in the client,\n",
       "    // which will in turn request a refresh of the image.\n",
       "    this.send_message('resize', { width: x_pixels, height: y_pixels });\n",
       "};\n",
       "\n",
       "mpl.figure.prototype.send_message = function (type, properties) {\n",
       "    properties['type'] = type;\n",
       "    properties['figure_id'] = this.id;\n",
       "    this.ws.send(JSON.stringify(properties));\n",
       "};\n",
       "\n",
       "mpl.figure.prototype.send_draw_message = function () {\n",
       "    if (!this.waiting) {\n",
       "        this.waiting = true;\n",
       "        this.ws.send(JSON.stringify({ type: 'draw', figure_id: this.id }));\n",
       "    }\n",
       "};\n",
       "\n",
       "mpl.figure.prototype.handle_save = function (fig, _msg) {\n",
       "    var format_dropdown = fig.format_dropdown;\n",
       "    var format = format_dropdown.options[format_dropdown.selectedIndex].value;\n",
       "    fig.ondownload(fig, format);\n",
       "};\n",
       "\n",
       "mpl.figure.prototype.handle_resize = function (fig, msg) {\n",
       "    var size = msg['size'];\n",
       "    if (size[0] !== fig.canvas.width || size[1] !== fig.canvas.height) {\n",
       "        fig._resize_canvas(size[0], size[1], msg['forward']);\n",
       "        fig.send_message('refresh', {});\n",
       "    }\n",
       "};\n",
       "\n",
       "mpl.figure.prototype.handle_rubberband = function (fig, msg) {\n",
       "    var x0 = msg['x0'] / fig.ratio;\n",
       "    var y0 = (fig.canvas.height - msg['y0']) / fig.ratio;\n",
       "    var x1 = msg['x1'] / fig.ratio;\n",
       "    var y1 = (fig.canvas.height - msg['y1']) / fig.ratio;\n",
       "    x0 = Math.floor(x0) + 0.5;\n",
       "    y0 = Math.floor(y0) + 0.5;\n",
       "    x1 = Math.floor(x1) + 0.5;\n",
       "    y1 = Math.floor(y1) + 0.5;\n",
       "    var min_x = Math.min(x0, x1);\n",
       "    var min_y = Math.min(y0, y1);\n",
       "    var width = Math.abs(x1 - x0);\n",
       "    var height = Math.abs(y1 - y0);\n",
       "\n",
       "    fig.rubberband_context.clearRect(\n",
       "        0,\n",
       "        0,\n",
       "        fig.canvas.width / fig.ratio,\n",
       "        fig.canvas.height / fig.ratio\n",
       "    );\n",
       "\n",
       "    fig.rubberband_context.strokeRect(min_x, min_y, width, height);\n",
       "};\n",
       "\n",
       "mpl.figure.prototype.handle_figure_label = function (fig, msg) {\n",
       "    // Updates the figure title.\n",
       "    fig.header.textContent = msg['label'];\n",
       "};\n",
       "\n",
       "mpl.figure.prototype.handle_cursor = function (fig, msg) {\n",
       "    var cursor = msg['cursor'];\n",
       "    switch (cursor) {\n",
       "        case 0:\n",
       "            cursor = 'pointer';\n",
       "            break;\n",
       "        case 1:\n",
       "            cursor = 'default';\n",
       "            break;\n",
       "        case 2:\n",
       "            cursor = 'crosshair';\n",
       "            break;\n",
       "        case 3:\n",
       "            cursor = 'move';\n",
       "            break;\n",
       "    }\n",
       "    fig.rubberband_canvas.style.cursor = cursor;\n",
       "};\n",
       "\n",
       "mpl.figure.prototype.handle_message = function (fig, msg) {\n",
       "    fig.message.textContent = msg['message'];\n",
       "};\n",
       "\n",
       "mpl.figure.prototype.handle_draw = function (fig, _msg) {\n",
       "    // Request the server to send over a new figure.\n",
       "    fig.send_draw_message();\n",
       "};\n",
       "\n",
       "mpl.figure.prototype.handle_image_mode = function (fig, msg) {\n",
       "    fig.image_mode = msg['mode'];\n",
       "};\n",
       "\n",
       "mpl.figure.prototype.handle_history_buttons = function (fig, msg) {\n",
       "    for (var key in msg) {\n",
       "        if (!(key in fig.buttons)) {\n",
       "            continue;\n",
       "        }\n",
       "        fig.buttons[key].disabled = !msg[key];\n",
       "        fig.buttons[key].setAttribute('aria-disabled', !msg[key]);\n",
       "    }\n",
       "};\n",
       "\n",
       "mpl.figure.prototype.handle_navigate_mode = function (fig, msg) {\n",
       "    if (msg['mode'] === 'PAN') {\n",
       "        fig.buttons['Pan'].classList.add('active');\n",
       "        fig.buttons['Zoom'].classList.remove('active');\n",
       "    } else if (msg['mode'] === 'ZOOM') {\n",
       "        fig.buttons['Pan'].classList.remove('active');\n",
       "        fig.buttons['Zoom'].classList.add('active');\n",
       "    } else {\n",
       "        fig.buttons['Pan'].classList.remove('active');\n",
       "        fig.buttons['Zoom'].classList.remove('active');\n",
       "    }\n",
       "};\n",
       "\n",
       "mpl.figure.prototype.updated_canvas_event = function () {\n",
       "    // Called whenever the canvas gets updated.\n",
       "    this.send_message('ack', {});\n",
       "};\n",
       "\n",
       "// A function to construct a web socket function for onmessage handling.\n",
       "// Called in the figure constructor.\n",
       "mpl.figure.prototype._make_on_message_function = function (fig) {\n",
       "    return function socket_on_message(evt) {\n",
       "        if (evt.data instanceof Blob) {\n",
       "            var img = evt.data;\n",
       "            if (img.type !== 'image/png') {\n",
       "                /* FIXME: We get \"Resource interpreted as Image but\n",
       "                 * transferred with MIME type text/plain:\" errors on\n",
       "                 * Chrome.  But how to set the MIME type?  It doesn't seem\n",
       "                 * to be part of the websocket stream */\n",
       "                img.type = 'image/png';\n",
       "            }\n",
       "\n",
       "            /* Free the memory for the previous frames */\n",
       "            if (fig.imageObj.src) {\n",
       "                (window.URL || window.webkitURL).revokeObjectURL(\n",
       "                    fig.imageObj.src\n",
       "                );\n",
       "            }\n",
       "\n",
       "            fig.imageObj.src = (window.URL || window.webkitURL).createObjectURL(\n",
       "                img\n",
       "            );\n",
       "            fig.updated_canvas_event();\n",
       "            fig.waiting = false;\n",
       "            return;\n",
       "        } else if (\n",
       "            typeof evt.data === 'string' &&\n",
       "            evt.data.slice(0, 21) === 'data:image/png;base64'\n",
       "        ) {\n",
       "            fig.imageObj.src = evt.data;\n",
       "            fig.updated_canvas_event();\n",
       "            fig.waiting = false;\n",
       "            return;\n",
       "        }\n",
       "\n",
       "        var msg = JSON.parse(evt.data);\n",
       "        var msg_type = msg['type'];\n",
       "\n",
       "        // Call the  \"handle_{type}\" callback, which takes\n",
       "        // the figure and JSON message as its only arguments.\n",
       "        try {\n",
       "            var callback = fig['handle_' + msg_type];\n",
       "        } catch (e) {\n",
       "            console.log(\n",
       "                \"No handler for the '\" + msg_type + \"' message type: \",\n",
       "                msg\n",
       "            );\n",
       "            return;\n",
       "        }\n",
       "\n",
       "        if (callback) {\n",
       "            try {\n",
       "                // console.log(\"Handling '\" + msg_type + \"' message: \", msg);\n",
       "                callback(fig, msg);\n",
       "            } catch (e) {\n",
       "                console.log(\n",
       "                    \"Exception inside the 'handler_\" + msg_type + \"' callback:\",\n",
       "                    e,\n",
       "                    e.stack,\n",
       "                    msg\n",
       "                );\n",
       "            }\n",
       "        }\n",
       "    };\n",
       "};\n",
       "\n",
       "// from http://stackoverflow.com/questions/1114465/getting-mouse-location-in-canvas\n",
       "mpl.findpos = function (e) {\n",
       "    //this section is from http://www.quirksmode.org/js/events_properties.html\n",
       "    var targ;\n",
       "    if (!e) {\n",
       "        e = window.event;\n",
       "    }\n",
       "    if (e.target) {\n",
       "        targ = e.target;\n",
       "    } else if (e.srcElement) {\n",
       "        targ = e.srcElement;\n",
       "    }\n",
       "    if (targ.nodeType === 3) {\n",
       "        // defeat Safari bug\n",
       "        targ = targ.parentNode;\n",
       "    }\n",
       "\n",
       "    // pageX,Y are the mouse positions relative to the document\n",
       "    var boundingRect = targ.getBoundingClientRect();\n",
       "    var x = e.pageX - (boundingRect.left + document.body.scrollLeft);\n",
       "    var y = e.pageY - (boundingRect.top + document.body.scrollTop);\n",
       "\n",
       "    return { x: x, y: y };\n",
       "};\n",
       "\n",
       "/*\n",
       " * return a copy of an object with only non-object keys\n",
       " * we need this to avoid circular references\n",
       " * http://stackoverflow.com/a/24161582/3208463\n",
       " */\n",
       "function simpleKeys(original) {\n",
       "    return Object.keys(original).reduce(function (obj, key) {\n",
       "        if (typeof original[key] !== 'object') {\n",
       "            obj[key] = original[key];\n",
       "        }\n",
       "        return obj;\n",
       "    }, {});\n",
       "}\n",
       "\n",
       "mpl.figure.prototype.mouse_event = function (event, name) {\n",
       "    var canvas_pos = mpl.findpos(event);\n",
       "\n",
       "    if (name === 'button_press') {\n",
       "        this.canvas.focus();\n",
       "        this.canvas_div.focus();\n",
       "    }\n",
       "\n",
       "    var x = canvas_pos.x * this.ratio;\n",
       "    var y = canvas_pos.y * this.ratio;\n",
       "\n",
       "    this.send_message(name, {\n",
       "        x: x,\n",
       "        y: y,\n",
       "        button: event.button,\n",
       "        step: event.step,\n",
       "        guiEvent: simpleKeys(event),\n",
       "    });\n",
       "\n",
       "    /* This prevents the web browser from automatically changing to\n",
       "     * the text insertion cursor when the button is pressed.  We want\n",
       "     * to control all of the cursor setting manually through the\n",
       "     * 'cursor' event from matplotlib */\n",
       "    event.preventDefault();\n",
       "    return false;\n",
       "};\n",
       "\n",
       "mpl.figure.prototype._key_event_extra = function (_event, _name) {\n",
       "    // Handle any extra behaviour associated with a key event\n",
       "};\n",
       "\n",
       "mpl.figure.prototype.key_event = function (event, name) {\n",
       "    // Prevent repeat events\n",
       "    if (name === 'key_press') {\n",
       "        if (event.key === this._key) {\n",
       "            return;\n",
       "        } else {\n",
       "            this._key = event.key;\n",
       "        }\n",
       "    }\n",
       "    if (name === 'key_release') {\n",
       "        this._key = null;\n",
       "    }\n",
       "\n",
       "    var value = '';\n",
       "    if (event.ctrlKey && event.key !== 'Control') {\n",
       "        value += 'ctrl+';\n",
       "    }\n",
       "    else if (event.altKey && event.key !== 'Alt') {\n",
       "        value += 'alt+';\n",
       "    }\n",
       "    else if (event.shiftKey && event.key !== 'Shift') {\n",
       "        value += 'shift+';\n",
       "    }\n",
       "\n",
       "    value += 'k' + event.key;\n",
       "\n",
       "    this._key_event_extra(event, name);\n",
       "\n",
       "    this.send_message(name, { key: value, guiEvent: simpleKeys(event) });\n",
       "    return false;\n",
       "};\n",
       "\n",
       "mpl.figure.prototype.toolbar_button_onclick = function (name) {\n",
       "    if (name === 'download') {\n",
       "        this.handle_save(this, null);\n",
       "    } else {\n",
       "        this.send_message('toolbar_button', { name: name });\n",
       "    }\n",
       "};\n",
       "\n",
       "mpl.figure.prototype.toolbar_button_onmouseover = function (tooltip) {\n",
       "    this.message.textContent = tooltip;\n",
       "};\n",
       "\n",
       "///////////////// REMAINING CONTENT GENERATED BY embed_js.py /////////////////\n",
       "// prettier-ignore\n",
       "var _JSXTOOLS_RESIZE_OBSERVER=function(A){var t,i=new WeakMap,n=new WeakMap,a=new WeakMap,r=new WeakMap,o=new Set;function s(e){if(!(this instanceof s))throw new TypeError(\"Constructor requires 'new' operator\");i.set(this,e)}function h(){throw new TypeError(\"Function is not a constructor\")}function c(e,t,i,n){e=0 in arguments?Number(arguments[0]):0,t=1 in arguments?Number(arguments[1]):0,i=2 in arguments?Number(arguments[2]):0,n=3 in arguments?Number(arguments[3]):0,this.right=(this.x=this.left=e)+(this.width=i),this.bottom=(this.y=this.top=t)+(this.height=n),Object.freeze(this)}function d(){t=requestAnimationFrame(d);var s=new WeakMap,p=new Set;o.forEach((function(t){r.get(t).forEach((function(i){var r=t instanceof window.SVGElement,o=a.get(t),d=r?0:parseFloat(o.paddingTop),f=r?0:parseFloat(o.paddingRight),l=r?0:parseFloat(o.paddingBottom),u=r?0:parseFloat(o.paddingLeft),g=r?0:parseFloat(o.borderTopWidth),m=r?0:parseFloat(o.borderRightWidth),w=r?0:parseFloat(o.borderBottomWidth),b=u+f,F=d+l,v=(r?0:parseFloat(o.borderLeftWidth))+m,W=g+w,y=r?0:t.offsetHeight-W-t.clientHeight,E=r?0:t.offsetWidth-v-t.clientWidth,R=b+v,z=F+W,M=r?t.width:parseFloat(o.width)-R-E,O=r?t.height:parseFloat(o.height)-z-y;if(n.has(t)){var k=n.get(t);if(k[0]===M&&k[1]===O)return}n.set(t,[M,O]);var S=Object.create(h.prototype);S.target=t,S.contentRect=new c(u,d,M,O),s.has(i)||(s.set(i,[]),p.add(i)),s.get(i).push(S)}))})),p.forEach((function(e){i.get(e).call(e,s.get(e),e)}))}return s.prototype.observe=function(i){if(i instanceof window.Element){r.has(i)||(r.set(i,new Set),o.add(i),a.set(i,window.getComputedStyle(i)));var n=r.get(i);n.has(this)||n.add(this),cancelAnimationFrame(t),t=requestAnimationFrame(d)}},s.prototype.unobserve=function(i){if(i instanceof window.Element&&r.has(i)){var n=r.get(i);n.has(this)&&(n.delete(this),n.size||(r.delete(i),o.delete(i))),n.size||r.delete(i),o.size||cancelAnimationFrame(t)}},A.DOMRectReadOnly=c,A.ResizeObserver=s,A.ResizeObserverEntry=h,A}; // eslint-disable-line\n",
       "mpl.toolbar_items = [[\"Home\", \"Reset original view\", \"fa fa-home icon-home\", \"home\"], [\"Back\", \"Back to previous view\", \"fa fa-arrow-left icon-arrow-left\", \"back\"], [\"Forward\", \"Forward to next view\", \"fa fa-arrow-right icon-arrow-right\", \"forward\"], [\"\", \"\", \"\", \"\"], [\"Pan\", \"Left button pans, Right button zooms\\nx/y fixes axis, CTRL fixes aspect\", \"fa fa-arrows icon-move\", \"pan\"], [\"Zoom\", \"Zoom to rectangle\\nx/y fixes axis, CTRL fixes aspect\", \"fa fa-square-o icon-check-empty\", \"zoom\"], [\"\", \"\", \"\", \"\"], [\"Download\", \"Download plot\", \"fa fa-floppy-o icon-save\", \"download\"]];\n",
       "\n",
       "mpl.extensions = [\"eps\", \"jpeg\", \"pgf\", \"pdf\", \"png\", \"ps\", \"raw\", \"svg\", \"tif\"];\n",
       "\n",
       "mpl.default_extension = \"png\";/* global mpl */\n",
       "\n",
       "var comm_websocket_adapter = function (comm) {\n",
       "    // Create a \"websocket\"-like object which calls the given IPython comm\n",
       "    // object with the appropriate methods. Currently this is a non binary\n",
       "    // socket, so there is still some room for performance tuning.\n",
       "    var ws = {};\n",
       "\n",
       "    ws.binaryType = comm.kernel.ws.binaryType;\n",
       "    ws.readyState = comm.kernel.ws.readyState;\n",
       "    function updateReadyState(_event) {\n",
       "        if (comm.kernel.ws) {\n",
       "            ws.readyState = comm.kernel.ws.readyState;\n",
       "        } else {\n",
       "            ws.readyState = 3; // Closed state.\n",
       "        }\n",
       "    }\n",
       "    comm.kernel.ws.addEventListener('open', updateReadyState);\n",
       "    comm.kernel.ws.addEventListener('close', updateReadyState);\n",
       "    comm.kernel.ws.addEventListener('error', updateReadyState);\n",
       "\n",
       "    ws.close = function () {\n",
       "        comm.close();\n",
       "    };\n",
       "    ws.send = function (m) {\n",
       "        //console.log('sending', m);\n",
       "        comm.send(m);\n",
       "    };\n",
       "    // Register the callback with on_msg.\n",
       "    comm.on_msg(function (msg) {\n",
       "        //console.log('receiving', msg['content']['data'], msg);\n",
       "        var data = msg['content']['data'];\n",
       "        if (data['blob'] !== undefined) {\n",
       "            data = {\n",
       "                data: new Blob(msg['buffers'], { type: data['blob'] }),\n",
       "            };\n",
       "        }\n",
       "        // Pass the mpl event to the overridden (by mpl) onmessage function.\n",
       "        ws.onmessage(data);\n",
       "    });\n",
       "    return ws;\n",
       "};\n",
       "\n",
       "mpl.mpl_figure_comm = function (comm, msg) {\n",
       "    // This is the function which gets called when the mpl process\n",
       "    // starts-up an IPython Comm through the \"matplotlib\" channel.\n",
       "\n",
       "    var id = msg.content.data.id;\n",
       "    // Get hold of the div created by the display call when the Comm\n",
       "    // socket was opened in Python.\n",
       "    var element = document.getElementById(id);\n",
       "    var ws_proxy = comm_websocket_adapter(comm);\n",
       "\n",
       "    function ondownload(figure, _format) {\n",
       "        window.open(figure.canvas.toDataURL());\n",
       "    }\n",
       "\n",
       "    var fig = new mpl.figure(id, ws_proxy, ondownload, element);\n",
       "\n",
       "    // Call onopen now - mpl needs it, as it is assuming we've passed it a real\n",
       "    // web socket which is closed, not our websocket->open comm proxy.\n",
       "    ws_proxy.onopen();\n",
       "\n",
       "    fig.parent_element = element;\n",
       "    fig.cell_info = mpl.find_output_cell(\"<div id='\" + id + \"'></div>\");\n",
       "    if (!fig.cell_info) {\n",
       "        console.error('Failed to find cell for figure', id, fig);\n",
       "        return;\n",
       "    }\n",
       "    fig.cell_info[0].output_area.element.on(\n",
       "        'cleared',\n",
       "        { fig: fig },\n",
       "        fig._remove_fig_handler\n",
       "    );\n",
       "};\n",
       "\n",
       "mpl.figure.prototype.handle_close = function (fig, msg) {\n",
       "    var width = fig.canvas.width / fig.ratio;\n",
       "    fig.cell_info[0].output_area.element.off(\n",
       "        'cleared',\n",
       "        fig._remove_fig_handler\n",
       "    );\n",
       "    fig.resizeObserverInstance.unobserve(fig.canvas_div);\n",
       "\n",
       "    // Update the output cell to use the data from the current canvas.\n",
       "    fig.push_to_output();\n",
       "    var dataURL = fig.canvas.toDataURL();\n",
       "    // Re-enable the keyboard manager in IPython - without this line, in FF,\n",
       "    // the notebook keyboard shortcuts fail.\n",
       "    IPython.keyboard_manager.enable();\n",
       "    fig.parent_element.innerHTML =\n",
       "        '<img src=\"' + dataURL + '\" width=\"' + width + '\">';\n",
       "    fig.close_ws(fig, msg);\n",
       "};\n",
       "\n",
       "mpl.figure.prototype.close_ws = function (fig, msg) {\n",
       "    fig.send_message('closing', msg);\n",
       "    // fig.ws.close()\n",
       "};\n",
       "\n",
       "mpl.figure.prototype.push_to_output = function (_remove_interactive) {\n",
       "    // Turn the data on the canvas into data in the output cell.\n",
       "    var width = this.canvas.width / this.ratio;\n",
       "    var dataURL = this.canvas.toDataURL();\n",
       "    this.cell_info[1]['text/html'] =\n",
       "        '<img src=\"' + dataURL + '\" width=\"' + width + '\">';\n",
       "};\n",
       "\n",
       "mpl.figure.prototype.updated_canvas_event = function () {\n",
       "    // Tell IPython that the notebook contents must change.\n",
       "    IPython.notebook.set_dirty(true);\n",
       "    this.send_message('ack', {});\n",
       "    var fig = this;\n",
       "    // Wait a second, then push the new image to the DOM so\n",
       "    // that it is saved nicely (might be nice to debounce this).\n",
       "    setTimeout(function () {\n",
       "        fig.push_to_output();\n",
       "    }, 1000);\n",
       "};\n",
       "\n",
       "mpl.figure.prototype._init_toolbar = function () {\n",
       "    var fig = this;\n",
       "\n",
       "    var toolbar = document.createElement('div');\n",
       "    toolbar.classList = 'btn-toolbar';\n",
       "    this.root.appendChild(toolbar);\n",
       "\n",
       "    function on_click_closure(name) {\n",
       "        return function (_event) {\n",
       "            return fig.toolbar_button_onclick(name);\n",
       "        };\n",
       "    }\n",
       "\n",
       "    function on_mouseover_closure(tooltip) {\n",
       "        return function (event) {\n",
       "            if (!event.currentTarget.disabled) {\n",
       "                return fig.toolbar_button_onmouseover(tooltip);\n",
       "            }\n",
       "        };\n",
       "    }\n",
       "\n",
       "    fig.buttons = {};\n",
       "    var buttonGroup = document.createElement('div');\n",
       "    buttonGroup.classList = 'btn-group';\n",
       "    var button;\n",
       "    for (var toolbar_ind in mpl.toolbar_items) {\n",
       "        var name = mpl.toolbar_items[toolbar_ind][0];\n",
       "        var tooltip = mpl.toolbar_items[toolbar_ind][1];\n",
       "        var image = mpl.toolbar_items[toolbar_ind][2];\n",
       "        var method_name = mpl.toolbar_items[toolbar_ind][3];\n",
       "\n",
       "        if (!name) {\n",
       "            /* Instead of a spacer, we start a new button group. */\n",
       "            if (buttonGroup.hasChildNodes()) {\n",
       "                toolbar.appendChild(buttonGroup);\n",
       "            }\n",
       "            buttonGroup = document.createElement('div');\n",
       "            buttonGroup.classList = 'btn-group';\n",
       "            continue;\n",
       "        }\n",
       "\n",
       "        button = fig.buttons[name] = document.createElement('button');\n",
       "        button.classList = 'btn btn-default';\n",
       "        button.href = '#';\n",
       "        button.title = name;\n",
       "        button.innerHTML = '<i class=\"fa ' + image + ' fa-lg\"></i>';\n",
       "        button.addEventListener('click', on_click_closure(method_name));\n",
       "        button.addEventListener('mouseover', on_mouseover_closure(tooltip));\n",
       "        buttonGroup.appendChild(button);\n",
       "    }\n",
       "\n",
       "    if (buttonGroup.hasChildNodes()) {\n",
       "        toolbar.appendChild(buttonGroup);\n",
       "    }\n",
       "\n",
       "    // Add the status bar.\n",
       "    var status_bar = document.createElement('span');\n",
       "    status_bar.classList = 'mpl-message pull-right';\n",
       "    toolbar.appendChild(status_bar);\n",
       "    this.message = status_bar;\n",
       "\n",
       "    // Add the close button to the window.\n",
       "    var buttongrp = document.createElement('div');\n",
       "    buttongrp.classList = 'btn-group inline pull-right';\n",
       "    button = document.createElement('button');\n",
       "    button.classList = 'btn btn-mini btn-primary';\n",
       "    button.href = '#';\n",
       "    button.title = 'Stop Interaction';\n",
       "    button.innerHTML = '<i class=\"fa fa-power-off icon-remove icon-large\"></i>';\n",
       "    button.addEventListener('click', function (_evt) {\n",
       "        fig.handle_close(fig, {});\n",
       "    });\n",
       "    button.addEventListener(\n",
       "        'mouseover',\n",
       "        on_mouseover_closure('Stop Interaction')\n",
       "    );\n",
       "    buttongrp.appendChild(button);\n",
       "    var titlebar = this.root.querySelector('.ui-dialog-titlebar');\n",
       "    titlebar.insertBefore(buttongrp, titlebar.firstChild);\n",
       "};\n",
       "\n",
       "mpl.figure.prototype._remove_fig_handler = function (event) {\n",
       "    var fig = event.data.fig;\n",
       "    if (event.target !== this) {\n",
       "        // Ignore bubbled events from children.\n",
       "        return;\n",
       "    }\n",
       "    fig.close_ws(fig, {});\n",
       "};\n",
       "\n",
       "mpl.figure.prototype._root_extra_style = function (el) {\n",
       "    el.style.boxSizing = 'content-box'; // override notebook setting of border-box.\n",
       "};\n",
       "\n",
       "mpl.figure.prototype._canvas_extra_style = function (el) {\n",
       "    // this is important to make the div 'focusable\n",
       "    el.setAttribute('tabindex', 0);\n",
       "    // reach out to IPython and tell the keyboard manager to turn it's self\n",
       "    // off when our div gets focus\n",
       "\n",
       "    // location in version 3\n",
       "    if (IPython.notebook.keyboard_manager) {\n",
       "        IPython.notebook.keyboard_manager.register_events(el);\n",
       "    } else {\n",
       "        // location in version 2\n",
       "        IPython.keyboard_manager.register_events(el);\n",
       "    }\n",
       "};\n",
       "\n",
       "mpl.figure.prototype._key_event_extra = function (event, _name) {\n",
       "    var manager = IPython.notebook.keyboard_manager;\n",
       "    if (!manager) {\n",
       "        manager = IPython.keyboard_manager;\n",
       "    }\n",
       "\n",
       "    // Check for shift+enter\n",
       "    if (event.shiftKey && event.which === 13) {\n",
       "        this.canvas_div.blur();\n",
       "        // select the cell after this one\n",
       "        var index = IPython.notebook.find_cell_index(this.cell_info[0]);\n",
       "        IPython.notebook.select(index + 1);\n",
       "    }\n",
       "};\n",
       "\n",
       "mpl.figure.prototype.handle_save = function (fig, _msg) {\n",
       "    fig.ondownload(fig, null);\n",
       "};\n",
       "\n",
       "mpl.find_output_cell = function (html_output) {\n",
       "    // Return the cell and output element which can be found *uniquely* in the notebook.\n",
       "    // Note - this is a bit hacky, but it is done because the \"notebook_saving.Notebook\"\n",
       "    // IPython event is triggered only after the cells have been serialised, which for\n",
       "    // our purposes (turning an active figure into a static one), is too late.\n",
       "    var cells = IPython.notebook.get_cells();\n",
       "    var ncells = cells.length;\n",
       "    for (var i = 0; i < ncells; i++) {\n",
       "        var cell = cells[i];\n",
       "        if (cell.cell_type === 'code') {\n",
       "            for (var j = 0; j < cell.output_area.outputs.length; j++) {\n",
       "                var data = cell.output_area.outputs[j];\n",
       "                if (data.data) {\n",
       "                    // IPython >= 3 moved mimebundle to data attribute of output\n",
       "                    data = data.data;\n",
       "                }\n",
       "                if (data['text/html'] === html_output) {\n",
       "                    return [cell, data, j];\n",
       "                }\n",
       "            }\n",
       "        }\n",
       "    }\n",
       "};\n",
       "\n",
       "// Register the function which deals with the matplotlib target/channel.\n",
       "// The kernel may be null if the page has been refreshed.\n",
       "if (IPython.notebook.kernel !== null) {\n",
       "    IPython.notebook.kernel.comm_manager.register_target(\n",
       "        'matplotlib',\n",
       "        mpl.mpl_figure_comm\n",
       "    );\n",
       "}\n"
      ],
      "text/plain": [
       "<IPython.core.display.Javascript object>"
      ]
     },
     "metadata": {},
     "output_type": "display_data"
    },
    {
     "data": {
      "text/html": [
       "<img src=\"data:image/png;base64,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\" width=\"640\">"
      ],
      "text/plain": [
       "<IPython.core.display.HTML object>"
      ]
     },
     "metadata": {},
     "output_type": "display_data"
    },
    {
     "data": {
      "text/plain": [
       "<matplotlib.collections.PathCollection at 0x17a0daf04f0>"
      ]
     },
     "execution_count": 65,
     "metadata": {},
     "output_type": "execute_result"
    }
   ],
   "source": [
    "plt.scatter(X,y)"
   ]
  },
  {
   "cell_type": "code",
   "execution_count": 66,
   "id": "83ecfb4e",
   "metadata": {},
   "outputs": [],
   "source": [
    "b = -520\n",
    "m = 600\n",
    "lr = 0.001\n",
    "all_b = []\n",
    "all_m = []\n",
    "all_cost = []\n",
    "\n",
    "epochs = 30\n",
    "\n",
    "for i in range(epochs):\n",
    "    slope_b = 0\n",
    "    slope_m = 0\n",
    "    cost = 0\n",
    "    for j in range(X.shape[0]):\n",
    "        slope_b = slope_b - 2*(y[j] - (m * X[j]) -  b)\n",
    "        slope_m = slope_m - 2*(y[j] - (m * X[j]) -  b)*X[j]\n",
    "        cost = cost + (y[j] - m * X[j] -b) ** 2\n",
    "\n",
    "    b = b - (lr * slope_b)\n",
    "    m = m - (lr * slope_m)\n",
    "    all_b.append(b)\n",
    "    all_m.append(m)\n",
    "    all_cost.append(cost)"
   ]
  },
  {
   "cell_type": "code",
   "execution_count": 67,
   "id": "ae958dbc",
   "metadata": {},
   "outputs": [
    {
     "data": {
      "application/javascript": [
       "/* Put everything inside the global mpl namespace */\n",
       "/* global mpl */\n",
       "window.mpl = {};\n",
       "\n",
       "mpl.get_websocket_type = function () {\n",
       "    if (typeof WebSocket !== 'undefined') {\n",
       "        return WebSocket;\n",
       "    } else if (typeof MozWebSocket !== 'undefined') {\n",
       "        return MozWebSocket;\n",
       "    } else {\n",
       "        alert(\n",
       "            'Your browser does not have WebSocket support. ' +\n",
       "                'Please try Chrome, Safari or Firefox ≥ 6. ' +\n",
       "                'Firefox 4 and 5 are also supported but you ' +\n",
       "                'have to enable WebSockets in about:config.'\n",
       "        );\n",
       "    }\n",
       "};\n",
       "\n",
       "mpl.figure = function (figure_id, websocket, ondownload, parent_element) {\n",
       "    this.id = figure_id;\n",
       "\n",
       "    this.ws = websocket;\n",
       "\n",
       "    this.supports_binary = this.ws.binaryType !== undefined;\n",
       "\n",
       "    if (!this.supports_binary) {\n",
       "        var warnings = document.getElementById('mpl-warnings');\n",
       "        if (warnings) {\n",
       "            warnings.style.display = 'block';\n",
       "            warnings.textContent =\n",
       "                'This browser does not support binary websocket messages. ' +\n",
       "                'Performance may be slow.';\n",
       "        }\n",
       "    }\n",
       "\n",
       "    this.imageObj = new Image();\n",
       "\n",
       "    this.context = undefined;\n",
       "    this.message = undefined;\n",
       "    this.canvas = undefined;\n",
       "    this.rubberband_canvas = undefined;\n",
       "    this.rubberband_context = undefined;\n",
       "    this.format_dropdown = undefined;\n",
       "\n",
       "    this.image_mode = 'full';\n",
       "\n",
       "    this.root = document.createElement('div');\n",
       "    this.root.setAttribute('style', 'display: inline-block');\n",
       "    this._root_extra_style(this.root);\n",
       "\n",
       "    parent_element.appendChild(this.root);\n",
       "\n",
       "    this._init_header(this);\n",
       "    this._init_canvas(this);\n",
       "    this._init_toolbar(this);\n",
       "\n",
       "    var fig = this;\n",
       "\n",
       "    this.waiting = false;\n",
       "\n",
       "    this.ws.onopen = function () {\n",
       "        fig.send_message('supports_binary', { value: fig.supports_binary });\n",
       "        fig.send_message('send_image_mode', {});\n",
       "        if (fig.ratio !== 1) {\n",
       "            fig.send_message('set_dpi_ratio', { dpi_ratio: fig.ratio });\n",
       "        }\n",
       "        fig.send_message('refresh', {});\n",
       "    };\n",
       "\n",
       "    this.imageObj.onload = function () {\n",
       "        if (fig.image_mode === 'full') {\n",
       "            // Full images could contain transparency (where diff images\n",
       "            // almost always do), so we need to clear the canvas so that\n",
       "            // there is no ghosting.\n",
       "            fig.context.clearRect(0, 0, fig.canvas.width, fig.canvas.height);\n",
       "        }\n",
       "        fig.context.drawImage(fig.imageObj, 0, 0);\n",
       "    };\n",
       "\n",
       "    this.imageObj.onunload = function () {\n",
       "        fig.ws.close();\n",
       "    };\n",
       "\n",
       "    this.ws.onmessage = this._make_on_message_function(this);\n",
       "\n",
       "    this.ondownload = ondownload;\n",
       "};\n",
       "\n",
       "mpl.figure.prototype._init_header = function () {\n",
       "    var titlebar = document.createElement('div');\n",
       "    titlebar.classList =\n",
       "        'ui-dialog-titlebar ui-widget-header ui-corner-all ui-helper-clearfix';\n",
       "    var titletext = document.createElement('div');\n",
       "    titletext.classList = 'ui-dialog-title';\n",
       "    titletext.setAttribute(\n",
       "        'style',\n",
       "        'width: 100%; text-align: center; padding: 3px;'\n",
       "    );\n",
       "    titlebar.appendChild(titletext);\n",
       "    this.root.appendChild(titlebar);\n",
       "    this.header = titletext;\n",
       "};\n",
       "\n",
       "mpl.figure.prototype._canvas_extra_style = function (_canvas_div) {};\n",
       "\n",
       "mpl.figure.prototype._root_extra_style = function (_canvas_div) {};\n",
       "\n",
       "mpl.figure.prototype._init_canvas = function () {\n",
       "    var fig = this;\n",
       "\n",
       "    var canvas_div = (this.canvas_div = document.createElement('div'));\n",
       "    canvas_div.setAttribute(\n",
       "        'style',\n",
       "        'border: 1px solid #ddd;' +\n",
       "            'box-sizing: content-box;' +\n",
       "            'clear: both;' +\n",
       "            'min-height: 1px;' +\n",
       "            'min-width: 1px;' +\n",
       "            'outline: 0;' +\n",
       "            'overflow: hidden;' +\n",
       "            'position: relative;' +\n",
       "            'resize: both;'\n",
       "    );\n",
       "\n",
       "    function on_keyboard_event_closure(name) {\n",
       "        return function (event) {\n",
       "            return fig.key_event(event, name);\n",
       "        };\n",
       "    }\n",
       "\n",
       "    canvas_div.addEventListener(\n",
       "        'keydown',\n",
       "        on_keyboard_event_closure('key_press')\n",
       "    );\n",
       "    canvas_div.addEventListener(\n",
       "        'keyup',\n",
       "        on_keyboard_event_closure('key_release')\n",
       "    );\n",
       "\n",
       "    this._canvas_extra_style(canvas_div);\n",
       "    this.root.appendChild(canvas_div);\n",
       "\n",
       "    var canvas = (this.canvas = document.createElement('canvas'));\n",
       "    canvas.classList.add('mpl-canvas');\n",
       "    canvas.setAttribute('style', 'box-sizing: content-box;');\n",
       "\n",
       "    this.context = canvas.getContext('2d');\n",
       "\n",
       "    var backingStore =\n",
       "        this.context.backingStorePixelRatio ||\n",
       "        this.context.webkitBackingStorePixelRatio ||\n",
       "        this.context.mozBackingStorePixelRatio ||\n",
       "        this.context.msBackingStorePixelRatio ||\n",
       "        this.context.oBackingStorePixelRatio ||\n",
       "        this.context.backingStorePixelRatio ||\n",
       "        1;\n",
       "\n",
       "    this.ratio = (window.devicePixelRatio || 1) / backingStore;\n",
       "\n",
       "    var rubberband_canvas = (this.rubberband_canvas = document.createElement(\n",
       "        'canvas'\n",
       "    ));\n",
       "    rubberband_canvas.setAttribute(\n",
       "        'style',\n",
       "        'box-sizing: content-box; position: absolute; left: 0; top: 0; z-index: 1;'\n",
       "    );\n",
       "\n",
       "    // Apply a ponyfill if ResizeObserver is not implemented by browser.\n",
       "    if (this.ResizeObserver === undefined) {\n",
       "        if (window.ResizeObserver !== undefined) {\n",
       "            this.ResizeObserver = window.ResizeObserver;\n",
       "        } else {\n",
       "            var obs = _JSXTOOLS_RESIZE_OBSERVER({});\n",
       "            this.ResizeObserver = obs.ResizeObserver;\n",
       "        }\n",
       "    }\n",
       "\n",
       "    this.resizeObserverInstance = new this.ResizeObserver(function (entries) {\n",
       "        var nentries = entries.length;\n",
       "        for (var i = 0; i < nentries; i++) {\n",
       "            var entry = entries[i];\n",
       "            var width, height;\n",
       "            if (entry.contentBoxSize) {\n",
       "                if (entry.contentBoxSize instanceof Array) {\n",
       "                    // Chrome 84 implements new version of spec.\n",
       "                    width = entry.contentBoxSize[0].inlineSize;\n",
       "                    height = entry.contentBoxSize[0].blockSize;\n",
       "                } else {\n",
       "                    // Firefox implements old version of spec.\n",
       "                    width = entry.contentBoxSize.inlineSize;\n",
       "                    height = entry.contentBoxSize.blockSize;\n",
       "                }\n",
       "            } else {\n",
       "                // Chrome <84 implements even older version of spec.\n",
       "                width = entry.contentRect.width;\n",
       "                height = entry.contentRect.height;\n",
       "            }\n",
       "\n",
       "            // Keep the size of the canvas and rubber band canvas in sync with\n",
       "            // the canvas container.\n",
       "            if (entry.devicePixelContentBoxSize) {\n",
       "                // Chrome 84 implements new version of spec.\n",
       "                canvas.setAttribute(\n",
       "                    'width',\n",
       "                    entry.devicePixelContentBoxSize[0].inlineSize\n",
       "                );\n",
       "                canvas.setAttribute(\n",
       "                    'height',\n",
       "                    entry.devicePixelContentBoxSize[0].blockSize\n",
       "                );\n",
       "            } else {\n",
       "                canvas.setAttribute('width', width * fig.ratio);\n",
       "                canvas.setAttribute('height', height * fig.ratio);\n",
       "            }\n",
       "            canvas.setAttribute(\n",
       "                'style',\n",
       "                'width: ' + width + 'px; height: ' + height + 'px;'\n",
       "            );\n",
       "\n",
       "            rubberband_canvas.setAttribute('width', width);\n",
       "            rubberband_canvas.setAttribute('height', height);\n",
       "\n",
       "            // And update the size in Python. We ignore the initial 0/0 size\n",
       "            // that occurs as the element is placed into the DOM, which should\n",
       "            // otherwise not happen due to the minimum size styling.\n",
       "            if (fig.ws.readyState == 1 && width != 0 && height != 0) {\n",
       "                fig.request_resize(width, height);\n",
       "            }\n",
       "        }\n",
       "    });\n",
       "    this.resizeObserverInstance.observe(canvas_div);\n",
       "\n",
       "    function on_mouse_event_closure(name) {\n",
       "        return function (event) {\n",
       "            return fig.mouse_event(event, name);\n",
       "        };\n",
       "    }\n",
       "\n",
       "    rubberband_canvas.addEventListener(\n",
       "        'mousedown',\n",
       "        on_mouse_event_closure('button_press')\n",
       "    );\n",
       "    rubberband_canvas.addEventListener(\n",
       "        'mouseup',\n",
       "        on_mouse_event_closure('button_release')\n",
       "    );\n",
       "    rubberband_canvas.addEventListener(\n",
       "        'dblclick',\n",
       "        on_mouse_event_closure('dblclick')\n",
       "    );\n",
       "    // Throttle sequential mouse events to 1 every 20ms.\n",
       "    rubberband_canvas.addEventListener(\n",
       "        'mousemove',\n",
       "        on_mouse_event_closure('motion_notify')\n",
       "    );\n",
       "\n",
       "    rubberband_canvas.addEventListener(\n",
       "        'mouseenter',\n",
       "        on_mouse_event_closure('figure_enter')\n",
       "    );\n",
       "    rubberband_canvas.addEventListener(\n",
       "        'mouseleave',\n",
       "        on_mouse_event_closure('figure_leave')\n",
       "    );\n",
       "\n",
       "    canvas_div.addEventListener('wheel', function (event) {\n",
       "        if (event.deltaY < 0) {\n",
       "            event.step = 1;\n",
       "        } else {\n",
       "            event.step = -1;\n",
       "        }\n",
       "        on_mouse_event_closure('scroll')(event);\n",
       "    });\n",
       "\n",
       "    canvas_div.appendChild(canvas);\n",
       "    canvas_div.appendChild(rubberband_canvas);\n",
       "\n",
       "    this.rubberband_context = rubberband_canvas.getContext('2d');\n",
       "    this.rubberband_context.strokeStyle = '#000000';\n",
       "\n",
       "    this._resize_canvas = function (width, height, forward) {\n",
       "        if (forward) {\n",
       "            canvas_div.style.width = width + 'px';\n",
       "            canvas_div.style.height = height + 'px';\n",
       "        }\n",
       "    };\n",
       "\n",
       "    // Disable right mouse context menu.\n",
       "    this.rubberband_canvas.addEventListener('contextmenu', function (_e) {\n",
       "        event.preventDefault();\n",
       "        return false;\n",
       "    });\n",
       "\n",
       "    function set_focus() {\n",
       "        canvas.focus();\n",
       "        canvas_div.focus();\n",
       "    }\n",
       "\n",
       "    window.setTimeout(set_focus, 100);\n",
       "};\n",
       "\n",
       "mpl.figure.prototype._init_toolbar = function () {\n",
       "    var fig = this;\n",
       "\n",
       "    var toolbar = document.createElement('div');\n",
       "    toolbar.classList = 'mpl-toolbar';\n",
       "    this.root.appendChild(toolbar);\n",
       "\n",
       "    function on_click_closure(name) {\n",
       "        return function (_event) {\n",
       "            return fig.toolbar_button_onclick(name);\n",
       "        };\n",
       "    }\n",
       "\n",
       "    function on_mouseover_closure(tooltip) {\n",
       "        return function (event) {\n",
       "            if (!event.currentTarget.disabled) {\n",
       "                return fig.toolbar_button_onmouseover(tooltip);\n",
       "            }\n",
       "        };\n",
       "    }\n",
       "\n",
       "    fig.buttons = {};\n",
       "    var buttonGroup = document.createElement('div');\n",
       "    buttonGroup.classList = 'mpl-button-group';\n",
       "    for (var toolbar_ind in mpl.toolbar_items) {\n",
       "        var name = mpl.toolbar_items[toolbar_ind][0];\n",
       "        var tooltip = mpl.toolbar_items[toolbar_ind][1];\n",
       "        var image = mpl.toolbar_items[toolbar_ind][2];\n",
       "        var method_name = mpl.toolbar_items[toolbar_ind][3];\n",
       "\n",
       "        if (!name) {\n",
       "            /* Instead of a spacer, we start a new button group. */\n",
       "            if (buttonGroup.hasChildNodes()) {\n",
       "                toolbar.appendChild(buttonGroup);\n",
       "            }\n",
       "            buttonGroup = document.createElement('div');\n",
       "            buttonGroup.classList = 'mpl-button-group';\n",
       "            continue;\n",
       "        }\n",
       "\n",
       "        var button = (fig.buttons[name] = document.createElement('button'));\n",
       "        button.classList = 'mpl-widget';\n",
       "        button.setAttribute('role', 'button');\n",
       "        button.setAttribute('aria-disabled', 'false');\n",
       "        button.addEventListener('click', on_click_closure(method_name));\n",
       "        button.addEventListener('mouseover', on_mouseover_closure(tooltip));\n",
       "\n",
       "        var icon_img = document.createElement('img');\n",
       "        icon_img.src = '_images/' + image + '.png';\n",
       "        icon_img.srcset = '_images/' + image + '_large.png 2x';\n",
       "        icon_img.alt = tooltip;\n",
       "        button.appendChild(icon_img);\n",
       "\n",
       "        buttonGroup.appendChild(button);\n",
       "    }\n",
       "\n",
       "    if (buttonGroup.hasChildNodes()) {\n",
       "        toolbar.appendChild(buttonGroup);\n",
       "    }\n",
       "\n",
       "    var fmt_picker = document.createElement('select');\n",
       "    fmt_picker.classList = 'mpl-widget';\n",
       "    toolbar.appendChild(fmt_picker);\n",
       "    this.format_dropdown = fmt_picker;\n",
       "\n",
       "    for (var ind in mpl.extensions) {\n",
       "        var fmt = mpl.extensions[ind];\n",
       "        var option = document.createElement('option');\n",
       "        option.selected = fmt === mpl.default_extension;\n",
       "        option.innerHTML = fmt;\n",
       "        fmt_picker.appendChild(option);\n",
       "    }\n",
       "\n",
       "    var status_bar = document.createElement('span');\n",
       "    status_bar.classList = 'mpl-message';\n",
       "    toolbar.appendChild(status_bar);\n",
       "    this.message = status_bar;\n",
       "};\n",
       "\n",
       "mpl.figure.prototype.request_resize = function (x_pixels, y_pixels) {\n",
       "    // Request matplotlib to resize the figure. Matplotlib will then trigger a resize in the client,\n",
       "    // which will in turn request a refresh of the image.\n",
       "    this.send_message('resize', { width: x_pixels, height: y_pixels });\n",
       "};\n",
       "\n",
       "mpl.figure.prototype.send_message = function (type, properties) {\n",
       "    properties['type'] = type;\n",
       "    properties['figure_id'] = this.id;\n",
       "    this.ws.send(JSON.stringify(properties));\n",
       "};\n",
       "\n",
       "mpl.figure.prototype.send_draw_message = function () {\n",
       "    if (!this.waiting) {\n",
       "        this.waiting = true;\n",
       "        this.ws.send(JSON.stringify({ type: 'draw', figure_id: this.id }));\n",
       "    }\n",
       "};\n",
       "\n",
       "mpl.figure.prototype.handle_save = function (fig, _msg) {\n",
       "    var format_dropdown = fig.format_dropdown;\n",
       "    var format = format_dropdown.options[format_dropdown.selectedIndex].value;\n",
       "    fig.ondownload(fig, format);\n",
       "};\n",
       "\n",
       "mpl.figure.prototype.handle_resize = function (fig, msg) {\n",
       "    var size = msg['size'];\n",
       "    if (size[0] !== fig.canvas.width || size[1] !== fig.canvas.height) {\n",
       "        fig._resize_canvas(size[0], size[1], msg['forward']);\n",
       "        fig.send_message('refresh', {});\n",
       "    }\n",
       "};\n",
       "\n",
       "mpl.figure.prototype.handle_rubberband = function (fig, msg) {\n",
       "    var x0 = msg['x0'] / fig.ratio;\n",
       "    var y0 = (fig.canvas.height - msg['y0']) / fig.ratio;\n",
       "    var x1 = msg['x1'] / fig.ratio;\n",
       "    var y1 = (fig.canvas.height - msg['y1']) / fig.ratio;\n",
       "    x0 = Math.floor(x0) + 0.5;\n",
       "    y0 = Math.floor(y0) + 0.5;\n",
       "    x1 = Math.floor(x1) + 0.5;\n",
       "    y1 = Math.floor(y1) + 0.5;\n",
       "    var min_x = Math.min(x0, x1);\n",
       "    var min_y = Math.min(y0, y1);\n",
       "    var width = Math.abs(x1 - x0);\n",
       "    var height = Math.abs(y1 - y0);\n",
       "\n",
       "    fig.rubberband_context.clearRect(\n",
       "        0,\n",
       "        0,\n",
       "        fig.canvas.width / fig.ratio,\n",
       "        fig.canvas.height / fig.ratio\n",
       "    );\n",
       "\n",
       "    fig.rubberband_context.strokeRect(min_x, min_y, width, height);\n",
       "};\n",
       "\n",
       "mpl.figure.prototype.handle_figure_label = function (fig, msg) {\n",
       "    // Updates the figure title.\n",
       "    fig.header.textContent = msg['label'];\n",
       "};\n",
       "\n",
       "mpl.figure.prototype.handle_cursor = function (fig, msg) {\n",
       "    var cursor = msg['cursor'];\n",
       "    switch (cursor) {\n",
       "        case 0:\n",
       "            cursor = 'pointer';\n",
       "            break;\n",
       "        case 1:\n",
       "            cursor = 'default';\n",
       "            break;\n",
       "        case 2:\n",
       "            cursor = 'crosshair';\n",
       "            break;\n",
       "        case 3:\n",
       "            cursor = 'move';\n",
       "            break;\n",
       "    }\n",
       "    fig.rubberband_canvas.style.cursor = cursor;\n",
       "};\n",
       "\n",
       "mpl.figure.prototype.handle_message = function (fig, msg) {\n",
       "    fig.message.textContent = msg['message'];\n",
       "};\n",
       "\n",
       "mpl.figure.prototype.handle_draw = function (fig, _msg) {\n",
       "    // Request the server to send over a new figure.\n",
       "    fig.send_draw_message();\n",
       "};\n",
       "\n",
       "mpl.figure.prototype.handle_image_mode = function (fig, msg) {\n",
       "    fig.image_mode = msg['mode'];\n",
       "};\n",
       "\n",
       "mpl.figure.prototype.handle_history_buttons = function (fig, msg) {\n",
       "    for (var key in msg) {\n",
       "        if (!(key in fig.buttons)) {\n",
       "            continue;\n",
       "        }\n",
       "        fig.buttons[key].disabled = !msg[key];\n",
       "        fig.buttons[key].setAttribute('aria-disabled', !msg[key]);\n",
       "    }\n",
       "};\n",
       "\n",
       "mpl.figure.prototype.handle_navigate_mode = function (fig, msg) {\n",
       "    if (msg['mode'] === 'PAN') {\n",
       "        fig.buttons['Pan'].classList.add('active');\n",
       "        fig.buttons['Zoom'].classList.remove('active');\n",
       "    } else if (msg['mode'] === 'ZOOM') {\n",
       "        fig.buttons['Pan'].classList.remove('active');\n",
       "        fig.buttons['Zoom'].classList.add('active');\n",
       "    } else {\n",
       "        fig.buttons['Pan'].classList.remove('active');\n",
       "        fig.buttons['Zoom'].classList.remove('active');\n",
       "    }\n",
       "};\n",
       "\n",
       "mpl.figure.prototype.updated_canvas_event = function () {\n",
       "    // Called whenever the canvas gets updated.\n",
       "    this.send_message('ack', {});\n",
       "};\n",
       "\n",
       "// A function to construct a web socket function for onmessage handling.\n",
       "// Called in the figure constructor.\n",
       "mpl.figure.prototype._make_on_message_function = function (fig) {\n",
       "    return function socket_on_message(evt) {\n",
       "        if (evt.data instanceof Blob) {\n",
       "            var img = evt.data;\n",
       "            if (img.type !== 'image/png') {\n",
       "                /* FIXME: We get \"Resource interpreted as Image but\n",
       "                 * transferred with MIME type text/plain:\" errors on\n",
       "                 * Chrome.  But how to set the MIME type?  It doesn't seem\n",
       "                 * to be part of the websocket stream */\n",
       "                img.type = 'image/png';\n",
       "            }\n",
       "\n",
       "            /* Free the memory for the previous frames */\n",
       "            if (fig.imageObj.src) {\n",
       "                (window.URL || window.webkitURL).revokeObjectURL(\n",
       "                    fig.imageObj.src\n",
       "                );\n",
       "            }\n",
       "\n",
       "            fig.imageObj.src = (window.URL || window.webkitURL).createObjectURL(\n",
       "                img\n",
       "            );\n",
       "            fig.updated_canvas_event();\n",
       "            fig.waiting = false;\n",
       "            return;\n",
       "        } else if (\n",
       "            typeof evt.data === 'string' &&\n",
       "            evt.data.slice(0, 21) === 'data:image/png;base64'\n",
       "        ) {\n",
       "            fig.imageObj.src = evt.data;\n",
       "            fig.updated_canvas_event();\n",
       "            fig.waiting = false;\n",
       "            return;\n",
       "        }\n",
       "\n",
       "        var msg = JSON.parse(evt.data);\n",
       "        var msg_type = msg['type'];\n",
       "\n",
       "        // Call the  \"handle_{type}\" callback, which takes\n",
       "        // the figure and JSON message as its only arguments.\n",
       "        try {\n",
       "            var callback = fig['handle_' + msg_type];\n",
       "        } catch (e) {\n",
       "            console.log(\n",
       "                \"No handler for the '\" + msg_type + \"' message type: \",\n",
       "                msg\n",
       "            );\n",
       "            return;\n",
       "        }\n",
       "\n",
       "        if (callback) {\n",
       "            try {\n",
       "                // console.log(\"Handling '\" + msg_type + \"' message: \", msg);\n",
       "                callback(fig, msg);\n",
       "            } catch (e) {\n",
       "                console.log(\n",
       "                    \"Exception inside the 'handler_\" + msg_type + \"' callback:\",\n",
       "                    e,\n",
       "                    e.stack,\n",
       "                    msg\n",
       "                );\n",
       "            }\n",
       "        }\n",
       "    };\n",
       "};\n",
       "\n",
       "// from http://stackoverflow.com/questions/1114465/getting-mouse-location-in-canvas\n",
       "mpl.findpos = function (e) {\n",
       "    //this section is from http://www.quirksmode.org/js/events_properties.html\n",
       "    var targ;\n",
       "    if (!e) {\n",
       "        e = window.event;\n",
       "    }\n",
       "    if (e.target) {\n",
       "        targ = e.target;\n",
       "    } else if (e.srcElement) {\n",
       "        targ = e.srcElement;\n",
       "    }\n",
       "    if (targ.nodeType === 3) {\n",
       "        // defeat Safari bug\n",
       "        targ = targ.parentNode;\n",
       "    }\n",
       "\n",
       "    // pageX,Y are the mouse positions relative to the document\n",
       "    var boundingRect = targ.getBoundingClientRect();\n",
       "    var x = e.pageX - (boundingRect.left + document.body.scrollLeft);\n",
       "    var y = e.pageY - (boundingRect.top + document.body.scrollTop);\n",
       "\n",
       "    return { x: x, y: y };\n",
       "};\n",
       "\n",
       "/*\n",
       " * return a copy of an object with only non-object keys\n",
       " * we need this to avoid circular references\n",
       " * http://stackoverflow.com/a/24161582/3208463\n",
       " */\n",
       "function simpleKeys(original) {\n",
       "    return Object.keys(original).reduce(function (obj, key) {\n",
       "        if (typeof original[key] !== 'object') {\n",
       "            obj[key] = original[key];\n",
       "        }\n",
       "        return obj;\n",
       "    }, {});\n",
       "}\n",
       "\n",
       "mpl.figure.prototype.mouse_event = function (event, name) {\n",
       "    var canvas_pos = mpl.findpos(event);\n",
       "\n",
       "    if (name === 'button_press') {\n",
       "        this.canvas.focus();\n",
       "        this.canvas_div.focus();\n",
       "    }\n",
       "\n",
       "    var x = canvas_pos.x * this.ratio;\n",
       "    var y = canvas_pos.y * this.ratio;\n",
       "\n",
       "    this.send_message(name, {\n",
       "        x: x,\n",
       "        y: y,\n",
       "        button: event.button,\n",
       "        step: event.step,\n",
       "        guiEvent: simpleKeys(event),\n",
       "    });\n",
       "\n",
       "    /* This prevents the web browser from automatically changing to\n",
       "     * the text insertion cursor when the button is pressed.  We want\n",
       "     * to control all of the cursor setting manually through the\n",
       "     * 'cursor' event from matplotlib */\n",
       "    event.preventDefault();\n",
       "    return false;\n",
       "};\n",
       "\n",
       "mpl.figure.prototype._key_event_extra = function (_event, _name) {\n",
       "    // Handle any extra behaviour associated with a key event\n",
       "};\n",
       "\n",
       "mpl.figure.prototype.key_event = function (event, name) {\n",
       "    // Prevent repeat events\n",
       "    if (name === 'key_press') {\n",
       "        if (event.key === this._key) {\n",
       "            return;\n",
       "        } else {\n",
       "            this._key = event.key;\n",
       "        }\n",
       "    }\n",
       "    if (name === 'key_release') {\n",
       "        this._key = null;\n",
       "    }\n",
       "\n",
       "    var value = '';\n",
       "    if (event.ctrlKey && event.key !== 'Control') {\n",
       "        value += 'ctrl+';\n",
       "    }\n",
       "    else if (event.altKey && event.key !== 'Alt') {\n",
       "        value += 'alt+';\n",
       "    }\n",
       "    else if (event.shiftKey && event.key !== 'Shift') {\n",
       "        value += 'shift+';\n",
       "    }\n",
       "\n",
       "    value += 'k' + event.key;\n",
       "\n",
       "    this._key_event_extra(event, name);\n",
       "\n",
       "    this.send_message(name, { key: value, guiEvent: simpleKeys(event) });\n",
       "    return false;\n",
       "};\n",
       "\n",
       "mpl.figure.prototype.toolbar_button_onclick = function (name) {\n",
       "    if (name === 'download') {\n",
       "        this.handle_save(this, null);\n",
       "    } else {\n",
       "        this.send_message('toolbar_button', { name: name });\n",
       "    }\n",
       "};\n",
       "\n",
       "mpl.figure.prototype.toolbar_button_onmouseover = function (tooltip) {\n",
       "    this.message.textContent = tooltip;\n",
       "};\n",
       "\n",
       "///////////////// REMAINING CONTENT GENERATED BY embed_js.py /////////////////\n",
       "// prettier-ignore\n",
       "var _JSXTOOLS_RESIZE_OBSERVER=function(A){var t,i=new WeakMap,n=new WeakMap,a=new WeakMap,r=new WeakMap,o=new Set;function s(e){if(!(this instanceof s))throw new TypeError(\"Constructor requires 'new' operator\");i.set(this,e)}function h(){throw new TypeError(\"Function is not a constructor\")}function c(e,t,i,n){e=0 in arguments?Number(arguments[0]):0,t=1 in arguments?Number(arguments[1]):0,i=2 in arguments?Number(arguments[2]):0,n=3 in arguments?Number(arguments[3]):0,this.right=(this.x=this.left=e)+(this.width=i),this.bottom=(this.y=this.top=t)+(this.height=n),Object.freeze(this)}function d(){t=requestAnimationFrame(d);var s=new WeakMap,p=new Set;o.forEach((function(t){r.get(t).forEach((function(i){var r=t instanceof window.SVGElement,o=a.get(t),d=r?0:parseFloat(o.paddingTop),f=r?0:parseFloat(o.paddingRight),l=r?0:parseFloat(o.paddingBottom),u=r?0:parseFloat(o.paddingLeft),g=r?0:parseFloat(o.borderTopWidth),m=r?0:parseFloat(o.borderRightWidth),w=r?0:parseFloat(o.borderBottomWidth),b=u+f,F=d+l,v=(r?0:parseFloat(o.borderLeftWidth))+m,W=g+w,y=r?0:t.offsetHeight-W-t.clientHeight,E=r?0:t.offsetWidth-v-t.clientWidth,R=b+v,z=F+W,M=r?t.width:parseFloat(o.width)-R-E,O=r?t.height:parseFloat(o.height)-z-y;if(n.has(t)){var k=n.get(t);if(k[0]===M&&k[1]===O)return}n.set(t,[M,O]);var S=Object.create(h.prototype);S.target=t,S.contentRect=new c(u,d,M,O),s.has(i)||(s.set(i,[]),p.add(i)),s.get(i).push(S)}))})),p.forEach((function(e){i.get(e).call(e,s.get(e),e)}))}return s.prototype.observe=function(i){if(i instanceof window.Element){r.has(i)||(r.set(i,new Set),o.add(i),a.set(i,window.getComputedStyle(i)));var n=r.get(i);n.has(this)||n.add(this),cancelAnimationFrame(t),t=requestAnimationFrame(d)}},s.prototype.unobserve=function(i){if(i instanceof window.Element&&r.has(i)){var n=r.get(i);n.has(this)&&(n.delete(this),n.size||(r.delete(i),o.delete(i))),n.size||r.delete(i),o.size||cancelAnimationFrame(t)}},A.DOMRectReadOnly=c,A.ResizeObserver=s,A.ResizeObserverEntry=h,A}; // eslint-disable-line\n",
       "mpl.toolbar_items = [[\"Home\", \"Reset original view\", \"fa fa-home icon-home\", \"home\"], [\"Back\", \"Back to previous view\", \"fa fa-arrow-left icon-arrow-left\", \"back\"], [\"Forward\", \"Forward to next view\", \"fa fa-arrow-right icon-arrow-right\", \"forward\"], [\"\", \"\", \"\", \"\"], [\"Pan\", \"Left button pans, Right button zooms\\nx/y fixes axis, CTRL fixes aspect\", \"fa fa-arrows icon-move\", \"pan\"], [\"Zoom\", \"Zoom to rectangle\\nx/y fixes axis, CTRL fixes aspect\", \"fa fa-square-o icon-check-empty\", \"zoom\"], [\"\", \"\", \"\", \"\"], [\"Download\", \"Download plot\", \"fa fa-floppy-o icon-save\", \"download\"]];\n",
       "\n",
       "mpl.extensions = [\"eps\", \"jpeg\", \"pgf\", \"pdf\", \"png\", \"ps\", \"raw\", \"svg\", \"tif\"];\n",
       "\n",
       "mpl.default_extension = \"png\";/* global mpl */\n",
       "\n",
       "var comm_websocket_adapter = function (comm) {\n",
       "    // Create a \"websocket\"-like object which calls the given IPython comm\n",
       "    // object with the appropriate methods. Currently this is a non binary\n",
       "    // socket, so there is still some room for performance tuning.\n",
       "    var ws = {};\n",
       "\n",
       "    ws.binaryType = comm.kernel.ws.binaryType;\n",
       "    ws.readyState = comm.kernel.ws.readyState;\n",
       "    function updateReadyState(_event) {\n",
       "        if (comm.kernel.ws) {\n",
       "            ws.readyState = comm.kernel.ws.readyState;\n",
       "        } else {\n",
       "            ws.readyState = 3; // Closed state.\n",
       "        }\n",
       "    }\n",
       "    comm.kernel.ws.addEventListener('open', updateReadyState);\n",
       "    comm.kernel.ws.addEventListener('close', updateReadyState);\n",
       "    comm.kernel.ws.addEventListener('error', updateReadyState);\n",
       "\n",
       "    ws.close = function () {\n",
       "        comm.close();\n",
       "    };\n",
       "    ws.send = function (m) {\n",
       "        //console.log('sending', m);\n",
       "        comm.send(m);\n",
       "    };\n",
       "    // Register the callback with on_msg.\n",
       "    comm.on_msg(function (msg) {\n",
       "        //console.log('receiving', msg['content']['data'], msg);\n",
       "        var data = msg['content']['data'];\n",
       "        if (data['blob'] !== undefined) {\n",
       "            data = {\n",
       "                data: new Blob(msg['buffers'], { type: data['blob'] }),\n",
       "            };\n",
       "        }\n",
       "        // Pass the mpl event to the overridden (by mpl) onmessage function.\n",
       "        ws.onmessage(data);\n",
       "    });\n",
       "    return ws;\n",
       "};\n",
       "\n",
       "mpl.mpl_figure_comm = function (comm, msg) {\n",
       "    // This is the function which gets called when the mpl process\n",
       "    // starts-up an IPython Comm through the \"matplotlib\" channel.\n",
       "\n",
       "    var id = msg.content.data.id;\n",
       "    // Get hold of the div created by the display call when the Comm\n",
       "    // socket was opened in Python.\n",
       "    var element = document.getElementById(id);\n",
       "    var ws_proxy = comm_websocket_adapter(comm);\n",
       "\n",
       "    function ondownload(figure, _format) {\n",
       "        window.open(figure.canvas.toDataURL());\n",
       "    }\n",
       "\n",
       "    var fig = new mpl.figure(id, ws_proxy, ondownload, element);\n",
       "\n",
       "    // Call onopen now - mpl needs it, as it is assuming we've passed it a real\n",
       "    // web socket which is closed, not our websocket->open comm proxy.\n",
       "    ws_proxy.onopen();\n",
       "\n",
       "    fig.parent_element = element;\n",
       "    fig.cell_info = mpl.find_output_cell(\"<div id='\" + id + \"'></div>\");\n",
       "    if (!fig.cell_info) {\n",
       "        console.error('Failed to find cell for figure', id, fig);\n",
       "        return;\n",
       "    }\n",
       "    fig.cell_info[0].output_area.element.on(\n",
       "        'cleared',\n",
       "        { fig: fig },\n",
       "        fig._remove_fig_handler\n",
       "    );\n",
       "};\n",
       "\n",
       "mpl.figure.prototype.handle_close = function (fig, msg) {\n",
       "    var width = fig.canvas.width / fig.ratio;\n",
       "    fig.cell_info[0].output_area.element.off(\n",
       "        'cleared',\n",
       "        fig._remove_fig_handler\n",
       "    );\n",
       "    fig.resizeObserverInstance.unobserve(fig.canvas_div);\n",
       "\n",
       "    // Update the output cell to use the data from the current canvas.\n",
       "    fig.push_to_output();\n",
       "    var dataURL = fig.canvas.toDataURL();\n",
       "    // Re-enable the keyboard manager in IPython - without this line, in FF,\n",
       "    // the notebook keyboard shortcuts fail.\n",
       "    IPython.keyboard_manager.enable();\n",
       "    fig.parent_element.innerHTML =\n",
       "        '<img src=\"' + dataURL + '\" width=\"' + width + '\">';\n",
       "    fig.close_ws(fig, msg);\n",
       "};\n",
       "\n",
       "mpl.figure.prototype.close_ws = function (fig, msg) {\n",
       "    fig.send_message('closing', msg);\n",
       "    // fig.ws.close()\n",
       "};\n",
       "\n",
       "mpl.figure.prototype.push_to_output = function (_remove_interactive) {\n",
       "    // Turn the data on the canvas into data in the output cell.\n",
       "    var width = this.canvas.width / this.ratio;\n",
       "    var dataURL = this.canvas.toDataURL();\n",
       "    this.cell_info[1]['text/html'] =\n",
       "        '<img src=\"' + dataURL + '\" width=\"' + width + '\">';\n",
       "};\n",
       "\n",
       "mpl.figure.prototype.updated_canvas_event = function () {\n",
       "    // Tell IPython that the notebook contents must change.\n",
       "    IPython.notebook.set_dirty(true);\n",
       "    this.send_message('ack', {});\n",
       "    var fig = this;\n",
       "    // Wait a second, then push the new image to the DOM so\n",
       "    // that it is saved nicely (might be nice to debounce this).\n",
       "    setTimeout(function () {\n",
       "        fig.push_to_output();\n",
       "    }, 1000);\n",
       "};\n",
       "\n",
       "mpl.figure.prototype._init_toolbar = function () {\n",
       "    var fig = this;\n",
       "\n",
       "    var toolbar = document.createElement('div');\n",
       "    toolbar.classList = 'btn-toolbar';\n",
       "    this.root.appendChild(toolbar);\n",
       "\n",
       "    function on_click_closure(name) {\n",
       "        return function (_event) {\n",
       "            return fig.toolbar_button_onclick(name);\n",
       "        };\n",
       "    }\n",
       "\n",
       "    function on_mouseover_closure(tooltip) {\n",
       "        return function (event) {\n",
       "            if (!event.currentTarget.disabled) {\n",
       "                return fig.toolbar_button_onmouseover(tooltip);\n",
       "            }\n",
       "        };\n",
       "    }\n",
       "\n",
       "    fig.buttons = {};\n",
       "    var buttonGroup = document.createElement('div');\n",
       "    buttonGroup.classList = 'btn-group';\n",
       "    var button;\n",
       "    for (var toolbar_ind in mpl.toolbar_items) {\n",
       "        var name = mpl.toolbar_items[toolbar_ind][0];\n",
       "        var tooltip = mpl.toolbar_items[toolbar_ind][1];\n",
       "        var image = mpl.toolbar_items[toolbar_ind][2];\n",
       "        var method_name = mpl.toolbar_items[toolbar_ind][3];\n",
       "\n",
       "        if (!name) {\n",
       "            /* Instead of a spacer, we start a new button group. */\n",
       "            if (buttonGroup.hasChildNodes()) {\n",
       "                toolbar.appendChild(buttonGroup);\n",
       "            }\n",
       "            buttonGroup = document.createElement('div');\n",
       "            buttonGroup.classList = 'btn-group';\n",
       "            continue;\n",
       "        }\n",
       "\n",
       "        button = fig.buttons[name] = document.createElement('button');\n",
       "        button.classList = 'btn btn-default';\n",
       "        button.href = '#';\n",
       "        button.title = name;\n",
       "        button.innerHTML = '<i class=\"fa ' + image + ' fa-lg\"></i>';\n",
       "        button.addEventListener('click', on_click_closure(method_name));\n",
       "        button.addEventListener('mouseover', on_mouseover_closure(tooltip));\n",
       "        buttonGroup.appendChild(button);\n",
       "    }\n",
       "\n",
       "    if (buttonGroup.hasChildNodes()) {\n",
       "        toolbar.appendChild(buttonGroup);\n",
       "    }\n",
       "\n",
       "    // Add the status bar.\n",
       "    var status_bar = document.createElement('span');\n",
       "    status_bar.classList = 'mpl-message pull-right';\n",
       "    toolbar.appendChild(status_bar);\n",
       "    this.message = status_bar;\n",
       "\n",
       "    // Add the close button to the window.\n",
       "    var buttongrp = document.createElement('div');\n",
       "    buttongrp.classList = 'btn-group inline pull-right';\n",
       "    button = document.createElement('button');\n",
       "    button.classList = 'btn btn-mini btn-primary';\n",
       "    button.href = '#';\n",
       "    button.title = 'Stop Interaction';\n",
       "    button.innerHTML = '<i class=\"fa fa-power-off icon-remove icon-large\"></i>';\n",
       "    button.addEventListener('click', function (_evt) {\n",
       "        fig.handle_close(fig, {});\n",
       "    });\n",
       "    button.addEventListener(\n",
       "        'mouseover',\n",
       "        on_mouseover_closure('Stop Interaction')\n",
       "    );\n",
       "    buttongrp.appendChild(button);\n",
       "    var titlebar = this.root.querySelector('.ui-dialog-titlebar');\n",
       "    titlebar.insertBefore(buttongrp, titlebar.firstChild);\n",
       "};\n",
       "\n",
       "mpl.figure.prototype._remove_fig_handler = function (event) {\n",
       "    var fig = event.data.fig;\n",
       "    if (event.target !== this) {\n",
       "        // Ignore bubbled events from children.\n",
       "        return;\n",
       "    }\n",
       "    fig.close_ws(fig, {});\n",
       "};\n",
       "\n",
       "mpl.figure.prototype._root_extra_style = function (el) {\n",
       "    el.style.boxSizing = 'content-box'; // override notebook setting of border-box.\n",
       "};\n",
       "\n",
       "mpl.figure.prototype._canvas_extra_style = function (el) {\n",
       "    // this is important to make the div 'focusable\n",
       "    el.setAttribute('tabindex', 0);\n",
       "    // reach out to IPython and tell the keyboard manager to turn it's self\n",
       "    // off when our div gets focus\n",
       "\n",
       "    // location in version 3\n",
       "    if (IPython.notebook.keyboard_manager) {\n",
       "        IPython.notebook.keyboard_manager.register_events(el);\n",
       "    } else {\n",
       "        // location in version 2\n",
       "        IPython.keyboard_manager.register_events(el);\n",
       "    }\n",
       "};\n",
       "\n",
       "mpl.figure.prototype._key_event_extra = function (event, _name) {\n",
       "    var manager = IPython.notebook.keyboard_manager;\n",
       "    if (!manager) {\n",
       "        manager = IPython.keyboard_manager;\n",
       "    }\n",
       "\n",
       "    // Check for shift+enter\n",
       "    if (event.shiftKey && event.which === 13) {\n",
       "        this.canvas_div.blur();\n",
       "        // select the cell after this one\n",
       "        var index = IPython.notebook.find_cell_index(this.cell_info[0]);\n",
       "        IPython.notebook.select(index + 1);\n",
       "    }\n",
       "};\n",
       "\n",
       "mpl.figure.prototype.handle_save = function (fig, _msg) {\n",
       "    fig.ondownload(fig, null);\n",
       "};\n",
       "\n",
       "mpl.find_output_cell = function (html_output) {\n",
       "    // Return the cell and output element which can be found *uniquely* in the notebook.\n",
       "    // Note - this is a bit hacky, but it is done because the \"notebook_saving.Notebook\"\n",
       "    // IPython event is triggered only after the cells have been serialised, which for\n",
       "    // our purposes (turning an active figure into a static one), is too late.\n",
       "    var cells = IPython.notebook.get_cells();\n",
       "    var ncells = cells.length;\n",
       "    for (var i = 0; i < ncells; i++) {\n",
       "        var cell = cells[i];\n",
       "        if (cell.cell_type === 'code') {\n",
       "            for (var j = 0; j < cell.output_area.outputs.length; j++) {\n",
       "                var data = cell.output_area.outputs[j];\n",
       "                if (data.data) {\n",
       "                    // IPython >= 3 moved mimebundle to data attribute of output\n",
       "                    data = data.data;\n",
       "                }\n",
       "                if (data['text/html'] === html_output) {\n",
       "                    return [cell, data, j];\n",
       "                }\n",
       "            }\n",
       "        }\n",
       "    }\n",
       "};\n",
       "\n",
       "// Register the function which deals with the matplotlib target/channel.\n",
       "// The kernel may be null if the page has been refreshed.\n",
       "if (IPython.notebook.kernel !== null) {\n",
       "    IPython.notebook.kernel.comm_manager.register_target(\n",
       "        'matplotlib',\n",
       "        mpl.mpl_figure_comm\n",
       "    );\n",
       "}\n"
      ],
      "text/plain": [
       "<IPython.core.display.Javascript object>"
      ]
     },
     "metadata": {},
     "output_type": "display_data"
    },
    {
     "data": {
      "text/html": [
       "<img src=\"data:image/png;base64,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\" width=\"900\">"
      ],
      "text/plain": [
       "<IPython.core.display.HTML object>"
      ]
     },
     "metadata": {},
     "output_type": "display_data"
    }
   ],
   "source": [
    "fig, ax = plt.subplots(figsize=(9,5))\n",
    "#fig.set_tight_layout(True)\n",
    "\n",
    "x_i = np.arange(-3, 3, 0.1)\n",
    "y_i = x_i*(-27) -150\n",
    "ax.scatter(X, y)\n",
    "line, = ax.plot(x_i, x_i*50 - 4, 'r-', linewidth=2)\n",
    "\n",
    "def update(i):\n",
    "    label = 'epoch {0}'.format(i + 1)\n",
    "    line.set_ydata(x_i*all_m[i] + all_b[i])\n",
    "    ax.set_xlabel(label)\n",
    "    # return line, ax\n",
    "\n",
    "anim = FuncAnimation(fig, update, repeat=True, frames=epochs, interval=500)\n",
    "\n",
    "#f = r\"animation4.gif\" \n",
    "#writergif = animation.PillowWriter(fps=2) \n",
    "#anim.save(f, writer=writergif)\n"
   ]
  },
  {
   "cell_type": "code",
   "execution_count": 68,
   "id": "beeeb4a3",
   "metadata": {},
   "outputs": [
    {
     "data": {
      "application/javascript": [
       "/* Put everything inside the global mpl namespace */\n",
       "/* global mpl */\n",
       "window.mpl = {};\n",
       "\n",
       "mpl.get_websocket_type = function () {\n",
       "    if (typeof WebSocket !== 'undefined') {\n",
       "        return WebSocket;\n",
       "    } else if (typeof MozWebSocket !== 'undefined') {\n",
       "        return MozWebSocket;\n",
       "    } else {\n",
       "        alert(\n",
       "            'Your browser does not have WebSocket support. ' +\n",
       "                'Please try Chrome, Safari or Firefox ≥ 6. ' +\n",
       "                'Firefox 4 and 5 are also supported but you ' +\n",
       "                'have to enable WebSockets in about:config.'\n",
       "        );\n",
       "    }\n",
       "};\n",
       "\n",
       "mpl.figure = function (figure_id, websocket, ondownload, parent_element) {\n",
       "    this.id = figure_id;\n",
       "\n",
       "    this.ws = websocket;\n",
       "\n",
       "    this.supports_binary = this.ws.binaryType !== undefined;\n",
       "\n",
       "    if (!this.supports_binary) {\n",
       "        var warnings = document.getElementById('mpl-warnings');\n",
       "        if (warnings) {\n",
       "            warnings.style.display = 'block';\n",
       "            warnings.textContent =\n",
       "                'This browser does not support binary websocket messages. ' +\n",
       "                'Performance may be slow.';\n",
       "        }\n",
       "    }\n",
       "\n",
       "    this.imageObj = new Image();\n",
       "\n",
       "    this.context = undefined;\n",
       "    this.message = undefined;\n",
       "    this.canvas = undefined;\n",
       "    this.rubberband_canvas = undefined;\n",
       "    this.rubberband_context = undefined;\n",
       "    this.format_dropdown = undefined;\n",
       "\n",
       "    this.image_mode = 'full';\n",
       "\n",
       "    this.root = document.createElement('div');\n",
       "    this.root.setAttribute('style', 'display: inline-block');\n",
       "    this._root_extra_style(this.root);\n",
       "\n",
       "    parent_element.appendChild(this.root);\n",
       "\n",
       "    this._init_header(this);\n",
       "    this._init_canvas(this);\n",
       "    this._init_toolbar(this);\n",
       "\n",
       "    var fig = this;\n",
       "\n",
       "    this.waiting = false;\n",
       "\n",
       "    this.ws.onopen = function () {\n",
       "        fig.send_message('supports_binary', { value: fig.supports_binary });\n",
       "        fig.send_message('send_image_mode', {});\n",
       "        if (fig.ratio !== 1) {\n",
       "            fig.send_message('set_dpi_ratio', { dpi_ratio: fig.ratio });\n",
       "        }\n",
       "        fig.send_message('refresh', {});\n",
       "    };\n",
       "\n",
       "    this.imageObj.onload = function () {\n",
       "        if (fig.image_mode === 'full') {\n",
       "            // Full images could contain transparency (where diff images\n",
       "            // almost always do), so we need to clear the canvas so that\n",
       "            // there is no ghosting.\n",
       "            fig.context.clearRect(0, 0, fig.canvas.width, fig.canvas.height);\n",
       "        }\n",
       "        fig.context.drawImage(fig.imageObj, 0, 0);\n",
       "    };\n",
       "\n",
       "    this.imageObj.onunload = function () {\n",
       "        fig.ws.close();\n",
       "    };\n",
       "\n",
       "    this.ws.onmessage = this._make_on_message_function(this);\n",
       "\n",
       "    this.ondownload = ondownload;\n",
       "};\n",
       "\n",
       "mpl.figure.prototype._init_header = function () {\n",
       "    var titlebar = document.createElement('div');\n",
       "    titlebar.classList =\n",
       "        'ui-dialog-titlebar ui-widget-header ui-corner-all ui-helper-clearfix';\n",
       "    var titletext = document.createElement('div');\n",
       "    titletext.classList = 'ui-dialog-title';\n",
       "    titletext.setAttribute(\n",
       "        'style',\n",
       "        'width: 100%; text-align: center; padding: 3px;'\n",
       "    );\n",
       "    titlebar.appendChild(titletext);\n",
       "    this.root.appendChild(titlebar);\n",
       "    this.header = titletext;\n",
       "};\n",
       "\n",
       "mpl.figure.prototype._canvas_extra_style = function (_canvas_div) {};\n",
       "\n",
       "mpl.figure.prototype._root_extra_style = function (_canvas_div) {};\n",
       "\n",
       "mpl.figure.prototype._init_canvas = function () {\n",
       "    var fig = this;\n",
       "\n",
       "    var canvas_div = (this.canvas_div = document.createElement('div'));\n",
       "    canvas_div.setAttribute(\n",
       "        'style',\n",
       "        'border: 1px solid #ddd;' +\n",
       "            'box-sizing: content-box;' +\n",
       "            'clear: both;' +\n",
       "            'min-height: 1px;' +\n",
       "            'min-width: 1px;' +\n",
       "            'outline: 0;' +\n",
       "            'overflow: hidden;' +\n",
       "            'position: relative;' +\n",
       "            'resize: both;'\n",
       "    );\n",
       "\n",
       "    function on_keyboard_event_closure(name) {\n",
       "        return function (event) {\n",
       "            return fig.key_event(event, name);\n",
       "        };\n",
       "    }\n",
       "\n",
       "    canvas_div.addEventListener(\n",
       "        'keydown',\n",
       "        on_keyboard_event_closure('key_press')\n",
       "    );\n",
       "    canvas_div.addEventListener(\n",
       "        'keyup',\n",
       "        on_keyboard_event_closure('key_release')\n",
       "    );\n",
       "\n",
       "    this._canvas_extra_style(canvas_div);\n",
       "    this.root.appendChild(canvas_div);\n",
       "\n",
       "    var canvas = (this.canvas = document.createElement('canvas'));\n",
       "    canvas.classList.add('mpl-canvas');\n",
       "    canvas.setAttribute('style', 'box-sizing: content-box;');\n",
       "\n",
       "    this.context = canvas.getContext('2d');\n",
       "\n",
       "    var backingStore =\n",
       "        this.context.backingStorePixelRatio ||\n",
       "        this.context.webkitBackingStorePixelRatio ||\n",
       "        this.context.mozBackingStorePixelRatio ||\n",
       "        this.context.msBackingStorePixelRatio ||\n",
       "        this.context.oBackingStorePixelRatio ||\n",
       "        this.context.backingStorePixelRatio ||\n",
       "        1;\n",
       "\n",
       "    this.ratio = (window.devicePixelRatio || 1) / backingStore;\n",
       "\n",
       "    var rubberband_canvas = (this.rubberband_canvas = document.createElement(\n",
       "        'canvas'\n",
       "    ));\n",
       "    rubberband_canvas.setAttribute(\n",
       "        'style',\n",
       "        'box-sizing: content-box; position: absolute; left: 0; top: 0; z-index: 1;'\n",
       "    );\n",
       "\n",
       "    // Apply a ponyfill if ResizeObserver is not implemented by browser.\n",
       "    if (this.ResizeObserver === undefined) {\n",
       "        if (window.ResizeObserver !== undefined) {\n",
       "            this.ResizeObserver = window.ResizeObserver;\n",
       "        } else {\n",
       "            var obs = _JSXTOOLS_RESIZE_OBSERVER({});\n",
       "            this.ResizeObserver = obs.ResizeObserver;\n",
       "        }\n",
       "    }\n",
       "\n",
       "    this.resizeObserverInstance = new this.ResizeObserver(function (entries) {\n",
       "        var nentries = entries.length;\n",
       "        for (var i = 0; i < nentries; i++) {\n",
       "            var entry = entries[i];\n",
       "            var width, height;\n",
       "            if (entry.contentBoxSize) {\n",
       "                if (entry.contentBoxSize instanceof Array) {\n",
       "                    // Chrome 84 implements new version of spec.\n",
       "                    width = entry.contentBoxSize[0].inlineSize;\n",
       "                    height = entry.contentBoxSize[0].blockSize;\n",
       "                } else {\n",
       "                    // Firefox implements old version of spec.\n",
       "                    width = entry.contentBoxSize.inlineSize;\n",
       "                    height = entry.contentBoxSize.blockSize;\n",
       "                }\n",
       "            } else {\n",
       "                // Chrome <84 implements even older version of spec.\n",
       "                width = entry.contentRect.width;\n",
       "                height = entry.contentRect.height;\n",
       "            }\n",
       "\n",
       "            // Keep the size of the canvas and rubber band canvas in sync with\n",
       "            // the canvas container.\n",
       "            if (entry.devicePixelContentBoxSize) {\n",
       "                // Chrome 84 implements new version of spec.\n",
       "                canvas.setAttribute(\n",
       "                    'width',\n",
       "                    entry.devicePixelContentBoxSize[0].inlineSize\n",
       "                );\n",
       "                canvas.setAttribute(\n",
       "                    'height',\n",
       "                    entry.devicePixelContentBoxSize[0].blockSize\n",
       "                );\n",
       "            } else {\n",
       "                canvas.setAttribute('width', width * fig.ratio);\n",
       "                canvas.setAttribute('height', height * fig.ratio);\n",
       "            }\n",
       "            canvas.setAttribute(\n",
       "                'style',\n",
       "                'width: ' + width + 'px; height: ' + height + 'px;'\n",
       "            );\n",
       "\n",
       "            rubberband_canvas.setAttribute('width', width);\n",
       "            rubberband_canvas.setAttribute('height', height);\n",
       "\n",
       "            // And update the size in Python. We ignore the initial 0/0 size\n",
       "            // that occurs as the element is placed into the DOM, which should\n",
       "            // otherwise not happen due to the minimum size styling.\n",
       "            if (fig.ws.readyState == 1 && width != 0 && height != 0) {\n",
       "                fig.request_resize(width, height);\n",
       "            }\n",
       "        }\n",
       "    });\n",
       "    this.resizeObserverInstance.observe(canvas_div);\n",
       "\n",
       "    function on_mouse_event_closure(name) {\n",
       "        return function (event) {\n",
       "            return fig.mouse_event(event, name);\n",
       "        };\n",
       "    }\n",
       "\n",
       "    rubberband_canvas.addEventListener(\n",
       "        'mousedown',\n",
       "        on_mouse_event_closure('button_press')\n",
       "    );\n",
       "    rubberband_canvas.addEventListener(\n",
       "        'mouseup',\n",
       "        on_mouse_event_closure('button_release')\n",
       "    );\n",
       "    rubberband_canvas.addEventListener(\n",
       "        'dblclick',\n",
       "        on_mouse_event_closure('dblclick')\n",
       "    );\n",
       "    // Throttle sequential mouse events to 1 every 20ms.\n",
       "    rubberband_canvas.addEventListener(\n",
       "        'mousemove',\n",
       "        on_mouse_event_closure('motion_notify')\n",
       "    );\n",
       "\n",
       "    rubberband_canvas.addEventListener(\n",
       "        'mouseenter',\n",
       "        on_mouse_event_closure('figure_enter')\n",
       "    );\n",
       "    rubberband_canvas.addEventListener(\n",
       "        'mouseleave',\n",
       "        on_mouse_event_closure('figure_leave')\n",
       "    );\n",
       "\n",
       "    canvas_div.addEventListener('wheel', function (event) {\n",
       "        if (event.deltaY < 0) {\n",
       "            event.step = 1;\n",
       "        } else {\n",
       "            event.step = -1;\n",
       "        }\n",
       "        on_mouse_event_closure('scroll')(event);\n",
       "    });\n",
       "\n",
       "    canvas_div.appendChild(canvas);\n",
       "    canvas_div.appendChild(rubberband_canvas);\n",
       "\n",
       "    this.rubberband_context = rubberband_canvas.getContext('2d');\n",
       "    this.rubberband_context.strokeStyle = '#000000';\n",
       "\n",
       "    this._resize_canvas = function (width, height, forward) {\n",
       "        if (forward) {\n",
       "            canvas_div.style.width = width + 'px';\n",
       "            canvas_div.style.height = height + 'px';\n",
       "        }\n",
       "    };\n",
       "\n",
       "    // Disable right mouse context menu.\n",
       "    this.rubberband_canvas.addEventListener('contextmenu', function (_e) {\n",
       "        event.preventDefault();\n",
       "        return false;\n",
       "    });\n",
       "\n",
       "    function set_focus() {\n",
       "        canvas.focus();\n",
       "        canvas_div.focus();\n",
       "    }\n",
       "\n",
       "    window.setTimeout(set_focus, 100);\n",
       "};\n",
       "\n",
       "mpl.figure.prototype._init_toolbar = function () {\n",
       "    var fig = this;\n",
       "\n",
       "    var toolbar = document.createElement('div');\n",
       "    toolbar.classList = 'mpl-toolbar';\n",
       "    this.root.appendChild(toolbar);\n",
       "\n",
       "    function on_click_closure(name) {\n",
       "        return function (_event) {\n",
       "            return fig.toolbar_button_onclick(name);\n",
       "        };\n",
       "    }\n",
       "\n",
       "    function on_mouseover_closure(tooltip) {\n",
       "        return function (event) {\n",
       "            if (!event.currentTarget.disabled) {\n",
       "                return fig.toolbar_button_onmouseover(tooltip);\n",
       "            }\n",
       "        };\n",
       "    }\n",
       "\n",
       "    fig.buttons = {};\n",
       "    var buttonGroup = document.createElement('div');\n",
       "    buttonGroup.classList = 'mpl-button-group';\n",
       "    for (var toolbar_ind in mpl.toolbar_items) {\n",
       "        var name = mpl.toolbar_items[toolbar_ind][0];\n",
       "        var tooltip = mpl.toolbar_items[toolbar_ind][1];\n",
       "        var image = mpl.toolbar_items[toolbar_ind][2];\n",
       "        var method_name = mpl.toolbar_items[toolbar_ind][3];\n",
       "\n",
       "        if (!name) {\n",
       "            /* Instead of a spacer, we start a new button group. */\n",
       "            if (buttonGroup.hasChildNodes()) {\n",
       "                toolbar.appendChild(buttonGroup);\n",
       "            }\n",
       "            buttonGroup = document.createElement('div');\n",
       "            buttonGroup.classList = 'mpl-button-group';\n",
       "            continue;\n",
       "        }\n",
       "\n",
       "        var button = (fig.buttons[name] = document.createElement('button'));\n",
       "        button.classList = 'mpl-widget';\n",
       "        button.setAttribute('role', 'button');\n",
       "        button.setAttribute('aria-disabled', 'false');\n",
       "        button.addEventListener('click', on_click_closure(method_name));\n",
       "        button.addEventListener('mouseover', on_mouseover_closure(tooltip));\n",
       "\n",
       "        var icon_img = document.createElement('img');\n",
       "        icon_img.src = '_images/' + image + '.png';\n",
       "        icon_img.srcset = '_images/' + image + '_large.png 2x';\n",
       "        icon_img.alt = tooltip;\n",
       "        button.appendChild(icon_img);\n",
       "\n",
       "        buttonGroup.appendChild(button);\n",
       "    }\n",
       "\n",
       "    if (buttonGroup.hasChildNodes()) {\n",
       "        toolbar.appendChild(buttonGroup);\n",
       "    }\n",
       "\n",
       "    var fmt_picker = document.createElement('select');\n",
       "    fmt_picker.classList = 'mpl-widget';\n",
       "    toolbar.appendChild(fmt_picker);\n",
       "    this.format_dropdown = fmt_picker;\n",
       "\n",
       "    for (var ind in mpl.extensions) {\n",
       "        var fmt = mpl.extensions[ind];\n",
       "        var option = document.createElement('option');\n",
       "        option.selected = fmt === mpl.default_extension;\n",
       "        option.innerHTML = fmt;\n",
       "        fmt_picker.appendChild(option);\n",
       "    }\n",
       "\n",
       "    var status_bar = document.createElement('span');\n",
       "    status_bar.classList = 'mpl-message';\n",
       "    toolbar.appendChild(status_bar);\n",
       "    this.message = status_bar;\n",
       "};\n",
       "\n",
       "mpl.figure.prototype.request_resize = function (x_pixels, y_pixels) {\n",
       "    // Request matplotlib to resize the figure. Matplotlib will then trigger a resize in the client,\n",
       "    // which will in turn request a refresh of the image.\n",
       "    this.send_message('resize', { width: x_pixels, height: y_pixels });\n",
       "};\n",
       "\n",
       "mpl.figure.prototype.send_message = function (type, properties) {\n",
       "    properties['type'] = type;\n",
       "    properties['figure_id'] = this.id;\n",
       "    this.ws.send(JSON.stringify(properties));\n",
       "};\n",
       "\n",
       "mpl.figure.prototype.send_draw_message = function () {\n",
       "    if (!this.waiting) {\n",
       "        this.waiting = true;\n",
       "        this.ws.send(JSON.stringify({ type: 'draw', figure_id: this.id }));\n",
       "    }\n",
       "};\n",
       "\n",
       "mpl.figure.prototype.handle_save = function (fig, _msg) {\n",
       "    var format_dropdown = fig.format_dropdown;\n",
       "    var format = format_dropdown.options[format_dropdown.selectedIndex].value;\n",
       "    fig.ondownload(fig, format);\n",
       "};\n",
       "\n",
       "mpl.figure.prototype.handle_resize = function (fig, msg) {\n",
       "    var size = msg['size'];\n",
       "    if (size[0] !== fig.canvas.width || size[1] !== fig.canvas.height) {\n",
       "        fig._resize_canvas(size[0], size[1], msg['forward']);\n",
       "        fig.send_message('refresh', {});\n",
       "    }\n",
       "};\n",
       "\n",
       "mpl.figure.prototype.handle_rubberband = function (fig, msg) {\n",
       "    var x0 = msg['x0'] / fig.ratio;\n",
       "    var y0 = (fig.canvas.height - msg['y0']) / fig.ratio;\n",
       "    var x1 = msg['x1'] / fig.ratio;\n",
       "    var y1 = (fig.canvas.height - msg['y1']) / fig.ratio;\n",
       "    x0 = Math.floor(x0) + 0.5;\n",
       "    y0 = Math.floor(y0) + 0.5;\n",
       "    x1 = Math.floor(x1) + 0.5;\n",
       "    y1 = Math.floor(y1) + 0.5;\n",
       "    var min_x = Math.min(x0, x1);\n",
       "    var min_y = Math.min(y0, y1);\n",
       "    var width = Math.abs(x1 - x0);\n",
       "    var height = Math.abs(y1 - y0);\n",
       "\n",
       "    fig.rubberband_context.clearRect(\n",
       "        0,\n",
       "        0,\n",
       "        fig.canvas.width / fig.ratio,\n",
       "        fig.canvas.height / fig.ratio\n",
       "    );\n",
       "\n",
       "    fig.rubberband_context.strokeRect(min_x, min_y, width, height);\n",
       "};\n",
       "\n",
       "mpl.figure.prototype.handle_figure_label = function (fig, msg) {\n",
       "    // Updates the figure title.\n",
       "    fig.header.textContent = msg['label'];\n",
       "};\n",
       "\n",
       "mpl.figure.prototype.handle_cursor = function (fig, msg) {\n",
       "    var cursor = msg['cursor'];\n",
       "    switch (cursor) {\n",
       "        case 0:\n",
       "            cursor = 'pointer';\n",
       "            break;\n",
       "        case 1:\n",
       "            cursor = 'default';\n",
       "            break;\n",
       "        case 2:\n",
       "            cursor = 'crosshair';\n",
       "            break;\n",
       "        case 3:\n",
       "            cursor = 'move';\n",
       "            break;\n",
       "    }\n",
       "    fig.rubberband_canvas.style.cursor = cursor;\n",
       "};\n",
       "\n",
       "mpl.figure.prototype.handle_message = function (fig, msg) {\n",
       "    fig.message.textContent = msg['message'];\n",
       "};\n",
       "\n",
       "mpl.figure.prototype.handle_draw = function (fig, _msg) {\n",
       "    // Request the server to send over a new figure.\n",
       "    fig.send_draw_message();\n",
       "};\n",
       "\n",
       "mpl.figure.prototype.handle_image_mode = function (fig, msg) {\n",
       "    fig.image_mode = msg['mode'];\n",
       "};\n",
       "\n",
       "mpl.figure.prototype.handle_history_buttons = function (fig, msg) {\n",
       "    for (var key in msg) {\n",
       "        if (!(key in fig.buttons)) {\n",
       "            continue;\n",
       "        }\n",
       "        fig.buttons[key].disabled = !msg[key];\n",
       "        fig.buttons[key].setAttribute('aria-disabled', !msg[key]);\n",
       "    }\n",
       "};\n",
       "\n",
       "mpl.figure.prototype.handle_navigate_mode = function (fig, msg) {\n",
       "    if (msg['mode'] === 'PAN') {\n",
       "        fig.buttons['Pan'].classList.add('active');\n",
       "        fig.buttons['Zoom'].classList.remove('active');\n",
       "    } else if (msg['mode'] === 'ZOOM') {\n",
       "        fig.buttons['Pan'].classList.remove('active');\n",
       "        fig.buttons['Zoom'].classList.add('active');\n",
       "    } else {\n",
       "        fig.buttons['Pan'].classList.remove('active');\n",
       "        fig.buttons['Zoom'].classList.remove('active');\n",
       "    }\n",
       "};\n",
       "\n",
       "mpl.figure.prototype.updated_canvas_event = function () {\n",
       "    // Called whenever the canvas gets updated.\n",
       "    this.send_message('ack', {});\n",
       "};\n",
       "\n",
       "// A function to construct a web socket function for onmessage handling.\n",
       "// Called in the figure constructor.\n",
       "mpl.figure.prototype._make_on_message_function = function (fig) {\n",
       "    return function socket_on_message(evt) {\n",
       "        if (evt.data instanceof Blob) {\n",
       "            var img = evt.data;\n",
       "            if (img.type !== 'image/png') {\n",
       "                /* FIXME: We get \"Resource interpreted as Image but\n",
       "                 * transferred with MIME type text/plain:\" errors on\n",
       "                 * Chrome.  But how to set the MIME type?  It doesn't seem\n",
       "                 * to be part of the websocket stream */\n",
       "                img.type = 'image/png';\n",
       "            }\n",
       "\n",
       "            /* Free the memory for the previous frames */\n",
       "            if (fig.imageObj.src) {\n",
       "                (window.URL || window.webkitURL).revokeObjectURL(\n",
       "                    fig.imageObj.src\n",
       "                );\n",
       "            }\n",
       "\n",
       "            fig.imageObj.src = (window.URL || window.webkitURL).createObjectURL(\n",
       "                img\n",
       "            );\n",
       "            fig.updated_canvas_event();\n",
       "            fig.waiting = false;\n",
       "            return;\n",
       "        } else if (\n",
       "            typeof evt.data === 'string' &&\n",
       "            evt.data.slice(0, 21) === 'data:image/png;base64'\n",
       "        ) {\n",
       "            fig.imageObj.src = evt.data;\n",
       "            fig.updated_canvas_event();\n",
       "            fig.waiting = false;\n",
       "            return;\n",
       "        }\n",
       "\n",
       "        var msg = JSON.parse(evt.data);\n",
       "        var msg_type = msg['type'];\n",
       "\n",
       "        // Call the  \"handle_{type}\" callback, which takes\n",
       "        // the figure and JSON message as its only arguments.\n",
       "        try {\n",
       "            var callback = fig['handle_' + msg_type];\n",
       "        } catch (e) {\n",
       "            console.log(\n",
       "                \"No handler for the '\" + msg_type + \"' message type: \",\n",
       "                msg\n",
       "            );\n",
       "            return;\n",
       "        }\n",
       "\n",
       "        if (callback) {\n",
       "            try {\n",
       "                // console.log(\"Handling '\" + msg_type + \"' message: \", msg);\n",
       "                callback(fig, msg);\n",
       "            } catch (e) {\n",
       "                console.log(\n",
       "                    \"Exception inside the 'handler_\" + msg_type + \"' callback:\",\n",
       "                    e,\n",
       "                    e.stack,\n",
       "                    msg\n",
       "                );\n",
       "            }\n",
       "        }\n",
       "    };\n",
       "};\n",
       "\n",
       "// from http://stackoverflow.com/questions/1114465/getting-mouse-location-in-canvas\n",
       "mpl.findpos = function (e) {\n",
       "    //this section is from http://www.quirksmode.org/js/events_properties.html\n",
       "    var targ;\n",
       "    if (!e) {\n",
       "        e = window.event;\n",
       "    }\n",
       "    if (e.target) {\n",
       "        targ = e.target;\n",
       "    } else if (e.srcElement) {\n",
       "        targ = e.srcElement;\n",
       "    }\n",
       "    if (targ.nodeType === 3) {\n",
       "        // defeat Safari bug\n",
       "        targ = targ.parentNode;\n",
       "    }\n",
       "\n",
       "    // pageX,Y are the mouse positions relative to the document\n",
       "    var boundingRect = targ.getBoundingClientRect();\n",
       "    var x = e.pageX - (boundingRect.left + document.body.scrollLeft);\n",
       "    var y = e.pageY - (boundingRect.top + document.body.scrollTop);\n",
       "\n",
       "    return { x: x, y: y };\n",
       "};\n",
       "\n",
       "/*\n",
       " * return a copy of an object with only non-object keys\n",
       " * we need this to avoid circular references\n",
       " * http://stackoverflow.com/a/24161582/3208463\n",
       " */\n",
       "function simpleKeys(original) {\n",
       "    return Object.keys(original).reduce(function (obj, key) {\n",
       "        if (typeof original[key] !== 'object') {\n",
       "            obj[key] = original[key];\n",
       "        }\n",
       "        return obj;\n",
       "    }, {});\n",
       "}\n",
       "\n",
       "mpl.figure.prototype.mouse_event = function (event, name) {\n",
       "    var canvas_pos = mpl.findpos(event);\n",
       "\n",
       "    if (name === 'button_press') {\n",
       "        this.canvas.focus();\n",
       "        this.canvas_div.focus();\n",
       "    }\n",
       "\n",
       "    var x = canvas_pos.x * this.ratio;\n",
       "    var y = canvas_pos.y * this.ratio;\n",
       "\n",
       "    this.send_message(name, {\n",
       "        x: x,\n",
       "        y: y,\n",
       "        button: event.button,\n",
       "        step: event.step,\n",
       "        guiEvent: simpleKeys(event),\n",
       "    });\n",
       "\n",
       "    /* This prevents the web browser from automatically changing to\n",
       "     * the text insertion cursor when the button is pressed.  We want\n",
       "     * to control all of the cursor setting manually through the\n",
       "     * 'cursor' event from matplotlib */\n",
       "    event.preventDefault();\n",
       "    return false;\n",
       "};\n",
       "\n",
       "mpl.figure.prototype._key_event_extra = function (_event, _name) {\n",
       "    // Handle any extra behaviour associated with a key event\n",
       "};\n",
       "\n",
       "mpl.figure.prototype.key_event = function (event, name) {\n",
       "    // Prevent repeat events\n",
       "    if (name === 'key_press') {\n",
       "        if (event.key === this._key) {\n",
       "            return;\n",
       "        } else {\n",
       "            this._key = event.key;\n",
       "        }\n",
       "    }\n",
       "    if (name === 'key_release') {\n",
       "        this._key = null;\n",
       "    }\n",
       "\n",
       "    var value = '';\n",
       "    if (event.ctrlKey && event.key !== 'Control') {\n",
       "        value += 'ctrl+';\n",
       "    }\n",
       "    else if (event.altKey && event.key !== 'Alt') {\n",
       "        value += 'alt+';\n",
       "    }\n",
       "    else if (event.shiftKey && event.key !== 'Shift') {\n",
       "        value += 'shift+';\n",
       "    }\n",
       "\n",
       "    value += 'k' + event.key;\n",
       "\n",
       "    this._key_event_extra(event, name);\n",
       "\n",
       "    this.send_message(name, { key: value, guiEvent: simpleKeys(event) });\n",
       "    return false;\n",
       "};\n",
       "\n",
       "mpl.figure.prototype.toolbar_button_onclick = function (name) {\n",
       "    if (name === 'download') {\n",
       "        this.handle_save(this, null);\n",
       "    } else {\n",
       "        this.send_message('toolbar_button', { name: name });\n",
       "    }\n",
       "};\n",
       "\n",
       "mpl.figure.prototype.toolbar_button_onmouseover = function (tooltip) {\n",
       "    this.message.textContent = tooltip;\n",
       "};\n",
       "\n",
       "///////////////// REMAINING CONTENT GENERATED BY embed_js.py /////////////////\n",
       "// prettier-ignore\n",
       "var _JSXTOOLS_RESIZE_OBSERVER=function(A){var t,i=new WeakMap,n=new WeakMap,a=new WeakMap,r=new WeakMap,o=new Set;function s(e){if(!(this instanceof s))throw new TypeError(\"Constructor requires 'new' operator\");i.set(this,e)}function h(){throw new TypeError(\"Function is not a constructor\")}function c(e,t,i,n){e=0 in arguments?Number(arguments[0]):0,t=1 in arguments?Number(arguments[1]):0,i=2 in arguments?Number(arguments[2]):0,n=3 in arguments?Number(arguments[3]):0,this.right=(this.x=this.left=e)+(this.width=i),this.bottom=(this.y=this.top=t)+(this.height=n),Object.freeze(this)}function d(){t=requestAnimationFrame(d);var s=new WeakMap,p=new Set;o.forEach((function(t){r.get(t).forEach((function(i){var r=t instanceof window.SVGElement,o=a.get(t),d=r?0:parseFloat(o.paddingTop),f=r?0:parseFloat(o.paddingRight),l=r?0:parseFloat(o.paddingBottom),u=r?0:parseFloat(o.paddingLeft),g=r?0:parseFloat(o.borderTopWidth),m=r?0:parseFloat(o.borderRightWidth),w=r?0:parseFloat(o.borderBottomWidth),b=u+f,F=d+l,v=(r?0:parseFloat(o.borderLeftWidth))+m,W=g+w,y=r?0:t.offsetHeight-W-t.clientHeight,E=r?0:t.offsetWidth-v-t.clientWidth,R=b+v,z=F+W,M=r?t.width:parseFloat(o.width)-R-E,O=r?t.height:parseFloat(o.height)-z-y;if(n.has(t)){var k=n.get(t);if(k[0]===M&&k[1]===O)return}n.set(t,[M,O]);var S=Object.create(h.prototype);S.target=t,S.contentRect=new c(u,d,M,O),s.has(i)||(s.set(i,[]),p.add(i)),s.get(i).push(S)}))})),p.forEach((function(e){i.get(e).call(e,s.get(e),e)}))}return s.prototype.observe=function(i){if(i instanceof window.Element){r.has(i)||(r.set(i,new Set),o.add(i),a.set(i,window.getComputedStyle(i)));var n=r.get(i);n.has(this)||n.add(this),cancelAnimationFrame(t),t=requestAnimationFrame(d)}},s.prototype.unobserve=function(i){if(i instanceof window.Element&&r.has(i)){var n=r.get(i);n.has(this)&&(n.delete(this),n.size||(r.delete(i),o.delete(i))),n.size||r.delete(i),o.size||cancelAnimationFrame(t)}},A.DOMRectReadOnly=c,A.ResizeObserver=s,A.ResizeObserverEntry=h,A}; // eslint-disable-line\n",
       "mpl.toolbar_items = [[\"Home\", \"Reset original view\", \"fa fa-home icon-home\", \"home\"], [\"Back\", \"Back to previous view\", \"fa fa-arrow-left icon-arrow-left\", \"back\"], [\"Forward\", \"Forward to next view\", \"fa fa-arrow-right icon-arrow-right\", \"forward\"], [\"\", \"\", \"\", \"\"], [\"Pan\", \"Left button pans, Right button zooms\\nx/y fixes axis, CTRL fixes aspect\", \"fa fa-arrows icon-move\", \"pan\"], [\"Zoom\", \"Zoom to rectangle\\nx/y fixes axis, CTRL fixes aspect\", \"fa fa-square-o icon-check-empty\", \"zoom\"], [\"\", \"\", \"\", \"\"], [\"Download\", \"Download plot\", \"fa fa-floppy-o icon-save\", \"download\"]];\n",
       "\n",
       "mpl.extensions = [\"eps\", \"jpeg\", \"pgf\", \"pdf\", \"png\", \"ps\", \"raw\", \"svg\", \"tif\"];\n",
       "\n",
       "mpl.default_extension = \"png\";/* global mpl */\n",
       "\n",
       "var comm_websocket_adapter = function (comm) {\n",
       "    // Create a \"websocket\"-like object which calls the given IPython comm\n",
       "    // object with the appropriate methods. Currently this is a non binary\n",
       "    // socket, so there is still some room for performance tuning.\n",
       "    var ws = {};\n",
       "\n",
       "    ws.binaryType = comm.kernel.ws.binaryType;\n",
       "    ws.readyState = comm.kernel.ws.readyState;\n",
       "    function updateReadyState(_event) {\n",
       "        if (comm.kernel.ws) {\n",
       "            ws.readyState = comm.kernel.ws.readyState;\n",
       "        } else {\n",
       "            ws.readyState = 3; // Closed state.\n",
       "        }\n",
       "    }\n",
       "    comm.kernel.ws.addEventListener('open', updateReadyState);\n",
       "    comm.kernel.ws.addEventListener('close', updateReadyState);\n",
       "    comm.kernel.ws.addEventListener('error', updateReadyState);\n",
       "\n",
       "    ws.close = function () {\n",
       "        comm.close();\n",
       "    };\n",
       "    ws.send = function (m) {\n",
       "        //console.log('sending', m);\n",
       "        comm.send(m);\n",
       "    };\n",
       "    // Register the callback with on_msg.\n",
       "    comm.on_msg(function (msg) {\n",
       "        //console.log('receiving', msg['content']['data'], msg);\n",
       "        var data = msg['content']['data'];\n",
       "        if (data['blob'] !== undefined) {\n",
       "            data = {\n",
       "                data: new Blob(msg['buffers'], { type: data['blob'] }),\n",
       "            };\n",
       "        }\n",
       "        // Pass the mpl event to the overridden (by mpl) onmessage function.\n",
       "        ws.onmessage(data);\n",
       "    });\n",
       "    return ws;\n",
       "};\n",
       "\n",
       "mpl.mpl_figure_comm = function (comm, msg) {\n",
       "    // This is the function which gets called when the mpl process\n",
       "    // starts-up an IPython Comm through the \"matplotlib\" channel.\n",
       "\n",
       "    var id = msg.content.data.id;\n",
       "    // Get hold of the div created by the display call when the Comm\n",
       "    // socket was opened in Python.\n",
       "    var element = document.getElementById(id);\n",
       "    var ws_proxy = comm_websocket_adapter(comm);\n",
       "\n",
       "    function ondownload(figure, _format) {\n",
       "        window.open(figure.canvas.toDataURL());\n",
       "    }\n",
       "\n",
       "    var fig = new mpl.figure(id, ws_proxy, ondownload, element);\n",
       "\n",
       "    // Call onopen now - mpl needs it, as it is assuming we've passed it a real\n",
       "    // web socket which is closed, not our websocket->open comm proxy.\n",
       "    ws_proxy.onopen();\n",
       "\n",
       "    fig.parent_element = element;\n",
       "    fig.cell_info = mpl.find_output_cell(\"<div id='\" + id + \"'></div>\");\n",
       "    if (!fig.cell_info) {\n",
       "        console.error('Failed to find cell for figure', id, fig);\n",
       "        return;\n",
       "    }\n",
       "    fig.cell_info[0].output_area.element.on(\n",
       "        'cleared',\n",
       "        { fig: fig },\n",
       "        fig._remove_fig_handler\n",
       "    );\n",
       "};\n",
       "\n",
       "mpl.figure.prototype.handle_close = function (fig, msg) {\n",
       "    var width = fig.canvas.width / fig.ratio;\n",
       "    fig.cell_info[0].output_area.element.off(\n",
       "        'cleared',\n",
       "        fig._remove_fig_handler\n",
       "    );\n",
       "    fig.resizeObserverInstance.unobserve(fig.canvas_div);\n",
       "\n",
       "    // Update the output cell to use the data from the current canvas.\n",
       "    fig.push_to_output();\n",
       "    var dataURL = fig.canvas.toDataURL();\n",
       "    // Re-enable the keyboard manager in IPython - without this line, in FF,\n",
       "    // the notebook keyboard shortcuts fail.\n",
       "    IPython.keyboard_manager.enable();\n",
       "    fig.parent_element.innerHTML =\n",
       "        '<img src=\"' + dataURL + '\" width=\"' + width + '\">';\n",
       "    fig.close_ws(fig, msg);\n",
       "};\n",
       "\n",
       "mpl.figure.prototype.close_ws = function (fig, msg) {\n",
       "    fig.send_message('closing', msg);\n",
       "    // fig.ws.close()\n",
       "};\n",
       "\n",
       "mpl.figure.prototype.push_to_output = function (_remove_interactive) {\n",
       "    // Turn the data on the canvas into data in the output cell.\n",
       "    var width = this.canvas.width / this.ratio;\n",
       "    var dataURL = this.canvas.toDataURL();\n",
       "    this.cell_info[1]['text/html'] =\n",
       "        '<img src=\"' + dataURL + '\" width=\"' + width + '\">';\n",
       "};\n",
       "\n",
       "mpl.figure.prototype.updated_canvas_event = function () {\n",
       "    // Tell IPython that the notebook contents must change.\n",
       "    IPython.notebook.set_dirty(true);\n",
       "    this.send_message('ack', {});\n",
       "    var fig = this;\n",
       "    // Wait a second, then push the new image to the DOM so\n",
       "    // that it is saved nicely (might be nice to debounce this).\n",
       "    setTimeout(function () {\n",
       "        fig.push_to_output();\n",
       "    }, 1000);\n",
       "};\n",
       "\n",
       "mpl.figure.prototype._init_toolbar = function () {\n",
       "    var fig = this;\n",
       "\n",
       "    var toolbar = document.createElement('div');\n",
       "    toolbar.classList = 'btn-toolbar';\n",
       "    this.root.appendChild(toolbar);\n",
       "\n",
       "    function on_click_closure(name) {\n",
       "        return function (_event) {\n",
       "            return fig.toolbar_button_onclick(name);\n",
       "        };\n",
       "    }\n",
       "\n",
       "    function on_mouseover_closure(tooltip) {\n",
       "        return function (event) {\n",
       "            if (!event.currentTarget.disabled) {\n",
       "                return fig.toolbar_button_onmouseover(tooltip);\n",
       "            }\n",
       "        };\n",
       "    }\n",
       "\n",
       "    fig.buttons = {};\n",
       "    var buttonGroup = document.createElement('div');\n",
       "    buttonGroup.classList = 'btn-group';\n",
       "    var button;\n",
       "    for (var toolbar_ind in mpl.toolbar_items) {\n",
       "        var name = mpl.toolbar_items[toolbar_ind][0];\n",
       "        var tooltip = mpl.toolbar_items[toolbar_ind][1];\n",
       "        var image = mpl.toolbar_items[toolbar_ind][2];\n",
       "        var method_name = mpl.toolbar_items[toolbar_ind][3];\n",
       "\n",
       "        if (!name) {\n",
       "            /* Instead of a spacer, we start a new button group. */\n",
       "            if (buttonGroup.hasChildNodes()) {\n",
       "                toolbar.appendChild(buttonGroup);\n",
       "            }\n",
       "            buttonGroup = document.createElement('div');\n",
       "            buttonGroup.classList = 'btn-group';\n",
       "            continue;\n",
       "        }\n",
       "\n",
       "        button = fig.buttons[name] = document.createElement('button');\n",
       "        button.classList = 'btn btn-default';\n",
       "        button.href = '#';\n",
       "        button.title = name;\n",
       "        button.innerHTML = '<i class=\"fa ' + image + ' fa-lg\"></i>';\n",
       "        button.addEventListener('click', on_click_closure(method_name));\n",
       "        button.addEventListener('mouseover', on_mouseover_closure(tooltip));\n",
       "        buttonGroup.appendChild(button);\n",
       "    }\n",
       "\n",
       "    if (buttonGroup.hasChildNodes()) {\n",
       "        toolbar.appendChild(buttonGroup);\n",
       "    }\n",
       "\n",
       "    // Add the status bar.\n",
       "    var status_bar = document.createElement('span');\n",
       "    status_bar.classList = 'mpl-message pull-right';\n",
       "    toolbar.appendChild(status_bar);\n",
       "    this.message = status_bar;\n",
       "\n",
       "    // Add the close button to the window.\n",
       "    var buttongrp = document.createElement('div');\n",
       "    buttongrp.classList = 'btn-group inline pull-right';\n",
       "    button = document.createElement('button');\n",
       "    button.classList = 'btn btn-mini btn-primary';\n",
       "    button.href = '#';\n",
       "    button.title = 'Stop Interaction';\n",
       "    button.innerHTML = '<i class=\"fa fa-power-off icon-remove icon-large\"></i>';\n",
       "    button.addEventListener('click', function (_evt) {\n",
       "        fig.handle_close(fig, {});\n",
       "    });\n",
       "    button.addEventListener(\n",
       "        'mouseover',\n",
       "        on_mouseover_closure('Stop Interaction')\n",
       "    );\n",
       "    buttongrp.appendChild(button);\n",
       "    var titlebar = this.root.querySelector('.ui-dialog-titlebar');\n",
       "    titlebar.insertBefore(buttongrp, titlebar.firstChild);\n",
       "};\n",
       "\n",
       "mpl.figure.prototype._remove_fig_handler = function (event) {\n",
       "    var fig = event.data.fig;\n",
       "    if (event.target !== this) {\n",
       "        // Ignore bubbled events from children.\n",
       "        return;\n",
       "    }\n",
       "    fig.close_ws(fig, {});\n",
       "};\n",
       "\n",
       "mpl.figure.prototype._root_extra_style = function (el) {\n",
       "    el.style.boxSizing = 'content-box'; // override notebook setting of border-box.\n",
       "};\n",
       "\n",
       "mpl.figure.prototype._canvas_extra_style = function (el) {\n",
       "    // this is important to make the div 'focusable\n",
       "    el.setAttribute('tabindex', 0);\n",
       "    // reach out to IPython and tell the keyboard manager to turn it's self\n",
       "    // off when our div gets focus\n",
       "\n",
       "    // location in version 3\n",
       "    if (IPython.notebook.keyboard_manager) {\n",
       "        IPython.notebook.keyboard_manager.register_events(el);\n",
       "    } else {\n",
       "        // location in version 2\n",
       "        IPython.keyboard_manager.register_events(el);\n",
       "    }\n",
       "};\n",
       "\n",
       "mpl.figure.prototype._key_event_extra = function (event, _name) {\n",
       "    var manager = IPython.notebook.keyboard_manager;\n",
       "    if (!manager) {\n",
       "        manager = IPython.keyboard_manager;\n",
       "    }\n",
       "\n",
       "    // Check for shift+enter\n",
       "    if (event.shiftKey && event.which === 13) {\n",
       "        this.canvas_div.blur();\n",
       "        // select the cell after this one\n",
       "        var index = IPython.notebook.find_cell_index(this.cell_info[0]);\n",
       "        IPython.notebook.select(index + 1);\n",
       "    }\n",
       "};\n",
       "\n",
       "mpl.figure.prototype.handle_save = function (fig, _msg) {\n",
       "    fig.ondownload(fig, null);\n",
       "};\n",
       "\n",
       "mpl.find_output_cell = function (html_output) {\n",
       "    // Return the cell and output element which can be found *uniquely* in the notebook.\n",
       "    // Note - this is a bit hacky, but it is done because the \"notebook_saving.Notebook\"\n",
       "    // IPython event is triggered only after the cells have been serialised, which for\n",
       "    // our purposes (turning an active figure into a static one), is too late.\n",
       "    var cells = IPython.notebook.get_cells();\n",
       "    var ncells = cells.length;\n",
       "    for (var i = 0; i < ncells; i++) {\n",
       "        var cell = cells[i];\n",
       "        if (cell.cell_type === 'code') {\n",
       "            for (var j = 0; j < cell.output_area.outputs.length; j++) {\n",
       "                var data = cell.output_area.outputs[j];\n",
       "                if (data.data) {\n",
       "                    // IPython >= 3 moved mimebundle to data attribute of output\n",
       "                    data = data.data;\n",
       "                }\n",
       "                if (data['text/html'] === html_output) {\n",
       "                    return [cell, data, j];\n",
       "                }\n",
       "            }\n",
       "        }\n",
       "    }\n",
       "};\n",
       "\n",
       "// Register the function which deals with the matplotlib target/channel.\n",
       "// The kernel may be null if the page has been refreshed.\n",
       "if (IPython.notebook.kernel !== null) {\n",
       "    IPython.notebook.kernel.comm_manager.register_target(\n",
       "        'matplotlib',\n",
       "        mpl.mpl_figure_comm\n",
       "    );\n",
       "}\n"
      ],
      "text/plain": [
       "<IPython.core.display.Javascript object>"
      ]
     },
     "metadata": {},
     "output_type": "display_data"
    },
    {
     "data": {
      "text/html": [
       "<img src=\"data:image/png;base64,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\" width=\"640\">"
      ],
      "text/plain": [
       "<IPython.core.display.HTML object>"
      ]
     },
     "metadata": {},
     "output_type": "display_data"
    }
   ],
   "source": [
    "import matplotlib.pyplot as plt\n",
    "import matplotlib.animation\n",
    "import numpy as np\n",
    "\n",
    "fig, ax = plt.subplots()\n",
    "ax.plot(all_b, all_cost)\n",
    "x, y = [],[]\n",
    "sc = ax.scatter(x,y,color='red',marker='+')\n",
    "plt.xlim(-150,50)\n",
    "plt.ylim(0,2500000)\n",
    "\n",
    "def animate(i):\n",
    "    label = 'epoch {0}'.format(i + 1)\n",
    "    x.append(all_b[i])\n",
    "    y.append(all_cost[i])\n",
    "    sc.set_offsets(np.c_[x,y])\n",
    "    ax.set_xlabel(label)\n",
    "\n",
    "ani = matplotlib.animation.FuncAnimation(fig, animate, \n",
    "                frames=30, interval=500, repeat=True) \n",
    "plt.show()\n",
    "\n",
    "f = r\"animation3.gif\" \n",
    "writergif = animation.PillowWriter(fps=2) \n",
    "ani.save(f, writer=writergif)"
   ]
  },
  {
   "cell_type": "markdown",
   "id": "dc9e9990",
   "metadata": {},
   "source": [
    "___"
   ]
  },
  {
   "cell_type": "markdown",
   "id": "2b5a8f0f",
   "metadata": {},
   "source": [
    "## BATCH GRADIENT DESCENT"
   ]
  },
  {
   "cell_type": "markdown",
   "id": "11ff1472",
   "metadata": {},
   "source": [
    "Batch Gradient Descent runs data for all value and then updates the m and c once.\n",
    "\n",
    "It is not useful for very large dataset.\n",
    "\n",
    "Helpful in Convex functions like Linear Regression."
   ]
  },
  {
   "cell_type": "markdown",
   "id": "626cd6b1",
   "metadata": {},
   "source": [
    "#### for n-dimensional data\n",
    "\n",
    "\n",
    "$$Loss\\;function\\;(wrt\\;total\\;coefficients)\\;for\\;n-dim\\;data\\;\\longrightarrow\\;\\frac{dL}{d\\beta_{m}}\\;=\\;\\frac{-2}{n}*\\sum_{i=1}^n\\;(y_{i}\\;-\\;\\hat y_{i})*x_{im}$$\n",
    "\n",
    "where $x_{i}$ is the total number of rows\n",
    "\n",
    "n is total number of independent columns\n",
    "\n",
    "m is the total number of coefficents\n",
    "\n",
    "$x_{im}$ is particular coefficent's corresponding columns values"
   ]
  },
  {
   "cell_type": "code",
   "execution_count": 69,
   "id": "a53eac22",
   "metadata": {},
   "outputs": [],
   "source": [
    "from sklearn.datasets import load_diabetes"
   ]
  },
  {
   "cell_type": "code",
   "execution_count": 70,
   "id": "a54de7a1",
   "metadata": {},
   "outputs": [],
   "source": [
    "import numpy as np\n",
    "import matplotlib.pyplot as plt\n",
    "from sklearn.model_selection import train_test_split\n",
    "from sklearn.linear_model import LinearRegression\n",
    "from sklearn.metrics import r2_score"
   ]
  },
  {
   "cell_type": "code",
   "execution_count": 71,
   "id": "6a382b97",
   "metadata": {},
   "outputs": [],
   "source": [
    "X,y = load_diabetes(return_X_y = True)"
   ]
  },
  {
   "cell_type": "code",
   "execution_count": 72,
   "id": "1d99b4da",
   "metadata": {},
   "outputs": [
    {
     "name": "stdout",
     "output_type": "stream",
     "text": [
      "(442, 10)\n",
      "(442,)\n"
     ]
    }
   ],
   "source": [
    "print(X.shape)\n",
    "print(y.shape)"
   ]
  },
  {
   "cell_type": "code",
   "execution_count": 73,
   "id": "f8e5e2ac",
   "metadata": {},
   "outputs": [],
   "source": [
    "X_train, X_test, y_train, y_test = train_test_split(X,y,test_size=0.2,random_state=2)"
   ]
  },
  {
   "cell_type": "code",
   "execution_count": 74,
   "id": "64f6d033",
   "metadata": {},
   "outputs": [],
   "source": [
    "reg = LinearRegression()"
   ]
  },
  {
   "cell_type": "code",
   "execution_count": 75,
   "id": "beff6adb",
   "metadata": {},
   "outputs": [
    {
     "data": {
      "text/html": [
       "<style>#sk-container-id-4 {color: black;background-color: white;}#sk-container-id-4 pre{padding: 0;}#sk-container-id-4 div.sk-toggleable {background-color: white;}#sk-container-id-4 label.sk-toggleable__label {cursor: pointer;display: block;width: 100%;margin-bottom: 0;padding: 0.3em;box-sizing: border-box;text-align: center;}#sk-container-id-4 label.sk-toggleable__label-arrow:before {content: \"▸\";float: left;margin-right: 0.25em;color: #696969;}#sk-container-id-4 label.sk-toggleable__label-arrow:hover:before {color: black;}#sk-container-id-4 div.sk-estimator:hover label.sk-toggleable__label-arrow:before {color: black;}#sk-container-id-4 div.sk-toggleable__content {max-height: 0;max-width: 0;overflow: hidden;text-align: left;background-color: #f0f8ff;}#sk-container-id-4 div.sk-toggleable__content pre {margin: 0.2em;color: black;border-radius: 0.25em;background-color: #f0f8ff;}#sk-container-id-4 input.sk-toggleable__control:checked~div.sk-toggleable__content {max-height: 200px;max-width: 100%;overflow: auto;}#sk-container-id-4 input.sk-toggleable__control:checked~label.sk-toggleable__label-arrow:before {content: \"▾\";}#sk-container-id-4 div.sk-estimator input.sk-toggleable__control:checked~label.sk-toggleable__label {background-color: #d4ebff;}#sk-container-id-4 div.sk-label input.sk-toggleable__control:checked~label.sk-toggleable__label {background-color: #d4ebff;}#sk-container-id-4 input.sk-hidden--visually {border: 0;clip: rect(1px 1px 1px 1px);clip: rect(1px, 1px, 1px, 1px);height: 1px;margin: -1px;overflow: hidden;padding: 0;position: absolute;width: 1px;}#sk-container-id-4 div.sk-estimator {font-family: monospace;background-color: #f0f8ff;border: 1px dotted black;border-radius: 0.25em;box-sizing: border-box;margin-bottom: 0.5em;}#sk-container-id-4 div.sk-estimator:hover {background-color: #d4ebff;}#sk-container-id-4 div.sk-parallel-item::after {content: \"\";width: 100%;border-bottom: 1px solid gray;flex-grow: 1;}#sk-container-id-4 div.sk-label:hover label.sk-toggleable__label {background-color: #d4ebff;}#sk-container-id-4 div.sk-serial::before {content: \"\";position: absolute;border-left: 1px solid gray;box-sizing: border-box;top: 0;bottom: 0;left: 50%;z-index: 0;}#sk-container-id-4 div.sk-serial {display: flex;flex-direction: column;align-items: center;background-color: white;padding-right: 0.2em;padding-left: 0.2em;position: relative;}#sk-container-id-4 div.sk-item {position: relative;z-index: 1;}#sk-container-id-4 div.sk-parallel {display: flex;align-items: stretch;justify-content: center;background-color: white;position: relative;}#sk-container-id-4 div.sk-item::before, #sk-container-id-4 div.sk-parallel-item::before {content: \"\";position: absolute;border-left: 1px solid gray;box-sizing: border-box;top: 0;bottom: 0;left: 50%;z-index: -1;}#sk-container-id-4 div.sk-parallel-item {display: flex;flex-direction: column;z-index: 1;position: relative;background-color: white;}#sk-container-id-4 div.sk-parallel-item:first-child::after {align-self: flex-end;width: 50%;}#sk-container-id-4 div.sk-parallel-item:last-child::after {align-self: flex-start;width: 50%;}#sk-container-id-4 div.sk-parallel-item:only-child::after {width: 0;}#sk-container-id-4 div.sk-dashed-wrapped {border: 1px dashed gray;margin: 0 0.4em 0.5em 0.4em;box-sizing: border-box;padding-bottom: 0.4em;background-color: white;}#sk-container-id-4 div.sk-label label {font-family: monospace;font-weight: bold;display: inline-block;line-height: 1.2em;}#sk-container-id-4 div.sk-label-container {text-align: center;}#sk-container-id-4 div.sk-container {/* jupyter's `normalize.less` sets `[hidden] { display: none; }` but bootstrap.min.css set `[hidden] { display: none !important; }` so we also need the `!important` here to be able to override the default hidden behavior on the sphinx rendered scikit-learn.org. See: https://github.com/scikit-learn/scikit-learn/issues/21755 */display: inline-block !important;position: relative;}#sk-container-id-4 div.sk-text-repr-fallback {display: none;}</style><div id=\"sk-container-id-4\" class=\"sk-top-container\"><div class=\"sk-text-repr-fallback\"><pre>LinearRegression()</pre><b>In a Jupyter environment, please rerun this cell to show the HTML representation or trust the notebook. <br />On GitHub, the HTML representation is unable to render, please try loading this page with nbviewer.org.</b></div><div class=\"sk-container\" hidden><div class=\"sk-item\"><div class=\"sk-estimator sk-toggleable\"><input class=\"sk-toggleable__control sk-hidden--visually\" id=\"sk-estimator-id-4\" type=\"checkbox\" checked><label for=\"sk-estimator-id-4\" class=\"sk-toggleable__label sk-toggleable__label-arrow\">LinearRegression</label><div class=\"sk-toggleable__content\"><pre>LinearRegression()</pre></div></div></div></div></div>"
      ],
      "text/plain": [
       "LinearRegression()"
      ]
     },
     "execution_count": 75,
     "metadata": {},
     "output_type": "execute_result"
    }
   ],
   "source": [
    "reg.fit(X_train,y_train)"
   ]
  },
  {
   "cell_type": "code",
   "execution_count": 76,
   "id": "08ef593a",
   "metadata": {},
   "outputs": [
    {
     "data": {
      "text/plain": [
       "array([  -9.15865318, -205.45432163,  516.69374454,  340.61999905,\n",
       "       -895.5520019 ,  561.22067904,  153.89310954,  126.73139688,\n",
       "        861.12700152,   52.42112238])"
      ]
     },
     "execution_count": 76,
     "metadata": {},
     "output_type": "execute_result"
    }
   ],
   "source": [
    "reg.coef_"
   ]
  },
  {
   "cell_type": "code",
   "execution_count": 77,
   "id": "5e3da033",
   "metadata": {},
   "outputs": [
    {
     "data": {
      "text/plain": [
       "151.88331005254167"
      ]
     },
     "execution_count": 77,
     "metadata": {},
     "output_type": "execute_result"
    }
   ],
   "source": [
    "reg.intercept_"
   ]
  },
  {
   "cell_type": "code",
   "execution_count": 78,
   "id": "5fd79c9b",
   "metadata": {},
   "outputs": [
    {
     "data": {
      "text/plain": [
       "0.4399338661568968"
      ]
     },
     "execution_count": 78,
     "metadata": {},
     "output_type": "execute_result"
    }
   ],
   "source": [
    "y_pred = reg.predict(X_test)\n",
    "r2_score(y_test,y_pred)"
   ]
  },
  {
   "cell_type": "markdown",
   "id": "120b8f68",
   "metadata": {},
   "source": [
    "### Creating Batch Gradient Descent from Scratch"
   ]
  },
  {
   "cell_type": "code",
   "execution_count": 79,
   "id": "783691bc",
   "metadata": {},
   "outputs": [
    {
     "data": {
      "text/plain": [
       "(353, 10)"
      ]
     },
     "execution_count": 79,
     "metadata": {},
     "output_type": "execute_result"
    }
   ],
   "source": [
    "X_train.shape\n",
    "\n",
    "# 10 columns (9 independent, 1 Dependent )"
   ]
  },
  {
   "cell_type": "code",
   "execution_count": 80,
   "id": "39d7cee0",
   "metadata": {},
   "outputs": [],
   "source": [
    "class BGDRegressor:\n",
    "    \n",
    "    def __init__(self,learning_rate=0.01,epochs=100):\n",
    "        \n",
    "        self.coef_ = None\n",
    "        self.intercept_ = None\n",
    "        self.lr = learning_rate\n",
    "        self.epochs = epochs\n",
    "        \n",
    "    def fit(self,X_train,y_train):\n",
    "        # initialize your coefs\n",
    "        self.intercept_ = 0\n",
    "        self.coef_ = np.ones(X_train.shape[1])\n",
    "        \n",
    "        for i in range(self.epochs):\n",
    "            # update all the coef and the intercept\n",
    "            y_hat = np.dot(X_train,self.coef_) + self.intercept_ # known as VECTORIZATION\n",
    "            #print(\"Shape of y_hat\",y_hat.shape)\n",
    "            \n",
    "            intercept_der = -2 * np.mean(y_train - y_hat)\n",
    "            self.intercept_ = self.intercept_ - (self.lr * intercept_der) # where intercept_der = derivate of loss ftn wrt to intercept(c)\n",
    "            \n",
    "            coef_der = -2 * np.dot((y_train - y_hat),X_train)/X_train.shape[0]\n",
    "            self.coef_ = self.coef_ - (self.lr * coef_der)\n",
    "        \n",
    "        # print(self.intercept_,self.coef_)\n",
    "    \n",
    "    def predict(self,X_test):\n",
    "        return np.dot(X_test,self.coef_) + self.intercept_"
   ]
  },
  {
   "cell_type": "code",
   "execution_count": 81,
   "id": "6e3c1918",
   "metadata": {},
   "outputs": [],
   "source": [
    "bgdr = BGDRegressor(epochs=1000,learning_rate=0.6)"
   ]
  },
  {
   "cell_type": "code",
   "execution_count": 82,
   "id": "d63d5ebd",
   "metadata": {},
   "outputs": [],
   "source": [
    "bgdr.fit(X_train,y_train)"
   ]
  },
  {
   "cell_type": "code",
   "execution_count": 83,
   "id": "93ffd2eb",
   "metadata": {},
   "outputs": [
    {
     "data": {
      "text/plain": [
       "array([   7.81553013, -186.49510734,  506.45449714,  330.72279448,\n",
       "        -45.79443697, -123.85023287, -193.69457562,   98.53559341,\n",
       "        470.95977477,   88.65520161])"
      ]
     },
     "execution_count": 83,
     "metadata": {},
     "output_type": "execute_result"
    }
   ],
   "source": [
    "bgdr.coef_"
   ]
  },
  {
   "cell_type": "code",
   "execution_count": 84,
   "id": "5786dbdb",
   "metadata": {},
   "outputs": [
    {
     "data": {
      "text/plain": [
       "151.98879593353988"
      ]
     },
     "execution_count": 84,
     "metadata": {},
     "output_type": "execute_result"
    }
   ],
   "source": [
    "bgdr.intercept_"
   ]
  },
  {
   "cell_type": "code",
   "execution_count": 85,
   "id": "6a0dc66d",
   "metadata": {},
   "outputs": [],
   "source": [
    "y_pred = bgdr.predict(X_test)"
   ]
  },
  {
   "cell_type": "code",
   "execution_count": 86,
   "id": "758c0b04",
   "metadata": {},
   "outputs": [
    {
     "data": {
      "text/plain": [
       "0.4520736256827782"
      ]
     },
     "execution_count": 86,
     "metadata": {},
     "output_type": "execute_result"
    }
   ],
   "source": [
    "r2_score(y_test,y_pred)"
   ]
  },
  {
   "cell_type": "markdown",
   "id": "a2c048a5",
   "metadata": {},
   "source": [
    "#### Problem with Batch Gradient Descent.\n",
    "\n",
    "- For each epochs we look into entire data and update the m and c.\n",
    "\n",
    "- Number of Computation is too many which make it very slow as derivate is calculated on based of every row and column.\n",
    "\n",
    "- Hardware issue with big data"
   ]
  },
  {
   "cell_type": "markdown",
   "id": "dcdb9d55",
   "metadata": {},
   "source": [
    "### Stochastic Gradient Descent\n",
    "\n",
    "By looking at single row we update the coefficients resulting in faster convergence.\n",
    "\n",
    "We dont need to upload entire dataset."
   ]
  },
  {
   "cell_type": "code",
   "execution_count": 87,
   "id": "7b63a06c",
   "metadata": {},
   "outputs": [],
   "source": [
    "from sklearn.datasets import load_diabetes\n",
    "\n",
    "import numpy as np\n",
    "from sklearn.linear_model import LinearRegression\n",
    "from sklearn.metrics import r2_score\n",
    "from sklearn.model_selection import train_test_split\n",
    "import time"
   ]
  },
  {
   "cell_type": "code",
   "execution_count": 88,
   "id": "3ad25782",
   "metadata": {},
   "outputs": [],
   "source": [
    "X,y = load_diabetes(return_X_y=True)"
   ]
  },
  {
   "cell_type": "code",
   "execution_count": 89,
   "id": "019f64b9",
   "metadata": {},
   "outputs": [
    {
     "name": "stdout",
     "output_type": "stream",
     "text": [
      "(442, 10)\n",
      "(442,)\n"
     ]
    }
   ],
   "source": [
    "print(X.shape)\n",
    "print(y.shape)"
   ]
  },
  {
   "cell_type": "code",
   "execution_count": 90,
   "id": "67596d71",
   "metadata": {},
   "outputs": [],
   "source": [
    "X_train,X_test,y_train,y_test = train_test_split(X,y,test_size=0.2,random_state=2)"
   ]
  },
  {
   "cell_type": "code",
   "execution_count": 91,
   "id": "b34579c8",
   "metadata": {},
   "outputs": [
    {
     "data": {
      "text/html": [
       "<style>#sk-container-id-5 {color: black;background-color: white;}#sk-container-id-5 pre{padding: 0;}#sk-container-id-5 div.sk-toggleable {background-color: white;}#sk-container-id-5 label.sk-toggleable__label {cursor: pointer;display: block;width: 100%;margin-bottom: 0;padding: 0.3em;box-sizing: border-box;text-align: center;}#sk-container-id-5 label.sk-toggleable__label-arrow:before {content: \"▸\";float: left;margin-right: 0.25em;color: #696969;}#sk-container-id-5 label.sk-toggleable__label-arrow:hover:before {color: black;}#sk-container-id-5 div.sk-estimator:hover label.sk-toggleable__label-arrow:before {color: black;}#sk-container-id-5 div.sk-toggleable__content {max-height: 0;max-width: 0;overflow: hidden;text-align: left;background-color: #f0f8ff;}#sk-container-id-5 div.sk-toggleable__content pre {margin: 0.2em;color: black;border-radius: 0.25em;background-color: #f0f8ff;}#sk-container-id-5 input.sk-toggleable__control:checked~div.sk-toggleable__content {max-height: 200px;max-width: 100%;overflow: auto;}#sk-container-id-5 input.sk-toggleable__control:checked~label.sk-toggleable__label-arrow:before {content: \"▾\";}#sk-container-id-5 div.sk-estimator input.sk-toggleable__control:checked~label.sk-toggleable__label {background-color: #d4ebff;}#sk-container-id-5 div.sk-label input.sk-toggleable__control:checked~label.sk-toggleable__label {background-color: #d4ebff;}#sk-container-id-5 input.sk-hidden--visually {border: 0;clip: rect(1px 1px 1px 1px);clip: rect(1px, 1px, 1px, 1px);height: 1px;margin: -1px;overflow: hidden;padding: 0;position: absolute;width: 1px;}#sk-container-id-5 div.sk-estimator {font-family: monospace;background-color: #f0f8ff;border: 1px dotted black;border-radius: 0.25em;box-sizing: border-box;margin-bottom: 0.5em;}#sk-container-id-5 div.sk-estimator:hover {background-color: #d4ebff;}#sk-container-id-5 div.sk-parallel-item::after {content: \"\";width: 100%;border-bottom: 1px solid gray;flex-grow: 1;}#sk-container-id-5 div.sk-label:hover label.sk-toggleable__label {background-color: #d4ebff;}#sk-container-id-5 div.sk-serial::before {content: \"\";position: absolute;border-left: 1px solid gray;box-sizing: border-box;top: 0;bottom: 0;left: 50%;z-index: 0;}#sk-container-id-5 div.sk-serial {display: flex;flex-direction: column;align-items: center;background-color: white;padding-right: 0.2em;padding-left: 0.2em;position: relative;}#sk-container-id-5 div.sk-item {position: relative;z-index: 1;}#sk-container-id-5 div.sk-parallel {display: flex;align-items: stretch;justify-content: center;background-color: white;position: relative;}#sk-container-id-5 div.sk-item::before, #sk-container-id-5 div.sk-parallel-item::before {content: \"\";position: absolute;border-left: 1px solid gray;box-sizing: border-box;top: 0;bottom: 0;left: 50%;z-index: -1;}#sk-container-id-5 div.sk-parallel-item {display: flex;flex-direction: column;z-index: 1;position: relative;background-color: white;}#sk-container-id-5 div.sk-parallel-item:first-child::after {align-self: flex-end;width: 50%;}#sk-container-id-5 div.sk-parallel-item:last-child::after {align-self: flex-start;width: 50%;}#sk-container-id-5 div.sk-parallel-item:only-child::after {width: 0;}#sk-container-id-5 div.sk-dashed-wrapped {border: 1px dashed gray;margin: 0 0.4em 0.5em 0.4em;box-sizing: border-box;padding-bottom: 0.4em;background-color: white;}#sk-container-id-5 div.sk-label label {font-family: monospace;font-weight: bold;display: inline-block;line-height: 1.2em;}#sk-container-id-5 div.sk-label-container {text-align: center;}#sk-container-id-5 div.sk-container {/* jupyter's `normalize.less` sets `[hidden] { display: none; }` but bootstrap.min.css set `[hidden] { display: none !important; }` so we also need the `!important` here to be able to override the default hidden behavior on the sphinx rendered scikit-learn.org. See: https://github.com/scikit-learn/scikit-learn/issues/21755 */display: inline-block !important;position: relative;}#sk-container-id-5 div.sk-text-repr-fallback {display: none;}</style><div id=\"sk-container-id-5\" class=\"sk-top-container\"><div class=\"sk-text-repr-fallback\"><pre>LinearRegression()</pre><b>In a Jupyter environment, please rerun this cell to show the HTML representation or trust the notebook. <br />On GitHub, the HTML representation is unable to render, please try loading this page with nbviewer.org.</b></div><div class=\"sk-container\" hidden><div class=\"sk-item\"><div class=\"sk-estimator sk-toggleable\"><input class=\"sk-toggleable__control sk-hidden--visually\" id=\"sk-estimator-id-5\" type=\"checkbox\" checked><label for=\"sk-estimator-id-5\" class=\"sk-toggleable__label sk-toggleable__label-arrow\">LinearRegression</label><div class=\"sk-toggleable__content\"><pre>LinearRegression()</pre></div></div></div></div></div>"
      ],
      "text/plain": [
       "LinearRegression()"
      ]
     },
     "execution_count": 91,
     "metadata": {},
     "output_type": "execute_result"
    }
   ],
   "source": [
    "reg = LinearRegression()\n",
    "reg.fit(X_train,y_train)"
   ]
  },
  {
   "cell_type": "code",
   "execution_count": 92,
   "id": "c479e6ea",
   "metadata": {},
   "outputs": [
    {
     "data": {
      "text/plain": [
       "array([  -9.15865318, -205.45432163,  516.69374454,  340.61999905,\n",
       "       -895.5520019 ,  561.22067904,  153.89310954,  126.73139688,\n",
       "        861.12700152,   52.42112238])"
      ]
     },
     "execution_count": 92,
     "metadata": {},
     "output_type": "execute_result"
    }
   ],
   "source": [
    "reg.coef_"
   ]
  },
  {
   "cell_type": "code",
   "execution_count": 93,
   "id": "e57901c1",
   "metadata": {},
   "outputs": [
    {
     "data": {
      "text/plain": [
       "151.88331005254167"
      ]
     },
     "execution_count": 93,
     "metadata": {},
     "output_type": "execute_result"
    }
   ],
   "source": [
    "reg.intercept_"
   ]
  },
  {
   "cell_type": "code",
   "execution_count": 94,
   "id": "1347959b",
   "metadata": {},
   "outputs": [
    {
     "data": {
      "text/plain": [
       "0.4399338661568968"
      ]
     },
     "execution_count": 94,
     "metadata": {},
     "output_type": "execute_result"
    }
   ],
   "source": [
    "y_pred = reg.predict(X_test)\n",
    "r2_score(y_test,y_pred)"
   ]
  },
  {
   "cell_type": "code",
   "execution_count": 95,
   "id": "9fb72213",
   "metadata": {},
   "outputs": [],
   "source": [
    "class SGDRegressor:\n",
    "    \n",
    "    def __init__(self,learning_rate=0.01,epochs=100):\n",
    "        \n",
    "        self.coef_ = None\n",
    "        self.intercept_ = None\n",
    "        self.lr = learning_rate\n",
    "        self.epochs = epochs\n",
    "        \n",
    "    def fit(self,X_train,y_train):\n",
    "        # init your coefs\n",
    "        self.intercept_ = 0\n",
    "        self.coef_ = np.ones(X_train.shape[1])\n",
    "        \n",
    "        for i in range(self.epochs):\n",
    "            for j in range(X_train.shape[0]): # this loop will go on as many rows we have\n",
    "                idx = np.random.randint(0,X_train.shape[0]) # here idx limit is from 0 to total number of rows of train\n",
    "                \n",
    "                y_hat = np.dot(X_train[idx],self.coef_) + self.intercept_\n",
    "                \n",
    "                intercept_der = -2 * (y_train[idx] - y_hat) # multiplying by idx row train i.e. train[idx]\n",
    "                self.intercept_ = self.intercept_ - (self.lr * intercept_der)\n",
    "                \n",
    "                coef_der = -2 * np.dot((y_train[idx] - y_hat),X_train[idx])\n",
    "                self.coef_ = self.coef_ - (self.lr * coef_der)\n",
    "        \n",
    "        print(self.intercept_,self.coef_)\n",
    "    \n",
    "    def predict(self,X_test):\n",
    "        return np.dot(X_test,self.coef_) + self.intercept_"
   ]
  },
  {
   "cell_type": "code",
   "execution_count": 96,
   "id": "c3e53b1d",
   "metadata": {},
   "outputs": [],
   "source": [
    "sgd = SGDRegressor(learning_rate=0.01,epochs=40)"
   ]
  },
  {
   "cell_type": "code",
   "execution_count": 97,
   "id": "56265503",
   "metadata": {},
   "outputs": [
    {
     "name": "stdout",
     "output_type": "stream",
     "text": [
      "156.61026059573047 [  65.04584506  -47.50936912  315.34801062  228.96256704   32.52547007\n",
      "   -3.46616988 -167.06156779  135.50912458  289.13532239  126.51648896]\n",
      "\n",
      "The time taken is 0.23299789428710938\n"
     ]
    }
   ],
   "source": [
    "start = time.time()\n",
    "sgd.fit(X_train,y_train)\n",
    "print(\"\\nThe time taken is\",time.time() - start)"
   ]
  },
  {
   "cell_type": "code",
   "execution_count": 98,
   "id": "4b053cf2",
   "metadata": {},
   "outputs": [],
   "source": [
    "y_pred = sgd.predict(X_test)"
   ]
  },
  {
   "cell_type": "code",
   "execution_count": 99,
   "id": "b1493121",
   "metadata": {},
   "outputs": [
    {
     "data": {
      "text/plain": [
       "0.4170689738311171"
      ]
     },
     "execution_count": 99,
     "metadata": {},
     "output_type": "execute_result"
    }
   ],
   "source": [
    "r2_score(y_test,y_pred)"
   ]
  },
  {
   "cell_type": "code",
   "execution_count": 100,
   "id": "9c1d2210",
   "metadata": {},
   "outputs": [],
   "source": [
    "from sklearn.linear_model import SGDRegressor"
   ]
  },
  {
   "cell_type": "code",
   "execution_count": 101,
   "id": "dac8ef39",
   "metadata": {},
   "outputs": [],
   "source": [
    "reg = SGDRegressor(max_iter=100,learning_rate='constant',eta0=0.01)"
   ]
  },
  {
   "cell_type": "code",
   "execution_count": 102,
   "id": "682286f3",
   "metadata": {},
   "outputs": [
    {
     "name": "stderr",
     "output_type": "stream",
     "text": [
      "C:\\Users\\mohit.kumar\\Anaconda3\\lib\\site-packages\\sklearn\\linear_model\\_stochastic_gradient.py:1527: ConvergenceWarning: Maximum number of iteration reached before convergence. Consider increasing max_iter to improve the fit.\n",
      "  warnings.warn(\n"
     ]
    },
    {
     "data": {
      "text/html": [
       "<style>#sk-container-id-6 {color: black;background-color: white;}#sk-container-id-6 pre{padding: 0;}#sk-container-id-6 div.sk-toggleable {background-color: white;}#sk-container-id-6 label.sk-toggleable__label {cursor: pointer;display: block;width: 100%;margin-bottom: 0;padding: 0.3em;box-sizing: border-box;text-align: center;}#sk-container-id-6 label.sk-toggleable__label-arrow:before {content: \"▸\";float: left;margin-right: 0.25em;color: #696969;}#sk-container-id-6 label.sk-toggleable__label-arrow:hover:before {color: black;}#sk-container-id-6 div.sk-estimator:hover label.sk-toggleable__label-arrow:before {color: black;}#sk-container-id-6 div.sk-toggleable__content {max-height: 0;max-width: 0;overflow: hidden;text-align: left;background-color: #f0f8ff;}#sk-container-id-6 div.sk-toggleable__content pre {margin: 0.2em;color: black;border-radius: 0.25em;background-color: #f0f8ff;}#sk-container-id-6 input.sk-toggleable__control:checked~div.sk-toggleable__content {max-height: 200px;max-width: 100%;overflow: auto;}#sk-container-id-6 input.sk-toggleable__control:checked~label.sk-toggleable__label-arrow:before {content: \"▾\";}#sk-container-id-6 div.sk-estimator input.sk-toggleable__control:checked~label.sk-toggleable__label {background-color: #d4ebff;}#sk-container-id-6 div.sk-label input.sk-toggleable__control:checked~label.sk-toggleable__label {background-color: #d4ebff;}#sk-container-id-6 input.sk-hidden--visually {border: 0;clip: rect(1px 1px 1px 1px);clip: rect(1px, 1px, 1px, 1px);height: 1px;margin: -1px;overflow: hidden;padding: 0;position: absolute;width: 1px;}#sk-container-id-6 div.sk-estimator {font-family: monospace;background-color: #f0f8ff;border: 1px dotted black;border-radius: 0.25em;box-sizing: border-box;margin-bottom: 0.5em;}#sk-container-id-6 div.sk-estimator:hover {background-color: #d4ebff;}#sk-container-id-6 div.sk-parallel-item::after {content: \"\";width: 100%;border-bottom: 1px solid gray;flex-grow: 1;}#sk-container-id-6 div.sk-label:hover label.sk-toggleable__label {background-color: #d4ebff;}#sk-container-id-6 div.sk-serial::before {content: \"\";position: absolute;border-left: 1px solid gray;box-sizing: border-box;top: 0;bottom: 0;left: 50%;z-index: 0;}#sk-container-id-6 div.sk-serial {display: flex;flex-direction: column;align-items: center;background-color: white;padding-right: 0.2em;padding-left: 0.2em;position: relative;}#sk-container-id-6 div.sk-item {position: relative;z-index: 1;}#sk-container-id-6 div.sk-parallel {display: flex;align-items: stretch;justify-content: center;background-color: white;position: relative;}#sk-container-id-6 div.sk-item::before, #sk-container-id-6 div.sk-parallel-item::before {content: \"\";position: absolute;border-left: 1px solid gray;box-sizing: border-box;top: 0;bottom: 0;left: 50%;z-index: -1;}#sk-container-id-6 div.sk-parallel-item {display: flex;flex-direction: column;z-index: 1;position: relative;background-color: white;}#sk-container-id-6 div.sk-parallel-item:first-child::after {align-self: flex-end;width: 50%;}#sk-container-id-6 div.sk-parallel-item:last-child::after {align-self: flex-start;width: 50%;}#sk-container-id-6 div.sk-parallel-item:only-child::after {width: 0;}#sk-container-id-6 div.sk-dashed-wrapped {border: 1px dashed gray;margin: 0 0.4em 0.5em 0.4em;box-sizing: border-box;padding-bottom: 0.4em;background-color: white;}#sk-container-id-6 div.sk-label label {font-family: monospace;font-weight: bold;display: inline-block;line-height: 1.2em;}#sk-container-id-6 div.sk-label-container {text-align: center;}#sk-container-id-6 div.sk-container {/* jupyter's `normalize.less` sets `[hidden] { display: none; }` but bootstrap.min.css set `[hidden] { display: none !important; }` so we also need the `!important` here to be able to override the default hidden behavior on the sphinx rendered scikit-learn.org. See: https://github.com/scikit-learn/scikit-learn/issues/21755 */display: inline-block !important;position: relative;}#sk-container-id-6 div.sk-text-repr-fallback {display: none;}</style><div id=\"sk-container-id-6\" class=\"sk-top-container\"><div class=\"sk-text-repr-fallback\"><pre>SGDRegressor(learning_rate=&#x27;constant&#x27;, max_iter=100)</pre><b>In a Jupyter environment, please rerun this cell to show the HTML representation or trust the notebook. <br />On GitHub, the HTML representation is unable to render, please try loading this page with nbviewer.org.</b></div><div class=\"sk-container\" hidden><div class=\"sk-item\"><div class=\"sk-estimator sk-toggleable\"><input class=\"sk-toggleable__control sk-hidden--visually\" id=\"sk-estimator-id-6\" type=\"checkbox\" checked><label for=\"sk-estimator-id-6\" class=\"sk-toggleable__label sk-toggleable__label-arrow\">SGDRegressor</label><div class=\"sk-toggleable__content\"><pre>SGDRegressor(learning_rate=&#x27;constant&#x27;, max_iter=100)</pre></div></div></div></div></div>"
      ],
      "text/plain": [
       "SGDRegressor(learning_rate='constant', max_iter=100)"
      ]
     },
     "execution_count": 102,
     "metadata": {},
     "output_type": "execute_result"
    }
   ],
   "source": [
    "reg.fit(X_train,y_train)"
   ]
  },
  {
   "cell_type": "code",
   "execution_count": 103,
   "id": "ace2f878",
   "metadata": {},
   "outputs": [],
   "source": [
    "y_pred = reg.predict(X_test)"
   ]
  },
  {
   "cell_type": "code",
   "execution_count": 104,
   "id": "a0d57f3b",
   "metadata": {},
   "outputs": [
    {
     "data": {
      "text/plain": [
       "0.42607096409559575"
      ]
     },
     "execution_count": 104,
     "metadata": {},
     "output_type": "execute_result"
    }
   ],
   "source": [
    "r2_score(y_test,y_pred)"
   ]
  },
  {
   "cell_type": "markdown",
   "id": "fd19b450",
   "metadata": {},
   "source": [
    "#### NOTE: For same epoch value Batch gradient Descent is works better nad faster than Stochastic gradient Descent. \n",
    "\n",
    "#### But As Stochastic doesnot need that much epochs values, that why it converges faster.\n",
    "    "
   ]
  },
  {
   "cell_type": "markdown",
   "id": "e78387d6",
   "metadata": {},
   "source": [
    "### When to use Stochastic Gradient Descent\n",
    "\n",
    "1. Big Data -  For large data it will converge faster.\n",
    "\n",
    "\n",
    "2. Non-Convex Function - A function whose any two points when connected, the connected line cuts the curve of the function.\n"
   ]
  },
  {
   "cell_type": "markdown",
   "id": "93b98952",
   "metadata": {},
   "source": [
    "***"
   ]
  },
  {
   "cell_type": "markdown",
   "id": "135ebcde",
   "metadata": {},
   "source": [
    "## Mini Batch Gradient Descent"
   ]
  },
  {
   "cell_type": "markdown",
   "id": "afc45840",
   "metadata": {},
   "source": [
    "Uses batches for each epochs and updates per epochs."
   ]
  },
  {
   "cell_type": "markdown",
   "id": "d6313c04",
   "metadata": {},
   "source": [
    "##### using scikit learn Linear Regression"
   ]
  },
  {
   "cell_type": "code",
   "execution_count": 105,
   "id": "e1d1b3f6",
   "metadata": {},
   "outputs": [],
   "source": [
    "from sklearn.datasets import load_diabetes\n",
    "\n",
    "import numpy as np\n",
    "from sklearn.linear_model import LinearRegression\n",
    "from sklearn.metrics import r2_score\n",
    "from sklearn.model_selection import train_test_split"
   ]
  },
  {
   "cell_type": "code",
   "execution_count": 106,
   "id": "84500f46",
   "metadata": {},
   "outputs": [],
   "source": [
    "X,y = load_diabetes(return_X_y=True)"
   ]
  },
  {
   "cell_type": "code",
   "execution_count": 107,
   "id": "5ef471cc",
   "metadata": {},
   "outputs": [
    {
     "name": "stdout",
     "output_type": "stream",
     "text": [
      "(442, 10)\n",
      "(442,)\n"
     ]
    }
   ],
   "source": [
    "print(X.shape)\n",
    "print(y.shape)"
   ]
  },
  {
   "cell_type": "code",
   "execution_count": 108,
   "id": "01ebedbc",
   "metadata": {},
   "outputs": [],
   "source": [
    "X_train,X_test,y_train,y_test = train_test_split(X,y,test_size=0.2,random_state=2)"
   ]
  },
  {
   "cell_type": "code",
   "execution_count": 109,
   "id": "3ab37e5e",
   "metadata": {},
   "outputs": [
    {
     "data": {
      "text/html": [
       "<style>#sk-container-id-7 {color: black;background-color: white;}#sk-container-id-7 pre{padding: 0;}#sk-container-id-7 div.sk-toggleable {background-color: white;}#sk-container-id-7 label.sk-toggleable__label {cursor: pointer;display: block;width: 100%;margin-bottom: 0;padding: 0.3em;box-sizing: border-box;text-align: center;}#sk-container-id-7 label.sk-toggleable__label-arrow:before {content: \"▸\";float: left;margin-right: 0.25em;color: #696969;}#sk-container-id-7 label.sk-toggleable__label-arrow:hover:before {color: black;}#sk-container-id-7 div.sk-estimator:hover label.sk-toggleable__label-arrow:before {color: black;}#sk-container-id-7 div.sk-toggleable__content {max-height: 0;max-width: 0;overflow: hidden;text-align: left;background-color: #f0f8ff;}#sk-container-id-7 div.sk-toggleable__content pre {margin: 0.2em;color: black;border-radius: 0.25em;background-color: #f0f8ff;}#sk-container-id-7 input.sk-toggleable__control:checked~div.sk-toggleable__content {max-height: 200px;max-width: 100%;overflow: auto;}#sk-container-id-7 input.sk-toggleable__control:checked~label.sk-toggleable__label-arrow:before {content: \"▾\";}#sk-container-id-7 div.sk-estimator input.sk-toggleable__control:checked~label.sk-toggleable__label {background-color: #d4ebff;}#sk-container-id-7 div.sk-label input.sk-toggleable__control:checked~label.sk-toggleable__label {background-color: #d4ebff;}#sk-container-id-7 input.sk-hidden--visually {border: 0;clip: rect(1px 1px 1px 1px);clip: rect(1px, 1px, 1px, 1px);height: 1px;margin: -1px;overflow: hidden;padding: 0;position: absolute;width: 1px;}#sk-container-id-7 div.sk-estimator {font-family: monospace;background-color: #f0f8ff;border: 1px dotted black;border-radius: 0.25em;box-sizing: border-box;margin-bottom: 0.5em;}#sk-container-id-7 div.sk-estimator:hover {background-color: #d4ebff;}#sk-container-id-7 div.sk-parallel-item::after {content: \"\";width: 100%;border-bottom: 1px solid gray;flex-grow: 1;}#sk-container-id-7 div.sk-label:hover label.sk-toggleable__label {background-color: #d4ebff;}#sk-container-id-7 div.sk-serial::before {content: \"\";position: absolute;border-left: 1px solid gray;box-sizing: border-box;top: 0;bottom: 0;left: 50%;z-index: 0;}#sk-container-id-7 div.sk-serial {display: flex;flex-direction: column;align-items: center;background-color: white;padding-right: 0.2em;padding-left: 0.2em;position: relative;}#sk-container-id-7 div.sk-item {position: relative;z-index: 1;}#sk-container-id-7 div.sk-parallel {display: flex;align-items: stretch;justify-content: center;background-color: white;position: relative;}#sk-container-id-7 div.sk-item::before, #sk-container-id-7 div.sk-parallel-item::before {content: \"\";position: absolute;border-left: 1px solid gray;box-sizing: border-box;top: 0;bottom: 0;left: 50%;z-index: -1;}#sk-container-id-7 div.sk-parallel-item {display: flex;flex-direction: column;z-index: 1;position: relative;background-color: white;}#sk-container-id-7 div.sk-parallel-item:first-child::after {align-self: flex-end;width: 50%;}#sk-container-id-7 div.sk-parallel-item:last-child::after {align-self: flex-start;width: 50%;}#sk-container-id-7 div.sk-parallel-item:only-child::after {width: 0;}#sk-container-id-7 div.sk-dashed-wrapped {border: 1px dashed gray;margin: 0 0.4em 0.5em 0.4em;box-sizing: border-box;padding-bottom: 0.4em;background-color: white;}#sk-container-id-7 div.sk-label label {font-family: monospace;font-weight: bold;display: inline-block;line-height: 1.2em;}#sk-container-id-7 div.sk-label-container {text-align: center;}#sk-container-id-7 div.sk-container {/* jupyter's `normalize.less` sets `[hidden] { display: none; }` but bootstrap.min.css set `[hidden] { display: none !important; }` so we also need the `!important` here to be able to override the default hidden behavior on the sphinx rendered scikit-learn.org. See: https://github.com/scikit-learn/scikit-learn/issues/21755 */display: inline-block !important;position: relative;}#sk-container-id-7 div.sk-text-repr-fallback {display: none;}</style><div id=\"sk-container-id-7\" class=\"sk-top-container\"><div class=\"sk-text-repr-fallback\"><pre>LinearRegression()</pre><b>In a Jupyter environment, please rerun this cell to show the HTML representation or trust the notebook. <br />On GitHub, the HTML representation is unable to render, please try loading this page with nbviewer.org.</b></div><div class=\"sk-container\" hidden><div class=\"sk-item\"><div class=\"sk-estimator sk-toggleable\"><input class=\"sk-toggleable__control sk-hidden--visually\" id=\"sk-estimator-id-7\" type=\"checkbox\" checked><label for=\"sk-estimator-id-7\" class=\"sk-toggleable__label sk-toggleable__label-arrow\">LinearRegression</label><div class=\"sk-toggleable__content\"><pre>LinearRegression()</pre></div></div></div></div></div>"
      ],
      "text/plain": [
       "LinearRegression()"
      ]
     },
     "execution_count": 109,
     "metadata": {},
     "output_type": "execute_result"
    }
   ],
   "source": [
    "reg = LinearRegression()\n",
    "reg.fit(X_train,y_train)"
   ]
  },
  {
   "cell_type": "code",
   "execution_count": 110,
   "id": "b0460e00",
   "metadata": {},
   "outputs": [
    {
     "name": "stdout",
     "output_type": "stream",
     "text": [
      "[  -9.15865318 -205.45432163  516.69374454  340.61999905 -895.5520019\n",
      "  561.22067904  153.89310954  126.73139688  861.12700152   52.42112238]\n",
      "151.88331005254167\n"
     ]
    }
   ],
   "source": [
    "print(reg.coef_)\n",
    "print(reg.intercept_)"
   ]
  },
  {
   "cell_type": "code",
   "execution_count": 111,
   "id": "5c4104dd",
   "metadata": {},
   "outputs": [
    {
     "data": {
      "text/plain": [
       "0.4399338661568968"
      ]
     },
     "execution_count": 111,
     "metadata": {},
     "output_type": "execute_result"
    }
   ],
   "source": [
    "y_pred = reg.predict(X_test)\n",
    "r2_score(y_test,y_pred)"
   ]
  },
  {
   "cell_type": "markdown",
   "id": "44c5b28f",
   "metadata": {},
   "source": [
    "### Creating Mini Batch Gradient Descent from Scratch "
   ]
  },
  {
   "cell_type": "code",
   "execution_count": 112,
   "id": "4d92f6d3",
   "metadata": {},
   "outputs": [],
   "source": [
    "import random\n",
    "\n",
    "class MBGDRegressor:\n",
    "    \n",
    "    def __init__(self,batch_size,learning_rate=0.01,epochs=100): #asking batch size from user\n",
    "        \n",
    "        self.coef_ = None\n",
    "        self.intercept_ = None\n",
    "        self.lr = learning_rate\n",
    "        self.epochs = epochs\n",
    "        self.batch_size = batch_size\n",
    "        \n",
    "    def fit(self,X_train,y_train):\n",
    "        # init your coefs\n",
    "        self.intercept_ = 0\n",
    "        self.coef_ = np.ones(X_train.shape[1])\n",
    "        \n",
    "        for i in range(self.epochs):\n",
    "            \n",
    "            for j in range(int(X_train.shape[0]/self.batch_size)):  # ander ka loop will run as much as number of batch is\n",
    "                \n",
    "                idx = random.sample(range(X_train.shape[0]),self.batch_size)\n",
    "                \n",
    "                y_hat = np.dot(X_train[idx],self.coef_) + self.intercept_\n",
    "                #print(\"Shape of y_hat\",y_hat.shape)\n",
    "                intercept_der = -2 * np.mean(y_train[idx] - y_hat)\n",
    "                self.intercept_ = self.intercept_ - (self.lr * intercept_der)\n",
    "\n",
    "                coef_der = -2 * np.dot((y_train[idx] - y_hat),X_train[idx])\n",
    "                self.coef_ = self.coef_ - (self.lr * coef_der)\n",
    "        \n",
    "        print(self.intercept_,self.coef_)\n",
    "    \n",
    "    def predict(self,X_test):\n",
    "        return np.dot(X_test,self.coef_) + self.intercept_"
   ]
  },
  {
   "cell_type": "code",
   "execution_count": 113,
   "id": "99078906",
   "metadata": {},
   "outputs": [],
   "source": [
    "mbr = MBGDRegressor(batch_size=int(X_train.shape[0]/50),learning_rate=0.01,epochs=100)"
   ]
  },
  {
   "cell_type": "code",
   "execution_count": 114,
   "id": "dc4e8574",
   "metadata": {},
   "outputs": [
    {
     "name": "stdout",
     "output_type": "stream",
     "text": [
      "152.45016875344555 [  36.49767577 -138.11721825  448.09790379  306.80588334  -24.21478252\n",
      "  -95.49511487 -190.8995164   107.76723413  409.73627457  116.98231794]\n"
     ]
    }
   ],
   "source": [
    "mbr.fit(X_train,y_train)"
   ]
  },
  {
   "cell_type": "code",
   "execution_count": 115,
   "id": "d32d9fef",
   "metadata": {},
   "outputs": [],
   "source": [
    "y_pred = mbr.predict(X_test)"
   ]
  },
  {
   "cell_type": "code",
   "execution_count": 116,
   "id": "905a915d",
   "metadata": {},
   "outputs": [
    {
     "data": {
      "text/plain": [
       "0.4518542636169529"
      ]
     },
     "execution_count": 116,
     "metadata": {},
     "output_type": "execute_result"
    }
   ],
   "source": [
    "r2_score(y_test,y_pred)"
   ]
  },
  {
   "cell_type": "markdown",
   "id": "89472623",
   "metadata": {},
   "source": [
    "### Mini Batch Gradient Descent Using SGDRegressor for Learning Schedule"
   ]
  },
  {
   "cell_type": "code",
   "execution_count": 117,
   "id": "a48ecad9",
   "metadata": {},
   "outputs": [],
   "source": [
    "from sklearn.linear_model import SGDRegressor"
   ]
  },
  {
   "cell_type": "code",
   "execution_count": 118,
   "id": "cc4d285f",
   "metadata": {},
   "outputs": [],
   "source": [
    "sgd = SGDRegressor(learning_rate='constant',eta0=0.1)"
   ]
  },
  {
   "cell_type": "code",
   "execution_count": 119,
   "id": "23b8a8be",
   "metadata": {},
   "outputs": [],
   "source": [
    "batch_size = 35 # index value is 35\n",
    "\n",
    "for i in range(100): # for epochs = 100\n",
    "    \n",
    "    idx = random.sample(range(X_train.shape[0]),batch_size)\n",
    "    sgd.partial_fit(X_train[idx],y_train[idx])"
   ]
  },
  {
   "cell_type": "code",
   "execution_count": 120,
   "id": "9827c50a",
   "metadata": {},
   "outputs": [
    {
     "data": {
      "text/plain": [
       "array([  62.95031882,  -65.24797928,  353.28566402,  246.02648197,\n",
       "         21.98087815,  -24.28758369, -172.07496515,  136.50648665,\n",
       "        313.24738517,  129.1043464 ])"
      ]
     },
     "execution_count": 120,
     "metadata": {},
     "output_type": "execute_result"
    }
   ],
   "source": [
    "sgd.coef_"
   ]
  },
  {
   "cell_type": "code",
   "execution_count": 121,
   "id": "bf5ae439",
   "metadata": {},
   "outputs": [
    {
     "data": {
      "text/plain": [
       "array([154.04103359])"
      ]
     },
     "execution_count": 121,
     "metadata": {},
     "output_type": "execute_result"
    }
   ],
   "source": [
    "sgd.intercept_"
   ]
  },
  {
   "cell_type": "code",
   "execution_count": 122,
   "id": "df9c2619",
   "metadata": {},
   "outputs": [],
   "source": [
    "y_pred = sgd.predict(X_test)"
   ]
  },
  {
   "cell_type": "code",
   "execution_count": 123,
   "id": "ab5ea374",
   "metadata": {},
   "outputs": [
    {
     "data": {
      "text/plain": [
       "0.43171709644478373"
      ]
     },
     "execution_count": 123,
     "metadata": {},
     "output_type": "execute_result"
    }
   ],
   "source": [
    "r2_score(y_test,y_pred)"
   ]
  },
  {
   "cell_type": "code",
   "execution_count": null,
   "id": "e4f0324a",
   "metadata": {},
   "outputs": [],
   "source": []
  },
  {
   "cell_type": "code",
   "execution_count": null,
   "id": "7f23863f",
   "metadata": {},
   "outputs": [],
   "source": []
  }
 ],
 "metadata": {
  "kernelspec": {
   "display_name": "Python 3 (ipykernel)",
   "language": "python",
   "name": "python3"
  },
  "language_info": {
   "codemirror_mode": {
    "name": "ipython",
    "version": 3
   },
   "file_extension": ".py",
   "mimetype": "text/x-python",
   "name": "python",
   "nbconvert_exporter": "python",
   "pygments_lexer": "ipython3",
   "version": "3.9.13"
  }
 },
 "nbformat": 4,
 "nbformat_minor": 5
}

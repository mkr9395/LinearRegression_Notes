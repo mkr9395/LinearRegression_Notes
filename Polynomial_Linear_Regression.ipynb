{
 "cells": [
  {
   "cell_type": "markdown",
   "id": "a7edb7cc",
   "metadata": {},
   "source": [
    "- Simple Linear regression $\\longrightarrow\\;y\\;=\\;\\beta_{0}\\;+\\;\\beta_1 x$\n",
    "\n",
    "\n",
    "- Multiple Linear Regression $\\longrightarrow\\;y\\;=\\;\\beta_{0}\\;+\\;\\beta_1 x_1\\;+\\;\\beta_2 x_2\\;+\\;\\beta_3 x_3\\;+....\\;+\\;\\beta_n x_n$\n",
    "\n",
    "\n",
    "- Simple Polynomial Regression for degree = 2  $\\longrightarrow\\;y\\;=\\;\\beta_{0}\\;+\\;\\beta_1 x\\;+\\;\\beta_2 x^2$\n"
   ]
  },
  {
   "cell_type": "markdown",
   "id": "c2872f91",
   "metadata": {},
   "source": [
    "For lower degree (degree = 2) Polynomial Regression tries to underfit and for higher degree(degree = 15) it tries to Overfit."
   ]
  },
  {
   "cell_type": "code",
   "execution_count": 67,
   "id": "49c5cbf0",
   "metadata": {},
   "outputs": [],
   "source": [
    "import pandas as pd\n",
    "import numpy as np\n",
    "import matplotlib.pyplot as plt"
   ]
  },
  {
   "cell_type": "code",
   "execution_count": 68,
   "id": "6b84834d",
   "metadata": {},
   "outputs": [],
   "source": [
    "from sklearn.model_selection import train_test_split\n",
    "\n",
    "from sklearn.linear_model import LinearRegression, SGDRegressor\n",
    "\n",
    "from sklearn.preprocessing import PolynomialFeatures, StandardScaler\n",
    "\n",
    "from sklearn.metrics import r2_score\n",
    "\n",
    "from sklearn.pipeline import Pipeline"
   ]
  },
  {
   "cell_type": "code",
   "execution_count": 69,
   "id": "33312102",
   "metadata": {},
   "outputs": [],
   "source": [
    "# generating data\n",
    "# 1 input column and 1 output column\n",
    "\n",
    "X = 6* np.random.rand(200, 1) - 3\n",
    "y = 0.8 * X**2 + 0.9 * X + 2 + np.random.randn(200,1)\n",
    "\n",
    "# equation inside the data y = 0.8^2 + 0.9^x + 2 polynomial of degree 2"
   ]
  },
  {
   "cell_type": "code",
   "execution_count": 70,
   "id": "d1412326",
   "metadata": {},
   "outputs": [
    {
     "data": {
      "text/plain": [
       "array([[-1.1014095 ],\n",
       "       [ 2.93780596],\n",
       "       [-2.99636788],\n",
       "       [-1.60961739],\n",
       "       [-2.42062548],\n",
       "       [ 2.46987766],\n",
       "       [ 2.78053173],\n",
       "       [ 2.98825682],\n",
       "       [-2.7470745 ],\n",
       "       [-0.98671446],\n",
       "       [-1.12826327],\n",
       "       [ 2.62680009],\n",
       "       [-0.18952924],\n",
       "       [ 2.17197166],\n",
       "       [-0.88036448],\n",
       "       [ 1.48293523],\n",
       "       [ 0.63513102],\n",
       "       [ 1.60980902],\n",
       "       [-1.22940832],\n",
       "       [-1.55357696],\n",
       "       [-2.0681582 ],\n",
       "       [ 0.77104979],\n",
       "       [ 2.47870937],\n",
       "       [ 1.32122348],\n",
       "       [-0.50079119],\n",
       "       [-2.83301405],\n",
       "       [-2.8257838 ],\n",
       "       [-2.15135354],\n",
       "       [ 2.87957989],\n",
       "       [ 0.23591255],\n",
       "       [-1.16320369],\n",
       "       [ 2.13739513],\n",
       "       [ 2.16750822],\n",
       "       [-0.78431983],\n",
       "       [-2.75676497],\n",
       "       [-2.38925047],\n",
       "       [-0.19529652],\n",
       "       [-2.07487599],\n",
       "       [-0.40932145],\n",
       "       [ 0.5136825 ],\n",
       "       [ 0.11703744],\n",
       "       [-0.11503779],\n",
       "       [-1.80400859],\n",
       "       [-2.79302665],\n",
       "       [-1.14570343],\n",
       "       [-2.45888161],\n",
       "       [-0.25598047],\n",
       "       [-2.19907459],\n",
       "       [-1.13429849],\n",
       "       [-0.9546855 ],\n",
       "       [-0.17647603],\n",
       "       [ 2.92377039],\n",
       "       [-1.52045284],\n",
       "       [ 0.5126283 ],\n",
       "       [ 0.58120405],\n",
       "       [-2.86110123],\n",
       "       [ 1.58615267],\n",
       "       [ 1.07886716],\n",
       "       [-2.64930676],\n",
       "       [-2.36257693],\n",
       "       [-1.69848137],\n",
       "       [-1.51195416],\n",
       "       [-1.35165117],\n",
       "       [ 2.40421228],\n",
       "       [-0.52355285],\n",
       "       [-2.58040548],\n",
       "       [-2.22680164],\n",
       "       [ 2.83309575],\n",
       "       [-2.60656239],\n",
       "       [-0.38785273],\n",
       "       [-1.42178719],\n",
       "       [ 0.21107385],\n",
       "       [-2.98622552],\n",
       "       [ 2.91954334],\n",
       "       [ 2.55103458],\n",
       "       [ 0.07487094],\n",
       "       [-1.54697306],\n",
       "       [-1.81512982],\n",
       "       [-2.72261126],\n",
       "       [ 0.07544468],\n",
       "       [ 1.03003087],\n",
       "       [-2.68505066],\n",
       "       [ 1.02269345],\n",
       "       [ 1.21686556],\n",
       "       [-2.1638445 ],\n",
       "       [ 2.30140795],\n",
       "       [-1.62763546],\n",
       "       [ 0.44357416],\n",
       "       [-2.94848506],\n",
       "       [ 0.79695612],\n",
       "       [ 2.8742737 ],\n",
       "       [ 2.94984412],\n",
       "       [ 1.95843433],\n",
       "       [-1.76921365],\n",
       "       [-0.29216901],\n",
       "       [ 2.68759824],\n",
       "       [ 2.1768978 ],\n",
       "       [-0.11992312],\n",
       "       [-2.47823453],\n",
       "       [-0.43673808],\n",
       "       [-1.69264572],\n",
       "       [-0.49622813],\n",
       "       [-2.05604069],\n",
       "       [-0.62223421],\n",
       "       [ 2.62264412],\n",
       "       [ 2.36594693],\n",
       "       [-0.73832075],\n",
       "       [ 1.34967561],\n",
       "       [-0.06874481],\n",
       "       [ 1.85060956],\n",
       "       [-1.32657948],\n",
       "       [-1.01148273],\n",
       "       [ 2.2881172 ],\n",
       "       [ 2.71773709],\n",
       "       [ 2.41916028],\n",
       "       [ 0.17440843],\n",
       "       [-0.61706044],\n",
       "       [-1.38444252],\n",
       "       [ 2.66938034],\n",
       "       [-1.46831078],\n",
       "       [-2.48797548],\n",
       "       [ 0.94987753],\n",
       "       [ 2.93589496],\n",
       "       [-2.73915256],\n",
       "       [-2.29957336],\n",
       "       [ 0.9586239 ],\n",
       "       [-1.98681887],\n",
       "       [-0.39826368],\n",
       "       [-2.86110032],\n",
       "       [ 0.50973292],\n",
       "       [-1.95042625],\n",
       "       [ 1.25366801],\n",
       "       [ 0.6809976 ],\n",
       "       [-0.21489784],\n",
       "       [-2.16167785],\n",
       "       [-2.15547422],\n",
       "       [ 0.66393126],\n",
       "       [ 1.34792133],\n",
       "       [-2.84525182],\n",
       "       [ 0.53040154],\n",
       "       [-2.84987497],\n",
       "       [-0.60746309],\n",
       "       [ 1.50590947],\n",
       "       [ 0.36981597],\n",
       "       [ 2.85654461],\n",
       "       [-0.87078622],\n",
       "       [-2.4955878 ],\n",
       "       [ 2.8331764 ],\n",
       "       [ 1.8851307 ],\n",
       "       [-2.56701821],\n",
       "       [-1.14116819],\n",
       "       [ 1.54869947],\n",
       "       [-1.21538066],\n",
       "       [ 0.23440312],\n",
       "       [ 2.56897177],\n",
       "       [-0.9409197 ],\n",
       "       [-0.4067215 ],\n",
       "       [-0.58013188],\n",
       "       [-1.988279  ],\n",
       "       [ 0.27221147],\n",
       "       [ 1.61106673],\n",
       "       [ 0.23171704],\n",
       "       [ 1.60774092],\n",
       "       [-1.23139407],\n",
       "       [ 1.43039142],\n",
       "       [ 1.55602089],\n",
       "       [-2.35170485],\n",
       "       [ 2.60608526],\n",
       "       [ 1.29917488],\n",
       "       [-2.89465312],\n",
       "       [-1.58917356],\n",
       "       [ 2.43098165],\n",
       "       [-0.1859661 ],\n",
       "       [ 2.59232654],\n",
       "       [-0.12474983],\n",
       "       [-2.19740233],\n",
       "       [ 0.2134615 ],\n",
       "       [ 2.61422705],\n",
       "       [-2.58973871],\n",
       "       [-2.75346083],\n",
       "       [ 1.05931722],\n",
       "       [-1.4659111 ],\n",
       "       [-0.73806847],\n",
       "       [ 2.85109756],\n",
       "       [ 0.4946149 ],\n",
       "       [-1.23916035],\n",
       "       [ 0.66830152],\n",
       "       [-0.09662251],\n",
       "       [-1.15838916],\n",
       "       [ 1.42463875],\n",
       "       [-0.80434075],\n",
       "       [ 2.67968278],\n",
       "       [ 0.28968222],\n",
       "       [-0.45709249],\n",
       "       [ 0.61227279],\n",
       "       [-2.13047835],\n",
       "       [ 0.52980319],\n",
       "       [-0.56501933],\n",
       "       [-1.16198819],\n",
       "       [-1.87384493]])"
      ]
     },
     "execution_count": 70,
     "metadata": {},
     "output_type": "execute_result"
    }
   ],
   "source": [
    "X"
   ]
  },
  {
   "cell_type": "code",
   "execution_count": 71,
   "id": "e0605532",
   "metadata": {},
   "outputs": [
    {
     "data": {
      "text/plain": [
       "array([[ 1.24825496],\n",
       "       [ 9.44596541],\n",
       "       [ 6.66580402],\n",
       "       [ 1.85560703],\n",
       "       [ 4.27158901],\n",
       "       [ 8.25832632],\n",
       "       [10.1685941 ],\n",
       "       [10.11910195],\n",
       "       [ 5.25346857],\n",
       "       [ 1.93203193],\n",
       "       [ 2.23406639],\n",
       "       [ 8.08948881],\n",
       "       [ 2.28762016],\n",
       "       [ 7.78604759],\n",
       "       [ 1.42082838],\n",
       "       [ 6.34068099],\n",
       "       [ 1.23752096],\n",
       "       [ 5.51864282],\n",
       "       [ 3.03434593],\n",
       "       [ 2.00870493],\n",
       "       [ 3.52771574],\n",
       "       [ 2.70403402],\n",
       "       [10.27864871],\n",
       "       [ 5.89523505],\n",
       "       [ 2.8256671 ],\n",
       "       [ 5.53756426],\n",
       "       [ 5.85834362],\n",
       "       [ 4.47518102],\n",
       "       [11.1458679 ],\n",
       "       [ 1.00592846],\n",
       "       [ 1.72369607],\n",
       "       [ 9.26017012],\n",
       "       [ 9.15831971],\n",
       "       [ 2.26219917],\n",
       "       [ 5.18147642],\n",
       "       [ 4.8274434 ],\n",
       "       [ 2.94296748],\n",
       "       [ 4.14013728],\n",
       "       [ 1.52262306],\n",
       "       [ 2.12140663],\n",
       "       [ 2.13631702],\n",
       "       [ 0.28048915],\n",
       "       [ 3.42858138],\n",
       "       [ 5.67236401],\n",
       "       [ 2.08852917],\n",
       "       [ 4.27862382],\n",
       "       [ 1.80898286],\n",
       "       [ 5.33756008],\n",
       "       [ 1.651897  ],\n",
       "       [ 2.57598835],\n",
       "       [ 1.11393742],\n",
       "       [12.30322811],\n",
       "       [ 1.56013614],\n",
       "       [ 3.8270345 ],\n",
       "       [ 1.81680913],\n",
       "       [ 7.67424072],\n",
       "       [ 7.27283929],\n",
       "       [ 3.31042722],\n",
       "       [ 5.74364519],\n",
       "       [ 3.0544553 ],\n",
       "       [ 1.11935198],\n",
       "       [ 1.20112611],\n",
       "       [ 1.89335258],\n",
       "       [ 8.68336578],\n",
       "       [ 2.89689715],\n",
       "       [ 4.95168955],\n",
       "       [ 3.69094531],\n",
       "       [11.87263234],\n",
       "       [ 5.89342855],\n",
       "       [ 3.13981983],\n",
       "       [ 2.56275014],\n",
       "       [ 2.24945292],\n",
       "       [ 6.48415138],\n",
       "       [12.45868605],\n",
       "       [ 9.27529967],\n",
       "       [ 2.5484863 ],\n",
       "       [ 1.93115633],\n",
       "       [ 2.95809268],\n",
       "       [ 3.06138079],\n",
       "       [ 1.77609516],\n",
       "       [ 4.23717808],\n",
       "       [ 5.81864453],\n",
       "       [ 3.39538056],\n",
       "       [ 4.45598688],\n",
       "       [ 4.46078782],\n",
       "       [ 8.77579252],\n",
       "       [ 4.35687876],\n",
       "       [ 2.55870004],\n",
       "       [ 6.47480057],\n",
       "       [ 4.39408832],\n",
       "       [ 8.68416019],\n",
       "       [11.24345982],\n",
       "       [ 8.02616454],\n",
       "       [ 2.28950489],\n",
       "       [ 0.3345099 ],\n",
       "       [10.70890334],\n",
       "       [ 8.79016433],\n",
       "       [ 1.97372769],\n",
       "       [ 4.45337341],\n",
       "       [ 0.54655056],\n",
       "       [ 3.30893989],\n",
       "       [ 1.49035693],\n",
       "       [ 3.66077093],\n",
       "       [ 2.61922448],\n",
       "       [ 9.32021368],\n",
       "       [11.13102632],\n",
       "       [ 2.55220067],\n",
       "       [ 5.07225141],\n",
       "       [ 2.81527192],\n",
       "       [ 8.41087443],\n",
       "       [ 1.25623611],\n",
       "       [ 1.07350656],\n",
       "       [ 7.7083629 ],\n",
       "       [11.63270304],\n",
       "       [ 8.63158052],\n",
       "       [ 0.60207731],\n",
       "       [ 2.33639978],\n",
       "       [ 2.15730257],\n",
       "       [ 9.03212268],\n",
       "       [ 3.18425806],\n",
       "       [ 4.41771621],\n",
       "       [ 3.52477741],\n",
       "       [11.0028061 ],\n",
       "       [ 6.51448864],\n",
       "       [ 4.10193224],\n",
       "       [ 4.33154766],\n",
       "       [ 2.32207252],\n",
       "       [ 2.04707207],\n",
       "       [ 6.116438  ],\n",
       "       [ 2.60540636],\n",
       "       [ 3.28197887],\n",
       "       [ 2.66501455],\n",
       "       [ 2.46771995],\n",
       "       [ 2.72894587],\n",
       "       [ 4.74889138],\n",
       "       [ 5.43982213],\n",
       "       [ 2.65332351],\n",
       "       [ 3.15216367],\n",
       "       [ 6.17981759],\n",
       "       [ 3.36303854],\n",
       "       [ 5.73451325],\n",
       "       [ 2.88847466],\n",
       "       [ 5.8545428 ],\n",
       "       [ 2.43587738],\n",
       "       [ 9.91670433],\n",
       "       [ 1.54263674],\n",
       "       [ 5.03636597],\n",
       "       [12.33130431],\n",
       "       [ 7.57482044],\n",
       "       [ 4.8343834 ],\n",
       "       [ 2.31313446],\n",
       "       [ 5.04031326],\n",
       "       [ 2.63860222],\n",
       "       [ 2.66145433],\n",
       "       [ 9.73991373],\n",
       "       [ 1.44976579],\n",
       "       [ 2.72125471],\n",
       "       [-0.11570952],\n",
       "       [ 3.95854165],\n",
       "       [ 2.12693665],\n",
       "       [ 4.7505227 ],\n",
       "       [ 0.68394909],\n",
       "       [ 4.9414833 ],\n",
       "       [ 3.29446589],\n",
       "       [ 3.87897609],\n",
       "       [ 6.17743375],\n",
       "       [ 4.59534053],\n",
       "       [ 9.44264339],\n",
       "       [ 6.94756442],\n",
       "       [ 7.49948699],\n",
       "       [ 1.83119593],\n",
       "       [ 8.9940429 ],\n",
       "       [ 2.03972895],\n",
       "       [10.80921424],\n",
       "       [ 1.34469188],\n",
       "       [ 4.28682611],\n",
       "       [ 2.09649151],\n",
       "       [ 8.68969884],\n",
       "       [ 5.19355701],\n",
       "       [ 5.198949  ],\n",
       "       [ 3.46795102],\n",
       "       [ 3.86163841],\n",
       "       [ 0.40494881],\n",
       "       [12.06265977],\n",
       "       [ 2.82926664],\n",
       "       [ 1.56840607],\n",
       "       [ 3.3463647 ],\n",
       "       [ 0.75469717],\n",
       "       [ 2.25524552],\n",
       "       [ 3.36564913],\n",
       "       [ 3.98717004],\n",
       "       [ 8.22617663],\n",
       "       [ 2.08827352],\n",
       "       [ 0.55802653],\n",
       "       [ 2.64465581],\n",
       "       [ 3.30486276],\n",
       "       [ 2.7172897 ],\n",
       "       [ 3.76031405],\n",
       "       [ 1.78968524],\n",
       "       [ 3.37447608]])"
      ]
     },
     "execution_count": 71,
     "metadata": {},
     "output_type": "execute_result"
    }
   ],
   "source": [
    "y"
   ]
  },
  {
   "cell_type": "code",
   "execution_count": 72,
   "id": "a81b8e1e",
   "metadata": {},
   "outputs": [
    {
     "data": {
      "image/png": "[encoded data removed]",
      "text/plain": [
       "<Figure size 432x288 with 1 Axes>"
      ]
     },
     "metadata": {
      "needs_background": "light"
     },
     "output_type": "display_data"
    }
   ],
   "source": [
    "plt.plot(X,y,'c.')\n",
    "plt.xlabel(\"X\")\n",
    "plt.ylabel(\"y\")\n",
    "plt.show()"
   ]
  },
  {
   "cell_type": "markdown",
   "id": "cff1a7b1",
   "metadata": {},
   "source": [
    "### Using normal Linear Regression first"
   ]
  },
  {
   "cell_type": "code",
   "execution_count": 73,
   "id": "a4f443fa",
   "metadata": {},
   "outputs": [],
   "source": [
    "X_train, X_test, y_train, y_test = train_test_split(X,y,test_size=0.2,random_state=2)"
   ]
  },
  {
   "cell_type": "code",
   "execution_count": 74,
   "id": "bb5a68c3",
   "metadata": {},
   "outputs": [],
   "source": [
    "lr = LinearRegression()"
   ]
  },
  {
   "cell_type": "code",
   "execution_count": 75,
   "id": "9e2def9d",
   "metadata": {},
   "outputs": [
    {
     "data": {
      "text/html": [
       "<style>#sk-container-id-5 {color: black;background-color: white;}#sk-container-id-5 pre{padding: 0;}#sk-container-id-5 div.sk-toggleable {background-color: white;}#sk-container-id-5 label.sk-toggleable__label {cursor: pointer;display: block;width: 100%;margin-bottom: 0;padding: 0.3em;box-sizing: border-box;text-align: center;}#sk-container-id-5 label.sk-toggleable__label-arrow:before {content: \"▸\";float: left;margin-right: 0.25em;color: #696969;}#sk-container-id-5 label.sk-toggleable__label-arrow:hover:before {color: black;}#sk-container-id-5 div.sk-estimator:hover label.sk-toggleable__label-arrow:before {color: black;}#sk-container-id-5 div.sk-toggleable__content {max-height: 0;max-width: 0;overflow: hidden;text-align: left;background-color: #f0f8ff;}#sk-container-id-5 div.sk-toggleable__content pre {margin: 0.2em;color: black;border-radius: 0.25em;background-color: #f0f8ff;}#sk-container-id-5 input.sk-toggleable__control:checked~div.sk-toggleable__content {max-height: 200px;max-width: 100%;overflow: auto;}#sk-container-id-5 input.sk-toggleable__control:checked~label.sk-toggleable__label-arrow:before {content: \"▾\";}#sk-container-id-5 div.sk-estimator input.sk-toggleable__control:checked~label.sk-toggleable__label {background-color: #d4ebff;}#sk-container-id-5 div.sk-label input.sk-toggleable__control:checked~label.sk-toggleable__label {background-color: #d4ebff;}#sk-container-id-5 input.sk-hidden--visually {border: 0;clip: rect(1px 1px 1px 1px);clip: rect(1px, 1px, 1px, 1px);height: 1px;margin: -1px;overflow: hidden;padding: 0;position: absolute;width: 1px;}#sk-container-id-5 div.sk-estimator {font-family: monospace;background-color: #f0f8ff;border: 1px dotted black;border-radius: 0.25em;box-sizing: border-box;margin-bottom: 0.5em;}#sk-container-id-5 div.sk-estimator:hover {background-color: #d4ebff;}#sk-container-id-5 div.sk-parallel-item::after {content: \"\";width: 100%;border-bottom: 1px solid gray;flex-grow: 1;}#sk-container-id-5 div.sk-label:hover label.sk-toggleable__label {background-color: #d4ebff;}#sk-container-id-5 div.sk-serial::before {content: \"\";position: absolute;border-left: 1px solid gray;box-sizing: border-box;top: 0;bottom: 0;left: 50%;z-index: 0;}#sk-container-id-5 div.sk-serial {display: flex;flex-direction: column;align-items: center;background-color: white;padding-right: 0.2em;padding-left: 0.2em;position: relative;}#sk-container-id-5 div.sk-item {position: relative;z-index: 1;}#sk-container-id-5 div.sk-parallel {display: flex;align-items: stretch;justify-content: center;background-color: white;position: relative;}#sk-container-id-5 div.sk-item::before, #sk-container-id-5 div.sk-parallel-item::before {content: \"\";position: absolute;border-left: 1px solid gray;box-sizing: border-box;top: 0;bottom: 0;left: 50%;z-index: -1;}#sk-container-id-5 div.sk-parallel-item {display: flex;flex-direction: column;z-index: 1;position: relative;background-color: white;}#sk-container-id-5 div.sk-parallel-item:first-child::after {align-self: flex-end;width: 50%;}#sk-container-id-5 div.sk-parallel-item:last-child::after {align-self: flex-start;width: 50%;}#sk-container-id-5 div.sk-parallel-item:only-child::after {width: 0;}#sk-container-id-5 div.sk-dashed-wrapped {border: 1px dashed gray;margin: 0 0.4em 0.5em 0.4em;box-sizing: border-box;padding-bottom: 0.4em;background-color: white;}#sk-container-id-5 div.sk-label label {font-family: monospace;font-weight: bold;display: inline-block;line-height: 1.2em;}#sk-container-id-5 div.sk-label-container {text-align: center;}#sk-container-id-5 div.sk-container {/* jupyter's `normalize.less` sets `[hidden] { display: none; }` but bootstrap.min.css set `[hidden] { display: none !important; }` so we also need the `!important` here to be able to override the default hidden behavior on the sphinx rendered scikit-learn.org. See: https://github.com/scikit-learn/scikit-learn/issues/21755 */display: inline-block !important;position: relative;}#sk-container-id-5 div.sk-text-repr-fallback {display: none;}</style><div id=\"sk-container-id-5\" class=\"sk-top-container\"><div class=\"sk-text-repr-fallback\"><pre>LinearRegression()</pre><b>In a Jupyter environment, please rerun this cell to show the HTML representation or trust the notebook. <br />On GitHub, the HTML representation is unable to render, please try loading this page with nbviewer.org.</b></div><div class=\"sk-container\" hidden><div class=\"sk-item\"><div class=\"sk-estimator sk-toggleable\"><input class=\"sk-toggleable__control sk-hidden--visually\" id=\"sk-estimator-id-5\" type=\"checkbox\" checked><label for=\"sk-estimator-id-5\" class=\"sk-toggleable__label sk-toggleable__label-arrow\">LinearRegression</label><div class=\"sk-toggleable__content\"><pre>LinearRegression()</pre></div></div></div></div></div>"
      ],
      "text/plain": [
       "LinearRegression()"
      ]
     },
     "execution_count": 75,
     "metadata": {},
     "output_type": "execute_result"
    }
   ],
   "source": [
    "lr.fit(X_train,y_train)"
   ]
  },
  {
   "cell_type": "code",
   "execution_count": 76,
   "id": "a6d62aad",
   "metadata": {},
   "outputs": [
    {
     "data": {
      "text/plain": [
       "0.25224379309307365"
      ]
     },
     "execution_count": 76,
     "metadata": {},
     "output_type": "execute_result"
    }
   ],
   "source": [
    "y_pred = lr.predict(X_test)\n",
    "r2_score(y_test,y_pred)"
   ]
  },
  {
   "cell_type": "code",
   "execution_count": 77,
   "id": "63f15cd3",
   "metadata": {},
   "outputs": [
    {
     "data": {
      "image/png": "[encoded data removed]",
      "text/plain": [
       "<Figure size 432x288 with 1 Axes>"
      ]
     },
     "metadata": {
      "needs_background": "light"
     },
     "output_type": "display_data"
    }
   ],
   "source": [
    "plt.plot(X_train,lr.predict(X_train),color = 'r')\n",
    "plt.plot(X, y, \"c.\")\n",
    "plt.xlabel(\"X\")\n",
    "plt.ylabel(\"y\")\n",
    "plt.show()"
   ]
  },
  {
   "cell_type": "markdown",
   "id": "bbb8a9ff",
   "metadata": {},
   "source": [
    "### Now applying Polynomial Regression"
   ]
  },
  {
   "cell_type": "code",
   "execution_count": 78,
   "id": "dec2fbf0",
   "metadata": {},
   "outputs": [],
   "source": [
    "# degree = 2\n",
    "poly = PolynomialFeatures(degree=2) \n",
    "\n",
    "# if include_bias=False then we will only get 2 terms from degree2,will not get bias term"
   ]
  },
  {
   "cell_type": "code",
   "execution_count": 79,
   "id": "bd2c99c4",
   "metadata": {},
   "outputs": [],
   "source": [
    "X_train_transform = poly.fit_transform(X_train)\n",
    "X_test_transform = poly.transform(X_test)"
   ]
  },
  {
   "cell_type": "code",
   "execution_count": 80,
   "id": "2b306bb8",
   "metadata": {},
   "outputs": [
    {
     "data": {
      "text/plain": [
       "array([1.34792133])"
      ]
     },
     "execution_count": 80,
     "metadata": {},
     "output_type": "execute_result"
    }
   ],
   "source": [
    "X_train[0]"
   ]
  },
  {
   "cell_type": "code",
   "execution_count": 81,
   "id": "598664eb",
   "metadata": {},
   "outputs": [
    {
     "data": {
      "text/plain": [
       "array([1.        , 1.34792133, 1.81689192])"
      ]
     },
     "execution_count": 81,
     "metadata": {},
     "output_type": "execute_result"
    }
   ],
   "source": [
    "X_train_transform[0]"
   ]
  },
  {
   "cell_type": "markdown",
   "id": "15eace5f",
   "metadata": {},
   "source": [
    "so for each value of X_train, X_train_transform has 3 values (degree=2) [x^0, x^1, x^2 ]"
   ]
  },
  {
   "cell_type": "markdown",
   "id": "67591105",
   "metadata": {},
   "source": [
    "#### NOTE: Polynomial features are only applied on Input/independent variables not on y_test or y_train"
   ]
  },
  {
   "cell_type": "code",
   "execution_count": 82,
   "id": "7a7b1a93",
   "metadata": {},
   "outputs": [],
   "source": [
    "lr = LinearRegression()"
   ]
  },
  {
   "cell_type": "code",
   "execution_count": 83,
   "id": "b420f688",
   "metadata": {},
   "outputs": [
    {
     "data": {
      "text/html": [
       "<style>#sk-container-id-6 {color: black;background-color: white;}#sk-container-id-6 pre{padding: 0;}#sk-container-id-6 div.sk-toggleable {background-color: white;}#sk-container-id-6 label.sk-toggleable__label {cursor: pointer;display: block;width: 100%;margin-bottom: 0;padding: 0.3em;box-sizing: border-box;text-align: center;}#sk-container-id-6 label.sk-toggleable__label-arrow:before {content: \"▸\";float: left;margin-right: 0.25em;color: #696969;}#sk-container-id-6 label.sk-toggleable__label-arrow:hover:before {color: black;}#sk-container-id-6 div.sk-estimator:hover label.sk-toggleable__label-arrow:before {color: black;}#sk-container-id-6 div.sk-toggleable__content {max-height: 0;max-width: 0;overflow: hidden;text-align: left;background-color: #f0f8ff;}#sk-container-id-6 div.sk-toggleable__content pre {margin: 0.2em;color: black;border-radius: 0.25em;background-color: #f0f8ff;}#sk-container-id-6 input.sk-toggleable__control:checked~div.sk-toggleable__content {max-height: 200px;max-width: 100%;overflow: auto;}#sk-container-id-6 input.sk-toggleable__control:checked~label.sk-toggleable__label-arrow:before {content: \"▾\";}#sk-container-id-6 div.sk-estimator input.sk-toggleable__control:checked~label.sk-toggleable__label {background-color: #d4ebff;}#sk-container-id-6 div.sk-label input.sk-toggleable__control:checked~label.sk-toggleable__label {background-color: #d4ebff;}#sk-container-id-6 input.sk-hidden--visually {border: 0;clip: rect(1px 1px 1px 1px);clip: rect(1px, 1px, 1px, 1px);height: 1px;margin: -1px;overflow: hidden;padding: 0;position: absolute;width: 1px;}#sk-container-id-6 div.sk-estimator {font-family: monospace;background-color: #f0f8ff;border: 1px dotted black;border-radius: 0.25em;box-sizing: border-box;margin-bottom: 0.5em;}#sk-container-id-6 div.sk-estimator:hover {background-color: #d4ebff;}#sk-container-id-6 div.sk-parallel-item::after {content: \"\";width: 100%;border-bottom: 1px solid gray;flex-grow: 1;}#sk-container-id-6 div.sk-label:hover label.sk-toggleable__label {background-color: #d4ebff;}#sk-container-id-6 div.sk-serial::before {content: \"\";position: absolute;border-left: 1px solid gray;box-sizing: border-box;top: 0;bottom: 0;left: 50%;z-index: 0;}#sk-container-id-6 div.sk-serial {display: flex;flex-direction: column;align-items: center;background-color: white;padding-right: 0.2em;padding-left: 0.2em;position: relative;}#sk-container-id-6 div.sk-item {position: relative;z-index: 1;}#sk-container-id-6 div.sk-parallel {display: flex;align-items: stretch;justify-content: center;background-color: white;position: relative;}#sk-container-id-6 div.sk-item::before, #sk-container-id-6 div.sk-parallel-item::before {content: \"\";position: absolute;border-left: 1px solid gray;box-sizing: border-box;top: 0;bottom: 0;left: 50%;z-index: -1;}#sk-container-id-6 div.sk-parallel-item {display: flex;flex-direction: column;z-index: 1;position: relative;background-color: white;}#sk-container-id-6 div.sk-parallel-item:first-child::after {align-self: flex-end;width: 50%;}#sk-container-id-6 div.sk-parallel-item:last-child::after {align-self: flex-start;width: 50%;}#sk-container-id-6 div.sk-parallel-item:only-child::after {width: 0;}#sk-container-id-6 div.sk-dashed-wrapped {border: 1px dashed gray;margin: 0 0.4em 0.5em 0.4em;box-sizing: border-box;padding-bottom: 0.4em;background-color: white;}#sk-container-id-6 div.sk-label label {font-family: monospace;font-weight: bold;display: inline-block;line-height: 1.2em;}#sk-container-id-6 div.sk-label-container {text-align: center;}#sk-container-id-6 div.sk-container {/* jupyter's `normalize.less` sets `[hidden] { display: none; }` but bootstrap.min.css set `[hidden] { display: none !important; }` so we also need the `!important` here to be able to override the default hidden behavior on the sphinx rendered scikit-learn.org. See: https://github.com/scikit-learn/scikit-learn/issues/21755 */display: inline-block !important;position: relative;}#sk-container-id-6 div.sk-text-repr-fallback {display: none;}</style><div id=\"sk-container-id-6\" class=\"sk-top-container\"><div class=\"sk-text-repr-fallback\"><pre>LinearRegression()</pre><b>In a Jupyter environment, please rerun this cell to show the HTML representation or trust the notebook. <br />On GitHub, the HTML representation is unable to render, please try loading this page with nbviewer.org.</b></div><div class=\"sk-container\" hidden><div class=\"sk-item\"><div class=\"sk-estimator sk-toggleable\"><input class=\"sk-toggleable__control sk-hidden--visually\" id=\"sk-estimator-id-6\" type=\"checkbox\" checked><label for=\"sk-estimator-id-6\" class=\"sk-toggleable__label sk-toggleable__label-arrow\">LinearRegression</label><div class=\"sk-toggleable__content\"><pre>LinearRegression()</pre></div></div></div></div></div>"
      ],
      "text/plain": [
       "LinearRegression()"
      ]
     },
     "execution_count": 83,
     "metadata": {},
     "output_type": "execute_result"
    }
   ],
   "source": [
    "lr.fit(X_train_transform,y_train)"
   ]
  },
  {
   "cell_type": "code",
   "execution_count": 84,
   "id": "3fcd87e1",
   "metadata": {},
   "outputs": [],
   "source": [
    "y_pred = lr.predict(X_test_transform)"
   ]
  },
  {
   "cell_type": "code",
   "execution_count": 85,
   "id": "4f495776",
   "metadata": {},
   "outputs": [
    {
     "data": {
      "text/plain": [
       "0.9090611081843711"
      ]
     },
     "execution_count": 85,
     "metadata": {},
     "output_type": "execute_result"
    }
   ],
   "source": [
    "r2_score(y_test, y_pred)"
   ]
  },
  {
   "cell_type": "code",
   "execution_count": 86,
   "id": "508265da",
   "metadata": {},
   "outputs": [
    {
     "data": {
      "text/plain": [
       "array([[0.        , 0.85199951, 0.79327308]])"
      ]
     },
     "execution_count": 86,
     "metadata": {},
     "output_type": "execute_result"
    }
   ],
   "source": [
    "lr.coef_\n",
    "\n",
    "# x^0 coef = 0\n",
    "# x^1 coef = 0.89\n",
    "# x^2 coef = 0.78"
   ]
  },
  {
   "cell_type": "code",
   "execution_count": 87,
   "id": "9327a889",
   "metadata": {},
   "outputs": [
    {
     "data": {
      "text/plain": [
       "array([2.09101667])"
      ]
     },
     "execution_count": 87,
     "metadata": {},
     "output_type": "execute_result"
    }
   ],
   "source": [
    "lr.intercept_"
   ]
  },
  {
   "cell_type": "code",
   "execution_count": 88,
   "id": "d3a4d4be",
   "metadata": {},
   "outputs": [],
   "source": [
    "X_new=np.linspace(-3, 3, 200).reshape(200, 1)\n",
    "X_new_poly = poly.transform(X_new)\n",
    "y_new = lr.predict(X_new_poly)"
   ]
  },
  {
   "cell_type": "code",
   "execution_count": 89,
   "id": "99d73c4e",
   "metadata": {},
   "outputs": [
    {
     "data": {
      "image/png": "[encoded data removed]",
      "text/plain": [
       "<Figure size 432x288 with 1 Axes>"
      ]
     },
     "metadata": {
      "needs_background": "light"
     },
     "output_type": "display_data"
    }
   ],
   "source": [
    "plt.plot(X_new, y_new, \"r-\", linewidth=2, label=\"Predictions\")\n",
    "plt.plot(X_train, y_train, \"c.\",label='Training points')\n",
    "plt.plot(X_test, y_test, \"g.\",label='Testing points')\n",
    "plt.xlabel(\"X\")\n",
    "plt.ylabel(\"y\")\n",
    "plt.legend()\n",
    "plt.show()"
   ]
  },
  {
   "cell_type": "markdown",
   "id": "3c363998",
   "metadata": {},
   "source": [
    "##### for degree of your choice"
   ]
  },
  {
   "cell_type": "code",
   "execution_count": 90,
   "id": "6dcb4f7a",
   "metadata": {},
   "outputs": [],
   "source": [
    "def polynomial_regression(degree):\n",
    "    X_new=np.linspace(-3, 3, 100).reshape(100, 1)\n",
    "    X_new_poly = poly.transform(X_new)\n",
    "\n",
    "    polybig_features = PolynomialFeatures(degree=degree, include_bias=False)\n",
    "    std_scaler = StandardScaler()\n",
    "    lin_reg = LinearRegression()\n",
    "    polynomial_regression = Pipeline([\n",
    "            (\"poly_features\", polybig_features),\n",
    "            (\"std_scaler\", std_scaler),\n",
    "            (\"lin_reg\", lin_reg),\n",
    "        ])\n",
    "    polynomial_regression.fit(X, y)\n",
    "    y_newbig = polynomial_regression.predict(X_new)\n",
    "    plt.plot(X_new, y_newbig,'r', label=\"Degree \" + str(degree), linewidth=2)\n",
    "\n",
    "    plt.plot(X_train, y_train, \"c.\", linewidth=3)\n",
    "    plt.plot(X_test, y_test, \"b.\", linewidth=3)\n",
    "    plt.legend(loc=\"upper left\")\n",
    "    plt.xlabel(\"X\")\n",
    "    plt.ylabel(\"y\")\n",
    "    plt.axis([-3, 3, 0, 10])\n",
    "    plt.show()"
   ]
  },
  {
   "cell_type": "code",
   "execution_count": 91,
   "id": "f57f8360",
   "metadata": {},
   "outputs": [
    {
     "data": {
      "image/png": "[encoded data removed]",
      "text/plain": [
       "<Figure size 432x288 with 1 Axes>"
      ]
     },
     "metadata": {
      "needs_background": "light"
     },
     "output_type": "display_data"
    }
   ],
   "source": [
    "# with degree = 3\n",
    "polynomial_regression(3)"
   ]
  },
  {
   "cell_type": "code",
   "execution_count": 92,
   "id": "88601c1c",
   "metadata": {},
   "outputs": [
    {
     "data": {
      "image/png": "[encoded data removed]",
      "text/plain": [
       "<Figure size 432x288 with 1 Axes>"
      ]
     },
     "metadata": {
      "needs_background": "light"
     },
     "output_type": "display_data"
    }
   ],
   "source": [
    "# with degree = 4\n",
    "polynomial_regression(6)"
   ]
  },
  {
   "cell_type": "code",
   "execution_count": 93,
   "id": "7d00e6b4",
   "metadata": {},
   "outputs": [
    {
     "data": {
      "image/png": "[encoded data removed]",
      "text/plain": [
       "<Figure size 432x288 with 1 Axes>"
      ]
     },
     "metadata": {
      "needs_background": "light"
     },
     "output_type": "display_data"
    }
   ],
   "source": [
    "# overfitting\n",
    "polynomial_regression(15)"
   ]
  },
  {
   "cell_type": "code",
   "execution_count": 94,
   "id": "dc4703e0",
   "metadata": {},
   "outputs": [
    {
     "data": {
      "image/png": "[encoded data removed]",
      "text/plain": [
       "<Figure size 432x288 with 1 Axes>"
      ]
     },
     "metadata": {
      "needs_background": "light"
     },
     "output_type": "display_data"
    }
   ],
   "source": [
    "# overfitting\n",
    "polynomial_regression(30)\n",
    "\n",
    "# blue are train data"
   ]
  },
  {
   "cell_type": "code",
   "execution_count": 95,
   "id": "93405dab",
   "metadata": {},
   "outputs": [
    {
     "data": {
      "image/png": "[encoded data removed]",
      "text/plain": [
       "<Figure size 432x288 with 1 Axes>"
      ]
     },
     "metadata": {
      "needs_background": "light"
     },
     "output_type": "display_data"
    }
   ],
   "source": [
    "# overfitting\n",
    "polynomial_regression(50)\n",
    "\n",
    "# blue are train data"
   ]
  },
  {
   "cell_type": "markdown",
   "id": "72e03ecf",
   "metadata": {},
   "source": [
    "### Multiple Polynomial Regression"
   ]
  },
  {
   "cell_type": "code",
   "execution_count": 96,
   "id": "e2ba0018",
   "metadata": {},
   "outputs": [],
   "source": [
    "# 3D polynomial regression\n",
    "# 2 input columns and 1 output column\n",
    "\n",
    "x = 7 * np.random.rand(100, 1) - 2.8 # input column 1\n",
    "y = 7 * np.random.rand(100, 1) - 2.8 # input column 2\n",
    "\n",
    "\n",
    "# z is output column\n",
    "z = x**2 + y**2 + 0.2*x + 0.2*y + 0.1*x*y +2 + np.random.randn(100, 1)\n",
    "\n",
    "# plynomial equation (degree = 2) z = x^2 + y^2 + 0.2x + 0.2y + 0.1xy + 2"
   ]
  },
  {
   "cell_type": "code",
   "execution_count": 97,
   "id": "e42e24a6",
   "metadata": {},
   "outputs": [
    {
     "data": {
      "application/vnd.plotly.v1+json": {
       "config": {
        "plotlyServerURL": "https://plot.ly"
       },
       "data": [
        {
         "hovertemplate": "x=%{x}<br>y=%{y}<br>z=%{z}<extra></extra>",
         "legendgroup": "",
         "marker": {
          "color": "#636efa",
          "symbol": "circle"
         },
         "mode": "markers",
         "name": "",
         "scene": "scene",
         "showlegend": false,
         "type": "scatter3d",
         "x": [
          3.6034501547011697,
          -2.0367731693238826,
          0.9509610147826728,
          2.5321666080937764,
          2.151594492339979,
          3.4418908434642654,
          -0.19628647479387462,
          2.3369696511839484,
          2.057565878933003,
          0.06349442944000927,
          -1.1998010285754979,
          0.7455823963934529,
          2.679565682818894,
          0.6941092723935145,
          -2.4767362761087486,
          2.5756228391777496,
          1.177696316010214,
          1.1376816478310028,
          1.8698196838790526,
          1.1457303322703858,
          3.6232075563293256,
          3.729104099347328,
          -0.5104045139345725,
          1.6365297416535363,
          1.194320814174997,
          3.606600914571989,
          -0.6466131874526577,
          -2.640939026357993,
          -2.6529926472677703,
          -1.54382566933592,
          1.5076685886509456,
          0.18750798887816789,
          2.3614689842446124,
          3.1220375652699532,
          2.65716119279611,
          -2.700993914168227,
          3.4683242404297525,
          0.5597777302962204,
          -2.37583056990442,
          1.2906364884180386,
          -1.067806233819366,
          -1.547267986238584,
          2.8640681206848626,
          -0.1853823688746381,
          1.4205586646123773,
          2.287059435192522,
          -1.9416122167818544,
          -1.2452942465740429,
          2.120019625227245,
          3.071283616524319,
          -2.153887327089425,
          -2.7770596831954997,
          0.13263043203592328,
          -1.8364432813474518,
          3.133845921088464,
          1.9529012313947787,
          3.566947621110562,
          -1.1451841038528037,
          2.7954124456398652,
          4.117867794694399,
          1.5737468511793962,
          0.6078034042331124,
          0.04206026605798607,
          -2.3526718000511773,
          -2.562902873815182,
          1.620150653952047,
          1.8241431271031372,
          -1.695347262570988,
          2.3976125095949508,
          -1.2636573568515423,
          -1.8145261975442286,
          3.68016701703237,
          4.047501989325468,
          0.7762059576712197,
          2.1920365632165764,
          3.20608390670606,
          1.307968842529581,
          0.8570130429761091,
          0.829680781346017,
          -0.5589758301358043,
          -0.36734331752416916,
          1.6212442349911376,
          -1.5210643450093704,
          3.14783980717581,
          -1.764591289381347,
          -1.6988879504965753,
          1.7203149100884012,
          2.4546749860966885,
          1.119330243442044,
          3.1997346173748493,
          1.1192545160428793,
          3.9427776529338168,
          0.3929928318199658,
          1.1275287961792042,
          -1.5622388725070386,
          -1.0164900304487237,
          2.6510195708595026,
          -1.6085835495475087,
          -1.1270970481956593,
          -0.6477809644930042
         ],
         "y": [
          0.2786588369126224,
          1.9263902130798884,
          3.4426025704778933,
          1.862421003747854,
          -0.6336676591168953,
          2.975514832235639,
          2.6737138538995833,
          -2.443409456981978,
          -1.966821700425634,
          0.4864190897405578,
          -1.105918686250254,
          3.113703888288142,
          -0.9847716676082301,
          0.9280404372944591,
          -0.7007299227023305,
          -1.8751827168145638,
          4.083136037321602,
          2.9147318888965286,
          -2.396092085924832,
          -0.33334519871997426,
          0.1174295881096663,
          -2.6998239132670725,
          2.551746126279564,
          -1.5192531053135019,
          -0.8212638845590132,
          -1.4601861327999501,
          -1.4127568021886832,
          -1.9965977074427812,
          -0.3098272938325346,
          1.517281626362081,
          0.4713958942207719,
          1.4028431541536586,
          2.734246300094595,
          2.729646486762764,
          1.9092757295675318,
          0.49125739296462756,
          -2.0252809557324642,
          -1.1479803592349769,
          1.0921258096118018,
          1.926576072316851,
          -0.7675458581387735,
          -0.17271750633633953,
          -2.313374945571549,
          1.3817234133691638,
          -2.675098453225286,
          0.9325467569501478,
          1.5689604180712546,
          0.9512232587287279,
          -0.2833097585471416,
          2.538975701756695,
          0.16519370813253786,
          1.6175566029422423,
          1.369199645644703,
          -2.271002449724002,
          -1.6397081255350967,
          2.9708857504296073,
          1.3702133989144274,
          -0.6498807918452241,
          -2.595502555027399,
          0.5656115827494643,
          1.4286837697313084,
          -0.021976810540525804,
          -1.4328540353030657,
          3.095466301501822,
          -1.3472416156536071,
          -1.641377680921697,
          -1.2903431759157455,
          -2.49883493234636,
          3.567921250169527,
          -1.9398897547208733,
          0.9332673714996185,
          1.1373361453816608,
          1.8535433395261753,
          -2.347301686304276,
          0.039275940946398524,
          -2.5150171083483768,
          -1.6718563146355447,
          2.7517666546500177,
          -1.6388051610767367,
          2.8833447966618957,
          -0.23654095820681942,
          2.793409392505306,
          -1.4481118150878058,
          -1.1675116264514465,
          0.5491973155844598,
          0.11600253545869421,
          3.3582765488748434,
          0.6411153685915201,
          -2.2773928715805725,
          3.740591581648548,
          3.030093740219434,
          -2.5811799344807227,
          3.2994615040680326,
          -1.930036625978744,
          -0.005053502585641745,
          -2.6113491702481912,
          -0.16059515845419625,
          0.6184628924176794,
          1.0605755088172666,
          -0.4821232152885515
         ],
         "z": [
          15.833198506678878,
          6.947846919033685,
          14.843229224736387,
          13.300469571013377,
          6.210131814432247,
          25.528648540011314,
          8.301206811899,
          13.818165697496392,
          8.676910108090874,
          -0.008888438045628444,
          4.167007253656375,
          13.43791112864758,
          9.9405482379896,
          3.6598430632471706,
          8.366530393778994,
          13.144959160066712,
          21.413474082522225,
          12.90219407846386,
          9.11798317630607,
          3.743505990901662,
          16.899992136866377,
          23.464040715107135,
          10.885592512254672,
          5.934585575774862,
          3.44111674842334,
          18.524875686338177,
          1.845304011238361,
          12.810319098470359,
          8.383013904824303,
          6.0820783618560785,
          4.146977079105492,
          3.5246774365859705,
          16.88287946848592,
          22.401641546944898,
          10.416473362237884,
          8.641251106747614,
          17.663972447656697,
          2.9772581256310886,
          9.833267564238367,
          7.067534299595083,
          3.7851258700052757,
          3.8960902697321496,
          14.200908519205209,
          4.349066196039343,
          10.778088294240991,
          10.927497504646293,
          8.468549006157591,
          2.624587608902523,
          6.947581349464119,
          20.683457741605135,
          7.229512966215427,
          11.47331554340331,
          3.0645938169404965,
          9.414813564525945,
          13.532488509986505,
          17.797048482151673,
          17.295621055368898,
          3.5835211528451896,
          16.409078532646056,
          19.363418908379437,
          7.075941830710248,
          2.38204903428401,
          2.611458705249934,
          17.145703198565613,
          9.037661676740921,
          7.580951245064141,
          5.22608238889904,
          11.666271461888915,
          21.86755233906485,
          5.860283108336646,
          6.471337238162587,
          19.1653761459531,
          23.59315649279754,
          8.248393550734558,
          5.916722446250929,
          17.001058864712288,
          4.805095541926036,
          10.645351523193835,
          6.919429464541393,
          11.143873227777126,
          2.1636411874955006,
          13.927558921113526,
          5.501518018604528,
          12.259980719059511,
          6.302701756435818,
          4.096324117742418,
          14.349596663468871,
          6.795524356768365,
          9.507158875313017,
          29.092789908288093,
          14.305785200363438,
          22.724110503747106,
          13.700074279103056,
          6.369215548165565,
          4.479160027181539,
          8.670911421360092,
          9.926382053972793,
          5.352307788634256,
          5.362310363160468,
          1.559149142358152
         ]
        }
       ],
       "layout": {
        "legend": {
         "tracegroupgap": 0
        },
        "margin": {
         "t": 60
        },
        "scene": {
         "domain": {
          "x": [
           0,
           1
          ],
          "y": [
           0,
           1
          ]
         },
         "xaxis": {
          "title": {
           "text": "x"
          }
         },
         "yaxis": {
          "title": {
           "text": "y"
          }
         },
         "zaxis": {
          "title": {
           "text": "z"
          }
         }
        },
        "template": {
         "data": {
          "bar": [
           {
            "error_x": {
             "color": "#2a3f5f"
            },
            "error_y": {
             "color": "#2a3f5f"
            },
            "marker": {
             "line": {
              "color": "#E5ECF6",
              "width": 0.5
             },
             "pattern": {
              "fillmode": "overlay",
              "size": 10,
              "solidity": 0.2
             }
            },
            "type": "bar"
           }
          ],
          "barpolar": [
           {
            "marker": {
             "line": {
              "color": "#E5ECF6",
              "width": 0.5
             },
             "pattern": {
              "fillmode": "overlay",
              "size": 10,
              "solidity": 0.2
             }
            },
            "type": "barpolar"
           }
          ],
          "carpet": [
           {
            "aaxis": {
             "endlinecolor": "#2a3f5f",
             "gridcolor": "white",
             "linecolor": "white",
             "minorgridcolor": "white",
             "startlinecolor": "#2a3f5f"
            },
            "baxis": {
             "endlinecolor": "#2a3f5f",
             "gridcolor": "white",
             "linecolor": "white",
             "minorgridcolor": "white",
             "startlinecolor": "#2a3f5f"
            },
            "type": "carpet"
           }
          ],
          "choropleth": [
           {
            "colorbar": {
             "outlinewidth": 0,
             "ticks": ""
            },
            "type": "choropleth"
           }
          ],
          "contour": [
           {
            "colorbar": {
             "outlinewidth": 0,
             "ticks": ""
            },
            "colorscale": [
             [
              0,
              "#0d0887"
             ],
             [
              0.1111111111111111,
              "#46039f"
             ],
             [
              0.2222222222222222,
              "#7201a8"
             ],
             [
              0.3333333333333333,
              "#9c179e"
             ],
             [
              0.4444444444444444,
              "#bd3786"
             ],
             [
              0.5555555555555556,
              "#d8576b"
             ],
             [
              0.6666666666666666,
              "#ed7953"
             ],
             [
              0.7777777777777778,
              "#fb9f3a"
             ],
             [
              0.8888888888888888,
              "#fdca26"
             ],
             [
              1,
              "#f0f921"
             ]
            ],
            "type": "contour"
           }
          ],
          "contourcarpet": [
           {
            "colorbar": {
             "outlinewidth": 0,
             "ticks": ""
            },
            "type": "contourcarpet"
           }
          ],
          "heatmap": [
           {
            "colorbar": {
             "outlinewidth": 0,
             "ticks": ""
            },
            "colorscale": [
             [
              0,
              "#0d0887"
             ],
             [
              0.1111111111111111,
              "#46039f"
             ],
             [
              0.2222222222222222,
              "#7201a8"
             ],
             [
              0.3333333333333333,
              "#9c179e"
             ],
             [
              0.4444444444444444,
              "#bd3786"
             ],
             [
              0.5555555555555556,
              "#d8576b"
             ],
             [
              0.6666666666666666,
              "#ed7953"
             ],
             [
              0.7777777777777778,
              "#fb9f3a"
             ],
             [
              0.8888888888888888,
              "#fdca26"
             ],
             [
              1,
              "#f0f921"
             ]
            ],
            "type": "heatmap"
           }
          ],
          "heatmapgl": [
           {
            "colorbar": {
             "outlinewidth": 0,
             "ticks": ""
            },
            "colorscale": [
             [
              0,
              "#0d0887"
             ],
             [
              0.1111111111111111,
              "#46039f"
             ],
             [
              0.2222222222222222,
              "#7201a8"
             ],
             [
              0.3333333333333333,
              "#9c179e"
             ],
             [
              0.4444444444444444,
              "#bd3786"
             ],
             [
              0.5555555555555556,
              "#d8576b"
             ],
             [
              0.6666666666666666,
              "#ed7953"
             ],
             [
              0.7777777777777778,
              "#fb9f3a"
             ],
             [
              0.8888888888888888,
              "#fdca26"
             ],
             [
              1,
              "#f0f921"
             ]
            ],
            "type": "heatmapgl"
           }
          ],
          "histogram": [
           {
            "marker": {
             "pattern": {
              "fillmode": "overlay",
              "size": 10,
              "solidity": 0.2
             }
            },
            "type": "histogram"
           }
          ],
          "histogram2d": [
           {
            "colorbar": {
             "outlinewidth": 0,
             "ticks": ""
            },
            "colorscale": [
             [
              0,
              "#0d0887"
             ],
             [
              0.1111111111111111,
              "#46039f"
             ],
             [
              0.2222222222222222,
              "#7201a8"
             ],
             [
              0.3333333333333333,
              "#9c179e"
             ],
             [
              0.4444444444444444,
              "#bd3786"
             ],
             [
              0.5555555555555556,
              "#d8576b"
             ],
             [
              0.6666666666666666,
              "#ed7953"
             ],
             [
              0.7777777777777778,
              "#fb9f3a"
             ],
             [
              0.8888888888888888,
              "#fdca26"
             ],
             [
              1,
              "#f0f921"
             ]
            ],
            "type": "histogram2d"
           }
          ],
          "histogram2dcontour": [
           {
            "colorbar": {
             "outlinewidth": 0,
             "ticks": ""
            },
            "colorscale": [
             [
              0,
              "#0d0887"
             ],
             [
              0.1111111111111111,
              "#46039f"
             ],
             [
              0.2222222222222222,
              "#7201a8"
             ],
             [
              0.3333333333333333,
              "#9c179e"
             ],
             [
              0.4444444444444444,
              "#bd3786"
             ],
             [
              0.5555555555555556,
              "#d8576b"
             ],
             [
              0.6666666666666666,
              "#ed7953"
             ],
             [
              0.7777777777777778,
              "#fb9f3a"
             ],
             [
              0.8888888888888888,
              "#fdca26"
             ],
             [
              1,
              "#f0f921"
             ]
            ],
            "type": "histogram2dcontour"
           }
          ],
          "mesh3d": [
           {
            "colorbar": {
             "outlinewidth": 0,
             "ticks": ""
            },
            "type": "mesh3d"
           }
          ],
          "parcoords": [
           {
            "line": {
             "colorbar": {
              "outlinewidth": 0,
              "ticks": ""
             }
            },
            "type": "parcoords"
           }
          ],
          "pie": [
           {
            "automargin": true,
            "type": "pie"
           }
          ],
          "scatter": [
           {
            "fillpattern": {
             "fillmode": "overlay",
             "size": 10,
             "solidity": 0.2
            },
            "type": "scatter"
           }
          ],
          "scatter3d": [
           {
            "line": {
             "colorbar": {
              "outlinewidth": 0,
              "ticks": ""
             }
            },
            "marker": {
             "colorbar": {
              "outlinewidth": 0,
              "ticks": ""
             }
            },
            "type": "scatter3d"
           }
          ],
          "scattercarpet": [
           {
            "marker": {
             "colorbar": {
              "outlinewidth": 0,
              "ticks": ""
             }
            },
            "type": "scattercarpet"
           }
          ],
          "scattergeo": [
           {
            "marker": {
             "colorbar": {
              "outlinewidth": 0,
              "ticks": ""
             }
            },
            "type": "scattergeo"
           }
          ],
          "scattergl": [
           {
            "marker": {
             "colorbar": {
              "outlinewidth": 0,
              "ticks": ""
             }
            },
            "type": "scattergl"
           }
          ],
          "scattermapbox": [
           {
            "marker": {
             "colorbar": {
              "outlinewidth": 0,
              "ticks": ""
             }
            },
            "type": "scattermapbox"
           }
          ],
          "scatterpolar": [
           {
            "marker": {
             "colorbar": {
              "outlinewidth": 0,
              "ticks": ""
             }
            },
            "type": "scatterpolar"
           }
          ],
          "scatterpolargl": [
           {
            "marker": {
             "colorbar": {
              "outlinewidth": 0,
              "ticks": ""
             }
            },
            "type": "scatterpolargl"
           }
          ],
          "scatterternary": [
           {
            "marker": {
             "colorbar": {
              "outlinewidth": 0,
              "ticks": ""
             }
            },
            "type": "scatterternary"
           }
          ],
          "surface": [
           {
            "colorbar": {
             "outlinewidth": 0,
             "ticks": ""
            },
            "colorscale": [
             [
              0,
              "#0d0887"
             ],
             [
              0.1111111111111111,
              "#46039f"
             ],
             [
              0.2222222222222222,
              "#7201a8"
             ],
             [
              0.3333333333333333,
              "#9c179e"
             ],
             [
              0.4444444444444444,
              "#bd3786"
             ],
             [
              0.5555555555555556,
              "#d8576b"
             ],
             [
              0.6666666666666666,
              "#ed7953"
             ],
             [
              0.7777777777777778,
              "#fb9f3a"
             ],
             [
              0.8888888888888888,
              "#fdca26"
             ],
             [
              1,
              "#f0f921"
             ]
            ],
            "type": "surface"
           }
          ],
          "table": [
           {
            "cells": {
             "fill": {
              "color": "#EBF0F8"
             },
             "line": {
              "color": "white"
             }
            },
            "header": {
             "fill": {
              "color": "#C8D4E3"
             },
             "line": {
              "color": "white"
             }
            },
            "type": "table"
           }
          ]
         },
         "layout": {
          "annotationdefaults": {
           "arrowcolor": "#2a3f5f",
           "arrowhead": 0,
           "arrowwidth": 1
          },
          "autotypenumbers": "strict",
          "coloraxis": {
           "colorbar": {
            "outlinewidth": 0,
            "ticks": ""
           }
          },
          "colorscale": {
           "diverging": [
            [
             0,
             "#8e0152"
            ],
            [
             0.1,
             "#c51b7d"
            ],
            [
             0.2,
             "#de77ae"
            ],
            [
             0.3,
             "#f1b6da"
            ],
            [
             0.4,
             "#fde0ef"
            ],
            [
             0.5,
             "#f7f7f7"
            ],
            [
             0.6,
             "#e6f5d0"
            ],
            [
             0.7,
             "#b8e186"
            ],
            [
             0.8,
             "#7fbc41"
            ],
            [
             0.9,
             "#4d9221"
            ],
            [
             1,
             "#276419"
            ]
           ],
           "sequential": [
            [
             0,
             "#0d0887"
            ],
            [
             0.1111111111111111,
             "#46039f"
            ],
            [
             0.2222222222222222,
             "#7201a8"
            ],
            [
             0.3333333333333333,
             "#9c179e"
            ],
            [
             0.4444444444444444,
             "#bd3786"
            ],
            [
             0.5555555555555556,
             "#d8576b"
            ],
            [
             0.6666666666666666,
             "#ed7953"
            ],
            [
             0.7777777777777778,
             "#fb9f3a"
            ],
            [
             0.8888888888888888,
             "#fdca26"
            ],
            [
             1,
             "#f0f921"
            ]
           ],
           "sequentialminus": [
            [
             0,
             "#0d0887"
            ],
            [
             0.1111111111111111,
             "#46039f"
            ],
            [
             0.2222222222222222,
             "#7201a8"
            ],
            [
             0.3333333333333333,
             "#9c179e"
            ],
            [
             0.4444444444444444,
             "#bd3786"
            ],
            [
             0.5555555555555556,
             "#d8576b"
            ],
            [
             0.6666666666666666,
             "#ed7953"
            ],
            [
             0.7777777777777778,
             "#fb9f3a"
            ],
            [
             0.8888888888888888,
             "#fdca26"
            ],
            [
             1,
             "#f0f921"
            ]
           ]
          },
          "colorway": [
           "#636efa",
           "#EF553B",
           "#00cc96",
           "#ab63fa",
           "#FFA15A",
           "#19d3f3",
           "#FF6692",
           "#B6E880",
           "#FF97FF",
           "#FECB52"
          ],
          "font": {
           "color": "#2a3f5f"
          },
          "geo": {
           "bgcolor": "white",
           "lakecolor": "white",
           "landcolor": "#E5ECF6",
           "showlakes": true,
           "showland": true,
           "subunitcolor": "white"
          },
          "hoverlabel": {
           "align": "left"
          },
          "hovermode": "closest",
          "mapbox": {
           "style": "light"
          },
          "paper_bgcolor": "white",
          "plot_bgcolor": "#E5ECF6",
          "polar": {
           "angularaxis": {
            "gridcolor": "white",
            "linecolor": "white",
            "ticks": ""
           },
           "bgcolor": "#E5ECF6",
           "radialaxis": {
            "gridcolor": "white",
            "linecolor": "white",
            "ticks": ""
           }
          },
          "scene": {
           "xaxis": {
            "backgroundcolor": "#E5ECF6",
            "gridcolor": "white",
            "gridwidth": 2,
            "linecolor": "white",
            "showbackground": true,
            "ticks": "",
            "zerolinecolor": "white"
           },
           "yaxis": {
            "backgroundcolor": "#E5ECF6",
            "gridcolor": "white",
            "gridwidth": 2,
            "linecolor": "white",
            "showbackground": true,
            "ticks": "",
            "zerolinecolor": "white"
           },
           "zaxis": {
            "backgroundcolor": "#E5ECF6",
            "gridcolor": "white",
            "gridwidth": 2,
            "linecolor": "white",
            "showbackground": true,
            "ticks": "",
            "zerolinecolor": "white"
           }
          },
          "shapedefaults": {
           "line": {
            "color": "#2a3f5f"
           }
          },
          "ternary": {
           "aaxis": {
            "gridcolor": "white",
            "linecolor": "white",
            "ticks": ""
           },
           "baxis": {
            "gridcolor": "white",
            "linecolor": "white",
            "ticks": ""
           },
           "bgcolor": "#E5ECF6",
           "caxis": {
            "gridcolor": "white",
            "linecolor": "white",
            "ticks": ""
           }
          },
          "title": {
           "x": 0.05
          },
          "xaxis": {
           "automargin": true,
           "gridcolor": "white",
           "linecolor": "white",
           "ticks": "",
           "title": {
            "standoff": 15
           },
           "zerolinecolor": "white",
           "zerolinewidth": 2
          },
          "yaxis": {
           "automargin": true,
           "gridcolor": "white",
           "linecolor": "white",
           "ticks": "",
           "title": {
            "standoff": 15
           },
           "zerolinecolor": "white",
           "zerolinewidth": 2
          }
         }
        }
       }
      },
      "text/html": [
       "<div>                            <div id=\"a0c5f282-1c90-4af6-b39a-58592dceabec\" class=\"plotly-graph-div\" style=\"height:525px; width:100%;\"></div>            <script type=\"text/javascript\">                require([\"plotly\"], function(Plotly) {                    window.PLOTLYENV=window.PLOTLYENV || {};                                    if (document.getElementById(\"a0c5f282-1c90-4af6-b39a-58592dceabec\")) {                    Plotly.newPlot(                        \"a0c5f282-1c90-4af6-b39a-58592dceabec\",                        [{\"hovertemplate\":\"x=%{x}<br>y=%{y}<br>z=%{z}<extra></extra>\",\"legendgroup\":\"\",\"marker\":{\"color\":\"#636efa\",\"symbol\":\"circle\"},\"mode\":\"markers\",\"name\":\"\",\"scene\":\"scene\",\"showlegend\":false,\"x\":[3.6034501547011697,-2.0367731693238826,0.9509610147826728,2.5321666080937764,2.151594492339979,3.4418908434642654,-0.19628647479387462,2.3369696511839484,2.057565878933003,0.06349442944000927,-1.1998010285754979,0.7455823963934529,2.679565682818894,0.6941092723935145,-2.4767362761087486,2.5756228391777496,1.177696316010214,1.1376816478310028,1.8698196838790526,1.1457303322703858,3.6232075563293256,3.729104099347328,-0.5104045139345725,1.6365297416535363,1.194320814174997,3.606600914571989,-0.6466131874526577,-2.640939026357993,-2.6529926472677703,-1.54382566933592,1.5076685886509456,0.18750798887816789,2.3614689842446124,3.1220375652699532,2.65716119279611,-2.700993914168227,3.4683242404297525,0.5597777302962204,-2.37583056990442,1.2906364884180386,-1.067806233819366,-1.547267986238584,2.8640681206848626,-0.1853823688746381,1.4205586646123773,2.287059435192522,-1.9416122167818544,-1.2452942465740429,2.120019625227245,3.071283616524319,-2.153887327089425,-2.7770596831954997,0.13263043203592328,-1.8364432813474518,3.133845921088464,1.9529012313947787,3.566947621110562,-1.1451841038528037,2.7954124456398652,4.117867794694399,1.5737468511793962,0.6078034042331124,0.04206026605798607,-2.3526718000511773,-2.562902873815182,1.620150653952047,1.8241431271031372,-1.695347262570988,2.3976125095949508,-1.2636573568515423,-1.8145261975442286,3.68016701703237,4.047501989325468,0.7762059576712197,2.1920365632165764,3.20608390670606,1.307968842529581,0.8570130429761091,0.829680781346017,-0.5589758301358043,-0.36734331752416916,1.6212442349911376,-1.5210643450093704,3.14783980717581,-1.764591289381347,-1.6988879504965753,1.7203149100884012,2.4546749860966885,1.119330243442044,3.1997346173748493,1.1192545160428793,3.9427776529338168,0.3929928318199658,1.1275287961792042,-1.5622388725070386,-1.0164900304487237,2.6510195708595026,-1.6085835495475087,-1.1270970481956593,-0.6477809644930042],\"y\":[0.2786588369126224,1.9263902130798884,3.4426025704778933,1.862421003747854,-0.6336676591168953,2.975514832235639,2.6737138538995833,-2.443409456981978,-1.966821700425634,0.4864190897405578,-1.105918686250254,3.113703888288142,-0.9847716676082301,0.9280404372944591,-0.7007299227023305,-1.8751827168145638,4.083136037321602,2.9147318888965286,-2.396092085924832,-0.33334519871997426,0.1174295881096663,-2.6998239132670725,2.551746126279564,-1.5192531053135019,-0.8212638845590132,-1.4601861327999501,-1.4127568021886832,-1.9965977074427812,-0.3098272938325346,1.517281626362081,0.4713958942207719,1.4028431541536586,2.734246300094595,2.729646486762764,1.9092757295675318,0.49125739296462756,-2.0252809557324642,-1.1479803592349769,1.0921258096118018,1.926576072316851,-0.7675458581387735,-0.17271750633633953,-2.313374945571549,1.3817234133691638,-2.675098453225286,0.9325467569501478,1.5689604180712546,0.9512232587287279,-0.2833097585471416,2.538975701756695,0.16519370813253786,1.6175566029422423,1.369199645644703,-2.271002449724002,-1.6397081255350967,2.9708857504296073,1.3702133989144274,-0.6498807918452241,-2.595502555027399,0.5656115827494643,1.4286837697313084,-0.021976810540525804,-1.4328540353030657,3.095466301501822,-1.3472416156536071,-1.641377680921697,-1.2903431759157455,-2.49883493234636,3.567921250169527,-1.9398897547208733,0.9332673714996185,1.1373361453816608,1.8535433395261753,-2.347301686304276,0.039275940946398524,-2.5150171083483768,-1.6718563146355447,2.7517666546500177,-1.6388051610767367,2.8833447966618957,-0.23654095820681942,2.793409392505306,-1.4481118150878058,-1.1675116264514465,0.5491973155844598,0.11600253545869421,3.3582765488748434,0.6411153685915201,-2.2773928715805725,3.740591581648548,3.030093740219434,-2.5811799344807227,3.2994615040680326,-1.930036625978744,-0.005053502585641745,-2.6113491702481912,-0.16059515845419625,0.6184628924176794,1.0605755088172666,-0.4821232152885515],\"z\":[15.833198506678878,6.947846919033685,14.843229224736387,13.300469571013377,6.210131814432247,25.528648540011314,8.301206811899,13.818165697496392,8.676910108090874,-0.008888438045628444,4.167007253656375,13.43791112864758,9.9405482379896,3.6598430632471706,8.366530393778994,13.144959160066712,21.413474082522225,12.90219407846386,9.11798317630607,3.743505990901662,16.899992136866377,23.464040715107135,10.885592512254672,5.934585575774862,3.44111674842334,18.524875686338177,1.845304011238361,12.810319098470359,8.383013904824303,6.0820783618560785,4.146977079105492,3.5246774365859705,16.88287946848592,22.401641546944898,10.416473362237884,8.641251106747614,17.663972447656697,2.9772581256310886,9.833267564238367,7.067534299595083,3.7851258700052757,3.8960902697321496,14.200908519205209,4.349066196039343,10.778088294240991,10.927497504646293,8.468549006157591,2.624587608902523,6.947581349464119,20.683457741605135,7.229512966215427,11.47331554340331,3.0645938169404965,9.414813564525945,13.532488509986505,17.797048482151673,17.295621055368898,3.5835211528451896,16.409078532646056,19.363418908379437,7.075941830710248,2.38204903428401,2.611458705249934,17.145703198565613,9.037661676740921,7.580951245064141,5.22608238889904,11.666271461888915,21.86755233906485,5.860283108336646,6.471337238162587,19.1653761459531,23.59315649279754,8.248393550734558,5.916722446250929,17.001058864712288,4.805095541926036,10.645351523193835,6.919429464541393,11.143873227777126,2.1636411874955006,13.927558921113526,5.501518018604528,12.259980719059511,6.302701756435818,4.096324117742418,14.349596663468871,6.795524356768365,9.507158875313017,29.092789908288093,14.305785200363438,22.724110503747106,13.700074279103056,6.369215548165565,4.479160027181539,8.670911421360092,9.926382053972793,5.352307788634256,5.362310363160468,1.559149142358152],\"type\":\"scatter3d\"}],                        {\"template\":{\"data\":{\"histogram2dcontour\":[{\"type\":\"histogram2dcontour\",\"colorbar\":{\"outlinewidth\":0,\"ticks\":\"\"},\"colorscale\":[[0.0,\"#0d0887\"],[0.1111111111111111,\"#46039f\"],[0.2222222222222222,\"#7201a8\"],[0.3333333333333333,\"#9c179e\"],[0.4444444444444444,\"#bd3786\"],[0.5555555555555556,\"#d8576b\"],[0.6666666666666666,\"#ed7953\"],[0.7777777777777778,\"#fb9f3a\"],[0.8888888888888888,\"#fdca26\"],[1.0,\"#f0f921\"]]}],\"choropleth\":[{\"type\":\"choropleth\",\"colorbar\":{\"outlinewidth\":0,\"ticks\":\"\"}}],\"histogram2d\":[{\"type\":\"histogram2d\",\"colorbar\":{\"outlinewidth\":0,\"ticks\":\"\"},\"colorscale\":[[0.0,\"#0d0887\"],[0.1111111111111111,\"#46039f\"],[0.2222222222222222,\"#7201a8\"],[0.3333333333333333,\"#9c179e\"],[0.4444444444444444,\"#bd3786\"],[0.5555555555555556,\"#d8576b\"],[0.6666666666666666,\"#ed7953\"],[0.7777777777777778,\"#fb9f3a\"],[0.8888888888888888,\"#fdca26\"],[1.0,\"#f0f921\"]]}],\"heatmap\":[{\"type\":\"heatmap\",\"colorbar\":{\"outlinewidth\":0,\"ticks\":\"\"},\"colorscale\":[[0.0,\"#0d0887\"],[0.1111111111111111,\"#46039f\"],[0.2222222222222222,\"#7201a8\"],[0.3333333333333333,\"#9c179e\"],[0.4444444444444444,\"#bd3786\"],[0.5555555555555556,\"#d8576b\"],[0.6666666666666666,\"#ed7953\"],[0.7777777777777778,\"#fb9f3a\"],[0.8888888888888888,\"#fdca26\"],[1.0,\"#f0f921\"]]}],\"heatmapgl\":[{\"type\":\"heatmapgl\",\"colorbar\":{\"outlinewidth\":0,\"ticks\":\"\"},\"colorscale\":[[0.0,\"#0d0887\"],[0.1111111111111111,\"#46039f\"],[0.2222222222222222,\"#7201a8\"],[0.3333333333333333,\"#9c179e\"],[0.4444444444444444,\"#bd3786\"],[0.5555555555555556,\"#d8576b\"],[0.6666666666666666,\"#ed7953\"],[0.7777777777777778,\"#fb9f3a\"],[0.8888888888888888,\"#fdca26\"],[1.0,\"#f0f921\"]]}],\"contourcarpet\":[{\"type\":\"contourcarpet\",\"colorbar\":{\"outlinewidth\":0,\"ticks\":\"\"}}],\"contour\":[{\"type\":\"contour\",\"colorbar\":{\"outlinewidth\":0,\"ticks\":\"\"},\"colorscale\":[[0.0,\"#0d0887\"],[0.1111111111111111,\"#46039f\"],[0.2222222222222222,\"#7201a8\"],[0.3333333333333333,\"#9c179e\"],[0.4444444444444444,\"#bd3786\"],[0.5555555555555556,\"#d8576b\"],[0.6666666666666666,\"#ed7953\"],[0.7777777777777778,\"#fb9f3a\"],[0.8888888888888888,\"#fdca26\"],[1.0,\"#f0f921\"]]}],\"surface\":[{\"type\":\"surface\",\"colorbar\":{\"outlinewidth\":0,\"ticks\":\"\"},\"colorscale\":[[0.0,\"#0d0887\"],[0.1111111111111111,\"#46039f\"],[0.2222222222222222,\"#7201a8\"],[0.3333333333333333,\"#9c179e\"],[0.4444444444444444,\"#bd3786\"],[0.5555555555555556,\"#d8576b\"],[0.6666666666666666,\"#ed7953\"],[0.7777777777777778,\"#fb9f3a\"],[0.8888888888888888,\"#fdca26\"],[1.0,\"#f0f921\"]]}],\"mesh3d\":[{\"type\":\"mesh3d\",\"colorbar\":{\"outlinewidth\":0,\"ticks\":\"\"}}],\"scatter\":[{\"fillpattern\":{\"fillmode\":\"overlay\",\"size\":10,\"solidity\":0.2},\"type\":\"scatter\"}],\"parcoords\":[{\"type\":\"parcoords\",\"line\":{\"colorbar\":{\"outlinewidth\":0,\"ticks\":\"\"}}}],\"scatterpolargl\":[{\"type\":\"scatterpolargl\",\"marker\":{\"colorbar\":{\"outlinewidth\":0,\"ticks\":\"\"}}}],\"bar\":[{\"error_x\":{\"color\":\"#2a3f5f\"},\"error_y\":{\"color\":\"#2a3f5f\"},\"marker\":{\"line\":{\"color\":\"#E5ECF6\",\"width\":0.5},\"pattern\":{\"fillmode\":\"overlay\",\"size\":10,\"solidity\":0.2}},\"type\":\"bar\"}],\"scattergeo\":[{\"type\":\"scattergeo\",\"marker\":{\"colorbar\":{\"outlinewidth\":0,\"ticks\":\"\"}}}],\"scatterpolar\":[{\"type\":\"scatterpolar\",\"marker\":{\"colorbar\":{\"outlinewidth\":0,\"ticks\":\"\"}}}],\"histogram\":[{\"marker\":{\"pattern\":{\"fillmode\":\"overlay\",\"size\":10,\"solidity\":0.2}},\"type\":\"histogram\"}],\"scattergl\":[{\"type\":\"scattergl\",\"marker\":{\"colorbar\":{\"outlinewidth\":0,\"ticks\":\"\"}}}],\"scatter3d\":[{\"type\":\"scatter3d\",\"line\":{\"colorbar\":{\"outlinewidth\":0,\"ticks\":\"\"}},\"marker\":{\"colorbar\":{\"outlinewidth\":0,\"ticks\":\"\"}}}],\"scattermapbox\":[{\"type\":\"scattermapbox\",\"marker\":{\"colorbar\":{\"outlinewidth\":0,\"ticks\":\"\"}}}],\"scatterternary\":[{\"type\":\"scatterternary\",\"marker\":{\"colorbar\":{\"outlinewidth\":0,\"ticks\":\"\"}}}],\"scattercarpet\":[{\"type\":\"scattercarpet\",\"marker\":{\"colorbar\":{\"outlinewidth\":0,\"ticks\":\"\"}}}],\"carpet\":[{\"aaxis\":{\"endlinecolor\":\"#2a3f5f\",\"gridcolor\":\"white\",\"linecolor\":\"white\",\"minorgridcolor\":\"white\",\"startlinecolor\":\"#2a3f5f\"},\"baxis\":{\"endlinecolor\":\"#2a3f5f\",\"gridcolor\":\"white\",\"linecolor\":\"white\",\"minorgridcolor\":\"white\",\"startlinecolor\":\"#2a3f5f\"},\"type\":\"carpet\"}],\"table\":[{\"cells\":{\"fill\":{\"color\":\"#EBF0F8\"},\"line\":{\"color\":\"white\"}},\"header\":{\"fill\":{\"color\":\"#C8D4E3\"},\"line\":{\"color\":\"white\"}},\"type\":\"table\"}],\"barpolar\":[{\"marker\":{\"line\":{\"color\":\"#E5ECF6\",\"width\":0.5},\"pattern\":{\"fillmode\":\"overlay\",\"size\":10,\"solidity\":0.2}},\"type\":\"barpolar\"}],\"pie\":[{\"automargin\":true,\"type\":\"pie\"}]},\"layout\":{\"autotypenumbers\":\"strict\",\"colorway\":[\"#636efa\",\"#EF553B\",\"#00cc96\",\"#ab63fa\",\"#FFA15A\",\"#19d3f3\",\"#FF6692\",\"#B6E880\",\"#FF97FF\",\"#FECB52\"],\"font\":{\"color\":\"#2a3f5f\"},\"hovermode\":\"closest\",\"hoverlabel\":{\"align\":\"left\"},\"paper_bgcolor\":\"white\",\"plot_bgcolor\":\"#E5ECF6\",\"polar\":{\"bgcolor\":\"#E5ECF6\",\"angularaxis\":{\"gridcolor\":\"white\",\"linecolor\":\"white\",\"ticks\":\"\"},\"radialaxis\":{\"gridcolor\":\"white\",\"linecolor\":\"white\",\"ticks\":\"\"}},\"ternary\":{\"bgcolor\":\"#E5ECF6\",\"aaxis\":{\"gridcolor\":\"white\",\"linecolor\":\"white\",\"ticks\":\"\"},\"baxis\":{\"gridcolor\":\"white\",\"linecolor\":\"white\",\"ticks\":\"\"},\"caxis\":{\"gridcolor\":\"white\",\"linecolor\":\"white\",\"ticks\":\"\"}},\"coloraxis\":{\"colorbar\":{\"outlinewidth\":0,\"ticks\":\"\"}},\"colorscale\":{\"sequential\":[[0.0,\"#0d0887\"],[0.1111111111111111,\"#46039f\"],[0.2222222222222222,\"#7201a8\"],[0.3333333333333333,\"#9c179e\"],[0.4444444444444444,\"#bd3786\"],[0.5555555555555556,\"#d8576b\"],[0.6666666666666666,\"#ed7953\"],[0.7777777777777778,\"#fb9f3a\"],[0.8888888888888888,\"#fdca26\"],[1.0,\"#f0f921\"]],\"sequentialminus\":[[0.0,\"#0d0887\"],[0.1111111111111111,\"#46039f\"],[0.2222222222222222,\"#7201a8\"],[0.3333333333333333,\"#9c179e\"],[0.4444444444444444,\"#bd3786\"],[0.5555555555555556,\"#d8576b\"],[0.6666666666666666,\"#ed7953\"],[0.7777777777777778,\"#fb9f3a\"],[0.8888888888888888,\"#fdca26\"],[1.0,\"#f0f921\"]],\"diverging\":[[0,\"#8e0152\"],[0.1,\"#c51b7d\"],[0.2,\"#de77ae\"],[0.3,\"#f1b6da\"],[0.4,\"#fde0ef\"],[0.5,\"#f7f7f7\"],[0.6,\"#e6f5d0\"],[0.7,\"#b8e186\"],[0.8,\"#7fbc41\"],[0.9,\"#4d9221\"],[1,\"#276419\"]]},\"xaxis\":{\"gridcolor\":\"white\",\"linecolor\":\"white\",\"ticks\":\"\",\"title\":{\"standoff\":15},\"zerolinecolor\":\"white\",\"automargin\":true,\"zerolinewidth\":2},\"yaxis\":{\"gridcolor\":\"white\",\"linecolor\":\"white\",\"ticks\":\"\",\"title\":{\"standoff\":15},\"zerolinecolor\":\"white\",\"automargin\":true,\"zerolinewidth\":2},\"scene\":{\"xaxis\":{\"backgroundcolor\":\"#E5ECF6\",\"gridcolor\":\"white\",\"linecolor\":\"white\",\"showbackground\":true,\"ticks\":\"\",\"zerolinecolor\":\"white\",\"gridwidth\":2},\"yaxis\":{\"backgroundcolor\":\"#E5ECF6\",\"gridcolor\":\"white\",\"linecolor\":\"white\",\"showbackground\":true,\"ticks\":\"\",\"zerolinecolor\":\"white\",\"gridwidth\":2},\"zaxis\":{\"backgroundcolor\":\"#E5ECF6\",\"gridcolor\":\"white\",\"linecolor\":\"white\",\"showbackground\":true,\"ticks\":\"\",\"zerolinecolor\":\"white\",\"gridwidth\":2}},\"shapedefaults\":{\"line\":{\"color\":\"#2a3f5f\"}},\"annotationdefaults\":{\"arrowcolor\":\"#2a3f5f\",\"arrowhead\":0,\"arrowwidth\":1},\"geo\":{\"bgcolor\":\"white\",\"landcolor\":\"#E5ECF6\",\"subunitcolor\":\"white\",\"showland\":true,\"showlakes\":true,\"lakecolor\":\"white\"},\"title\":{\"x\":0.05},\"mapbox\":{\"style\":\"light\"}}},\"scene\":{\"domain\":{\"x\":[0.0,1.0],\"y\":[0.0,1.0]},\"xaxis\":{\"title\":{\"text\":\"x\"}},\"yaxis\":{\"title\":{\"text\":\"y\"}},\"zaxis\":{\"title\":{\"text\":\"z\"}}},\"legend\":{\"tracegroupgap\":0},\"margin\":{\"t\":60}},                        {\"responsive\": true}                    ).then(function(){\n",
       "                            \n",
       "var gd = document.getElementById('a0c5f282-1c90-4af6-b39a-58592dceabec');\n",
       "var x = new MutationObserver(function (mutations, observer) {{\n",
       "        var display = window.getComputedStyle(gd).display;\n",
       "        if (!display || display === 'none') {{\n",
       "            console.log([gd, 'removed!']);\n",
       "            Plotly.purge(gd);\n",
       "            observer.disconnect();\n",
       "        }}\n",
       "}});\n",
       "\n",
       "// Listen for the removal of the full notebook cells\n",
       "var notebookContainer = gd.closest('#notebook-container');\n",
       "if (notebookContainer) {{\n",
       "    x.observe(notebookContainer, {childList: true});\n",
       "}}\n",
       "\n",
       "// Listen for the clearing of the current output cell\n",
       "var outputEl = gd.closest('.output');\n",
       "if (outputEl) {{\n",
       "    x.observe(outputEl, {childList: true});\n",
       "}}\n",
       "\n",
       "                        })                };                });            </script>        </div>"
      ]
     },
     "metadata": {},
     "output_type": "display_data"
    }
   ],
   "source": [
    "# plotting the data\n",
    "import plotly.express as px\n",
    "df = px.data.iris()\n",
    "fig = px.scatter_3d(df, x=x.ravel(), y=y.ravel(), z=z.ravel())\n",
    "fig.show()"
   ]
  },
  {
   "cell_type": "code",
   "execution_count": 98,
   "id": "05285f04",
   "metadata": {},
   "outputs": [],
   "source": [
    "# first applying Simple Linear Regression on the data\n",
    "\n",
    "lr = LinearRegression()\n",
    "lr.fit(np.array([x,y]).reshape(100,2),z)\n",
    "\n",
    "x_input = np.linspace(x.min(), x.max(), 10)\n",
    "y_input = np.linspace(y.min(), y.max(), 10)\n",
    "xGrid, yGrid = np.meshgrid(x_input,y_input)\n",
    "\n",
    "final = np.vstack((xGrid.ravel().reshape(1,100),yGrid.ravel().reshape(1,100))).T\n",
    "\n",
    "z_final = lr.predict(final).reshape(10,10)\n"
   ]
  },
  {
   "cell_type": "code",
   "execution_count": 99,
   "id": "74a87109",
   "metadata": {},
   "outputs": [
    {
     "data": {
      "application/vnd.plotly.v1+json": {
       "config": {
        "plotlyServerURL": "https://plot.ly"
       },
       "data": [
        {
         "hovertemplate": "x=%{x}<br>y=%{y}<br>z=%{z}<extra></extra>",
         "legendgroup": "",
         "marker": {
          "color": "#636efa",
          "symbol": "circle"
         },
         "mode": "markers",
         "name": "",
         "scene": "scene",
         "showlegend": false,
         "type": "scatter3d",
         "x": [
          3.6034501547011697,
          -2.0367731693238826,
          0.9509610147826728,
          2.5321666080937764,
          2.151594492339979,
          3.4418908434642654,
          -0.19628647479387462,
          2.3369696511839484,
          2.057565878933003,
          0.06349442944000927,
          -1.1998010285754979,
          0.7455823963934529,
          2.679565682818894,
          0.6941092723935145,
          -2.4767362761087486,
          2.5756228391777496,
          1.177696316010214,
          1.1376816478310028,
          1.8698196838790526,
          1.1457303322703858,
          3.6232075563293256,
          3.729104099347328,
          -0.5104045139345725,
          1.6365297416535363,
          1.194320814174997,
          3.606600914571989,
          -0.6466131874526577,
          -2.640939026357993,
          -2.6529926472677703,
          -1.54382566933592,
          1.5076685886509456,
          0.18750798887816789,
          2.3614689842446124,
          3.1220375652699532,
          2.65716119279611,
          -2.700993914168227,
          3.4683242404297525,
          0.5597777302962204,
          -2.37583056990442,
          1.2906364884180386,
          -1.067806233819366,
          -1.547267986238584,
          2.8640681206848626,
          -0.1853823688746381,
          1.4205586646123773,
          2.287059435192522,
          -1.9416122167818544,
          -1.2452942465740429,
          2.120019625227245,
          3.071283616524319,
          -2.153887327089425,
          -2.7770596831954997,
          0.13263043203592328,
          -1.8364432813474518,
          3.133845921088464,
          1.9529012313947787,
          3.566947621110562,
          -1.1451841038528037,
          2.7954124456398652,
          4.117867794694399,
          1.5737468511793962,
          0.6078034042331124,
          0.04206026605798607,
          -2.3526718000511773,
          -2.562902873815182,
          1.620150653952047,
          1.8241431271031372,
          -1.695347262570988,
          2.3976125095949508,
          -1.2636573568515423,
          -1.8145261975442286,
          3.68016701703237,
          4.047501989325468,
          0.7762059576712197,
          2.1920365632165764,
          3.20608390670606,
          1.307968842529581,
          0.8570130429761091,
          0.829680781346017,
          -0.5589758301358043,
          -0.36734331752416916,
          1.6212442349911376,
          -1.5210643450093704,
          3.14783980717581,
          -1.764591289381347,
          -1.6988879504965753,
          1.7203149100884012,
          2.4546749860966885,
          1.119330243442044,
          3.1997346173748493,
          1.1192545160428793,
          3.9427776529338168,
          0.3929928318199658,
          1.1275287961792042,
          -1.5622388725070386,
          -1.0164900304487237,
          2.6510195708595026,
          -1.6085835495475087,
          -1.1270970481956593,
          -0.6477809644930042
         ],
         "y": [
          0.2786588369126224,
          1.9263902130798884,
          3.4426025704778933,
          1.862421003747854,
          -0.6336676591168953,
          2.975514832235639,
          2.6737138538995833,
          -2.443409456981978,
          -1.966821700425634,
          0.4864190897405578,
          -1.105918686250254,
          3.113703888288142,
          -0.9847716676082301,
          0.9280404372944591,
          -0.7007299227023305,
          -1.8751827168145638,
          4.083136037321602,
          2.9147318888965286,
          -2.396092085924832,
          -0.33334519871997426,
          0.1174295881096663,
          -2.6998239132670725,
          2.551746126279564,
          -1.5192531053135019,
          -0.8212638845590132,
          -1.4601861327999501,
          -1.4127568021886832,
          -1.9965977074427812,
          -0.3098272938325346,
          1.517281626362081,
          0.4713958942207719,
          1.4028431541536586,
          2.734246300094595,
          2.729646486762764,
          1.9092757295675318,
          0.49125739296462756,
          -2.0252809557324642,
          -1.1479803592349769,
          1.0921258096118018,
          1.926576072316851,
          -0.7675458581387735,
          -0.17271750633633953,
          -2.313374945571549,
          1.3817234133691638,
          -2.675098453225286,
          0.9325467569501478,
          1.5689604180712546,
          0.9512232587287279,
          -0.2833097585471416,
          2.538975701756695,
          0.16519370813253786,
          1.6175566029422423,
          1.369199645644703,
          -2.271002449724002,
          -1.6397081255350967,
          2.9708857504296073,
          1.3702133989144274,
          -0.6498807918452241,
          -2.595502555027399,
          0.5656115827494643,
          1.4286837697313084,
          -0.021976810540525804,
          -1.4328540353030657,
          3.095466301501822,
          -1.3472416156536071,
          -1.641377680921697,
          -1.2903431759157455,
          -2.49883493234636,
          3.567921250169527,
          -1.9398897547208733,
          0.9332673714996185,
          1.1373361453816608,
          1.8535433395261753,
          -2.347301686304276,
          0.039275940946398524,
          -2.5150171083483768,
          -1.6718563146355447,
          2.7517666546500177,
          -1.6388051610767367,
          2.8833447966618957,
          -0.23654095820681942,
          2.793409392505306,
          -1.4481118150878058,
          -1.1675116264514465,
          0.5491973155844598,
          0.11600253545869421,
          3.3582765488748434,
          0.6411153685915201,
          -2.2773928715805725,
          3.740591581648548,
          3.030093740219434,
          -2.5811799344807227,
          3.2994615040680326,
          -1.930036625978744,
          -0.005053502585641745,
          -2.6113491702481912,
          -0.16059515845419625,
          0.6184628924176794,
          1.0605755088172666,
          -0.4821232152885515
         ],
         "z": [
          15.833198506678878,
          6.947846919033685,
          14.843229224736387,
          13.300469571013377,
          6.210131814432247,
          25.528648540011314,
          8.301206811899,
          13.818165697496392,
          8.676910108090874,
          -0.008888438045628444,
          4.167007253656375,
          13.43791112864758,
          9.9405482379896,
          3.6598430632471706,
          8.366530393778994,
          13.144959160066712,
          21.413474082522225,
          12.90219407846386,
          9.11798317630607,
          3.743505990901662,
          16.899992136866377,
          23.464040715107135,
          10.885592512254672,
          5.934585575774862,
          3.44111674842334,
          18.524875686338177,
          1.845304011238361,
          12.810319098470359,
          8.383013904824303,
          6.0820783618560785,
          4.146977079105492,
          3.5246774365859705,
          16.88287946848592,
          22.401641546944898,
          10.416473362237884,
          8.641251106747614,
          17.663972447656697,
          2.9772581256310886,
          9.833267564238367,
          7.067534299595083,
          3.7851258700052757,
          3.8960902697321496,
          14.200908519205209,
          4.349066196039343,
          10.778088294240991,
          10.927497504646293,
          8.468549006157591,
          2.624587608902523,
          6.947581349464119,
          20.683457741605135,
          7.229512966215427,
          11.47331554340331,
          3.0645938169404965,
          9.414813564525945,
          13.532488509986505,
          17.797048482151673,
          17.295621055368898,
          3.5835211528451896,
          16.409078532646056,
          19.363418908379437,
          7.075941830710248,
          2.38204903428401,
          2.611458705249934,
          17.145703198565613,
          9.037661676740921,
          7.580951245064141,
          5.22608238889904,
          11.666271461888915,
          21.86755233906485,
          5.860283108336646,
          6.471337238162587,
          19.1653761459531,
          23.59315649279754,
          8.248393550734558,
          5.916722446250929,
          17.001058864712288,
          4.805095541926036,
          10.645351523193835,
          6.919429464541393,
          11.143873227777126,
          2.1636411874955006,
          13.927558921113526,
          5.501518018604528,
          12.259980719059511,
          6.302701756435818,
          4.096324117742418,
          14.349596663468871,
          6.795524356768365,
          9.507158875313017,
          29.092789908288093,
          14.305785200363438,
          22.724110503747106,
          13.700074279103056,
          6.369215548165565,
          4.479160027181539,
          8.670911421360092,
          9.926382053972793,
          5.352307788634256,
          5.362310363160468,
          1.559149142358152
         ]
        },
        {
         "type": "surface",
         "x": [
          -2.7770596831954997,
          -2.010956630096622,
          -1.2448535769977445,
          -0.47875052389886674,
          0.28735252920001075,
          1.0534555822988882,
          1.8195586353977662,
          2.5856616884966437,
          3.351764741595521,
          4.117867794694399
         ],
         "y": [
          -2.6998239132670725,
          -1.9461616965349977,
          -1.1924994798029227,
          -0.4388372630708477,
          0.3148249536612271,
          1.0684871703933019,
          1.822149387125377,
          2.5758116038574514,
          3.3294738205895267,
          4.083136037321602
         ],
         "z": [
          [
           12.215959896426286,
           11.717988163935335,
           11.220016431444385,
           10.722044698953434,
           10.224072966462485,
           9.726101233971534,
           9.228129501480582,
           8.730157768989633,
           8.232186036498682,
           7.7342143040077325
          ],
          [
           12.269317991553098,
           11.771346259062149,
           11.273374526571198,
           10.775402794080247,
           10.277431061589297,
           9.779459329098346,
           9.281487596607395,
           8.783515864116445,
           8.285544131625494,
           7.787572399134545
          ],
          [
           12.32267608667991,
           11.824704354188961,
           11.32673262169801,
           10.828760889207059,
           10.33078915671611,
           9.832817424225158,
           9.334845691734207,
           8.836873959243258,
           8.338902226752307,
           7.840930494261357
          ],
          [
           12.376034181806723,
           11.878062449315774,
           11.380090716824823,
           10.882118984333871,
           10.384147251842922,
           9.886175519351971,
           9.38820378686102,
           8.89023205437007,
           8.39226032187912,
           7.89428858938817
          ],
          [
           12.429392276933536,
           11.931420544442586,
           11.433448811951635,
           10.935477079460684,
           10.437505346969735,
           9.939533614478783,
           9.441561881987832,
           8.943590149496883,
           8.445618417005932,
           7.947646684514982
          ],
          [
           12.482750372060348,
           11.984778639569399,
           11.486806907078448,
           10.988835174587496,
           10.490863442096547,
           9.992891709605596,
           9.494919977114645,
           8.996948244623695,
           8.498976512132744,
           8.001004779641795
          ],
          [
           12.53610846718716,
           12.038136734696211,
           11.54016500220526,
           11.042193269714309,
           10.54422153722336,
           10.046249804732408,
           9.548278072241457,
           9.050306339750508,
           8.552334607259557,
           8.054362874768607
          ],
          [
           12.589466562313973,
           12.091494829823024,
           11.593523097332072,
           11.095551364841121,
           10.597579632350172,
           10.09960789985922,
           9.60163616736827,
           9.10366443487732,
           8.605692702386369,
           8.10772096989542
          ],
          [
           12.642824657440785,
           12.144852924949836,
           11.646881192458885,
           11.148909459967934,
           10.650937727476984,
           10.152965994986033,
           9.654994262495082,
           9.157022530004133,
           8.659050797513181,
           8.161079065022232
          ],
          [
           12.696182752567598,
           12.198211020076648,
           11.700239287585697,
           11.202267555094746,
           10.704295822603797,
           10.206324090112846,
           9.708352357621894,
           9.210380625130945,
           8.712408892639994,
           8.214437160149044
          ]
         ]
        }
       ],
       "layout": {
        "legend": {
         "tracegroupgap": 0
        },
        "margin": {
         "t": 60
        },
        "scene": {
         "domain": {
          "x": [
           0,
           1
          ],
          "y": [
           0,
           1
          ]
         },
         "xaxis": {
          "title": {
           "text": "x"
          }
         },
         "yaxis": {
          "title": {
           "text": "y"
          }
         },
         "zaxis": {
          "title": {
           "text": "z"
          }
         }
        },
        "template": {
         "data": {
          "bar": [
           {
            "error_x": {
             "color": "#2a3f5f"
            },
            "error_y": {
             "color": "#2a3f5f"
            },
            "marker": {
             "line": {
              "color": "#E5ECF6",
              "width": 0.5
             },
             "pattern": {
              "fillmode": "overlay",
              "size": 10,
              "solidity": 0.2
             }
            },
            "type": "bar"
           }
          ],
          "barpolar": [
           {
            "marker": {
             "line": {
              "color": "#E5ECF6",
              "width": 0.5
             },
             "pattern": {
              "fillmode": "overlay",
              "size": 10,
              "solidity": 0.2
             }
            },
            "type": "barpolar"
           }
          ],
          "carpet": [
           {
            "aaxis": {
             "endlinecolor": "#2a3f5f",
             "gridcolor": "white",
             "linecolor": "white",
             "minorgridcolor": "white",
             "startlinecolor": "#2a3f5f"
            },
            "baxis": {
             "endlinecolor": "#2a3f5f",
             "gridcolor": "white",
             "linecolor": "white",
             "minorgridcolor": "white",
             "startlinecolor": "#2a3f5f"
            },
            "type": "carpet"
           }
          ],
          "choropleth": [
           {
            "colorbar": {
             "outlinewidth": 0,
             "ticks": ""
            },
            "type": "choropleth"
           }
          ],
          "contour": [
           {
            "colorbar": {
             "outlinewidth": 0,
             "ticks": ""
            },
            "colorscale": [
             [
              0,
              "#0d0887"
             ],
             [
              0.1111111111111111,
              "#46039f"
             ],
             [
              0.2222222222222222,
              "#7201a8"
             ],
             [
              0.3333333333333333,
              "#9c179e"
             ],
             [
              0.4444444444444444,
              "#bd3786"
             ],
             [
              0.5555555555555556,
              "#d8576b"
             ],
             [
              0.6666666666666666,
              "#ed7953"
             ],
             [
              0.7777777777777778,
              "#fb9f3a"
             ],
             [
              0.8888888888888888,
              "#fdca26"
             ],
             [
              1,
              "#f0f921"
             ]
            ],
            "type": "contour"
           }
          ],
          "contourcarpet": [
           {
            "colorbar": {
             "outlinewidth": 0,
             "ticks": ""
            },
            "type": "contourcarpet"
           }
          ],
          "heatmap": [
           {
            "colorbar": {
             "outlinewidth": 0,
             "ticks": ""
            },
            "colorscale": [
             [
              0,
              "#0d0887"
             ],
             [
              0.1111111111111111,
              "#46039f"
             ],
             [
              0.2222222222222222,
              "#7201a8"
             ],
             [
              0.3333333333333333,
              "#9c179e"
             ],
             [
              0.4444444444444444,
              "#bd3786"
             ],
             [
              0.5555555555555556,
              "#d8576b"
             ],
             [
              0.6666666666666666,
              "#ed7953"
             ],
             [
              0.7777777777777778,
              "#fb9f3a"
             ],
             [
              0.8888888888888888,
              "#fdca26"
             ],
             [
              1,
              "#f0f921"
             ]
            ],
            "type": "heatmap"
           }
          ],
          "heatmapgl": [
           {
            "colorbar": {
             "outlinewidth": 0,
             "ticks": ""
            },
            "colorscale": [
             [
              0,
              "#0d0887"
             ],
             [
              0.1111111111111111,
              "#46039f"
             ],
             [
              0.2222222222222222,
              "#7201a8"
             ],
             [
              0.3333333333333333,
              "#9c179e"
             ],
             [
              0.4444444444444444,
              "#bd3786"
             ],
             [
              0.5555555555555556,
              "#d8576b"
             ],
             [
              0.6666666666666666,
              "#ed7953"
             ],
             [
              0.7777777777777778,
              "#fb9f3a"
             ],
             [
              0.8888888888888888,
              "#fdca26"
             ],
             [
              1,
              "#f0f921"
             ]
            ],
            "type": "heatmapgl"
           }
          ],
          "histogram": [
           {
            "marker": {
             "pattern": {
              "fillmode": "overlay",
              "size": 10,
              "solidity": 0.2
             }
            },
            "type": "histogram"
           }
          ],
          "histogram2d": [
           {
            "colorbar": {
             "outlinewidth": 0,
             "ticks": ""
            },
            "colorscale": [
             [
              0,
              "#0d0887"
             ],
             [
              0.1111111111111111,
              "#46039f"
             ],
             [
              0.2222222222222222,
              "#7201a8"
             ],
             [
              0.3333333333333333,
              "#9c179e"
             ],
             [
              0.4444444444444444,
              "#bd3786"
             ],
             [
              0.5555555555555556,
              "#d8576b"
             ],
             [
              0.6666666666666666,
              "#ed7953"
             ],
             [
              0.7777777777777778,
              "#fb9f3a"
             ],
             [
              0.8888888888888888,
              "#fdca26"
             ],
             [
              1,
              "#f0f921"
             ]
            ],
            "type": "histogram2d"
           }
          ],
          "histogram2dcontour": [
           {
            "colorbar": {
             "outlinewidth": 0,
             "ticks": ""
            },
            "colorscale": [
             [
              0,
              "#0d0887"
             ],
             [
              0.1111111111111111,
              "#46039f"
             ],
             [
              0.2222222222222222,
              "#7201a8"
             ],
             [
              0.3333333333333333,
              "#9c179e"
             ],
             [
              0.4444444444444444,
              "#bd3786"
             ],
             [
              0.5555555555555556,
              "#d8576b"
             ],
             [
              0.6666666666666666,
              "#ed7953"
             ],
             [
              0.7777777777777778,
              "#fb9f3a"
             ],
             [
              0.8888888888888888,
              "#fdca26"
             ],
             [
              1,
              "#f0f921"
             ]
            ],
            "type": "histogram2dcontour"
           }
          ],
          "mesh3d": [
           {
            "colorbar": {
             "outlinewidth": 0,
             "ticks": ""
            },
            "type": "mesh3d"
           }
          ],
          "parcoords": [
           {
            "line": {
             "colorbar": {
              "outlinewidth": 0,
              "ticks": ""
             }
            },
            "type": "parcoords"
           }
          ],
          "pie": [
           {
            "automargin": true,
            "type": "pie"
           }
          ],
          "scatter": [
           {
            "fillpattern": {
             "fillmode": "overlay",
             "size": 10,
             "solidity": 0.2
            },
            "type": "scatter"
           }
          ],
          "scatter3d": [
           {
            "line": {
             "colorbar": {
              "outlinewidth": 0,
              "ticks": ""
             }
            },
            "marker": {
             "colorbar": {
              "outlinewidth": 0,
              "ticks": ""
             }
            },
            "type": "scatter3d"
           }
          ],
          "scattercarpet": [
           {
            "marker": {
             "colorbar": {
              "outlinewidth": 0,
              "ticks": ""
             }
            },
            "type": "scattercarpet"
           }
          ],
          "scattergeo": [
           {
            "marker": {
             "colorbar": {
              "outlinewidth": 0,
              "ticks": ""
             }
            },
            "type": "scattergeo"
           }
          ],
          "scattergl": [
           {
            "marker": {
             "colorbar": {
              "outlinewidth": 0,
              "ticks": ""
             }
            },
            "type": "scattergl"
           }
          ],
          "scattermapbox": [
           {
            "marker": {
             "colorbar": {
              "outlinewidth": 0,
              "ticks": ""
             }
            },
            "type": "scattermapbox"
           }
          ],
          "scatterpolar": [
           {
            "marker": {
             "colorbar": {
              "outlinewidth": 0,
              "ticks": ""
             }
            },
            "type": "scatterpolar"
           }
          ],
          "scatterpolargl": [
           {
            "marker": {
             "colorbar": {
              "outlinewidth": 0,
              "ticks": ""
             }
            },
            "type": "scatterpolargl"
           }
          ],
          "scatterternary": [
           {
            "marker": {
             "colorbar": {
              "outlinewidth": 0,
              "ticks": ""
             }
            },
            "type": "scatterternary"
           }
          ],
          "surface": [
           {
            "colorbar": {
             "outlinewidth": 0,
             "ticks": ""
            },
            "colorscale": [
             [
              0,
              "#0d0887"
             ],
             [
              0.1111111111111111,
              "#46039f"
             ],
             [
              0.2222222222222222,
              "#7201a8"
             ],
             [
              0.3333333333333333,
              "#9c179e"
             ],
             [
              0.4444444444444444,
              "#bd3786"
             ],
             [
              0.5555555555555556,
              "#d8576b"
             ],
             [
              0.6666666666666666,
              "#ed7953"
             ],
             [
              0.7777777777777778,
              "#fb9f3a"
             ],
             [
              0.8888888888888888,
              "#fdca26"
             ],
             [
              1,
              "#f0f921"
             ]
            ],
            "type": "surface"
           }
          ],
          "table": [
           {
            "cells": {
             "fill": {
              "color": "#EBF0F8"
             },
             "line": {
              "color": "white"
             }
            },
            "header": {
             "fill": {
              "color": "#C8D4E3"
             },
             "line": {
              "color": "white"
             }
            },
            "type": "table"
           }
          ]
         },
         "layout": {
          "annotationdefaults": {
           "arrowcolor": "#2a3f5f",
           "arrowhead": 0,
           "arrowwidth": 1
          },
          "autotypenumbers": "strict",
          "coloraxis": {
           "colorbar": {
            "outlinewidth": 0,
            "ticks": ""
           }
          },
          "colorscale": {
           "diverging": [
            [
             0,
             "#8e0152"
            ],
            [
             0.1,
             "#c51b7d"
            ],
            [
             0.2,
             "#de77ae"
            ],
            [
             0.3,
             "#f1b6da"
            ],
            [
             0.4,
             "#fde0ef"
            ],
            [
             0.5,
             "#f7f7f7"
            ],
            [
             0.6,
             "#e6f5d0"
            ],
            [
             0.7,
             "#b8e186"
            ],
            [
             0.8,
             "#7fbc41"
            ],
            [
             0.9,
             "#4d9221"
            ],
            [
             1,
             "#276419"
            ]
           ],
           "sequential": [
            [
             0,
             "#0d0887"
            ],
            [
             0.1111111111111111,
             "#46039f"
            ],
            [
             0.2222222222222222,
             "#7201a8"
            ],
            [
             0.3333333333333333,
             "#9c179e"
            ],
            [
             0.4444444444444444,
             "#bd3786"
            ],
            [
             0.5555555555555556,
             "#d8576b"
            ],
            [
             0.6666666666666666,
             "#ed7953"
            ],
            [
             0.7777777777777778,
             "#fb9f3a"
            ],
            [
             0.8888888888888888,
             "#fdca26"
            ],
            [
             1,
             "#f0f921"
            ]
           ],
           "sequentialminus": [
            [
             0,
             "#0d0887"
            ],
            [
             0.1111111111111111,
             "#46039f"
            ],
            [
             0.2222222222222222,
             "#7201a8"
            ],
            [
             0.3333333333333333,
             "#9c179e"
            ],
            [
             0.4444444444444444,
             "#bd3786"
            ],
            [
             0.5555555555555556,
             "#d8576b"
            ],
            [
             0.6666666666666666,
             "#ed7953"
            ],
            [
             0.7777777777777778,
             "#fb9f3a"
            ],
            [
             0.8888888888888888,
             "#fdca26"
            ],
            [
             1,
             "#f0f921"
            ]
           ]
          },
          "colorway": [
           "#636efa",
           "#EF553B",
           "#00cc96",
           "#ab63fa",
           "#FFA15A",
           "#19d3f3",
           "#FF6692",
           "#B6E880",
           "#FF97FF",
           "#FECB52"
          ],
          "font": {
           "color": "#2a3f5f"
          },
          "geo": {
           "bgcolor": "white",
           "lakecolor": "white",
           "landcolor": "#E5ECF6",
           "showlakes": true,
           "showland": true,
           "subunitcolor": "white"
          },
          "hoverlabel": {
           "align": "left"
          },
          "hovermode": "closest",
          "mapbox": {
           "style": "light"
          },
          "paper_bgcolor": "white",
          "plot_bgcolor": "#E5ECF6",
          "polar": {
           "angularaxis": {
            "gridcolor": "white",
            "linecolor": "white",
            "ticks": ""
           },
           "bgcolor": "#E5ECF6",
           "radialaxis": {
            "gridcolor": "white",
            "linecolor": "white",
            "ticks": ""
           }
          },
          "scene": {
           "xaxis": {
            "backgroundcolor": "#E5ECF6",
            "gridcolor": "white",
            "gridwidth": 2,
            "linecolor": "white",
            "showbackground": true,
            "ticks": "",
            "zerolinecolor": "white"
           },
           "yaxis": {
            "backgroundcolor": "#E5ECF6",
            "gridcolor": "white",
            "gridwidth": 2,
            "linecolor": "white",
            "showbackground": true,
            "ticks": "",
            "zerolinecolor": "white"
           },
           "zaxis": {
            "backgroundcolor": "#E5ECF6",
            "gridcolor": "white",
            "gridwidth": 2,
            "linecolor": "white",
            "showbackground": true,
            "ticks": "",
            "zerolinecolor": "white"
           }
          },
          "shapedefaults": {
           "line": {
            "color": "#2a3f5f"
           }
          },
          "ternary": {
           "aaxis": {
            "gridcolor": "white",
            "linecolor": "white",
            "ticks": ""
           },
           "baxis": {
            "gridcolor": "white",
            "linecolor": "white",
            "ticks": ""
           },
           "bgcolor": "#E5ECF6",
           "caxis": {
            "gridcolor": "white",
            "linecolor": "white",
            "ticks": ""
           }
          },
          "title": {
           "x": 0.05
          },
          "xaxis": {
           "automargin": true,
           "gridcolor": "white",
           "linecolor": "white",
           "ticks": "",
           "title": {
            "standoff": 15
           },
           "zerolinecolor": "white",
           "zerolinewidth": 2
          },
          "yaxis": {
           "automargin": true,
           "gridcolor": "white",
           "linecolor": "white",
           "ticks": "",
           "title": {
            "standoff": 15
           },
           "zerolinecolor": "white",
           "zerolinewidth": 2
          }
         }
        }
       }
      },
      "text/html": [
       "<div>                            <div id=\"6aeaedd7-05c0-494d-81c7-e15b3e3f6b0d\" class=\"plotly-graph-div\" style=\"height:525px; width:100%;\"></div>            <script type=\"text/javascript\">                require([\"plotly\"], function(Plotly) {                    window.PLOTLYENV=window.PLOTLYENV || {};                                    if (document.getElementById(\"6aeaedd7-05c0-494d-81c7-e15b3e3f6b0d\")) {                    Plotly.newPlot(                        \"6aeaedd7-05c0-494d-81c7-e15b3e3f6b0d\",                        [{\"hovertemplate\":\"x=%{x}<br>y=%{y}<br>z=%{z}<extra></extra>\",\"legendgroup\":\"\",\"marker\":{\"color\":\"#636efa\",\"symbol\":\"circle\"},\"mode\":\"markers\",\"name\":\"\",\"scene\":\"scene\",\"showlegend\":false,\"x\":[3.6034501547011697,-2.0367731693238826,0.9509610147826728,2.5321666080937764,2.151594492339979,3.4418908434642654,-0.19628647479387462,2.3369696511839484,2.057565878933003,0.06349442944000927,-1.1998010285754979,0.7455823963934529,2.679565682818894,0.6941092723935145,-2.4767362761087486,2.5756228391777496,1.177696316010214,1.1376816478310028,1.8698196838790526,1.1457303322703858,3.6232075563293256,3.729104099347328,-0.5104045139345725,1.6365297416535363,1.194320814174997,3.606600914571989,-0.6466131874526577,-2.640939026357993,-2.6529926472677703,-1.54382566933592,1.5076685886509456,0.18750798887816789,2.3614689842446124,3.1220375652699532,2.65716119279611,-2.700993914168227,3.4683242404297525,0.5597777302962204,-2.37583056990442,1.2906364884180386,-1.067806233819366,-1.547267986238584,2.8640681206848626,-0.1853823688746381,1.4205586646123773,2.287059435192522,-1.9416122167818544,-1.2452942465740429,2.120019625227245,3.071283616524319,-2.153887327089425,-2.7770596831954997,0.13263043203592328,-1.8364432813474518,3.133845921088464,1.9529012313947787,3.566947621110562,-1.1451841038528037,2.7954124456398652,4.117867794694399,1.5737468511793962,0.6078034042331124,0.04206026605798607,-2.3526718000511773,-2.562902873815182,1.620150653952047,1.8241431271031372,-1.695347262570988,2.3976125095949508,-1.2636573568515423,-1.8145261975442286,3.68016701703237,4.047501989325468,0.7762059576712197,2.1920365632165764,3.20608390670606,1.307968842529581,0.8570130429761091,0.829680781346017,-0.5589758301358043,-0.36734331752416916,1.6212442349911376,-1.5210643450093704,3.14783980717581,-1.764591289381347,-1.6988879504965753,1.7203149100884012,2.4546749860966885,1.119330243442044,3.1997346173748493,1.1192545160428793,3.9427776529338168,0.3929928318199658,1.1275287961792042,-1.5622388725070386,-1.0164900304487237,2.6510195708595026,-1.6085835495475087,-1.1270970481956593,-0.6477809644930042],\"y\":[0.2786588369126224,1.9263902130798884,3.4426025704778933,1.862421003747854,-0.6336676591168953,2.975514832235639,2.6737138538995833,-2.443409456981978,-1.966821700425634,0.4864190897405578,-1.105918686250254,3.113703888288142,-0.9847716676082301,0.9280404372944591,-0.7007299227023305,-1.8751827168145638,4.083136037321602,2.9147318888965286,-2.396092085924832,-0.33334519871997426,0.1174295881096663,-2.6998239132670725,2.551746126279564,-1.5192531053135019,-0.8212638845590132,-1.4601861327999501,-1.4127568021886832,-1.9965977074427812,-0.3098272938325346,1.517281626362081,0.4713958942207719,1.4028431541536586,2.734246300094595,2.729646486762764,1.9092757295675318,0.49125739296462756,-2.0252809557324642,-1.1479803592349769,1.0921258096118018,1.926576072316851,-0.7675458581387735,-0.17271750633633953,-2.313374945571549,1.3817234133691638,-2.675098453225286,0.9325467569501478,1.5689604180712546,0.9512232587287279,-0.2833097585471416,2.538975701756695,0.16519370813253786,1.6175566029422423,1.369199645644703,-2.271002449724002,-1.6397081255350967,2.9708857504296073,1.3702133989144274,-0.6498807918452241,-2.595502555027399,0.5656115827494643,1.4286837697313084,-0.021976810540525804,-1.4328540353030657,3.095466301501822,-1.3472416156536071,-1.641377680921697,-1.2903431759157455,-2.49883493234636,3.567921250169527,-1.9398897547208733,0.9332673714996185,1.1373361453816608,1.8535433395261753,-2.347301686304276,0.039275940946398524,-2.5150171083483768,-1.6718563146355447,2.7517666546500177,-1.6388051610767367,2.8833447966618957,-0.23654095820681942,2.793409392505306,-1.4481118150878058,-1.1675116264514465,0.5491973155844598,0.11600253545869421,3.3582765488748434,0.6411153685915201,-2.2773928715805725,3.740591581648548,3.030093740219434,-2.5811799344807227,3.2994615040680326,-1.930036625978744,-0.005053502585641745,-2.6113491702481912,-0.16059515845419625,0.6184628924176794,1.0605755088172666,-0.4821232152885515],\"z\":[15.833198506678878,6.947846919033685,14.843229224736387,13.300469571013377,6.210131814432247,25.528648540011314,8.301206811899,13.818165697496392,8.676910108090874,-0.008888438045628444,4.167007253656375,13.43791112864758,9.9405482379896,3.6598430632471706,8.366530393778994,13.144959160066712,21.413474082522225,12.90219407846386,9.11798317630607,3.743505990901662,16.899992136866377,23.464040715107135,10.885592512254672,5.934585575774862,3.44111674842334,18.524875686338177,1.845304011238361,12.810319098470359,8.383013904824303,6.0820783618560785,4.146977079105492,3.5246774365859705,16.88287946848592,22.401641546944898,10.416473362237884,8.641251106747614,17.663972447656697,2.9772581256310886,9.833267564238367,7.067534299595083,3.7851258700052757,3.8960902697321496,14.200908519205209,4.349066196039343,10.778088294240991,10.927497504646293,8.468549006157591,2.624587608902523,6.947581349464119,20.683457741605135,7.229512966215427,11.47331554340331,3.0645938169404965,9.414813564525945,13.532488509986505,17.797048482151673,17.295621055368898,3.5835211528451896,16.409078532646056,19.363418908379437,7.075941830710248,2.38204903428401,2.611458705249934,17.145703198565613,9.037661676740921,7.580951245064141,5.22608238889904,11.666271461888915,21.86755233906485,5.860283108336646,6.471337238162587,19.1653761459531,23.59315649279754,8.248393550734558,5.916722446250929,17.001058864712288,4.805095541926036,10.645351523193835,6.919429464541393,11.143873227777126,2.1636411874955006,13.927558921113526,5.501518018604528,12.259980719059511,6.302701756435818,4.096324117742418,14.349596663468871,6.795524356768365,9.507158875313017,29.092789908288093,14.305785200363438,22.724110503747106,13.700074279103056,6.369215548165565,4.479160027181539,8.670911421360092,9.926382053972793,5.352307788634256,5.362310363160468,1.559149142358152],\"type\":\"scatter3d\"},{\"x\":[-2.7770596831954997,-2.010956630096622,-1.2448535769977445,-0.47875052389886674,0.28735252920001075,1.0534555822988882,1.8195586353977662,2.5856616884966437,3.351764741595521,4.117867794694399],\"y\":[-2.6998239132670725,-1.9461616965349977,-1.1924994798029227,-0.4388372630708477,0.3148249536612271,1.0684871703933019,1.822149387125377,2.5758116038574514,3.3294738205895267,4.083136037321602],\"z\":[[12.215959896426286,11.717988163935335,11.220016431444385,10.722044698953434,10.224072966462485,9.726101233971534,9.228129501480582,8.730157768989633,8.232186036498682,7.7342143040077325],[12.269317991553098,11.771346259062149,11.273374526571198,10.775402794080247,10.277431061589297,9.779459329098346,9.281487596607395,8.783515864116445,8.285544131625494,7.787572399134545],[12.32267608667991,11.824704354188961,11.32673262169801,10.828760889207059,10.33078915671611,9.832817424225158,9.334845691734207,8.836873959243258,8.338902226752307,7.840930494261357],[12.376034181806723,11.878062449315774,11.380090716824823,10.882118984333871,10.384147251842922,9.886175519351971,9.38820378686102,8.89023205437007,8.39226032187912,7.89428858938817],[12.429392276933536,11.931420544442586,11.433448811951635,10.935477079460684,10.437505346969735,9.939533614478783,9.441561881987832,8.943590149496883,8.445618417005932,7.947646684514982],[12.482750372060348,11.984778639569399,11.486806907078448,10.988835174587496,10.490863442096547,9.992891709605596,9.494919977114645,8.996948244623695,8.498976512132744,8.001004779641795],[12.53610846718716,12.038136734696211,11.54016500220526,11.042193269714309,10.54422153722336,10.046249804732408,9.548278072241457,9.050306339750508,8.552334607259557,8.054362874768607],[12.589466562313973,12.091494829823024,11.593523097332072,11.095551364841121,10.597579632350172,10.09960789985922,9.60163616736827,9.10366443487732,8.605692702386369,8.10772096989542],[12.642824657440785,12.144852924949836,11.646881192458885,11.148909459967934,10.650937727476984,10.152965994986033,9.654994262495082,9.157022530004133,8.659050797513181,8.161079065022232],[12.696182752567598,12.198211020076648,11.700239287585697,11.202267555094746,10.704295822603797,10.206324090112846,9.708352357621894,9.210380625130945,8.712408892639994,8.214437160149044]],\"type\":\"surface\"}],                        {\"template\":{\"data\":{\"histogram2dcontour\":[{\"type\":\"histogram2dcontour\",\"colorbar\":{\"outlinewidth\":0,\"ticks\":\"\"},\"colorscale\":[[0.0,\"#0d0887\"],[0.1111111111111111,\"#46039f\"],[0.2222222222222222,\"#7201a8\"],[0.3333333333333333,\"#9c179e\"],[0.4444444444444444,\"#bd3786\"],[0.5555555555555556,\"#d8576b\"],[0.6666666666666666,\"#ed7953\"],[0.7777777777777778,\"#fb9f3a\"],[0.8888888888888888,\"#fdca26\"],[1.0,\"#f0f921\"]]}],\"choropleth\":[{\"type\":\"choropleth\",\"colorbar\":{\"outlinewidth\":0,\"ticks\":\"\"}}],\"histogram2d\":[{\"type\":\"histogram2d\",\"colorbar\":{\"outlinewidth\":0,\"ticks\":\"\"},\"colorscale\":[[0.0,\"#0d0887\"],[0.1111111111111111,\"#46039f\"],[0.2222222222222222,\"#7201a8\"],[0.3333333333333333,\"#9c179e\"],[0.4444444444444444,\"#bd3786\"],[0.5555555555555556,\"#d8576b\"],[0.6666666666666666,\"#ed7953\"],[0.7777777777777778,\"#fb9f3a\"],[0.8888888888888888,\"#fdca26\"],[1.0,\"#f0f921\"]]}],\"heatmap\":[{\"type\":\"heatmap\",\"colorbar\":{\"outlinewidth\":0,\"ticks\":\"\"},\"colorscale\":[[0.0,\"#0d0887\"],[0.1111111111111111,\"#46039f\"],[0.2222222222222222,\"#7201a8\"],[0.3333333333333333,\"#9c179e\"],[0.4444444444444444,\"#bd3786\"],[0.5555555555555556,\"#d8576b\"],[0.6666666666666666,\"#ed7953\"],[0.7777777777777778,\"#fb9f3a\"],[0.8888888888888888,\"#fdca26\"],[1.0,\"#f0f921\"]]}],\"heatmapgl\":[{\"type\":\"heatmapgl\",\"colorbar\":{\"outlinewidth\":0,\"ticks\":\"\"},\"colorscale\":[[0.0,\"#0d0887\"],[0.1111111111111111,\"#46039f\"],[0.2222222222222222,\"#7201a8\"],[0.3333333333333333,\"#9c179e\"],[0.4444444444444444,\"#bd3786\"],[0.5555555555555556,\"#d8576b\"],[0.6666666666666666,\"#ed7953\"],[0.7777777777777778,\"#fb9f3a\"],[0.8888888888888888,\"#fdca26\"],[1.0,\"#f0f921\"]]}],\"contourcarpet\":[{\"type\":\"contourcarpet\",\"colorbar\":{\"outlinewidth\":0,\"ticks\":\"\"}}],\"contour\":[{\"type\":\"contour\",\"colorbar\":{\"outlinewidth\":0,\"ticks\":\"\"},\"colorscale\":[[0.0,\"#0d0887\"],[0.1111111111111111,\"#46039f\"],[0.2222222222222222,\"#7201a8\"],[0.3333333333333333,\"#9c179e\"],[0.4444444444444444,\"#bd3786\"],[0.5555555555555556,\"#d8576b\"],[0.6666666666666666,\"#ed7953\"],[0.7777777777777778,\"#fb9f3a\"],[0.8888888888888888,\"#fdca26\"],[1.0,\"#f0f921\"]]}],\"surface\":[{\"type\":\"surface\",\"colorbar\":{\"outlinewidth\":0,\"ticks\":\"\"},\"colorscale\":[[0.0,\"#0d0887\"],[0.1111111111111111,\"#46039f\"],[0.2222222222222222,\"#7201a8\"],[0.3333333333333333,\"#9c179e\"],[0.4444444444444444,\"#bd3786\"],[0.5555555555555556,\"#d8576b\"],[0.6666666666666666,\"#ed7953\"],[0.7777777777777778,\"#fb9f3a\"],[0.8888888888888888,\"#fdca26\"],[1.0,\"#f0f921\"]]}],\"mesh3d\":[{\"type\":\"mesh3d\",\"colorbar\":{\"outlinewidth\":0,\"ticks\":\"\"}}],\"scatter\":[{\"fillpattern\":{\"fillmode\":\"overlay\",\"size\":10,\"solidity\":0.2},\"type\":\"scatter\"}],\"parcoords\":[{\"type\":\"parcoords\",\"line\":{\"colorbar\":{\"outlinewidth\":0,\"ticks\":\"\"}}}],\"scatterpolargl\":[{\"type\":\"scatterpolargl\",\"marker\":{\"colorbar\":{\"outlinewidth\":0,\"ticks\":\"\"}}}],\"bar\":[{\"error_x\":{\"color\":\"#2a3f5f\"},\"error_y\":{\"color\":\"#2a3f5f\"},\"marker\":{\"line\":{\"color\":\"#E5ECF6\",\"width\":0.5},\"pattern\":{\"fillmode\":\"overlay\",\"size\":10,\"solidity\":0.2}},\"type\":\"bar\"}],\"scattergeo\":[{\"type\":\"scattergeo\",\"marker\":{\"colorbar\":{\"outlinewidth\":0,\"ticks\":\"\"}}}],\"scatterpolar\":[{\"type\":\"scatterpolar\",\"marker\":{\"colorbar\":{\"outlinewidth\":0,\"ticks\":\"\"}}}],\"histogram\":[{\"marker\":{\"pattern\":{\"fillmode\":\"overlay\",\"size\":10,\"solidity\":0.2}},\"type\":\"histogram\"}],\"scattergl\":[{\"type\":\"scattergl\",\"marker\":{\"colorbar\":{\"outlinewidth\":0,\"ticks\":\"\"}}}],\"scatter3d\":[{\"type\":\"scatter3d\",\"line\":{\"colorbar\":{\"outlinewidth\":0,\"ticks\":\"\"}},\"marker\":{\"colorbar\":{\"outlinewidth\":0,\"ticks\":\"\"}}}],\"scattermapbox\":[{\"type\":\"scattermapbox\",\"marker\":{\"colorbar\":{\"outlinewidth\":0,\"ticks\":\"\"}}}],\"scatterternary\":[{\"type\":\"scatterternary\",\"marker\":{\"colorbar\":{\"outlinewidth\":0,\"ticks\":\"\"}}}],\"scattercarpet\":[{\"type\":\"scattercarpet\",\"marker\":{\"colorbar\":{\"outlinewidth\":0,\"ticks\":\"\"}}}],\"carpet\":[{\"aaxis\":{\"endlinecolor\":\"#2a3f5f\",\"gridcolor\":\"white\",\"linecolor\":\"white\",\"minorgridcolor\":\"white\",\"startlinecolor\":\"#2a3f5f\"},\"baxis\":{\"endlinecolor\":\"#2a3f5f\",\"gridcolor\":\"white\",\"linecolor\":\"white\",\"minorgridcolor\":\"white\",\"startlinecolor\":\"#2a3f5f\"},\"type\":\"carpet\"}],\"table\":[{\"cells\":{\"fill\":{\"color\":\"#EBF0F8\"},\"line\":{\"color\":\"white\"}},\"header\":{\"fill\":{\"color\":\"#C8D4E3\"},\"line\":{\"color\":\"white\"}},\"type\":\"table\"}],\"barpolar\":[{\"marker\":{\"line\":{\"color\":\"#E5ECF6\",\"width\":0.5},\"pattern\":{\"fillmode\":\"overlay\",\"size\":10,\"solidity\":0.2}},\"type\":\"barpolar\"}],\"pie\":[{\"automargin\":true,\"type\":\"pie\"}]},\"layout\":{\"autotypenumbers\":\"strict\",\"colorway\":[\"#636efa\",\"#EF553B\",\"#00cc96\",\"#ab63fa\",\"#FFA15A\",\"#19d3f3\",\"#FF6692\",\"#B6E880\",\"#FF97FF\",\"#FECB52\"],\"font\":{\"color\":\"#2a3f5f\"},\"hovermode\":\"closest\",\"hoverlabel\":{\"align\":\"left\"},\"paper_bgcolor\":\"white\",\"plot_bgcolor\":\"#E5ECF6\",\"polar\":{\"bgcolor\":\"#E5ECF6\",\"angularaxis\":{\"gridcolor\":\"white\",\"linecolor\":\"white\",\"ticks\":\"\"},\"radialaxis\":{\"gridcolor\":\"white\",\"linecolor\":\"white\",\"ticks\":\"\"}},\"ternary\":{\"bgcolor\":\"#E5ECF6\",\"aaxis\":{\"gridcolor\":\"white\",\"linecolor\":\"white\",\"ticks\":\"\"},\"baxis\":{\"gridcolor\":\"white\",\"linecolor\":\"white\",\"ticks\":\"\"},\"caxis\":{\"gridcolor\":\"white\",\"linecolor\":\"white\",\"ticks\":\"\"}},\"coloraxis\":{\"colorbar\":{\"outlinewidth\":0,\"ticks\":\"\"}},\"colorscale\":{\"sequential\":[[0.0,\"#0d0887\"],[0.1111111111111111,\"#46039f\"],[0.2222222222222222,\"#7201a8\"],[0.3333333333333333,\"#9c179e\"],[0.4444444444444444,\"#bd3786\"],[0.5555555555555556,\"#d8576b\"],[0.6666666666666666,\"#ed7953\"],[0.7777777777777778,\"#fb9f3a\"],[0.8888888888888888,\"#fdca26\"],[1.0,\"#f0f921\"]],\"sequentialminus\":[[0.0,\"#0d0887\"],[0.1111111111111111,\"#46039f\"],[0.2222222222222222,\"#7201a8\"],[0.3333333333333333,\"#9c179e\"],[0.4444444444444444,\"#bd3786\"],[0.5555555555555556,\"#d8576b\"],[0.6666666666666666,\"#ed7953\"],[0.7777777777777778,\"#fb9f3a\"],[0.8888888888888888,\"#fdca26\"],[1.0,\"#f0f921\"]],\"diverging\":[[0,\"#8e0152\"],[0.1,\"#c51b7d\"],[0.2,\"#de77ae\"],[0.3,\"#f1b6da\"],[0.4,\"#fde0ef\"],[0.5,\"#f7f7f7\"],[0.6,\"#e6f5d0\"],[0.7,\"#b8e186\"],[0.8,\"#7fbc41\"],[0.9,\"#4d9221\"],[1,\"#276419\"]]},\"xaxis\":{\"gridcolor\":\"white\",\"linecolor\":\"white\",\"ticks\":\"\",\"title\":{\"standoff\":15},\"zerolinecolor\":\"white\",\"automargin\":true,\"zerolinewidth\":2},\"yaxis\":{\"gridcolor\":\"white\",\"linecolor\":\"white\",\"ticks\":\"\",\"title\":{\"standoff\":15},\"zerolinecolor\":\"white\",\"automargin\":true,\"zerolinewidth\":2},\"scene\":{\"xaxis\":{\"backgroundcolor\":\"#E5ECF6\",\"gridcolor\":\"white\",\"linecolor\":\"white\",\"showbackground\":true,\"ticks\":\"\",\"zerolinecolor\":\"white\",\"gridwidth\":2},\"yaxis\":{\"backgroundcolor\":\"#E5ECF6\",\"gridcolor\":\"white\",\"linecolor\":\"white\",\"showbackground\":true,\"ticks\":\"\",\"zerolinecolor\":\"white\",\"gridwidth\":2},\"zaxis\":{\"backgroundcolor\":\"#E5ECF6\",\"gridcolor\":\"white\",\"linecolor\":\"white\",\"showbackground\":true,\"ticks\":\"\",\"zerolinecolor\":\"white\",\"gridwidth\":2}},\"shapedefaults\":{\"line\":{\"color\":\"#2a3f5f\"}},\"annotationdefaults\":{\"arrowcolor\":\"#2a3f5f\",\"arrowhead\":0,\"arrowwidth\":1},\"geo\":{\"bgcolor\":\"white\",\"landcolor\":\"#E5ECF6\",\"subunitcolor\":\"white\",\"showland\":true,\"showlakes\":true,\"lakecolor\":\"white\"},\"title\":{\"x\":0.05},\"mapbox\":{\"style\":\"light\"}}},\"scene\":{\"domain\":{\"x\":[0.0,1.0],\"y\":[0.0,1.0]},\"xaxis\":{\"title\":{\"text\":\"x\"}},\"yaxis\":{\"title\":{\"text\":\"y\"}},\"zaxis\":{\"title\":{\"text\":\"z\"}}},\"legend\":{\"tracegroupgap\":0},\"margin\":{\"t\":60}},                        {\"responsive\": true}                    ).then(function(){\n",
       "                            \n",
       "var gd = document.getElementById('6aeaedd7-05c0-494d-81c7-e15b3e3f6b0d');\n",
       "var x = new MutationObserver(function (mutations, observer) {{\n",
       "        var display = window.getComputedStyle(gd).display;\n",
       "        if (!display || display === 'none') {{\n",
       "            console.log([gd, 'removed!']);\n",
       "            Plotly.purge(gd);\n",
       "            observer.disconnect();\n",
       "        }}\n",
       "}});\n",
       "\n",
       "// Listen for the removal of the full notebook cells\n",
       "var notebookContainer = gd.closest('#notebook-container');\n",
       "if (notebookContainer) {{\n",
       "    x.observe(notebookContainer, {childList: true});\n",
       "}}\n",
       "\n",
       "// Listen for the clearing of the current output cell\n",
       "var outputEl = gd.closest('.output');\n",
       "if (outputEl) {{\n",
       "    x.observe(outputEl, {childList: true});\n",
       "}}\n",
       "\n",
       "                        })                };                });            </script>        </div>"
      ]
     },
     "metadata": {},
     "output_type": "display_data"
    }
   ],
   "source": [
    "# output of linear regression\n",
    "\n",
    "import plotly.graph_objects as go\n",
    "\n",
    "fig = px.scatter_3d(df, x=x.ravel(), y=y.ravel(), z=z.ravel())\n",
    "\n",
    "fig.add_trace(go.Surface(x = x_input, y = y_input, z =z_final ))\n",
    "\n",
    "fig.show()"
   ]
  },
  {
   "cell_type": "code",
   "execution_count": 100,
   "id": "e1d80d84",
   "metadata": {},
   "outputs": [
    {
     "data": {
      "text/plain": [
       "(100, 2)"
      ]
     },
     "execution_count": 100,
     "metadata": {},
     "output_type": "execute_result"
    }
   ],
   "source": [
    "# now applying multiple polynomial regression on the data\n",
    "# starting with degree = 2\n",
    "\n",
    "X_multi = np.array([x,y]).reshape(100,2)\n",
    "X_multi.shape"
   ]
  },
  {
   "cell_type": "code",
   "execution_count": 101,
   "id": "d0b732d4",
   "metadata": {},
   "outputs": [],
   "source": [
    "poly = PolynomialFeatures(degree=2)\n",
    "X_multi_trans = poly.fit_transform(X_multi)"
   ]
  },
  {
   "cell_type": "code",
   "execution_count": 102,
   "id": "4363f4c9",
   "metadata": {
    "scrolled": true
   },
   "outputs": [
    {
     "name": "stdout",
     "output_type": "stream",
     "text": [
      "Numer of Input features 2\n",
      "Numer of Ouput features 6\n",
      "Powers\n",
      " [[0 0]\n",
      " [1 0]\n",
      " [0 1]\n",
      " [2 0]\n",
      " [1 1]\n",
      " [0 2]]\n"
     ]
    },
    {
     "name": "stderr",
     "output_type": "stream",
     "text": [
      "C:\\Users\\mohit.kumar\\Anaconda3\\lib\\site-packages\\sklearn\\utils\\deprecation.py:103: FutureWarning:\n",
      "\n",
      "The attribute `n_input_features_` was deprecated in version 1.0 and will be removed in 1.2.\n",
      "\n"
     ]
    }
   ],
   "source": [
    "print(\"Numer of Input features\",poly.n_input_features_)\n",
    "print(\"Numer of Ouput features\",poly.n_output_features_)\n",
    "print(\"Powers\\n\",poly.powers_)"
   ]
  },
  {
   "cell_type": "markdown",
   "id": "4854e3ca",
   "metadata": {},
   "source": [
    "x = 2 and y =2 is not there as then degree of polynomial will become 4."
   ]
  },
  {
   "cell_type": "code",
   "execution_count": 103,
   "id": "56c0eea3",
   "metadata": {},
   "outputs": [],
   "source": [
    "poly = PolynomialFeatures(degree=30)\n",
    "X_multi_trans = poly.fit_transform(X_multi)"
   ]
  },
  {
   "cell_type": "code",
   "execution_count": 104,
   "id": "542a52d6",
   "metadata": {},
   "outputs": [
    {
     "name": "stdout",
     "output_type": "stream",
     "text": [
      "Numer of Input features 2\n",
      "Numer of Ouput features 496\n",
      "Powers\n",
      " [[ 0  0]\n",
      " [ 1  0]\n",
      " [ 0  1]\n",
      " [ 2  0]\n",
      " [ 1  1]\n",
      " [ 0  2]\n",
      " [ 3  0]\n",
      " [ 2  1]\n",
      " [ 1  2]\n",
      " [ 0  3]\n",
      " [ 4  0]\n",
      " [ 3  1]\n",
      " [ 2  2]\n",
      " [ 1  3]\n",
      " [ 0  4]\n",
      " [ 5  0]\n",
      " [ 4  1]\n",
      " [ 3  2]\n",
      " [ 2  3]\n",
      " [ 1  4]\n",
      " [ 0  5]\n",
      " [ 6  0]\n",
      " [ 5  1]\n",
      " [ 4  2]\n",
      " [ 3  3]\n",
      " [ 2  4]\n",
      " [ 1  5]\n",
      " [ 0  6]\n",
      " [ 7  0]\n",
      " [ 6  1]\n",
      " [ 5  2]\n",
      " [ 4  3]\n",
      " [ 3  4]\n",
      " [ 2  5]\n",
      " [ 1  6]\n",
      " [ 0  7]\n",
      " [ 8  0]\n",
      " [ 7  1]\n",
      " [ 6  2]\n",
      " [ 5  3]\n",
      " [ 4  4]\n",
      " [ 3  5]\n",
      " [ 2  6]\n",
      " [ 1  7]\n",
      " [ 0  8]\n",
      " [ 9  0]\n",
      " [ 8  1]\n",
      " [ 7  2]\n",
      " [ 6  3]\n",
      " [ 5  4]\n",
      " [ 4  5]\n",
      " [ 3  6]\n",
      " [ 2  7]\n",
      " [ 1  8]\n",
      " [ 0  9]\n",
      " [10  0]\n",
      " [ 9  1]\n",
      " [ 8  2]\n",
      " [ 7  3]\n",
      " [ 6  4]\n",
      " [ 5  5]\n",
      " [ 4  6]\n",
      " [ 3  7]\n",
      " [ 2  8]\n",
      " [ 1  9]\n",
      " [ 0 10]\n",
      " [11  0]\n",
      " [10  1]\n",
      " [ 9  2]\n",
      " [ 8  3]\n",
      " [ 7  4]\n",
      " [ 6  5]\n",
      " [ 5  6]\n",
      " [ 4  7]\n",
      " [ 3  8]\n",
      " [ 2  9]\n",
      " [ 1 10]\n",
      " [ 0 11]\n",
      " [12  0]\n",
      " [11  1]\n",
      " [10  2]\n",
      " [ 9  3]\n",
      " [ 8  4]\n",
      " [ 7  5]\n",
      " [ 6  6]\n",
      " [ 5  7]\n",
      " [ 4  8]\n",
      " [ 3  9]\n",
      " [ 2 10]\n",
      " [ 1 11]\n",
      " [ 0 12]\n",
      " [13  0]\n",
      " [12  1]\n",
      " [11  2]\n",
      " [10  3]\n",
      " [ 9  4]\n",
      " [ 8  5]\n",
      " [ 7  6]\n",
      " [ 6  7]\n",
      " [ 5  8]\n",
      " [ 4  9]\n",
      " [ 3 10]\n",
      " [ 2 11]\n",
      " [ 1 12]\n",
      " [ 0 13]\n",
      " [14  0]\n",
      " [13  1]\n",
      " [12  2]\n",
      " [11  3]\n",
      " [10  4]\n",
      " [ 9  5]\n",
      " [ 8  6]\n",
      " [ 7  7]\n",
      " [ 6  8]\n",
      " [ 5  9]\n",
      " [ 4 10]\n",
      " [ 3 11]\n",
      " [ 2 12]\n",
      " [ 1 13]\n",
      " [ 0 14]\n",
      " [15  0]\n",
      " [14  1]\n",
      " [13  2]\n",
      " [12  3]\n",
      " [11  4]\n",
      " [10  5]\n",
      " [ 9  6]\n",
      " [ 8  7]\n",
      " [ 7  8]\n",
      " [ 6  9]\n",
      " [ 5 10]\n",
      " [ 4 11]\n",
      " [ 3 12]\n",
      " [ 2 13]\n",
      " [ 1 14]\n",
      " [ 0 15]\n",
      " [16  0]\n",
      " [15  1]\n",
      " [14  2]\n",
      " [13  3]\n",
      " [12  4]\n",
      " [11  5]\n",
      " [10  6]\n",
      " [ 9  7]\n",
      " [ 8  8]\n",
      " [ 7  9]\n",
      " [ 6 10]\n",
      " [ 5 11]\n",
      " [ 4 12]\n",
      " [ 3 13]\n",
      " [ 2 14]\n",
      " [ 1 15]\n",
      " [ 0 16]\n",
      " [17  0]\n",
      " [16  1]\n",
      " [15  2]\n",
      " [14  3]\n",
      " [13  4]\n",
      " [12  5]\n",
      " [11  6]\n",
      " [10  7]\n",
      " [ 9  8]\n",
      " [ 8  9]\n",
      " [ 7 10]\n",
      " [ 6 11]\n",
      " [ 5 12]\n",
      " [ 4 13]\n",
      " [ 3 14]\n",
      " [ 2 15]\n",
      " [ 1 16]\n",
      " [ 0 17]\n",
      " [18  0]\n",
      " [17  1]\n",
      " [16  2]\n",
      " [15  3]\n",
      " [14  4]\n",
      " [13  5]\n",
      " [12  6]\n",
      " [11  7]\n",
      " [10  8]\n",
      " [ 9  9]\n",
      " [ 8 10]\n",
      " [ 7 11]\n",
      " [ 6 12]\n",
      " [ 5 13]\n",
      " [ 4 14]\n",
      " [ 3 15]\n",
      " [ 2 16]\n",
      " [ 1 17]\n",
      " [ 0 18]\n",
      " [19  0]\n",
      " [18  1]\n",
      " [17  2]\n",
      " [16  3]\n",
      " [15  4]\n",
      " [14  5]\n",
      " [13  6]\n",
      " [12  7]\n",
      " [11  8]\n",
      " [10  9]\n",
      " [ 9 10]\n",
      " [ 8 11]\n",
      " [ 7 12]\n",
      " [ 6 13]\n",
      " [ 5 14]\n",
      " [ 4 15]\n",
      " [ 3 16]\n",
      " [ 2 17]\n",
      " [ 1 18]\n",
      " [ 0 19]\n",
      " [20  0]\n",
      " [19  1]\n",
      " [18  2]\n",
      " [17  3]\n",
      " [16  4]\n",
      " [15  5]\n",
      " [14  6]\n",
      " [13  7]\n",
      " [12  8]\n",
      " [11  9]\n",
      " [10 10]\n",
      " [ 9 11]\n",
      " [ 8 12]\n",
      " [ 7 13]\n",
      " [ 6 14]\n",
      " [ 5 15]\n",
      " [ 4 16]\n",
      " [ 3 17]\n",
      " [ 2 18]\n",
      " [ 1 19]\n",
      " [ 0 20]\n",
      " [21  0]\n",
      " [20  1]\n",
      " [19  2]\n",
      " [18  3]\n",
      " [17  4]\n",
      " [16  5]\n",
      " [15  6]\n",
      " [14  7]\n",
      " [13  8]\n",
      " [12  9]\n",
      " [11 10]\n",
      " [10 11]\n",
      " [ 9 12]\n",
      " [ 8 13]\n",
      " [ 7 14]\n",
      " [ 6 15]\n",
      " [ 5 16]\n",
      " [ 4 17]\n",
      " [ 3 18]\n",
      " [ 2 19]\n",
      " [ 1 20]\n",
      " [ 0 21]\n",
      " [22  0]\n",
      " [21  1]\n",
      " [20  2]\n",
      " [19  3]\n",
      " [18  4]\n",
      " [17  5]\n",
      " [16  6]\n",
      " [15  7]\n",
      " [14  8]\n",
      " [13  9]\n",
      " [12 10]\n",
      " [11 11]\n",
      " [10 12]\n",
      " [ 9 13]\n",
      " [ 8 14]\n",
      " [ 7 15]\n",
      " [ 6 16]\n",
      " [ 5 17]\n",
      " [ 4 18]\n",
      " [ 3 19]\n",
      " [ 2 20]\n",
      " [ 1 21]\n",
      " [ 0 22]\n",
      " [23  0]\n",
      " [22  1]\n",
      " [21  2]\n",
      " [20  3]\n",
      " [19  4]\n",
      " [18  5]\n",
      " [17  6]\n",
      " [16  7]\n",
      " [15  8]\n",
      " [14  9]\n",
      " [13 10]\n",
      " [12 11]\n",
      " [11 12]\n",
      " [10 13]\n",
      " [ 9 14]\n",
      " [ 8 15]\n",
      " [ 7 16]\n",
      " [ 6 17]\n",
      " [ 5 18]\n",
      " [ 4 19]\n",
      " [ 3 20]\n",
      " [ 2 21]\n",
      " [ 1 22]\n",
      " [ 0 23]\n",
      " [24  0]\n",
      " [23  1]\n",
      " [22  2]\n",
      " [21  3]\n",
      " [20  4]\n",
      " [19  5]\n",
      " [18  6]\n",
      " [17  7]\n",
      " [16  8]\n",
      " [15  9]\n",
      " [14 10]\n",
      " [13 11]\n",
      " [12 12]\n",
      " [11 13]\n",
      " [10 14]\n",
      " [ 9 15]\n",
      " [ 8 16]\n",
      " [ 7 17]\n",
      " [ 6 18]\n",
      " [ 5 19]\n",
      " [ 4 20]\n",
      " [ 3 21]\n",
      " [ 2 22]\n",
      " [ 1 23]\n",
      " [ 0 24]\n",
      " [25  0]\n",
      " [24  1]\n",
      " [23  2]\n",
      " [22  3]\n",
      " [21  4]\n",
      " [20  5]\n",
      " [19  6]\n",
      " [18  7]\n",
      " [17  8]\n",
      " [16  9]\n",
      " [15 10]\n",
      " [14 11]\n",
      " [13 12]\n",
      " [12 13]\n",
      " [11 14]\n",
      " [10 15]\n",
      " [ 9 16]\n",
      " [ 8 17]\n",
      " [ 7 18]\n",
      " [ 6 19]\n",
      " [ 5 20]\n",
      " [ 4 21]\n",
      " [ 3 22]\n",
      " [ 2 23]\n",
      " [ 1 24]\n",
      " [ 0 25]\n",
      " [26  0]\n",
      " [25  1]\n",
      " [24  2]\n",
      " [23  3]\n",
      " [22  4]\n",
      " [21  5]\n",
      " [20  6]\n",
      " [19  7]\n",
      " [18  8]\n",
      " [17  9]\n",
      " [16 10]\n",
      " [15 11]\n",
      " [14 12]\n",
      " [13 13]\n",
      " [12 14]\n",
      " [11 15]\n",
      " [10 16]\n",
      " [ 9 17]\n",
      " [ 8 18]\n",
      " [ 7 19]\n",
      " [ 6 20]\n",
      " [ 5 21]\n",
      " [ 4 22]\n",
      " [ 3 23]\n",
      " [ 2 24]\n",
      " [ 1 25]\n",
      " [ 0 26]\n",
      " [27  0]\n",
      " [26  1]\n",
      " [25  2]\n",
      " [24  3]\n",
      " [23  4]\n",
      " [22  5]\n",
      " [21  6]\n",
      " [20  7]\n",
      " [19  8]\n",
      " [18  9]\n",
      " [17 10]\n",
      " [16 11]\n",
      " [15 12]\n",
      " [14 13]\n",
      " [13 14]\n",
      " [12 15]\n",
      " [11 16]\n",
      " [10 17]\n",
      " [ 9 18]\n",
      " [ 8 19]\n",
      " [ 7 20]\n",
      " [ 6 21]\n",
      " [ 5 22]\n",
      " [ 4 23]\n",
      " [ 3 24]\n",
      " [ 2 25]\n",
      " [ 1 26]\n",
      " [ 0 27]\n",
      " [28  0]\n",
      " [27  1]\n",
      " [26  2]\n",
      " [25  3]\n",
      " [24  4]\n",
      " [23  5]\n",
      " [22  6]\n",
      " [21  7]\n",
      " [20  8]\n",
      " [19  9]\n",
      " [18 10]\n",
      " [17 11]\n",
      " [16 12]\n",
      " [15 13]\n",
      " [14 14]\n",
      " [13 15]\n",
      " [12 16]\n",
      " [11 17]\n",
      " [10 18]\n",
      " [ 9 19]\n",
      " [ 8 20]\n",
      " [ 7 21]\n",
      " [ 6 22]\n",
      " [ 5 23]\n",
      " [ 4 24]\n",
      " [ 3 25]\n",
      " [ 2 26]\n",
      " [ 1 27]\n",
      " [ 0 28]\n",
      " [29  0]\n",
      " [28  1]\n",
      " [27  2]\n",
      " [26  3]\n",
      " [25  4]\n",
      " [24  5]\n",
      " [23  6]\n",
      " [22  7]\n",
      " [21  8]\n",
      " [20  9]\n",
      " [19 10]\n",
      " [18 11]\n",
      " [17 12]\n",
      " [16 13]\n",
      " [15 14]\n",
      " [14 15]\n",
      " [13 16]\n",
      " [12 17]\n",
      " [11 18]\n",
      " [10 19]\n",
      " [ 9 20]\n",
      " [ 8 21]\n",
      " [ 7 22]\n",
      " [ 6 23]\n",
      " [ 5 24]\n",
      " [ 4 25]\n",
      " [ 3 26]\n",
      " [ 2 27]\n",
      " [ 1 28]\n",
      " [ 0 29]\n",
      " [30  0]\n",
      " [29  1]\n",
      " [28  2]\n",
      " [27  3]\n",
      " [26  4]\n",
      " [25  5]\n",
      " [24  6]\n",
      " [23  7]\n",
      " [22  8]\n",
      " [21  9]\n",
      " [20 10]\n",
      " [19 11]\n",
      " [18 12]\n",
      " [17 13]\n",
      " [16 14]\n",
      " [15 15]\n",
      " [14 16]\n",
      " [13 17]\n",
      " [12 18]\n",
      " [11 19]\n",
      " [10 20]\n",
      " [ 9 21]\n",
      " [ 8 22]\n",
      " [ 7 23]\n",
      " [ 6 24]\n",
      " [ 5 25]\n",
      " [ 4 26]\n",
      " [ 3 27]\n",
      " [ 2 28]\n",
      " [ 1 29]\n",
      " [ 0 30]]\n"
     ]
    },
    {
     "name": "stderr",
     "output_type": "stream",
     "text": [
      "C:\\Users\\mohit.kumar\\Anaconda3\\lib\\site-packages\\sklearn\\utils\\deprecation.py:103: FutureWarning:\n",
      "\n",
      "The attribute `n_input_features_` was deprecated in version 1.0 and will be removed in 1.2.\n",
      "\n"
     ]
    }
   ],
   "source": [
    "print(\"Numer of Input features\",poly.n_input_features_)\n",
    "print(\"Numer of Ouput features\",poly.n_output_features_)\n",
    "print(\"Powers\\n\",poly.powers_)"
   ]
  },
  {
   "cell_type": "code",
   "execution_count": 105,
   "id": "64c43050",
   "metadata": {},
   "outputs": [
    {
     "data": {
      "text/plain": [
       "(100, 496)"
      ]
     },
     "execution_count": 105,
     "metadata": {},
     "output_type": "execute_result"
    }
   ],
   "source": [
    "X_multi_trans.shape"
   ]
  },
  {
   "cell_type": "code",
   "execution_count": 106,
   "id": "b285b9ae",
   "metadata": {},
   "outputs": [
    {
     "data": {
      "text/html": [
       "<style>#sk-container-id-7 {color: black;background-color: white;}#sk-container-id-7 pre{padding: 0;}#sk-container-id-7 div.sk-toggleable {background-color: white;}#sk-container-id-7 label.sk-toggleable__label {cursor: pointer;display: block;width: 100%;margin-bottom: 0;padding: 0.3em;box-sizing: border-box;text-align: center;}#sk-container-id-7 label.sk-toggleable__label-arrow:before {content: \"▸\";float: left;margin-right: 0.25em;color: #696969;}#sk-container-id-7 label.sk-toggleable__label-arrow:hover:before {color: black;}#sk-container-id-7 div.sk-estimator:hover label.sk-toggleable__label-arrow:before {color: black;}#sk-container-id-7 div.sk-toggleable__content {max-height: 0;max-width: 0;overflow: hidden;text-align: left;background-color: #f0f8ff;}#sk-container-id-7 div.sk-toggleable__content pre {margin: 0.2em;color: black;border-radius: 0.25em;background-color: #f0f8ff;}#sk-container-id-7 input.sk-toggleable__control:checked~div.sk-toggleable__content {max-height: 200px;max-width: 100%;overflow: auto;}#sk-container-id-7 input.sk-toggleable__control:checked~label.sk-toggleable__label-arrow:before {content: \"▾\";}#sk-container-id-7 div.sk-estimator input.sk-toggleable__control:checked~label.sk-toggleable__label {background-color: #d4ebff;}#sk-container-id-7 div.sk-label input.sk-toggleable__control:checked~label.sk-toggleable__label {background-color: #d4ebff;}#sk-container-id-7 input.sk-hidden--visually {border: 0;clip: rect(1px 1px 1px 1px);clip: rect(1px, 1px, 1px, 1px);height: 1px;margin: -1px;overflow: hidden;padding: 0;position: absolute;width: 1px;}#sk-container-id-7 div.sk-estimator {font-family: monospace;background-color: #f0f8ff;border: 1px dotted black;border-radius: 0.25em;box-sizing: border-box;margin-bottom: 0.5em;}#sk-container-id-7 div.sk-estimator:hover {background-color: #d4ebff;}#sk-container-id-7 div.sk-parallel-item::after {content: \"\";width: 100%;border-bottom: 1px solid gray;flex-grow: 1;}#sk-container-id-7 div.sk-label:hover label.sk-toggleable__label {background-color: #d4ebff;}#sk-container-id-7 div.sk-serial::before {content: \"\";position: absolute;border-left: 1px solid gray;box-sizing: border-box;top: 0;bottom: 0;left: 50%;z-index: 0;}#sk-container-id-7 div.sk-serial {display: flex;flex-direction: column;align-items: center;background-color: white;padding-right: 0.2em;padding-left: 0.2em;position: relative;}#sk-container-id-7 div.sk-item {position: relative;z-index: 1;}#sk-container-id-7 div.sk-parallel {display: flex;align-items: stretch;justify-content: center;background-color: white;position: relative;}#sk-container-id-7 div.sk-item::before, #sk-container-id-7 div.sk-parallel-item::before {content: \"\";position: absolute;border-left: 1px solid gray;box-sizing: border-box;top: 0;bottom: 0;left: 50%;z-index: -1;}#sk-container-id-7 div.sk-parallel-item {display: flex;flex-direction: column;z-index: 1;position: relative;background-color: white;}#sk-container-id-7 div.sk-parallel-item:first-child::after {align-self: flex-end;width: 50%;}#sk-container-id-7 div.sk-parallel-item:last-child::after {align-self: flex-start;width: 50%;}#sk-container-id-7 div.sk-parallel-item:only-child::after {width: 0;}#sk-container-id-7 div.sk-dashed-wrapped {border: 1px dashed gray;margin: 0 0.4em 0.5em 0.4em;box-sizing: border-box;padding-bottom: 0.4em;background-color: white;}#sk-container-id-7 div.sk-label label {font-family: monospace;font-weight: bold;display: inline-block;line-height: 1.2em;}#sk-container-id-7 div.sk-label-container {text-align: center;}#sk-container-id-7 div.sk-container {/* jupyter's `normalize.less` sets `[hidden] { display: none; }` but bootstrap.min.css set `[hidden] { display: none !important; }` so we also need the `!important` here to be able to override the default hidden behavior on the sphinx rendered scikit-learn.org. See: https://github.com/scikit-learn/scikit-learn/issues/21755 */display: inline-block !important;position: relative;}#sk-container-id-7 div.sk-text-repr-fallback {display: none;}</style><div id=\"sk-container-id-7\" class=\"sk-top-container\"><div class=\"sk-text-repr-fallback\"><pre>LinearRegression()</pre><b>In a Jupyter environment, please rerun this cell to show the HTML representation or trust the notebook. <br />On GitHub, the HTML representation is unable to render, please try loading this page with nbviewer.org.</b></div><div class=\"sk-container\" hidden><div class=\"sk-item\"><div class=\"sk-estimator sk-toggleable\"><input class=\"sk-toggleable__control sk-hidden--visually\" id=\"sk-estimator-id-7\" type=\"checkbox\" checked><label for=\"sk-estimator-id-7\" class=\"sk-toggleable__label sk-toggleable__label-arrow\">LinearRegression</label><div class=\"sk-toggleable__content\"><pre>LinearRegression()</pre></div></div></div></div></div>"
      ],
      "text/plain": [
       "LinearRegression()"
      ]
     },
     "execution_count": 106,
     "metadata": {},
     "output_type": "execute_result"
    }
   ],
   "source": [
    "lr = LinearRegression()\n",
    "lr.fit(X_multi_trans,z)"
   ]
  },
  {
   "cell_type": "code",
   "execution_count": 107,
   "id": "e38c6645",
   "metadata": {},
   "outputs": [],
   "source": [
    "X_test_multi = poly.transform(final)"
   ]
  },
  {
   "cell_type": "code",
   "execution_count": 108,
   "id": "4c33cbb5",
   "metadata": {},
   "outputs": [],
   "source": [
    "z_final = lr.predict(X_multi_trans).reshape(10,10)"
   ]
  },
  {
   "cell_type": "code",
   "execution_count": 109,
   "id": "de8b7bd8",
   "metadata": {},
   "outputs": [
    {
     "data": {
      "application/vnd.plotly.v1+json": {
       "config": {
        "plotlyServerURL": "https://plot.ly"
       },
       "data": [
        {
         "hovertemplate": "x=%{x}<br>y=%{y}<br>z=%{z}<extra></extra>",
         "legendgroup": "",
         "marker": {
          "color": "#636efa",
          "symbol": "circle"
         },
         "mode": "markers",
         "name": "",
         "scene": "scene",
         "showlegend": false,
         "type": "scatter3d",
         "x": [
          3.6034501547011697,
          -2.0367731693238826,
          0.9509610147826728,
          2.5321666080937764,
          2.151594492339979,
          3.4418908434642654,
          -0.19628647479387462,
          2.3369696511839484,
          2.057565878933003,
          0.06349442944000927,
          -1.1998010285754979,
          0.7455823963934529,
          2.679565682818894,
          0.6941092723935145,
          -2.4767362761087486,
          2.5756228391777496,
          1.177696316010214,
          1.1376816478310028,
          1.8698196838790526,
          1.1457303322703858,
          3.6232075563293256,
          3.729104099347328,
          -0.5104045139345725,
          1.6365297416535363,
          1.194320814174997,
          3.606600914571989,
          -0.6466131874526577,
          -2.640939026357993,
          -2.6529926472677703,
          -1.54382566933592,
          1.5076685886509456,
          0.18750798887816789,
          2.3614689842446124,
          3.1220375652699532,
          2.65716119279611,
          -2.700993914168227,
          3.4683242404297525,
          0.5597777302962204,
          -2.37583056990442,
          1.2906364884180386,
          -1.067806233819366,
          -1.547267986238584,
          2.8640681206848626,
          -0.1853823688746381,
          1.4205586646123773,
          2.287059435192522,
          -1.9416122167818544,
          -1.2452942465740429,
          2.120019625227245,
          3.071283616524319,
          -2.153887327089425,
          -2.7770596831954997,
          0.13263043203592328,
          -1.8364432813474518,
          3.133845921088464,
          1.9529012313947787,
          3.566947621110562,
          -1.1451841038528037,
          2.7954124456398652,
          4.117867794694399,
          1.5737468511793962,
          0.6078034042331124,
          0.04206026605798607,
          -2.3526718000511773,
          -2.562902873815182,
          1.620150653952047,
          1.8241431271031372,
          -1.695347262570988,
          2.3976125095949508,
          -1.2636573568515423,
          -1.8145261975442286,
          3.68016701703237,
          4.047501989325468,
          0.7762059576712197,
          2.1920365632165764,
          3.20608390670606,
          1.307968842529581,
          0.8570130429761091,
          0.829680781346017,
          -0.5589758301358043,
          -0.36734331752416916,
          1.6212442349911376,
          -1.5210643450093704,
          3.14783980717581,
          -1.764591289381347,
          -1.6988879504965753,
          1.7203149100884012,
          2.4546749860966885,
          1.119330243442044,
          3.1997346173748493,
          1.1192545160428793,
          3.9427776529338168,
          0.3929928318199658,
          1.1275287961792042,
          -1.5622388725070386,
          -1.0164900304487237,
          2.6510195708595026,
          -1.6085835495475087,
          -1.1270970481956593,
          -0.6477809644930042
         ],
         "y": [
          0.2786588369126224,
          1.9263902130798884,
          3.4426025704778933,
          1.862421003747854,
          -0.6336676591168953,
          2.975514832235639,
          2.6737138538995833,
          -2.443409456981978,
          -1.966821700425634,
          0.4864190897405578,
          -1.105918686250254,
          3.113703888288142,
          -0.9847716676082301,
          0.9280404372944591,
          -0.7007299227023305,
          -1.8751827168145638,
          4.083136037321602,
          2.9147318888965286,
          -2.396092085924832,
          -0.33334519871997426,
          0.1174295881096663,
          -2.6998239132670725,
          2.551746126279564,
          -1.5192531053135019,
          -0.8212638845590132,
          -1.4601861327999501,
          -1.4127568021886832,
          -1.9965977074427812,
          -0.3098272938325346,
          1.517281626362081,
          0.4713958942207719,
          1.4028431541536586,
          2.734246300094595,
          2.729646486762764,
          1.9092757295675318,
          0.49125739296462756,
          -2.0252809557324642,
          -1.1479803592349769,
          1.0921258096118018,
          1.926576072316851,
          -0.7675458581387735,
          -0.17271750633633953,
          -2.313374945571549,
          1.3817234133691638,
          -2.675098453225286,
          0.9325467569501478,
          1.5689604180712546,
          0.9512232587287279,
          -0.2833097585471416,
          2.538975701756695,
          0.16519370813253786,
          1.6175566029422423,
          1.369199645644703,
          -2.271002449724002,
          -1.6397081255350967,
          2.9708857504296073,
          1.3702133989144274,
          -0.6498807918452241,
          -2.595502555027399,
          0.5656115827494643,
          1.4286837697313084,
          -0.021976810540525804,
          -1.4328540353030657,
          3.095466301501822,
          -1.3472416156536071,
          -1.641377680921697,
          -1.2903431759157455,
          -2.49883493234636,
          3.567921250169527,
          -1.9398897547208733,
          0.9332673714996185,
          1.1373361453816608,
          1.8535433395261753,
          -2.347301686304276,
          0.039275940946398524,
          -2.5150171083483768,
          -1.6718563146355447,
          2.7517666546500177,
          -1.6388051610767367,
          2.8833447966618957,
          -0.23654095820681942,
          2.793409392505306,
          -1.4481118150878058,
          -1.1675116264514465,
          0.5491973155844598,
          0.11600253545869421,
          3.3582765488748434,
          0.6411153685915201,
          -2.2773928715805725,
          3.740591581648548,
          3.030093740219434,
          -2.5811799344807227,
          3.2994615040680326,
          -1.930036625978744,
          -0.005053502585641745,
          -2.6113491702481912,
          -0.16059515845419625,
          0.6184628924176794,
          1.0605755088172666,
          -0.4821232152885515
         ],
         "z": [
          15.833198506678878,
          6.947846919033685,
          14.843229224736387,
          13.300469571013377,
          6.210131814432247,
          25.528648540011314,
          8.301206811899,
          13.818165697496392,
          8.676910108090874,
          -0.008888438045628444,
          4.167007253656375,
          13.43791112864758,
          9.9405482379896,
          3.6598430632471706,
          8.366530393778994,
          13.144959160066712,
          21.413474082522225,
          12.90219407846386,
          9.11798317630607,
          3.743505990901662,
          16.899992136866377,
          23.464040715107135,
          10.885592512254672,
          5.934585575774862,
          3.44111674842334,
          18.524875686338177,
          1.845304011238361,
          12.810319098470359,
          8.383013904824303,
          6.0820783618560785,
          4.146977079105492,
          3.5246774365859705,
          16.88287946848592,
          22.401641546944898,
          10.416473362237884,
          8.641251106747614,
          17.663972447656697,
          2.9772581256310886,
          9.833267564238367,
          7.067534299595083,
          3.7851258700052757,
          3.8960902697321496,
          14.200908519205209,
          4.349066196039343,
          10.778088294240991,
          10.927497504646293,
          8.468549006157591,
          2.624587608902523,
          6.947581349464119,
          20.683457741605135,
          7.229512966215427,
          11.47331554340331,
          3.0645938169404965,
          9.414813564525945,
          13.532488509986505,
          17.797048482151673,
          17.295621055368898,
          3.5835211528451896,
          16.409078532646056,
          19.363418908379437,
          7.075941830710248,
          2.38204903428401,
          2.611458705249934,
          17.145703198565613,
          9.037661676740921,
          7.580951245064141,
          5.22608238889904,
          11.666271461888915,
          21.86755233906485,
          5.860283108336646,
          6.471337238162587,
          19.1653761459531,
          23.59315649279754,
          8.248393550734558,
          5.916722446250929,
          17.001058864712288,
          4.805095541926036,
          10.645351523193835,
          6.919429464541393,
          11.143873227777126,
          2.1636411874955006,
          13.927558921113526,
          5.501518018604528,
          12.259980719059511,
          6.302701756435818,
          4.096324117742418,
          14.349596663468871,
          6.795524356768365,
          9.507158875313017,
          29.092789908288093,
          14.305785200363438,
          22.724110503747106,
          13.700074279103056,
          6.369215548165565,
          4.479160027181539,
          8.670911421360092,
          9.926382053972793,
          5.352307788634256,
          5.362310363160468,
          1.559149142358152
         ]
        },
        {
         "type": "surface",
         "x": [
          -2.7770596831954997,
          -2.010956630096622,
          -1.2448535769977445,
          -0.47875052389886674,
          0.28735252920001075,
          1.0534555822988882,
          1.8195586353977662,
          2.5856616884966437,
          3.351764741595521,
          4.117867794694399
         ],
         "y": [
          -2.6998239132670725,
          -1.9461616965349977,
          -1.1924994798029227,
          -0.4388372630708477,
          0.3148249536612271,
          1.0684871703933019,
          1.822149387125377,
          2.5758116038574514,
          3.3294738205895267,
          4.083136037321602
         ],
         "z": [
          [
           15.822821159577108,
           4.851899449443556,
           14.841497917389608,
           13.233786275747809,
           7.234389879594493,
           9.78807734099429,
           0.49644741854641516,
           13.760309357857443,
           9.970637938440028,
           1.117370121189344
          ],
          [
           4.206488151764608,
           8.664087680952703,
           9.886847038483358,
           -26.277486740881464,
           8.375152368759847,
           13.869064205659626,
           21.376745720123985,
           12.831305284714437,
           9.065349121308065,
           -15.520722235822939
          ],
          [
           17.116749792124082,
           24.524798948979118,
           11.65497575393889,
           6.901321113852793,
           2.441404838776327,
           17.46260740301583,
           2.9688029920110406,
           12.894842643952108,
           8.38606884024117,
           5.960394401764608
          ],
          [
           8.615310386606334,
           -0.21188575187337655,
           17.39831489763234,
           23.481971687279987,
           9.115964242918528,
           8.630987663483358,
           17.79804088613961,
           3.357794304108358,
           9.860538875458523,
           9.772948669296502
          ],
          [
           14.655960228760561,
           4.927835960602499,
           15.196096892631578,
           3.9572740464565523,
           11.554934044098593,
           10.899847526764608,
           9.772742241060282,
           -2.1237129174955474,
           -2.0121364400627844,
           9.7443451262423
          ],
          [
           8.315586913685058,
           11.464788933014608,
           9.413254459118582,
           10.199994583344198,
           14.39633564393913,
           15.504499454712606,
           9.774620494040636,
           4.695163302953608,
           16.64789440176461,
           32.34956326215539
          ],
          [
           30.02746459069673,
           -2.891183938169741,
           5.466342864277031,
           18.407812075652295,
           11.594151881705459,
           9.925925143240981,
           4.919621010040975,
           12.684754536764705,
           22.7532714906694,
           6.9439116721816045
          ],
          [
           9.773456343315763,
           8.78013289413426,
           26.963162292456367,
           6.326214739396837,
           0.5620351980534561,
           15.74511481444218,
           4.7028960992676385,
           4.38009550116036,
           5.27387784069296,
           3.585124359196163
          ],
          [
           10.012043032842183,
           16.649532337403038,
           6.817217806571795,
           122.73004281586978,
           6.309027214264608,
           9.772381131869306,
           -5.69338633053925,
           -9.591370591930934,
           12.978804309582449,
           28.69570638678048
          ],
          [
           -10.339343126201891,
           44.81723549055833,
           9.773274404578084,
           6.466313858246542,
           4.478460808014608,
           8.634344597077108,
           9.994787712311483,
           -31.213720257198325,
           9.773293207469326,
           9.753552595970593
          ]
         ]
        }
       ],
       "layout": {
        "legend": {
         "tracegroupgap": 0
        },
        "margin": {
         "t": 60
        },
        "scene": {
         "domain": {
          "x": [
           0,
           1
          ],
          "y": [
           0,
           1
          ]
         },
         "xaxis": {
          "title": {
           "text": "x"
          }
         },
         "yaxis": {
          "title": {
           "text": "y"
          }
         },
         "zaxis": {
          "range": [
           0,
           35
          ],
          "title": {
           "text": "z"
          }
         }
        },
        "template": {
         "data": {
          "bar": [
           {
            "error_x": {
             "color": "#2a3f5f"
            },
            "error_y": {
             "color": "#2a3f5f"
            },
            "marker": {
             "line": {
              "color": "#E5ECF6",
              "width": 0.5
             },
             "pattern": {
              "fillmode": "overlay",
              "size": 10,
              "solidity": 0.2
             }
            },
            "type": "bar"
           }
          ],
          "barpolar": [
           {
            "marker": {
             "line": {
              "color": "#E5ECF6",
              "width": 0.5
             },
             "pattern": {
              "fillmode": "overlay",
              "size": 10,
              "solidity": 0.2
             }
            },
            "type": "barpolar"
           }
          ],
          "carpet": [
           {
            "aaxis": {
             "endlinecolor": "#2a3f5f",
             "gridcolor": "white",
             "linecolor": "white",
             "minorgridcolor": "white",
             "startlinecolor": "#2a3f5f"
            },
            "baxis": {
             "endlinecolor": "#2a3f5f",
             "gridcolor": "white",
             "linecolor": "white",
             "minorgridcolor": "white",
             "startlinecolor": "#2a3f5f"
            },
            "type": "carpet"
           }
          ],
          "choropleth": [
           {
            "colorbar": {
             "outlinewidth": 0,
             "ticks": ""
            },
            "type": "choropleth"
           }
          ],
          "contour": [
           {
            "colorbar": {
             "outlinewidth": 0,
             "ticks": ""
            },
            "colorscale": [
             [
              0,
              "#0d0887"
             ],
             [
              0.1111111111111111,
              "#46039f"
             ],
             [
              0.2222222222222222,
              "#7201a8"
             ],
             [
              0.3333333333333333,
              "#9c179e"
             ],
             [
              0.4444444444444444,
              "#bd3786"
             ],
             [
              0.5555555555555556,
              "#d8576b"
             ],
             [
              0.6666666666666666,
              "#ed7953"
             ],
             [
              0.7777777777777778,
              "#fb9f3a"
             ],
             [
              0.8888888888888888,
              "#fdca26"
             ],
             [
              1,
              "#f0f921"
             ]
            ],
            "type": "contour"
           }
          ],
          "contourcarpet": [
           {
            "colorbar": {
             "outlinewidth": 0,
             "ticks": ""
            },
            "type": "contourcarpet"
           }
          ],
          "heatmap": [
           {
            "colorbar": {
             "outlinewidth": 0,
             "ticks": ""
            },
            "colorscale": [
             [
              0,
              "#0d0887"
             ],
             [
              0.1111111111111111,
              "#46039f"
             ],
             [
              0.2222222222222222,
              "#7201a8"
             ],
             [
              0.3333333333333333,
              "#9c179e"
             ],
             [
              0.4444444444444444,
              "#bd3786"
             ],
             [
              0.5555555555555556,
              "#d8576b"
             ],
             [
              0.6666666666666666,
              "#ed7953"
             ],
             [
              0.7777777777777778,
              "#fb9f3a"
             ],
             [
              0.8888888888888888,
              "#fdca26"
             ],
             [
              1,
              "#f0f921"
             ]
            ],
            "type": "heatmap"
           }
          ],
          "heatmapgl": [
           {
            "colorbar": {
             "outlinewidth": 0,
             "ticks": ""
            },
            "colorscale": [
             [
              0,
              "#0d0887"
             ],
             [
              0.1111111111111111,
              "#46039f"
             ],
             [
              0.2222222222222222,
              "#7201a8"
             ],
             [
              0.3333333333333333,
              "#9c179e"
             ],
             [
              0.4444444444444444,
              "#bd3786"
             ],
             [
              0.5555555555555556,
              "#d8576b"
             ],
             [
              0.6666666666666666,
              "#ed7953"
             ],
             [
              0.7777777777777778,
              "#fb9f3a"
             ],
             [
              0.8888888888888888,
              "#fdca26"
             ],
             [
              1,
              "#f0f921"
             ]
            ],
            "type": "heatmapgl"
           }
          ],
          "histogram": [
           {
            "marker": {
             "pattern": {
              "fillmode": "overlay",
              "size": 10,
              "solidity": 0.2
             }
            },
            "type": "histogram"
           }
          ],
          "histogram2d": [
           {
            "colorbar": {
             "outlinewidth": 0,
             "ticks": ""
            },
            "colorscale": [
             [
              0,
              "#0d0887"
             ],
             [
              0.1111111111111111,
              "#46039f"
             ],
             [
              0.2222222222222222,
              "#7201a8"
             ],
             [
              0.3333333333333333,
              "#9c179e"
             ],
             [
              0.4444444444444444,
              "#bd3786"
             ],
             [
              0.5555555555555556,
              "#d8576b"
             ],
             [
              0.6666666666666666,
              "#ed7953"
             ],
             [
              0.7777777777777778,
              "#fb9f3a"
             ],
             [
              0.8888888888888888,
              "#fdca26"
             ],
             [
              1,
              "#f0f921"
             ]
            ],
            "type": "histogram2d"
           }
          ],
          "histogram2dcontour": [
           {
            "colorbar": {
             "outlinewidth": 0,
             "ticks": ""
            },
            "colorscale": [
             [
              0,
              "#0d0887"
             ],
             [
              0.1111111111111111,
              "#46039f"
             ],
             [
              0.2222222222222222,
              "#7201a8"
             ],
             [
              0.3333333333333333,
              "#9c179e"
             ],
             [
              0.4444444444444444,
              "#bd3786"
             ],
             [
              0.5555555555555556,
              "#d8576b"
             ],
             [
              0.6666666666666666,
              "#ed7953"
             ],
             [
              0.7777777777777778,
              "#fb9f3a"
             ],
             [
              0.8888888888888888,
              "#fdca26"
             ],
             [
              1,
              "#f0f921"
             ]
            ],
            "type": "histogram2dcontour"
           }
          ],
          "mesh3d": [
           {
            "colorbar": {
             "outlinewidth": 0,
             "ticks": ""
            },
            "type": "mesh3d"
           }
          ],
          "parcoords": [
           {
            "line": {
             "colorbar": {
              "outlinewidth": 0,
              "ticks": ""
             }
            },
            "type": "parcoords"
           }
          ],
          "pie": [
           {
            "automargin": true,
            "type": "pie"
           }
          ],
          "scatter": [
           {
            "fillpattern": {
             "fillmode": "overlay",
             "size": 10,
             "solidity": 0.2
            },
            "type": "scatter"
           }
          ],
          "scatter3d": [
           {
            "line": {
             "colorbar": {
              "outlinewidth": 0,
              "ticks": ""
             }
            },
            "marker": {
             "colorbar": {
              "outlinewidth": 0,
              "ticks": ""
             }
            },
            "type": "scatter3d"
           }
          ],
          "scattercarpet": [
           {
            "marker": {
             "colorbar": {
              "outlinewidth": 0,
              "ticks": ""
             }
            },
            "type": "scattercarpet"
           }
          ],
          "scattergeo": [
           {
            "marker": {
             "colorbar": {
              "outlinewidth": 0,
              "ticks": ""
             }
            },
            "type": "scattergeo"
           }
          ],
          "scattergl": [
           {
            "marker": {
             "colorbar": {
              "outlinewidth": 0,
              "ticks": ""
             }
            },
            "type": "scattergl"
           }
          ],
          "scattermapbox": [
           {
            "marker": {
             "colorbar": {
              "outlinewidth": 0,
              "ticks": ""
             }
            },
            "type": "scattermapbox"
           }
          ],
          "scatterpolar": [
           {
            "marker": {
             "colorbar": {
              "outlinewidth": 0,
              "ticks": ""
             }
            },
            "type": "scatterpolar"
           }
          ],
          "scatterpolargl": [
           {
            "marker": {
             "colorbar": {
              "outlinewidth": 0,
              "ticks": ""
             }
            },
            "type": "scatterpolargl"
           }
          ],
          "scatterternary": [
           {
            "marker": {
             "colorbar": {
              "outlinewidth": 0,
              "ticks": ""
             }
            },
            "type": "scatterternary"
           }
          ],
          "surface": [
           {
            "colorbar": {
             "outlinewidth": 0,
             "ticks": ""
            },
            "colorscale": [
             [
              0,
              "#0d0887"
             ],
             [
              0.1111111111111111,
              "#46039f"
             ],
             [
              0.2222222222222222,
              "#7201a8"
             ],
             [
              0.3333333333333333,
              "#9c179e"
             ],
             [
              0.4444444444444444,
              "#bd3786"
             ],
             [
              0.5555555555555556,
              "#d8576b"
             ],
             [
              0.6666666666666666,
              "#ed7953"
             ],
             [
              0.7777777777777778,
              "#fb9f3a"
             ],
             [
              0.8888888888888888,
              "#fdca26"
             ],
             [
              1,
              "#f0f921"
             ]
            ],
            "type": "surface"
           }
          ],
          "table": [
           {
            "cells": {
             "fill": {
              "color": "#EBF0F8"
             },
             "line": {
              "color": "white"
             }
            },
            "header": {
             "fill": {
              "color": "#C8D4E3"
             },
             "line": {
              "color": "white"
             }
            },
            "type": "table"
           }
          ]
         },
         "layout": {
          "annotationdefaults": {
           "arrowcolor": "#2a3f5f",
           "arrowhead": 0,
           "arrowwidth": 1
          },
          "autotypenumbers": "strict",
          "coloraxis": {
           "colorbar": {
            "outlinewidth": 0,
            "ticks": ""
           }
          },
          "colorscale": {
           "diverging": [
            [
             0,
             "#8e0152"
            ],
            [
             0.1,
             "#c51b7d"
            ],
            [
             0.2,
             "#de77ae"
            ],
            [
             0.3,
             "#f1b6da"
            ],
            [
             0.4,
             "#fde0ef"
            ],
            [
             0.5,
             "#f7f7f7"
            ],
            [
             0.6,
             "#e6f5d0"
            ],
            [
             0.7,
             "#b8e186"
            ],
            [
             0.8,
             "#7fbc41"
            ],
            [
             0.9,
             "#4d9221"
            ],
            [
             1,
             "#276419"
            ]
           ],
           "sequential": [
            [
             0,
             "#0d0887"
            ],
            [
             0.1111111111111111,
             "#46039f"
            ],
            [
             0.2222222222222222,
             "#7201a8"
            ],
            [
             0.3333333333333333,
             "#9c179e"
            ],
            [
             0.4444444444444444,
             "#bd3786"
            ],
            [
             0.5555555555555556,
             "#d8576b"
            ],
            [
             0.6666666666666666,
             "#ed7953"
            ],
            [
             0.7777777777777778,
             "#fb9f3a"
            ],
            [
             0.8888888888888888,
             "#fdca26"
            ],
            [
             1,
             "#f0f921"
            ]
           ],
           "sequentialminus": [
            [
             0,
             "#0d0887"
            ],
            [
             0.1111111111111111,
             "#46039f"
            ],
            [
             0.2222222222222222,
             "#7201a8"
            ],
            [
             0.3333333333333333,
             "#9c179e"
            ],
            [
             0.4444444444444444,
             "#bd3786"
            ],
            [
             0.5555555555555556,
             "#d8576b"
            ],
            [
             0.6666666666666666,
             "#ed7953"
            ],
            [
             0.7777777777777778,
             "#fb9f3a"
            ],
            [
             0.8888888888888888,
             "#fdca26"
            ],
            [
             1,
             "#f0f921"
            ]
           ]
          },
          "colorway": [
           "#636efa",
           "#EF553B",
           "#00cc96",
           "#ab63fa",
           "#FFA15A",
           "#19d3f3",
           "#FF6692",
           "#B6E880",
           "#FF97FF",
           "#FECB52"
          ],
          "font": {
           "color": "#2a3f5f"
          },
          "geo": {
           "bgcolor": "white",
           "lakecolor": "white",
           "landcolor": "#E5ECF6",
           "showlakes": true,
           "showland": true,
           "subunitcolor": "white"
          },
          "hoverlabel": {
           "align": "left"
          },
          "hovermode": "closest",
          "mapbox": {
           "style": "light"
          },
          "paper_bgcolor": "white",
          "plot_bgcolor": "#E5ECF6",
          "polar": {
           "angularaxis": {
            "gridcolor": "white",
            "linecolor": "white",
            "ticks": ""
           },
           "bgcolor": "#E5ECF6",
           "radialaxis": {
            "gridcolor": "white",
            "linecolor": "white",
            "ticks": ""
           }
          },
          "scene": {
           "xaxis": {
            "backgroundcolor": "#E5ECF6",
            "gridcolor": "white",
            "gridwidth": 2,
            "linecolor": "white",
            "showbackground": true,
            "ticks": "",
            "zerolinecolor": "white"
           },
           "yaxis": {
            "backgroundcolor": "#E5ECF6",
            "gridcolor": "white",
            "gridwidth": 2,
            "linecolor": "white",
            "showbackground": true,
            "ticks": "",
            "zerolinecolor": "white"
           },
           "zaxis": {
            "backgroundcolor": "#E5ECF6",
            "gridcolor": "white",
            "gridwidth": 2,
            "linecolor": "white",
            "showbackground": true,
            "ticks": "",
            "zerolinecolor": "white"
           }
          },
          "shapedefaults": {
           "line": {
            "color": "#2a3f5f"
           }
          },
          "ternary": {
           "aaxis": {
            "gridcolor": "white",
            "linecolor": "white",
            "ticks": ""
           },
           "baxis": {
            "gridcolor": "white",
            "linecolor": "white",
            "ticks": ""
           },
           "bgcolor": "#E5ECF6",
           "caxis": {
            "gridcolor": "white",
            "linecolor": "white",
            "ticks": ""
           }
          },
          "title": {
           "x": 0.05
          },
          "xaxis": {
           "automargin": true,
           "gridcolor": "white",
           "linecolor": "white",
           "ticks": "",
           "title": {
            "standoff": 15
           },
           "zerolinecolor": "white",
           "zerolinewidth": 2
          },
          "yaxis": {
           "automargin": true,
           "gridcolor": "white",
           "linecolor": "white",
           "ticks": "",
           "title": {
            "standoff": 15
           },
           "zerolinecolor": "white",
           "zerolinewidth": 2
          }
         }
        }
       }
      },
      "text/html": [
       "<div>                            <div id=\"37c5b0b0-ab81-47cb-bb26-fe5ad86f89ed\" class=\"plotly-graph-div\" style=\"height:525px; width:100%;\"></div>            <script type=\"text/javascript\">                require([\"plotly\"], function(Plotly) {                    window.PLOTLYENV=window.PLOTLYENV || {};                                    if (document.getElementById(\"37c5b0b0-ab81-47cb-bb26-fe5ad86f89ed\")) {                    Plotly.newPlot(                        \"37c5b0b0-ab81-47cb-bb26-fe5ad86f89ed\",                        [{\"hovertemplate\":\"x=%{x}<br>y=%{y}<br>z=%{z}<extra></extra>\",\"legendgroup\":\"\",\"marker\":{\"color\":\"#636efa\",\"symbol\":\"circle\"},\"mode\":\"markers\",\"name\":\"\",\"scene\":\"scene\",\"showlegend\":false,\"x\":[3.6034501547011697,-2.0367731693238826,0.9509610147826728,2.5321666080937764,2.151594492339979,3.4418908434642654,-0.19628647479387462,2.3369696511839484,2.057565878933003,0.06349442944000927,-1.1998010285754979,0.7455823963934529,2.679565682818894,0.6941092723935145,-2.4767362761087486,2.5756228391777496,1.177696316010214,1.1376816478310028,1.8698196838790526,1.1457303322703858,3.6232075563293256,3.729104099347328,-0.5104045139345725,1.6365297416535363,1.194320814174997,3.606600914571989,-0.6466131874526577,-2.640939026357993,-2.6529926472677703,-1.54382566933592,1.5076685886509456,0.18750798887816789,2.3614689842446124,3.1220375652699532,2.65716119279611,-2.700993914168227,3.4683242404297525,0.5597777302962204,-2.37583056990442,1.2906364884180386,-1.067806233819366,-1.547267986238584,2.8640681206848626,-0.1853823688746381,1.4205586646123773,2.287059435192522,-1.9416122167818544,-1.2452942465740429,2.120019625227245,3.071283616524319,-2.153887327089425,-2.7770596831954997,0.13263043203592328,-1.8364432813474518,3.133845921088464,1.9529012313947787,3.566947621110562,-1.1451841038528037,2.7954124456398652,4.117867794694399,1.5737468511793962,0.6078034042331124,0.04206026605798607,-2.3526718000511773,-2.562902873815182,1.620150653952047,1.8241431271031372,-1.695347262570988,2.3976125095949508,-1.2636573568515423,-1.8145261975442286,3.68016701703237,4.047501989325468,0.7762059576712197,2.1920365632165764,3.20608390670606,1.307968842529581,0.8570130429761091,0.829680781346017,-0.5589758301358043,-0.36734331752416916,1.6212442349911376,-1.5210643450093704,3.14783980717581,-1.764591289381347,-1.6988879504965753,1.7203149100884012,2.4546749860966885,1.119330243442044,3.1997346173748493,1.1192545160428793,3.9427776529338168,0.3929928318199658,1.1275287961792042,-1.5622388725070386,-1.0164900304487237,2.6510195708595026,-1.6085835495475087,-1.1270970481956593,-0.6477809644930042],\"y\":[0.2786588369126224,1.9263902130798884,3.4426025704778933,1.862421003747854,-0.6336676591168953,2.975514832235639,2.6737138538995833,-2.443409456981978,-1.966821700425634,0.4864190897405578,-1.105918686250254,3.113703888288142,-0.9847716676082301,0.9280404372944591,-0.7007299227023305,-1.8751827168145638,4.083136037321602,2.9147318888965286,-2.396092085924832,-0.33334519871997426,0.1174295881096663,-2.6998239132670725,2.551746126279564,-1.5192531053135019,-0.8212638845590132,-1.4601861327999501,-1.4127568021886832,-1.9965977074427812,-0.3098272938325346,1.517281626362081,0.4713958942207719,1.4028431541536586,2.734246300094595,2.729646486762764,1.9092757295675318,0.49125739296462756,-2.0252809557324642,-1.1479803592349769,1.0921258096118018,1.926576072316851,-0.7675458581387735,-0.17271750633633953,-2.313374945571549,1.3817234133691638,-2.675098453225286,0.9325467569501478,1.5689604180712546,0.9512232587287279,-0.2833097585471416,2.538975701756695,0.16519370813253786,1.6175566029422423,1.369199645644703,-2.271002449724002,-1.6397081255350967,2.9708857504296073,1.3702133989144274,-0.6498807918452241,-2.595502555027399,0.5656115827494643,1.4286837697313084,-0.021976810540525804,-1.4328540353030657,3.095466301501822,-1.3472416156536071,-1.641377680921697,-1.2903431759157455,-2.49883493234636,3.567921250169527,-1.9398897547208733,0.9332673714996185,1.1373361453816608,1.8535433395261753,-2.347301686304276,0.039275940946398524,-2.5150171083483768,-1.6718563146355447,2.7517666546500177,-1.6388051610767367,2.8833447966618957,-0.23654095820681942,2.793409392505306,-1.4481118150878058,-1.1675116264514465,0.5491973155844598,0.11600253545869421,3.3582765488748434,0.6411153685915201,-2.2773928715805725,3.740591581648548,3.030093740219434,-2.5811799344807227,3.2994615040680326,-1.930036625978744,-0.005053502585641745,-2.6113491702481912,-0.16059515845419625,0.6184628924176794,1.0605755088172666,-0.4821232152885515],\"z\":[15.833198506678878,6.947846919033685,14.843229224736387,13.300469571013377,6.210131814432247,25.528648540011314,8.301206811899,13.818165697496392,8.676910108090874,-0.008888438045628444,4.167007253656375,13.43791112864758,9.9405482379896,3.6598430632471706,8.366530393778994,13.144959160066712,21.413474082522225,12.90219407846386,9.11798317630607,3.743505990901662,16.899992136866377,23.464040715107135,10.885592512254672,5.934585575774862,3.44111674842334,18.524875686338177,1.845304011238361,12.810319098470359,8.383013904824303,6.0820783618560785,4.146977079105492,3.5246774365859705,16.88287946848592,22.401641546944898,10.416473362237884,8.641251106747614,17.663972447656697,2.9772581256310886,9.833267564238367,7.067534299595083,3.7851258700052757,3.8960902697321496,14.200908519205209,4.349066196039343,10.778088294240991,10.927497504646293,8.468549006157591,2.624587608902523,6.947581349464119,20.683457741605135,7.229512966215427,11.47331554340331,3.0645938169404965,9.414813564525945,13.532488509986505,17.797048482151673,17.295621055368898,3.5835211528451896,16.409078532646056,19.363418908379437,7.075941830710248,2.38204903428401,2.611458705249934,17.145703198565613,9.037661676740921,7.580951245064141,5.22608238889904,11.666271461888915,21.86755233906485,5.860283108336646,6.471337238162587,19.1653761459531,23.59315649279754,8.248393550734558,5.916722446250929,17.001058864712288,4.805095541926036,10.645351523193835,6.919429464541393,11.143873227777126,2.1636411874955006,13.927558921113526,5.501518018604528,12.259980719059511,6.302701756435818,4.096324117742418,14.349596663468871,6.795524356768365,9.507158875313017,29.092789908288093,14.305785200363438,22.724110503747106,13.700074279103056,6.369215548165565,4.479160027181539,8.670911421360092,9.926382053972793,5.352307788634256,5.362310363160468,1.559149142358152],\"type\":\"scatter3d\"},{\"x\":[-2.7770596831954997,-2.010956630096622,-1.2448535769977445,-0.47875052389886674,0.28735252920001075,1.0534555822988882,1.8195586353977662,2.5856616884966437,3.351764741595521,4.117867794694399],\"y\":[-2.6998239132670725,-1.9461616965349977,-1.1924994798029227,-0.4388372630708477,0.3148249536612271,1.0684871703933019,1.822149387125377,2.5758116038574514,3.3294738205895267,4.083136037321602],\"z\":[[15.822821159577108,4.851899449443556,14.841497917389608,13.233786275747809,7.234389879594493,9.78807734099429,0.49644741854641516,13.760309357857443,9.970637938440028,1.117370121189344],[4.206488151764608,8.664087680952703,9.886847038483358,-26.277486740881464,8.375152368759847,13.869064205659626,21.376745720123985,12.831305284714437,9.065349121308065,-15.520722235822939],[17.116749792124082,24.524798948979118,11.65497575393889,6.901321113852793,2.441404838776327,17.46260740301583,2.9688029920110406,12.894842643952108,8.38606884024117,5.960394401764608],[8.615310386606334,-0.21188575187337655,17.39831489763234,23.481971687279987,9.115964242918528,8.630987663483358,17.79804088613961,3.357794304108358,9.860538875458523,9.772948669296502],[14.655960228760561,4.927835960602499,15.196096892631578,3.9572740464565523,11.554934044098593,10.899847526764608,9.772742241060282,-2.1237129174955474,-2.0121364400627844,9.7443451262423],[8.315586913685058,11.464788933014608,9.413254459118582,10.199994583344198,14.39633564393913,15.504499454712606,9.774620494040636,4.695163302953608,16.64789440176461,32.34956326215539],[30.02746459069673,-2.891183938169741,5.466342864277031,18.407812075652295,11.594151881705459,9.925925143240981,4.919621010040975,12.684754536764705,22.7532714906694,6.9439116721816045],[9.773456343315763,8.78013289413426,26.963162292456367,6.326214739396837,0.5620351980534561,15.74511481444218,4.7028960992676385,4.38009550116036,5.27387784069296,3.585124359196163],[10.012043032842183,16.649532337403038,6.817217806571795,122.73004281586978,6.309027214264608,9.772381131869306,-5.69338633053925,-9.591370591930934,12.978804309582449,28.69570638678048],[-10.339343126201891,44.81723549055833,9.773274404578084,6.466313858246542,4.478460808014608,8.634344597077108,9.994787712311483,-31.213720257198325,9.773293207469326,9.753552595970593]],\"type\":\"surface\"}],                        {\"template\":{\"data\":{\"histogram2dcontour\":[{\"type\":\"histogram2dcontour\",\"colorbar\":{\"outlinewidth\":0,\"ticks\":\"\"},\"colorscale\":[[0.0,\"#0d0887\"],[0.1111111111111111,\"#46039f\"],[0.2222222222222222,\"#7201a8\"],[0.3333333333333333,\"#9c179e\"],[0.4444444444444444,\"#bd3786\"],[0.5555555555555556,\"#d8576b\"],[0.6666666666666666,\"#ed7953\"],[0.7777777777777778,\"#fb9f3a\"],[0.8888888888888888,\"#fdca26\"],[1.0,\"#f0f921\"]]}],\"choropleth\":[{\"type\":\"choropleth\",\"colorbar\":{\"outlinewidth\":0,\"ticks\":\"\"}}],\"histogram2d\":[{\"type\":\"histogram2d\",\"colorbar\":{\"outlinewidth\":0,\"ticks\":\"\"},\"colorscale\":[[0.0,\"#0d0887\"],[0.1111111111111111,\"#46039f\"],[0.2222222222222222,\"#7201a8\"],[0.3333333333333333,\"#9c179e\"],[0.4444444444444444,\"#bd3786\"],[0.5555555555555556,\"#d8576b\"],[0.6666666666666666,\"#ed7953\"],[0.7777777777777778,\"#fb9f3a\"],[0.8888888888888888,\"#fdca26\"],[1.0,\"#f0f921\"]]}],\"heatmap\":[{\"type\":\"heatmap\",\"colorbar\":{\"outlinewidth\":0,\"ticks\":\"\"},\"colorscale\":[[0.0,\"#0d0887\"],[0.1111111111111111,\"#46039f\"],[0.2222222222222222,\"#7201a8\"],[0.3333333333333333,\"#9c179e\"],[0.4444444444444444,\"#bd3786\"],[0.5555555555555556,\"#d8576b\"],[0.6666666666666666,\"#ed7953\"],[0.7777777777777778,\"#fb9f3a\"],[0.8888888888888888,\"#fdca26\"],[1.0,\"#f0f921\"]]}],\"heatmapgl\":[{\"type\":\"heatmapgl\",\"colorbar\":{\"outlinewidth\":0,\"ticks\":\"\"},\"colorscale\":[[0.0,\"#0d0887\"],[0.1111111111111111,\"#46039f\"],[0.2222222222222222,\"#7201a8\"],[0.3333333333333333,\"#9c179e\"],[0.4444444444444444,\"#bd3786\"],[0.5555555555555556,\"#d8576b\"],[0.6666666666666666,\"#ed7953\"],[0.7777777777777778,\"#fb9f3a\"],[0.8888888888888888,\"#fdca26\"],[1.0,\"#f0f921\"]]}],\"contourcarpet\":[{\"type\":\"contourcarpet\",\"colorbar\":{\"outlinewidth\":0,\"ticks\":\"\"}}],\"contour\":[{\"type\":\"contour\",\"colorbar\":{\"outlinewidth\":0,\"ticks\":\"\"},\"colorscale\":[[0.0,\"#0d0887\"],[0.1111111111111111,\"#46039f\"],[0.2222222222222222,\"#7201a8\"],[0.3333333333333333,\"#9c179e\"],[0.4444444444444444,\"#bd3786\"],[0.5555555555555556,\"#d8576b\"],[0.6666666666666666,\"#ed7953\"],[0.7777777777777778,\"#fb9f3a\"],[0.8888888888888888,\"#fdca26\"],[1.0,\"#f0f921\"]]}],\"surface\":[{\"type\":\"surface\",\"colorbar\":{\"outlinewidth\":0,\"ticks\":\"\"},\"colorscale\":[[0.0,\"#0d0887\"],[0.1111111111111111,\"#46039f\"],[0.2222222222222222,\"#7201a8\"],[0.3333333333333333,\"#9c179e\"],[0.4444444444444444,\"#bd3786\"],[0.5555555555555556,\"#d8576b\"],[0.6666666666666666,\"#ed7953\"],[0.7777777777777778,\"#fb9f3a\"],[0.8888888888888888,\"#fdca26\"],[1.0,\"#f0f921\"]]}],\"mesh3d\":[{\"type\":\"mesh3d\",\"colorbar\":{\"outlinewidth\":0,\"ticks\":\"\"}}],\"scatter\":[{\"fillpattern\":{\"fillmode\":\"overlay\",\"size\":10,\"solidity\":0.2},\"type\":\"scatter\"}],\"parcoords\":[{\"type\":\"parcoords\",\"line\":{\"colorbar\":{\"outlinewidth\":0,\"ticks\":\"\"}}}],\"scatterpolargl\":[{\"type\":\"scatterpolargl\",\"marker\":{\"colorbar\":{\"outlinewidth\":0,\"ticks\":\"\"}}}],\"bar\":[{\"error_x\":{\"color\":\"#2a3f5f\"},\"error_y\":{\"color\":\"#2a3f5f\"},\"marker\":{\"line\":{\"color\":\"#E5ECF6\",\"width\":0.5},\"pattern\":{\"fillmode\":\"overlay\",\"size\":10,\"solidity\":0.2}},\"type\":\"bar\"}],\"scattergeo\":[{\"type\":\"scattergeo\",\"marker\":{\"colorbar\":{\"outlinewidth\":0,\"ticks\":\"\"}}}],\"scatterpolar\":[{\"type\":\"scatterpolar\",\"marker\":{\"colorbar\":{\"outlinewidth\":0,\"ticks\":\"\"}}}],\"histogram\":[{\"marker\":{\"pattern\":{\"fillmode\":\"overlay\",\"size\":10,\"solidity\":0.2}},\"type\":\"histogram\"}],\"scattergl\":[{\"type\":\"scattergl\",\"marker\":{\"colorbar\":{\"outlinewidth\":0,\"ticks\":\"\"}}}],\"scatter3d\":[{\"type\":\"scatter3d\",\"line\":{\"colorbar\":{\"outlinewidth\":0,\"ticks\":\"\"}},\"marker\":{\"colorbar\":{\"outlinewidth\":0,\"ticks\":\"\"}}}],\"scattermapbox\":[{\"type\":\"scattermapbox\",\"marker\":{\"colorbar\":{\"outlinewidth\":0,\"ticks\":\"\"}}}],\"scatterternary\":[{\"type\":\"scatterternary\",\"marker\":{\"colorbar\":{\"outlinewidth\":0,\"ticks\":\"\"}}}],\"scattercarpet\":[{\"type\":\"scattercarpet\",\"marker\":{\"colorbar\":{\"outlinewidth\":0,\"ticks\":\"\"}}}],\"carpet\":[{\"aaxis\":{\"endlinecolor\":\"#2a3f5f\",\"gridcolor\":\"white\",\"linecolor\":\"white\",\"minorgridcolor\":\"white\",\"startlinecolor\":\"#2a3f5f\"},\"baxis\":{\"endlinecolor\":\"#2a3f5f\",\"gridcolor\":\"white\",\"linecolor\":\"white\",\"minorgridcolor\":\"white\",\"startlinecolor\":\"#2a3f5f\"},\"type\":\"carpet\"}],\"table\":[{\"cells\":{\"fill\":{\"color\":\"#EBF0F8\"},\"line\":{\"color\":\"white\"}},\"header\":{\"fill\":{\"color\":\"#C8D4E3\"},\"line\":{\"color\":\"white\"}},\"type\":\"table\"}],\"barpolar\":[{\"marker\":{\"line\":{\"color\":\"#E5ECF6\",\"width\":0.5},\"pattern\":{\"fillmode\":\"overlay\",\"size\":10,\"solidity\":0.2}},\"type\":\"barpolar\"}],\"pie\":[{\"automargin\":true,\"type\":\"pie\"}]},\"layout\":{\"autotypenumbers\":\"strict\",\"colorway\":[\"#636efa\",\"#EF553B\",\"#00cc96\",\"#ab63fa\",\"#FFA15A\",\"#19d3f3\",\"#FF6692\",\"#B6E880\",\"#FF97FF\",\"#FECB52\"],\"font\":{\"color\":\"#2a3f5f\"},\"hovermode\":\"closest\",\"hoverlabel\":{\"align\":\"left\"},\"paper_bgcolor\":\"white\",\"plot_bgcolor\":\"#E5ECF6\",\"polar\":{\"bgcolor\":\"#E5ECF6\",\"angularaxis\":{\"gridcolor\":\"white\",\"linecolor\":\"white\",\"ticks\":\"\"},\"radialaxis\":{\"gridcolor\":\"white\",\"linecolor\":\"white\",\"ticks\":\"\"}},\"ternary\":{\"bgcolor\":\"#E5ECF6\",\"aaxis\":{\"gridcolor\":\"white\",\"linecolor\":\"white\",\"ticks\":\"\"},\"baxis\":{\"gridcolor\":\"white\",\"linecolor\":\"white\",\"ticks\":\"\"},\"caxis\":{\"gridcolor\":\"white\",\"linecolor\":\"white\",\"ticks\":\"\"}},\"coloraxis\":{\"colorbar\":{\"outlinewidth\":0,\"ticks\":\"\"}},\"colorscale\":{\"sequential\":[[0.0,\"#0d0887\"],[0.1111111111111111,\"#46039f\"],[0.2222222222222222,\"#7201a8\"],[0.3333333333333333,\"#9c179e\"],[0.4444444444444444,\"#bd3786\"],[0.5555555555555556,\"#d8576b\"],[0.6666666666666666,\"#ed7953\"],[0.7777777777777778,\"#fb9f3a\"],[0.8888888888888888,\"#fdca26\"],[1.0,\"#f0f921\"]],\"sequentialminus\":[[0.0,\"#0d0887\"],[0.1111111111111111,\"#46039f\"],[0.2222222222222222,\"#7201a8\"],[0.3333333333333333,\"#9c179e\"],[0.4444444444444444,\"#bd3786\"],[0.5555555555555556,\"#d8576b\"],[0.6666666666666666,\"#ed7953\"],[0.7777777777777778,\"#fb9f3a\"],[0.8888888888888888,\"#fdca26\"],[1.0,\"#f0f921\"]],\"diverging\":[[0,\"#8e0152\"],[0.1,\"#c51b7d\"],[0.2,\"#de77ae\"],[0.3,\"#f1b6da\"],[0.4,\"#fde0ef\"],[0.5,\"#f7f7f7\"],[0.6,\"#e6f5d0\"],[0.7,\"#b8e186\"],[0.8,\"#7fbc41\"],[0.9,\"#4d9221\"],[1,\"#276419\"]]},\"xaxis\":{\"gridcolor\":\"white\",\"linecolor\":\"white\",\"ticks\":\"\",\"title\":{\"standoff\":15},\"zerolinecolor\":\"white\",\"automargin\":true,\"zerolinewidth\":2},\"yaxis\":{\"gridcolor\":\"white\",\"linecolor\":\"white\",\"ticks\":\"\",\"title\":{\"standoff\":15},\"zerolinecolor\":\"white\",\"automargin\":true,\"zerolinewidth\":2},\"scene\":{\"xaxis\":{\"backgroundcolor\":\"#E5ECF6\",\"gridcolor\":\"white\",\"linecolor\":\"white\",\"showbackground\":true,\"ticks\":\"\",\"zerolinecolor\":\"white\",\"gridwidth\":2},\"yaxis\":{\"backgroundcolor\":\"#E5ECF6\",\"gridcolor\":\"white\",\"linecolor\":\"white\",\"showbackground\":true,\"ticks\":\"\",\"zerolinecolor\":\"white\",\"gridwidth\":2},\"zaxis\":{\"backgroundcolor\":\"#E5ECF6\",\"gridcolor\":\"white\",\"linecolor\":\"white\",\"showbackground\":true,\"ticks\":\"\",\"zerolinecolor\":\"white\",\"gridwidth\":2}},\"shapedefaults\":{\"line\":{\"color\":\"#2a3f5f\"}},\"annotationdefaults\":{\"arrowcolor\":\"#2a3f5f\",\"arrowhead\":0,\"arrowwidth\":1},\"geo\":{\"bgcolor\":\"white\",\"landcolor\":\"#E5ECF6\",\"subunitcolor\":\"white\",\"showland\":true,\"showlakes\":true,\"lakecolor\":\"white\"},\"title\":{\"x\":0.05},\"mapbox\":{\"style\":\"light\"}}},\"scene\":{\"domain\":{\"x\":[0.0,1.0],\"y\":[0.0,1.0]},\"xaxis\":{\"title\":{\"text\":\"x\"}},\"yaxis\":{\"title\":{\"text\":\"y\"}},\"zaxis\":{\"title\":{\"text\":\"z\"},\"range\":[0,35]}},\"legend\":{\"tracegroupgap\":0},\"margin\":{\"t\":60}},                        {\"responsive\": true}                    ).then(function(){\n",
       "                            \n",
       "var gd = document.getElementById('37c5b0b0-ab81-47cb-bb26-fe5ad86f89ed');\n",
       "var x = new MutationObserver(function (mutations, observer) {{\n",
       "        var display = window.getComputedStyle(gd).display;\n",
       "        if (!display || display === 'none') {{\n",
       "            console.log([gd, 'removed!']);\n",
       "            Plotly.purge(gd);\n",
       "            observer.disconnect();\n",
       "        }}\n",
       "}});\n",
       "\n",
       "// Listen for the removal of the full notebook cells\n",
       "var notebookContainer = gd.closest('#notebook-container');\n",
       "if (notebookContainer) {{\n",
       "    x.observe(notebookContainer, {childList: true});\n",
       "}}\n",
       "\n",
       "// Listen for the clearing of the current output cell\n",
       "var outputEl = gd.closest('.output');\n",
       "if (outputEl) {{\n",
       "    x.observe(outputEl, {childList: true});\n",
       "}}\n",
       "\n",
       "                        })                };                });            </script>        </div>"
      ]
     },
     "metadata": {},
     "output_type": "display_data"
    }
   ],
   "source": [
    "fig = px.scatter_3d(x=x.ravel(), y=y.ravel(), z=z.ravel())\n",
    "\n",
    "fig.add_trace(go.Surface(x = x_input, y = y_input, z =z_final))\n",
    "\n",
    "fig.update_layout(scene = dict(zaxis = dict(range=[0,35])))\n",
    "\n",
    "fig.show()"
   ]
  },
  {
   "cell_type": "code",
   "execution_count": null,
   "id": "515e35c1",
   "metadata": {},
   "outputs": [],
   "source": []
  }
 ],
 "metadata": {
  "kernelspec": {
   "display_name": "Python 3 (ipykernel)",
   "language": "python",
   "name": "python3"
  },
  "language_info": {
   "codemirror_mode": {
    "name": "ipython",
    "version": 3
   },
   "file_extension": ".py",
   "mimetype": "text/x-python",
   "name": "python",
   "nbconvert_exporter": "python",
   "pygments_lexer": "ipython3",
   "version": "3.9.7"
  }
 },
 "nbformat": 4,
 "nbformat_minor": 5
}
